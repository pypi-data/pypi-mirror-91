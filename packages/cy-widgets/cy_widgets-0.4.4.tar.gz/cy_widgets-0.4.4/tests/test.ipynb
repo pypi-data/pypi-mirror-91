{
 "cells": [
  {
   "cell_type": "code",
   "execution_count": 1,
   "metadata": {},
   "outputs": [
    {
     "output_type": "execute_result",
     "data": {
      "text/plain": "'bolling|m:2|n:400|leverage:1|open_threshold:0.01|'"
     },
     "metadata": {},
     "execution_count": 1
    }
   ],
   "source": [
    "from cy_widgets.strategy.exchange.bolling import *\n",
    "from cy_widgets.backtest.helper import StrategyHelper\n",
    "StrategyHelper.format_identifier(BollingExchangeStrategy(**{'n': 400, 'm':2, 'open_deviate_threshold': 0.01}))\n",
    "# BollingExchangeStrategy(**{'n': 400, 'm':2, 'open_deviate_threshold': 0.01}).identifier"
   ]
  },
  {
   "cell_type": "code",
   "execution_count": null,
   "metadata": {},
   "outputs": [],
   "source": []
  }
 ],
 "metadata": {
  "language_info": {
   "codemirror_mode": {
    "name": "ipython",
    "version": 3
   },
   "file_extension": ".py",
   "mimetype": "text/x-python",
   "name": "python",
   "nbconvert_exporter": "python",
   "pygments_lexer": "ipython3",
   "version": 3
  },
  "orig_nbformat": 2,
  "kernelspec": {
   "name": "python_defaultSpec_1594729864307",
   "display_name": "Python 3.7.5 64-bit"
  }
 },
 "nbformat": 4,
 "nbformat_minor": 2
}