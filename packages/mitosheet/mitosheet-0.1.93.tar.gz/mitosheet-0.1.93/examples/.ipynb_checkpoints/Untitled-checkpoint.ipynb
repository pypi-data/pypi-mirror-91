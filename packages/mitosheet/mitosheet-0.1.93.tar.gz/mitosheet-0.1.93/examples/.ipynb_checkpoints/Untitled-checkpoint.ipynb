{
 "cells": [
  {
   "cell_type": "code",
   "execution_count": 11,
   "metadata": {},
   "outputs": [
    {
     "data": {
      "application/vnd.jupyter.widget-view+json": {
       "model_id": "5eedfbf4e6144eb89e5c730c650509f7",
       "version_major": 2,
       "version_minor": 0
      },
      "text/plain": [
       "MitoWidget(analysis_name='UUID-278dd838-7a1e-4164-860d-6f4badfaced9', code_json='{\"imports\": \"from mitosheet i…"
      ]
     },
     "metadata": {},
     "output_type": "display_data"
    }
   ],
   "source": [
    "import mitosheet\n",
    "mitosheet.sheet()"
   ]
  }
 ],
 "metadata": {
  "kernelspec": {
   "display_name": "Python 3",
   "language": "python",
   "name": "python3"
  },
  "language_info": {
   "codemirror_mode": {
    "name": "ipython",
    "version": 3
   },
   "file_extension": ".py",
   "mimetype": "text/x-python",
   "name": "python",
   "nbconvert_exporter": "python",
   "pygments_lexer": "ipython3",
   "version": "3.8.5"
  },
  "widgets": {
   "application/vnd.jupyter.widget-state+json": {
    "state": {
     "05b31ddb20bd4c40bd6b27545355b42e": {
      "model_module": "@jupyter-widgets/base",
      "model_module_version": "1.2.0",
      "model_name": "LayoutModel",
      "state": {}
     },
     "0bc1897801314ecea1a00fb5af817ea8": {
      "model_module": "mitosheet",
      "model_module_version": "^0.1.87",
      "model_name": "ExampleModel",
      "state": {
       "_model_module_version": "^0.1.87",
       "_view_module_version": "^0.1.87",
       "analysis_name": "UUID-a02dfb07-c010-4b97-a654-b824f864a01d",
       "code_json": "{\"imports\": \"from mitosheet import *\", \"code\": [\"# Step 1\", \"import pandas as pd\", \"df2_csv = pd.read_csv('df2.csv')\", \"df2_csv_0 = pd.read_csv('df2.csv')\", \"# Step 2\", \"import pandas as pd\", \"df2_csv_1 = pd.read_csv('df2.csv')\", \"df2_csv_2 = pd.read_csv('df2.csv')\", \"# Step 3\", \"df2_csv_2['C'] = 0\"]}",
       "column_filters_json": "[{\"A\": {\"operator\": \"And\", \"filters\": []}, \"B\": {\"operator\": \"And\", \"filters\": []}}, {\"A\": {\"operator\": \"And\", \"filters\": []}, \"B\": {\"operator\": \"And\", \"filters\": []}}, {\"A\": {\"operator\": \"And\", \"filters\": []}, \"B\": {\"operator\": \"And\", \"filters\": []}}, {\"A\": {\"operator\": \"And\", \"filters\": []}, \"B\": {\"operator\": \"And\", \"filters\": []}, \"C\": {\"operator\": \"And\", \"filters\": []}}]",
       "column_spreadsheet_code_json": "[{\"A\": \"\", \"B\": \"\"}, {\"A\": \"\", \"B\": \"\"}, {\"A\": \"\", \"B\": \"\"}, {\"A\": \"\", \"B\": \"\", \"C\": \"=0\"}]",
       "column_type_json": "[{\"A\": \"number\", \"B\": \"number\"}, {\"A\": \"number\", \"B\": \"number\"}, {\"A\": \"number\", \"B\": \"number\"}, {\"A\": \"number\", \"B\": \"number\", \"C\": \"number\"}]",
       "df_names_json": "{\"df_names\": [\"df2_csv\", \"df2_csv_0\", \"df2_csv_1\", \"df2_csv_2\"]}",
       "df_shape_json": "[{\"rows\": 3, \"cols\": 2}, {\"rows\": 3, \"cols\": 2}, {\"rows\": 3, \"cols\": 2}, {\"rows\": 3, \"cols\": 3}]",
       "has_rendered": true,
       "is_local_deployment": true,
       "layout": "IPY_MODEL_e5ea0758c5a747efb55476449f67da8e",
       "saved_analysis_names_json": "[\"111\", \"1111\", \"28\", \"29\", \"Dork\", \"Double Import\", \"File Import Get Length\", \"File Import\", \"Sample\", \"Testing\", \"_419wxryas\", \"_461fd87s7\", \"_49hlkjtgp\", \"_7atqow0oj\", \"_88amfqk2f\", \"_8b9x4aa2m\", \"_dh590wtqu\", \"_efldontof\", \"_g10n6gs9g\", \"_gs9b8mudg\", \"_hexaujrz3\", \"_iu8qft83p\", \"_jqu6ydgq6\", \"_jsu04q2sl\", \"_jtip39qtx\", \"_k4ce9w8om\", \"_ktv9i6xtb\", \"_llskhy8k5\", \"_nq5ctxt9m\", \"_obi4mo3a2\", \"_ojtvedr82\", \"_om4ymb3qz\", \"_rlna3gzml\", \"_rqyqe9rfu\", \"_ui8gi1btf\", \"_uzyu8vo18\", \"_wyyvgfivw\", \"_yd64b4y4m\", \"aaa\", \"new\"]",
       "sheet_json": "[{\"columns\": [\"A\", \"B\"], \"index\": [0, 1, 2], \"data\": [[7, 10], [8, 11], [9, 12]]}, {\"columns\": [\"A\", \"B\"], \"index\": [0, 1, 2], \"data\": [[7, 10], [8, 11], [9, 12]]}, {\"columns\": [\"A\", \"B\"], \"index\": [0, 1, 2], \"data\": [[7, 10], [8, 11], [9, 12]]}, {\"columns\": [\"A\", \"B\", \"C\"], \"index\": [0, 1, 2], \"data\": [[7, 10, 0], [8, 11, 0], [9, 12, 0]]}]",
       "tutorial_mode": false,
       "user_id": "nate",
       "value": "Hello World"
      }
     },
     "0c1473e127684d4494d26b6a6503ca83": {
      "model_module": "@jupyter-widgets/base",
      "model_module_version": "1.2.0",
      "model_name": "LayoutModel",
      "state": {}
     },
     "192464d411ad418cbe146d22ac2e3595": {
      "model_module": "mitosheet",
      "model_module_version": "^0.1.87",
      "model_name": "ExampleModel",
      "state": {
       "_model_module_version": "^0.1.87",
       "_view_module_version": "^0.1.87",
       "analysis_name": "UUID-585f038a-8852-445b-91b1-ae2eb8212c40",
       "code_json": "{\"imports\": \"from mitosheet import *\", \"code\": []}",
       "column_filters_json": "[]",
       "column_spreadsheet_code_json": "[]",
       "column_type_json": "[]",
       "df_names_json": "{\"df_names\": []}",
       "df_shape_json": "[]",
       "has_rendered": false,
       "is_local_deployment": true,
       "layout": "IPY_MODEL_81e3a7647c604c1ebeac8e8fa22290e7",
       "saved_analysis_names_json": "[\"111\", \"1111\", \"28\", \"29\", \"Dork\", \"Double Import\", \"File Import Get Length\", \"File Import\", \"Sample\", \"Testing\", \"_419wxryas\", \"_461fd87s7\", \"_49hlkjtgp\", \"_7atqow0oj\", \"_88amfqk2f\", \"_8b9x4aa2m\", \"_dh590wtqu\", \"_efldontof\", \"_g10n6gs9g\", \"_gs9b8mudg\", \"_hexaujrz3\", \"_iu8qft83p\", \"_jqu6ydgq6\", \"_jsu04q2sl\", \"_jtip39qtx\", \"_k4ce9w8om\", \"_ktv9i6xtb\", \"_llskhy8k5\", \"_nq5ctxt9m\", \"_obi4mo3a2\", \"_ojtvedr82\", \"_om4ymb3qz\", \"_rlna3gzml\", \"_rqyqe9rfu\", \"_ui8gi1btf\", \"_uzyu8vo18\", \"_wyyvgfivw\", \"_yd64b4y4m\", \"aaa\", \"new\"]",
       "sheet_json": "[]",
       "tutorial_mode": false,
       "user_id": "nate",
       "value": "Hello World"
      }
     },
     "20b0ae34a1b44d9ba4381e3ba031fda0": {
      "model_module": "mitosheet",
      "model_module_version": "^0.1.87",
      "model_name": "ExampleModel",
      "state": {
       "_model_module_version": "^0.1.87",
       "_view_module_version": "^0.1.87",
       "analysis_name": "UUID-8babcc18-aa51-491f-9d88-688e4e2fa4c3",
       "code_json": "{\"imports\": \"from mitosheet import *\", \"code\": [\"# Step 1\", \"import pandas as pd\", \"df2_csv = pd.read_csv('df2.csv')\", \"df2_csv_0 = pd.read_csv('df2.csv')\", \"# Step 2\", \"this_is_a_test = df2_csv_0\", \"# Step 3\", \"this_is_a_test['C'] = 0\"]}",
       "column_filters_json": "[{\"A\": {\"operator\": \"And\", \"filters\": []}, \"B\": {\"operator\": \"And\", \"filters\": []}}, {\"A\": {\"operator\": \"And\", \"filters\": []}, \"B\": {\"operator\": \"And\", \"filters\": []}, \"C\": {\"operator\": \"And\", \"filters\": []}}]",
       "column_spreadsheet_code_json": "[{\"A\": \"\", \"B\": \"\"}, {\"A\": \"\", \"B\": \"\", \"C\": \"=0\"}]",
       "column_type_json": "[{\"A\": \"number\", \"B\": \"number\"}, {\"A\": \"number\", \"B\": \"number\", \"C\": \"number\"}]",
       "df_names_json": "{\"df_names\": [\"df2_csv\", \"this_is_a_test\"]}",
       "df_shape_json": "[{\"rows\": 3, \"cols\": 2}, {\"rows\": 3, \"cols\": 3}]",
       "has_rendered": true,
       "is_local_deployment": true,
       "layout": "IPY_MODEL_d1674091c3a84f2c95b4b43665852b90",
       "saved_analysis_names_json": "[\"111\", \"1111\", \"28\", \"29\", \"Dork\", \"Double Import\", \"File Import Get Length\", \"File Import\", \"Sample\", \"Testing\", \"_419wxryas\", \"_461fd87s7\", \"_49hlkjtgp\", \"_7atqow0oj\", \"_88amfqk2f\", \"_8b9x4aa2m\", \"_dh590wtqu\", \"_efldontof\", \"_g10n6gs9g\", \"_gs9b8mudg\", \"_hexaujrz3\", \"_iu8qft83p\", \"_jqu6ydgq6\", \"_jsu04q2sl\", \"_jtip39qtx\", \"_k4ce9w8om\", \"_ktv9i6xtb\", \"_llskhy8k5\", \"_nq5ctxt9m\", \"_obi4mo3a2\", \"_ojtvedr82\", \"_om4ymb3qz\", \"_rlna3gzml\", \"_rqyqe9rfu\", \"_ui8gi1btf\", \"_uzyu8vo18\", \"_wyyvgfivw\", \"_yd64b4y4m\", \"aaa\", \"new\"]",
       "sheet_json": "[{\"columns\": [\"A\", \"B\"], \"index\": [0, 1, 2], \"data\": [[7, 10], [8, 11], [9, 12]]}, {\"columns\": [\"A\", \"B\", \"C\"], \"index\": [0, 1, 2], \"data\": [[7, 10, 0], [8, 11, 0], [9, 12, 0]]}]",
       "tutorial_mode": false,
       "user_id": "nate",
       "value": "Hello World"
      }
     },
     "4cacdf93d91f45d4bc261ee213554072": {
      "model_module": "mitosheet",
      "model_module_version": "^0.1.87",
      "model_name": "ExampleModel",
      "state": {
       "_model_module_version": "^0.1.87",
       "_view_module_version": "^0.1.87",
       "analysis_name": "UUID-3d6b2939-d3a8-4f3b-a5c0-39ebf06ca01e",
       "code_json": "{\"imports\": \"from mitosheet import *\", \"code\": [\"# Step 1\", \"import pandas as pd\", \"df2_csv = pd.read_csv('df2.csv')\", \"df2_csv_0 = pd.read_csv('df2.csv')\", \"# Step 2\", \"df2_csv_0['C'] = df2_csv_0['B']\", \"# Step 3\", \"testing_this_shit = df2_csv_0\", \"# Step 4\", \"______testing = testing_this_shit\"]}",
       "column_filters_json": "[{\"A\": {\"operator\": \"And\", \"filters\": []}, \"B\": {\"operator\": \"And\", \"filters\": []}}, {\"A\": {\"operator\": \"And\", \"filters\": []}, \"B\": {\"operator\": \"And\", \"filters\": []}, \"C\": {\"operator\": \"And\", \"filters\": []}}]",
       "column_spreadsheet_code_json": "[{\"A\": \"\", \"B\": \"\"}, {\"A\": \"\", \"B\": \"\", \"C\": \"=B\"}]",
       "column_type_json": "[{\"A\": \"number\", \"B\": \"number\"}, {\"A\": \"number\", \"B\": \"number\", \"C\": \"number\"}]",
       "df_names_json": "{\"df_names\": [\"df2_csv\", \"______testing\"]}",
       "df_shape_json": "[{\"rows\": 3, \"cols\": 2}, {\"rows\": 3, \"cols\": 3}]",
       "has_rendered": true,
       "is_local_deployment": true,
       "layout": "IPY_MODEL_a577cd134c5b4bc88e777f42033514c9",
       "saved_analysis_names_json": "[\"111\", \"1111\", \"28\", \"29\", \"Dork\", \"Double Import\", \"File Import Get Length\", \"File Import\", \"Sample\", \"Testing\", \"_419wxryas\", \"_461fd87s7\", \"_49hlkjtgp\", \"_7atqow0oj\", \"_88amfqk2f\", \"_8b9x4aa2m\", \"_dh590wtqu\", \"_efldontof\", \"_g10n6gs9g\", \"_gs9b8mudg\", \"_hexaujrz3\", \"_iu8qft83p\", \"_jqu6ydgq6\", \"_jsu04q2sl\", \"_jtip39qtx\", \"_k4ce9w8om\", \"_ktv9i6xtb\", \"_llskhy8k5\", \"_nq5ctxt9m\", \"_obi4mo3a2\", \"_ojtvedr82\", \"_om4ymb3qz\", \"_rlna3gzml\", \"_rqyqe9rfu\", \"_ui8gi1btf\", \"_uzyu8vo18\", \"_wyyvgfivw\", \"_yd64b4y4m\", \"aaa\", \"new\"]",
       "sheet_json": "[{\"columns\": [\"A\", \"B\"], \"index\": [0, 1, 2], \"data\": [[7, 10], [8, 11], [9, 12]]}, {\"columns\": [\"A\", \"B\", \"C\"], \"index\": [0, 1, 2], \"data\": [[7, 10, 10], [8, 11, 11], [9, 12, 12]]}]",
       "tutorial_mode": false,
       "user_id": "nate",
       "value": "Hello World"
      }
     },
     "569427eaaeef4b4ab770e48c023dd24b": {
      "model_module": "mitosheet",
      "model_module_version": "^0.1.87",
      "model_name": "ExampleModel",
      "state": {
       "_model_module_version": "^0.1.87",
       "_view_module_version": "^0.1.87",
       "analysis_name": "UUID-0a2d9a67-5d3e-4c23-8064-a7a14fe89bdb",
       "code_json": "{\"imports\": \"from mitosheet import *\", \"code\": [\"# Step 1\", \"import pandas as pd\", \"df2_csv = pd.read_csv('df2.csv')\"]}",
       "column_filters_json": "[{\"A\": {\"operator\": \"And\", \"filters\": []}, \"B\": {\"operator\": \"And\", \"filters\": []}}]",
       "column_spreadsheet_code_json": "[{\"A\": \"\", \"B\": \"\"}]",
       "column_type_json": "[{\"A\": \"number\", \"B\": \"number\"}]",
       "df_names_json": "{\"df_names\": [\"df2_csv\"]}",
       "df_shape_json": "[{\"rows\": 3, \"cols\": 2}]",
       "has_rendered": true,
       "is_local_deployment": true,
       "layout": "IPY_MODEL_e310f2dc272f4087aa7ceba0137d0a83",
       "saved_analysis_names_json": "[\"111\", \"1111\", \"28\", \"29\", \"Dork\", \"Double Import\", \"File Import Get Length\", \"File Import\", \"Sample\", \"Testing\", \"_419wxryas\", \"_461fd87s7\", \"_49hlkjtgp\", \"_7atqow0oj\", \"_88amfqk2f\", \"_8b9x4aa2m\", \"_dh590wtqu\", \"_efldontof\", \"_g10n6gs9g\", \"_gs9b8mudg\", \"_hexaujrz3\", \"_iu8qft83p\", \"_jqu6ydgq6\", \"_jsu04q2sl\", \"_jtip39qtx\", \"_k4ce9w8om\", \"_ktv9i6xtb\", \"_llskhy8k5\", \"_nq5ctxt9m\", \"_obi4mo3a2\", \"_ojtvedr82\", \"_om4ymb3qz\", \"_rlna3gzml\", \"_rqyqe9rfu\", \"_ui8gi1btf\", \"_uzyu8vo18\", \"_wyyvgfivw\", \"_yd64b4y4m\", \"aaa\", \"new\"]",
       "sheet_json": "[{\"columns\": [\"A\", \"B\"], \"index\": [0, 1, 2], \"data\": [[7, 10], [8, 11], [9, 12]]}]",
       "tutorial_mode": false,
       "user_id": "nate",
       "value": "Hello World"
      }
     },
     "5eedfbf4e6144eb89e5c730c650509f7": {
      "model_module": "mitosheet",
      "model_module_version": "^0.1.87",
      "model_name": "ExampleModel",
      "state": {
       "_model_module_version": "^0.1.87",
       "_view_module_version": "^0.1.87",
       "analysis_name": "UUID-278dd838-7a1e-4164-860d-6f4badfaced9",
       "code_json": "{\"imports\": \"from mitosheet import *\", \"code\": []}",
       "column_filters_json": "[]",
       "column_spreadsheet_code_json": "[]",
       "column_type_json": "[]",
       "df_names_json": "{\"df_names\": []}",
       "df_shape_json": "[]",
       "has_rendered": true,
       "is_local_deployment": true,
       "layout": "IPY_MODEL_05b31ddb20bd4c40bd6b27545355b42e",
       "saved_analysis_names_json": "[\"111\", \"1111\", \"28\", \"29\", \"Dork\", \"Double Import\", \"File Import Get Length\", \"File Import\", \"Sample\", \"Testing\", \"_419wxryas\", \"_461fd87s7\", \"_49hlkjtgp\", \"_7atqow0oj\", \"_88amfqk2f\", \"_8b9x4aa2m\", \"_dh590wtqu\", \"_efldontof\", \"_g10n6gs9g\", \"_gs9b8mudg\", \"_hexaujrz3\", \"_iu8qft83p\", \"_jqu6ydgq6\", \"_jsu04q2sl\", \"_jtip39qtx\", \"_k4ce9w8om\", \"_ktv9i6xtb\", \"_llskhy8k5\", \"_nq5ctxt9m\", \"_obi4mo3a2\", \"_ojtvedr82\", \"_om4ymb3qz\", \"_rlna3gzml\", \"_rqyqe9rfu\", \"_ui8gi1btf\", \"_uzyu8vo18\", \"_wyyvgfivw\", \"_yd64b4y4m\", \"aaa\", \"new\"]",
       "sheet_json": "[]",
       "tutorial_mode": false,
       "user_id": "nate",
       "value": "Hello World"
      }
     },
     "6d849b99cf7e474887a2c62337839eba": {
      "model_module": "@jupyter-widgets/base",
      "model_module_version": "1.2.0",
      "model_name": "LayoutModel",
      "state": {}
     },
     "819cebd3770a4184aad5bb53cfbe683f": {
      "model_module": "@jupyter-widgets/base",
      "model_module_version": "1.2.0",
      "model_name": "LayoutModel",
      "state": {}
     },
     "81e3a7647c604c1ebeac8e8fa22290e7": {
      "model_module": "@jupyter-widgets/base",
      "model_module_version": "1.2.0",
      "model_name": "LayoutModel",
      "state": {}
     },
     "a577cd134c5b4bc88e777f42033514c9": {
      "model_module": "@jupyter-widgets/base",
      "model_module_version": "1.2.0",
      "model_name": "LayoutModel",
      "state": {}
     },
     "ac9e78c5f7d649e683d590cdd15d9bbf": {
      "model_module": "mitosheet",
      "model_module_version": "^0.1.87",
      "model_name": "ExampleModel",
      "state": {
       "_model_module_version": "^0.1.87",
       "_view_module_version": "^0.1.87",
       "analysis_name": "UUID-770a15f7-c394-410c-a809-e72ae19c21da",
       "code_json": "{\"imports\": \"from mitosheet import *\", \"code\": []}",
       "column_filters_json": "[]",
       "column_spreadsheet_code_json": "[]",
       "column_type_json": "[]",
       "df_names_json": "{\"df_names\": []}",
       "df_shape_json": "[]",
       "has_rendered": false,
       "is_local_deployment": true,
       "layout": "IPY_MODEL_0c1473e127684d4494d26b6a6503ca83",
       "saved_analysis_names_json": "[\"111\", \"1111\", \"28\", \"29\", \"Dork\", \"Double Import\", \"File Import Get Length\", \"File Import\", \"Sample\", \"Testing\", \"_419wxryas\", \"_461fd87s7\", \"_49hlkjtgp\", \"_7atqow0oj\", \"_88amfqk2f\", \"_8b9x4aa2m\", \"_dh590wtqu\", \"_efldontof\", \"_g10n6gs9g\", \"_gs9b8mudg\", \"_hexaujrz3\", \"_iu8qft83p\", \"_jqu6ydgq6\", \"_jsu04q2sl\", \"_jtip39qtx\", \"_k4ce9w8om\", \"_ktv9i6xtb\", \"_llskhy8k5\", \"_nq5ctxt9m\", \"_obi4mo3a2\", \"_ojtvedr82\", \"_om4ymb3qz\", \"_rlna3gzml\", \"_rqyqe9rfu\", \"_ui8gi1btf\", \"_uzyu8vo18\", \"_wyyvgfivw\", \"_yd64b4y4m\", \"aaa\", \"new\"]",
       "sheet_json": "[]",
       "tutorial_mode": false,
       "user_id": "nate",
       "value": "Hello World"
      }
     },
     "d1674091c3a84f2c95b4b43665852b90": {
      "model_module": "@jupyter-widgets/base",
      "model_module_version": "1.2.0",
      "model_name": "LayoutModel",
      "state": {}
     },
     "d887a1091375401b8bac41f3c3489a11": {
      "model_module": "@jupyter-widgets/base",
      "model_module_version": "1.2.0",
      "model_name": "LayoutModel",
      "state": {}
     },
     "e310f2dc272f4087aa7ceba0137d0a83": {
      "model_module": "@jupyter-widgets/base",
      "model_module_version": "1.2.0",
      "model_name": "LayoutModel",
      "state": {}
     },
     "e5ea0758c5a747efb55476449f67da8e": {
      "model_module": "@jupyter-widgets/base",
      "model_module_version": "1.2.0",
      "model_name": "LayoutModel",
      "state": {}
     },
     "f50acdd5f7ba4b008193a658ce6aaa39": {
      "model_module": "mitosheet",
      "model_module_version": "^0.1.87",
      "model_name": "ExampleModel",
      "state": {
       "_model_module_version": "^0.1.87",
       "_view_module_version": "^0.1.87",
       "analysis_name": "UUID-db72b258-691a-4459-a2e1-0955e080a46b",
       "code_json": "{\"imports\": \"from mitosheet import *\", \"code\": [\"# Step 1\", \"import pandas as pd\", \"df2_csv = pd.read_csv('df2.csv')\", \"df2_csv_0 = pd.read_csv('df2.csv')\", \"# Step 2\", \"import pandas as pd\", \"df2_csv_1 = pd.read_csv('df2.csv')\", \"df2_csv_2 = pd.read_csv('df2.csv')\", \"# Step 3\", \"df2_csv_2['C'] = 0\", \"# Step 4\", \"df5 = df2_csv_2.copy(deep=True)\", \"# Step 5\", \"df6 = df5.copy(deep=True)\", \"# Step 6\", \"df7 = df6.copy(deep=True)\", \"# Step 7\", \"df8 = df7.copy(deep=True)\", \"# Step 8\", \"df9 = df8.copy(deep=True)\", \"# Step 9\", \"df10 = df9.copy(deep=True)\", \"# Step 10\", \"df11 = df10.copy(deep=True)\", \"# Step 11\", \"df12 = df11.copy(deep=True)\", \"# Step 12\", \"df13 = df12.copy(deep=True)\", \"# Step 13\", \"df14 = df13.copy(deep=True)\", \"# Step 14\", \"this_is_a_new_dataframe = df2_csv\", \"# Step 15\", \"del this_is_a_new_dataframe\", \"# Step 16\", \"del df2_csv_0\", \"# Step 17\", \"del df2_csv_1\", \"# Step 18\", \"this_a_new_dataframe___ = df14\", \"# Step 19\", \"this_a_new_dataframe___['D'] = 0\", \"# Step 20\", \"df12 = this_a_new_dataframe___.copy(deep=True)\", \"# Step 21\", \"df13 = this_a_new_dataframe___.copy(deep=True)\", \"# Step 22\", \"df14 = this_a_new_dataframe___.copy(deep=True)\", \"# Step 23\", \"testing = df6\", \"# Step 24\", \"del testing\"]}",
       "column_filters_json": "[{\"A\": {\"operator\": \"And\", \"filters\": []}, \"B\": {\"operator\": \"And\", \"filters\": []}, \"C\": {\"operator\": \"And\", \"filters\": []}}, {\"A\": {\"operator\": \"And\", \"filters\": []}, \"B\": {\"operator\": \"And\", \"filters\": []}, \"C\": {\"operator\": \"And\", \"filters\": []}}, {\"A\": {\"operator\": \"And\", \"filters\": []}, \"B\": {\"operator\": \"And\", \"filters\": []}, \"C\": {\"operator\": \"And\", \"filters\": []}}, {\"A\": {\"operator\": \"And\", \"filters\": []}, \"B\": {\"operator\": \"And\", \"filters\": []}, \"C\": {\"operator\": \"And\", \"filters\": []}}, {\"A\": {\"operator\": \"And\", \"filters\": []}, \"B\": {\"operator\": \"And\", \"filters\": []}, \"C\": {\"operator\": \"And\", \"filters\": []}}, {\"A\": {\"operator\": \"And\", \"filters\": []}, \"B\": {\"operator\": \"And\", \"filters\": []}, \"C\": {\"operator\": \"And\", \"filters\": []}}, {\"A\": {\"operator\": \"And\", \"filters\": []}, \"B\": {\"operator\": \"And\", \"filters\": []}, \"C\": {\"operator\": \"And\", \"filters\": []}}, {\"A\": {\"operator\": \"And\", \"filters\": []}, \"B\": {\"operator\": \"And\", \"filters\": []}, \"C\": {\"operator\": \"And\", \"filters\": []}}, {\"A\": {\"operator\": \"And\", \"filters\": []}, \"B\": {\"operator\": \"And\", \"filters\": []}, \"C\": {\"operator\": \"And\", \"filters\": []}}, {\"A\": {\"operator\": \"And\", \"filters\": []}, \"B\": {\"operator\": \"And\", \"filters\": []}, \"C\": {\"operator\": \"And\", \"filters\": []}, \"D\": {\"operator\": \"And\", \"filters\": []}}, {\"A\": {\"operator\": \"And\", \"filters\": []}, \"B\": {\"operator\": \"And\", \"filters\": []}, \"C\": {\"operator\": \"And\", \"filters\": []}, \"D\": {\"operator\": \"And\", \"filters\": []}}, {\"A\": {\"operator\": \"And\", \"filters\": []}, \"B\": {\"operator\": \"And\", \"filters\": []}, \"C\": {\"operator\": \"And\", \"filters\": []}, \"D\": {\"operator\": \"And\", \"filters\": []}}, {\"A\": {\"operator\": \"And\", \"filters\": []}, \"B\": {\"operator\": \"And\", \"filters\": []}, \"C\": {\"operator\": \"And\", \"filters\": []}, \"D\": {\"operator\": \"And\", \"filters\": []}}]",
       "column_spreadsheet_code_json": "[{\"A\": \"\", \"B\": \"\", \"C\": \"=0\"}, {\"A\": \"\", \"B\": \"\", \"C\": \"\"}, {\"A\": \"\", \"B\": \"\", \"C\": \"\"}, {\"A\": \"\", \"B\": \"\", \"C\": \"\"}, {\"A\": \"\", \"B\": \"\", \"C\": \"\"}, {\"A\": \"\", \"B\": \"\", \"C\": \"\"}, {\"A\": \"\", \"B\": \"\", \"C\": \"\"}, {\"A\": \"\", \"B\": \"\", \"C\": \"\"}, {\"A\": \"\", \"B\": \"\", \"C\": \"\"}, {\"A\": \"\", \"B\": \"\", \"C\": \"\", \"D\": \"=0\"}, {\"A\": \"\", \"B\": \"\", \"C\": \"\", \"D\": \"\"}, {\"A\": \"\", \"B\": \"\", \"C\": \"\", \"D\": \"\"}, {\"A\": \"\", \"B\": \"\", \"C\": \"\", \"D\": \"\"}]",
       "column_type_json": "[{\"A\": \"number\", \"B\": \"number\", \"C\": \"number\"}, {\"A\": \"number\", \"B\": \"number\", \"C\": \"number\"}, {\"A\": \"number\", \"B\": \"number\", \"C\": \"number\"}, {\"A\": \"number\", \"B\": \"number\", \"C\": \"number\"}, {\"A\": \"number\", \"B\": \"number\", \"C\": \"number\"}, {\"A\": \"number\", \"B\": \"number\", \"C\": \"number\"}, {\"A\": \"number\", \"B\": \"number\", \"C\": \"number\"}, {\"A\": \"number\", \"B\": \"number\", \"C\": \"number\"}, {\"A\": \"number\", \"B\": \"number\", \"C\": \"number\"}, {\"A\": \"number\", \"B\": \"number\", \"C\": \"number\", \"D\": \"number\"}, {\"A\": \"number\", \"B\": \"number\", \"C\": \"number\", \"D\": \"number\"}, {\"A\": \"number\", \"B\": \"number\", \"C\": \"number\", \"D\": \"number\"}, {\"A\": \"number\", \"B\": \"number\", \"C\": \"number\", \"D\": \"number\"}]",
       "df_names_json": "{\"df_names\": [\"df2_csv_2\", \"df5\", \"df7\", \"df8\", \"df9\", \"df10\", \"df11\", \"df12\", \"df13\", \"this_a_new_dataframe___\", \"df12\", \"df13\", \"df14\"]}",
       "df_shape_json": "[{\"rows\": 3, \"cols\": 3}, {\"rows\": 3, \"cols\": 3}, {\"rows\": 3, \"cols\": 3}, {\"rows\": 3, \"cols\": 3}, {\"rows\": 3, \"cols\": 3}, {\"rows\": 3, \"cols\": 3}, {\"rows\": 3, \"cols\": 3}, {\"rows\": 3, \"cols\": 3}, {\"rows\": 3, \"cols\": 3}, {\"rows\": 3, \"cols\": 4}, {\"rows\": 3, \"cols\": 4}, {\"rows\": 3, \"cols\": 4}, {\"rows\": 3, \"cols\": 4}]",
       "has_rendered": true,
       "is_local_deployment": true,
       "layout": "IPY_MODEL_819cebd3770a4184aad5bb53cfbe683f",
       "saved_analysis_names_json": "[\"111\", \"1111\", \"28\", \"29\", \"Dork\", \"Double Import\", \"File Import Get Length\", \"File Import\", \"Sample\", \"Testing\", \"_419wxryas\", \"_461fd87s7\", \"_49hlkjtgp\", \"_7atqow0oj\", \"_88amfqk2f\", \"_8b9x4aa2m\", \"_dh590wtqu\", \"_efldontof\", \"_g10n6gs9g\", \"_gs9b8mudg\", \"_hexaujrz3\", \"_iu8qft83p\", \"_jqu6ydgq6\", \"_jsu04q2sl\", \"_jtip39qtx\", \"_k4ce9w8om\", \"_ktv9i6xtb\", \"_llskhy8k5\", \"_nq5ctxt9m\", \"_obi4mo3a2\", \"_ojtvedr82\", \"_om4ymb3qz\", \"_rlna3gzml\", \"_rqyqe9rfu\", \"_ui8gi1btf\", \"_uzyu8vo18\", \"_wyyvgfivw\", \"_yd64b4y4m\", \"aaa\", \"new\"]",
       "sheet_json": "[{\"columns\": [\"A\", \"B\", \"C\"], \"index\": [0, 1, 2], \"data\": [[7, 10, 0], [8, 11, 0], [9, 12, 0]]}, {\"columns\": [\"A\", \"B\", \"C\"], \"index\": [0, 1, 2], \"data\": [[7, 10, 0], [8, 11, 0], [9, 12, 0]]}, {\"columns\": [\"A\", \"B\", \"C\"], \"index\": [0, 1, 2], \"data\": [[7, 10, 0], [8, 11, 0], [9, 12, 0]]}, {\"columns\": [\"A\", \"B\", \"C\"], \"index\": [0, 1, 2], \"data\": [[7, 10, 0], [8, 11, 0], [9, 12, 0]]}, {\"columns\": [\"A\", \"B\", \"C\"], \"index\": [0, 1, 2], \"data\": [[7, 10, 0], [8, 11, 0], [9, 12, 0]]}, {\"columns\": [\"A\", \"B\", \"C\"], \"index\": [0, 1, 2], \"data\": [[7, 10, 0], [8, 11, 0], [9, 12, 0]]}, {\"columns\": [\"A\", \"B\", \"C\"], \"index\": [0, 1, 2], \"data\": [[7, 10, 0], [8, 11, 0], [9, 12, 0]]}, {\"columns\": [\"A\", \"B\", \"C\"], \"index\": [0, 1, 2], \"data\": [[7, 10, 0], [8, 11, 0], [9, 12, 0]]}, {\"columns\": [\"A\", \"B\", \"C\"], \"index\": [0, 1, 2], \"data\": [[7, 10, 0], [8, 11, 0], [9, 12, 0]]}, {\"columns\": [\"A\", \"B\", \"C\", \"D\"], \"index\": [0, 1, 2], \"data\": [[7, 10, 0, 0], [8, 11, 0, 0], [9, 12, 0, 0]]}, {\"columns\": [\"A\", \"B\", \"C\", \"D\"], \"index\": [0, 1, 2], \"data\": [[7, 10, 0, 0], [8, 11, 0, 0], [9, 12, 0, 0]]}, {\"columns\": [\"A\", \"B\", \"C\", \"D\"], \"index\": [0, 1, 2], \"data\": [[7, 10, 0, 0], [8, 11, 0, 0], [9, 12, 0, 0]]}, {\"columns\": [\"A\", \"B\", \"C\", \"D\"], \"index\": [0, 1, 2], \"data\": [[7, 10, 0, 0], [8, 11, 0, 0], [9, 12, 0, 0]]}]",
       "tutorial_mode": false,
       "user_id": "nate",
       "value": "Hello World"
      }
     },
     "f9308dff3bf7402782505dbe6139f559": {
      "model_module": "mitosheet",
      "model_module_version": "^0.1.87",
      "model_name": "ExampleModel",
      "state": {
       "_model_module_version": "^0.1.87",
       "_view_module_version": "^0.1.87",
       "analysis_name": "UUID-5a2b1e45-514b-46c2-a100-1693e3ff1420",
       "code_json": "{\"imports\": \"from mitosheet import *\", \"code\": [\"# Step 1\", \"import pandas as pd\", \"df2_csv = pd.read_csv('df2.csv')\"]}",
       "column_filters_json": "[{\"A\": {\"operator\": \"And\", \"filters\": []}, \"B\": {\"operator\": \"And\", \"filters\": []}}]",
       "column_spreadsheet_code_json": "[{\"A\": \"\", \"B\": \"\"}]",
       "column_type_json": "[{\"A\": \"number\", \"B\": \"number\"}]",
       "df_names_json": "{\"df_names\": [\"df2_csv\"]}",
       "df_shape_json": "[{\"rows\": 3, \"cols\": 2}]",
       "has_rendered": true,
       "is_local_deployment": true,
       "layout": "IPY_MODEL_6d849b99cf7e474887a2c62337839eba",
       "saved_analysis_names_json": "[\"111\", \"1111\", \"28\", \"29\", \"Dork\", \"Double Import\", \"File Import Get Length\", \"File Import\", \"Sample\", \"Testing\", \"_419wxryas\", \"_461fd87s7\", \"_49hlkjtgp\", \"_7atqow0oj\", \"_88amfqk2f\", \"_8b9x4aa2m\", \"_dh590wtqu\", \"_efldontof\", \"_g10n6gs9g\", \"_gs9b8mudg\", \"_hexaujrz3\", \"_iu8qft83p\", \"_jqu6ydgq6\", \"_jsu04q2sl\", \"_jtip39qtx\", \"_k4ce9w8om\", \"_ktv9i6xtb\", \"_llskhy8k5\", \"_nq5ctxt9m\", \"_obi4mo3a2\", \"_ojtvedr82\", \"_om4ymb3qz\", \"_rlna3gzml\", \"_rqyqe9rfu\", \"_ui8gi1btf\", \"_uzyu8vo18\", \"_wyyvgfivw\", \"_yd64b4y4m\", \"aaa\", \"new\"]",
       "sheet_json": "[{\"columns\": [\"A\", \"B\"], \"index\": [0, 1, 2], \"data\": [[7, 10], [8, 11], [9, 12]]}]",
       "tutorial_mode": false,
       "user_id": "nate",
       "value": "Hello World"
      }
     },
     "fed88d79cc9b4f32a8353b939387597e": {
      "model_module": "mitosheet",
      "model_module_version": "^0.1.87",
      "model_name": "ExampleModel",
      "state": {
       "_model_module_version": "^0.1.87",
       "_view_module_version": "^0.1.87",
       "analysis_name": "UUID-1286e15f-4e32-4233-afc9-45684f70e7af",
       "code_json": "{\"imports\": \"from mitosheet import *\", \"code\": []}",
       "column_filters_json": "[]",
       "column_spreadsheet_code_json": "[]",
       "column_type_json": "[]",
       "df_names_json": "{\"df_names\": []}",
       "df_shape_json": "[]",
       "has_rendered": false,
       "is_local_deployment": true,
       "layout": "IPY_MODEL_d887a1091375401b8bac41f3c3489a11",
       "saved_analysis_names_json": "[\"111\", \"1111\", \"28\", \"29\", \"Dork\", \"Double Import\", \"File Import Get Length\", \"File Import\", \"Sample\", \"Testing\", \"_419wxryas\", \"_461fd87s7\", \"_49hlkjtgp\", \"_7atqow0oj\", \"_88amfqk2f\", \"_8b9x4aa2m\", \"_dh590wtqu\", \"_efldontof\", \"_g10n6gs9g\", \"_gs9b8mudg\", \"_hexaujrz3\", \"_iu8qft83p\", \"_jqu6ydgq6\", \"_jsu04q2sl\", \"_jtip39qtx\", \"_k4ce9w8om\", \"_ktv9i6xtb\", \"_llskhy8k5\", \"_nq5ctxt9m\", \"_obi4mo3a2\", \"_ojtvedr82\", \"_om4ymb3qz\", \"_rlna3gzml\", \"_rqyqe9rfu\", \"_ui8gi1btf\", \"_uzyu8vo18\", \"_wyyvgfivw\", \"_yd64b4y4m\", \"aaa\", \"new\"]",
       "sheet_json": "[]",
       "tutorial_mode": false,
       "user_id": "nate",
       "value": "Hello World"
      }
     }
    },
    "version_major": 2,
    "version_minor": 0
   }
  }
 },
 "nbformat": 4,
 "nbformat_minor": 4
}
