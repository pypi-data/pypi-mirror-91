{
 "cells": [
  {
   "cell_type": "code",
   "execution_count": null,
   "metadata": {},
   "outputs": [],
   "source": [
    "\"\"\"\n",
    "This file should tests all the filter conditions on\n",
    "\n",
    "Instructions:\n",
    "- Run this cell. \n",
    "- For each column, sort is ascending and descending and make sure its correct\n",
    "    - Note: the mixed column should throw an 'invalid sort' error\n",
    "- Create a new column and do a rolling window reference on the Number column, to subtract one \n",
    "  row from the next row. Make sure the values are correct.\n",
    "- Check that the code is being generated and updated as you cycle through conditions.\n",
    "- Print out the resulting df and make sure it matches\n",
    "\"\"\"\n",
    "import mitosheet\n",
    "import pandas as pd\n",
    "df1 = pd.DataFrame(data={'String': [\"123\", \"1\", \"2\", \"3\", \"4\", \"5\"], \n",
    "                        'Number': [123, 1, 2, 3, 4, 5],\n",
    "                         'Date': ['2001-01-01', '2002-01-01', '2003-01-01','2004-01-01', '2005-01-01', '2006-01-01'],\n",
    "                        'Mixed': [123, \"1\", \"2\", \"3\", 4, 5]})\n",
    "\n",
    "mitosheet.sheet(df1)"
   ]
  }
 ],
 "metadata": {
  "kernelspec": {
   "display_name": "Python 3",
   "language": "python",
   "name": "python3"
  },
  "language_info": {
   "codemirror_mode": {
    "name": "ipython",
    "version": 3
   },
   "file_extension": ".py",
   "mimetype": "text/x-python",
   "name": "python",
   "nbconvert_exporter": "python",
   "pygments_lexer": "ipython3",
   "version": "3.8.5"
  },
  "widgets": {
   "application/vnd.jupyter.widget-state+json": {
    "state": {
     "06614cccdda2438a93894d671abb2259": {
      "model_module": "@jupyter-widgets/base",
      "model_module_version": "1.2.0",
      "model_name": "LayoutModel",
      "state": {}
     },
     "93534f5cb4b74ac3b3785d4efc1844b9": {
      "model_module": "mitosheet",
      "model_module_version": "^0.1.58",
      "model_name": "ExampleModel",
      "state": {
       "_model_module_version": "^0.1.58",
       "_view_module_version": "^0.1.58",
       "analysis_name": "UUID-7afc62d7-ede9-475f-ab01-8755351b9203",
       "code_json": "{\"imports\": \"from mitosheet import *\", \"code\": [\"# Step 1\", \"df1['E'] = 0\", \"# Step 2\", \"df1 = df1.sort_values(by='Number', ascending=True, na_position='first')\", \"df1 = df1.reset_index(drop=True)\", \"# Step 3\", \"df1['E'] = df1['Number'] - OFFSET(df1['Number'], 1)\"]}",
       "column_filters_json": "[{\"String\": {\"operator\": \"And\", \"filters\": []}, \"Number\": {\"operator\": \"And\", \"filters\": []}, \"Date\": {\"operator\": \"And\", \"filters\": []}, \"Mixed\": {\"operator\": \"And\", \"filters\": []}, \"E\": {\"operator\": \"And\", \"filters\": []}}]",
       "column_spreadsheet_code_json": "[{\"String\": \"\", \"Number\": \"\", \"Date\": \"\", \"Mixed\": \"\", \"E\": \"=Number - OFFSET(Number, 1)\"}]",
       "column_type_json": "[{\"String\": \"string\", \"Number\": \"number\", \"Date\": \"string\", \"Mixed\": \"string\", \"E\": \"number\"}]",
       "df_names_json": "{\"df_names\": [\"df1\"]}",
       "df_shape_json": "[{\"rows\": 6, \"cols\": 5}]",
       "layout": "IPY_MODEL_06614cccdda2438a93894d671abb2259",
       "saved_analysis_names_json": "[\"Testing\"]",
       "sheet_json": "[{\"columns\": [\"String\", \"Number\", \"Date\", \"Mixed\", \"E\"], \"index\": [0, 1, 2, 3, 4, 5], \"data\": [[\"1\", 1, \"2002-01-01\", \"1\", -1.0], [\"2\", 2, \"2003-01-01\", \"2\", -1.0], [\"3\", 3, \"2004-01-01\", \"3\", -1.0], [\"4\", 4, \"2005-01-01\", 4, -1.0], [\"5\", 5, \"2006-01-01\", 5, -118.0], [\"123\", 123, \"2001-01-01\", 123, \"NaN\"]]}]",
       "user_id": "nate",
       "value": "Hello World"
      }
     }
    },
    "version_major": 2,
    "version_minor": 0
   }
  }
 },
 "nbformat": 4,
 "nbformat_minor": 4
}
