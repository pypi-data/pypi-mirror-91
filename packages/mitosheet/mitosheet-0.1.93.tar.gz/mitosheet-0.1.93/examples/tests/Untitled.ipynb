{
 "cells": [
  {
   "cell_type": "code",
   "execution_count": 1,
   "metadata": {},
   "outputs": [
    {
     "data": {
      "application/vnd.jupyter.widget-view+json": {
       "model_id": "871de22e42d74ef3b68b876fb3d29351",
       "version_major": 2,
       "version_minor": 0
      },
      "text/plain": [
       "MitoWidget(analysis_name='UUID-7589aaff-2928-418f-a85f-5b98b16ba58d', code_json='{\"imports\": \"from mitosheet i…"
      ]
     },
     "metadata": {},
     "output_type": "display_data"
    }
   ],
   "source": [
    "import mitosheet\n",
    "mitosheet.sheet()"
   ]
  },
  {
   "cell_type": "code",
   "execution_count": null,
   "metadata": {},
   "outputs": [],
   "source": [
    "# MITO CODE START (DO NOT EDIT)\n",
    "# SAVED-ANALYSIS-STARTUUID-7589aaff-2928-418f-a85f-5b98b16ba58dSAVED-ANALYSIS-END\n",
    "\n",
    "from mitosheet import *\n",
    "\n",
    "# Step 1\n",
    "\n",
    "import pandas as pd\n",
    "\n",
    "df1_csv = pd.read_csv('df1.csv')\n",
    "\n",
    "df2_csv = pd.read_csv('df2.csv')\n",
    "  \n",
    "# MITO CODE END (DO NOT EDIT)"
   ]
  },
  {
   "cell_type": "code",
   "execution_count": null,
   "metadata": {},
   "outputs": [],
   "source": []
  }
 ],
 "metadata": {
  "kernelspec": {
   "display_name": "Python 3",
   "language": "python",
   "name": "python3"
  },
  "language_info": {
   "codemirror_mode": {
    "name": "ipython",
    "version": 3
   },
   "file_extension": ".py",
   "mimetype": "text/x-python",
   "name": "python",
   "nbconvert_exporter": "python",
   "pygments_lexer": "ipython3",
   "version": "3.8.5"
  },
  "widgets": {
   "application/vnd.jupyter.widget-state+json": {
    "state": {
     "871de22e42d74ef3b68b876fb3d29351": {
      "model_module": "mitosheet",
      "model_module_version": "^0.1.92",
      "model_name": "ExampleModel",
      "state": {
       "_model_module_version": "^0.1.92",
       "_view_module_version": "^0.1.92",
       "analysis_name": "UUID-7589aaff-2928-418f-a85f-5b98b16ba58d",
       "code_json": "{\"imports\": \"from mitosheet import *\", \"code\": [\"# Step 1\", \"import pandas as pd\", \"df1_csv = pd.read_csv('df1.csv')\", \"df2_csv = pd.read_csv('df2.csv')\"]}",
       "column_filters_json": "[{\"A\": {\"operator\": \"And\", \"filters\": []}, \"B\": {\"operator\": \"And\", \"filters\": []}}, {\"A\": {\"operator\": \"And\", \"filters\": []}, \"B\": {\"operator\": \"And\", \"filters\": []}}]",
       "column_spreadsheet_code_json": "[{\"A\": \"\", \"B\": \"\"}, {\"A\": \"\", \"B\": \"\"}]",
       "column_type_json": "[{\"A\": \"number\", \"B\": \"number\"}, {\"A\": \"number\", \"B\": \"number\"}]",
       "df_names_json": "{\"df_names\": [\"df1_csv\", \"df2_csv\"]}",
       "df_shape_json": "[{\"rows\": 3, \"cols\": 2}, {\"rows\": 3, \"cols\": 2}]",
       "has_rendered": true,
       "is_local_deployment": true,
       "layout": "IPY_MODEL_91997e5dc50041cdafbab4ba69811e7d",
       "saved_analysis_names_json": "[\"111\", \"1111\", \"28\", \"29\", \"Dork\", \"Sample\", \"Testing\", \"_3arkvynuo\", \"_419wxryas\", \"_461fd87s7\", \"_49hlkjtgp\", \"_7atqow0oj\", \"_88amfqk2f\", \"_8b9x4aa2m\", \"_cb27694sr\", \"_efldontof\", \"_gs9b8mudg\", \"_hexaujrz3\", \"_iu8qft83p\", \"_jqu6ydgq6\", \"_jtip39qtx\", \"_k4ce9w8om\", \"_ktv9i6xtb\", \"_nauipuq8o\", \"_nq5ctxt9m\", \"_obi4mo3a2\", \"_ojtvedr82\", \"_rqyqe9rfu\", \"_uzyu8vo18\", \"_yd64b4y4m\", \"aaa\", \"new\", \"test\"]",
       "sheet_json": "[{\"columns\": [\"A\", \"B\"], \"index\": [0, 1, 2], \"data\": [[1, 4], [2, 5], [3, 6]]}, {\"columns\": [\"A\", \"B\"], \"index\": [0, 1, 2], \"data\": [[7, 10], [8, 11], [9, 12]]}]",
       "tutorial_mode": false,
       "user_id": "nate",
       "value": "Hello World"
      }
     },
     "91997e5dc50041cdafbab4ba69811e7d": {
      "model_module": "@jupyter-widgets/base",
      "model_module_version": "1.2.0",
      "model_name": "LayoutModel",
      "state": {}
     }
    },
    "version_major": 2,
    "version_minor": 0
   }
  }
 },
 "nbformat": 4,
 "nbformat_minor": 4
}
