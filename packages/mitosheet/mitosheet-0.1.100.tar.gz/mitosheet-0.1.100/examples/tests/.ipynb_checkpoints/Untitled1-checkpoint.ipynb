{
 "cells": [
  {
   "cell_type": "code",
   "execution_count": 1,
   "metadata": {},
   "outputs": [
    {
     "data": {
      "application/vnd.jupyter.widget-view+json": {
       "model_id": "7df3acf60654452e83307e1c2c9e99ae",
       "version_major": 2,
       "version_minor": 0
      },
      "text/plain": [
       "MitoWidget(analysis_name='UUID-0ac3c614-a995-4b4a-9395-e8458fd9a1c2', code_json='{\"imports\": \"from mitosheet i…"
      ]
     },
     "metadata": {},
     "output_type": "display_data"
    }
   ],
   "source": [
    "import mitosheet\n",
    "mitosheet.sheet()"
   ]
  },
  {
   "cell_type": "code",
   "execution_count": null,
   "metadata": {},
   "outputs": [],
   "source": []
  }
 ],
 "metadata": {
  "kernelspec": {
   "display_name": "Python 3",
   "language": "python",
   "name": "python3"
  },
  "language_info": {
   "codemirror_mode": {
    "name": "ipython",
    "version": 3
   },
   "file_extension": ".py",
   "mimetype": "text/x-python",
   "name": "python",
   "nbconvert_exporter": "python",
   "pygments_lexer": "ipython3",
   "version": "3.8.5"
  },
  "widgets": {
   "application/vnd.jupyter.widget-state+json": {
    "state": {
     "7df3acf60654452e83307e1c2c9e99ae": {
      "model_module": "mitosheet",
      "model_module_version": "^0.1.98",
      "model_name": "ExampleModel",
      "state": {
       "_model_module_version": "^0.1.98",
       "_view_module_version": "^0.1.98",
       "analysis_name": "UUID-0ac3c614-a995-4b4a-9395-e8458fd9a1c2",
       "code_json": "{\"imports\": \"from mitosheet import *\", \"code\": []}",
       "column_filters_json": "[]",
       "column_spreadsheet_code_json": "[]",
       "column_type_json": "[]",
       "df_names_json": "{\"df_names\": []}",
       "df_shape_json": "[]",
       "has_rendered": true,
       "is_local_deployment": true,
       "layout": "IPY_MODEL_db5adf8ba76f4f7d9dd911b8b0405f19",
       "saved_analysis_names_json": "[\"111\", \"1111\", \"28\", \"Testing\", \"_3arkvynuo\", \"_419wxryas\", \"_49hlkjtgp\", \"_88amfqk2f\", \"_8b9x4aa2m\", \"_cb27694sr\", \"_gs9b8mudg\", \"_hexaujrz3\", \"_jtip39qtx\", \"_k4ce9w8om\", \"_ktv9i6xtb\", \"_nauipuq8o\", \"_ojtvedr82\", \"_rqyqe9rfu\", \"_yd64b4y4m\", \"test\", \"to_test\"]",
       "sheet_json": "[]",
       "tutorial_mode": false,
       "user_id": "nate",
       "value": "Hello World"
      }
     },
     "db5adf8ba76f4f7d9dd911b8b0405f19": {
      "model_module": "@jupyter-widgets/base",
      "model_module_version": "1.2.0",
      "model_name": "LayoutModel",
      "state": {}
     }
    },
    "version_major": 2,
    "version_minor": 0
   }
  }
 },
 "nbformat": 4,
 "nbformat_minor": 4
}
