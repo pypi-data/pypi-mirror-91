{
 "cells": [
  {
   "cell_type": "code",
   "execution_count": 1,
   "metadata": {},
   "outputs": [
    {
     "data": {
      "application/vnd.jupyter.widget-view+json": {
       "model_id": "aee7375a91c7403bbcc351175aee38ea",
       "version_major": 2,
       "version_minor": 0
      },
      "text/plain": [
       "MitoWidget(analysis_name='UUID-12fa0319-67d5-462d-b389-97b75cdf6b54', code_json='{\"imports\": \"from mitosheet i…"
      ]
     },
     "metadata": {},
     "output_type": "display_data"
    }
   ],
   "source": [
    "import mitosheet\n",
    "mitosheet.sheet()"
   ]
  },
  {
   "cell_type": "code",
   "execution_count": null,
   "metadata": {},
   "outputs": [],
   "source": [
    "# MITO CODE START (DO NOT EDIT)\n",
    "# SAVED-ANALYSIS-STARTUUID-12fa0319-67d5-462d-b389-97b75cdf6b54SAVED-ANALYSIS-END\n",
    "\n",
    "from mitosheet import *\n",
    "\n",
    "# Step 1\n",
    "\n",
    "import pandas as pd\n",
    "\n",
    "df2_csv = pd.read_csv('df2.csv')\n",
    "\n",
    "# Step 2\n",
    "\n",
    "df2_csv.rename(columns={\"B\": \"B123\"}, inplace=True)\n",
    "  \n",
    "# MITO CODE END (DO NOT EDIT)"
   ]
  },
  {
   "cell_type": "code",
   "execution_count": null,
   "metadata": {},
   "outputs": [],
   "source": []
  }
 ],
 "metadata": {
  "kernelspec": {
   "display_name": "Python 3",
   "language": "python",
   "name": "python3"
  },
  "language_info": {
   "codemirror_mode": {
    "name": "ipython",
    "version": 3
   },
   "file_extension": ".py",
   "mimetype": "text/x-python",
   "name": "python",
   "nbconvert_exporter": "python",
   "pygments_lexer": "ipython3",
   "version": "3.8.5"
  },
  "widgets": {
   "application/vnd.jupyter.widget-state+json": {
    "state": {
     "137bc83b26664b8e95ca4ebf940d3002": {
      "model_module": "@jupyter-widgets/base",
      "model_module_version": "1.2.0",
      "model_name": "LayoutModel",
      "state": {}
     },
     "211e21edf70245878eade7f238b323e8": {
      "model_module": "mitosheet",
      "model_module_version": "^0.1.92",
      "model_name": "ExampleModel",
      "state": {
       "_model_module_version": "^0.1.92",
       "_view_module_version": "^0.1.92",
       "analysis_name": "UUID-7f8d94ec-2fc7-4138-80b0-ff84f486042b",
       "code_json": "{\"imports\": \"from mitosheet import *\", \"code\": [\"# Step 1\", \"df1 = df1[(df1['A'].str.contains('1', na=False)) | (df1['A'].str.contains('3', na=False))]\", \"df1 = df1.reset_index(drop=True)\"]}",
       "column_filters_json": "[{\"A\": {\"operator\": \"Or\", \"filters\": [{\"type\": \"string\", \"condition\": \"contains\", \"value\": \"1\"}, {\"type\": \"string\", \"condition\": \"contains\", \"value\": \"3\"}]}, \"B\": {\"operator\": \"And\", \"filters\": []}, \"C\": {\"operator\": \"And\", \"filters\": []}}]",
       "column_spreadsheet_code_json": "[{\"A\": \"\", \"B\": \"\", \"C\": \"\"}]",
       "column_type_json": "[{\"A\": \"string\", \"B\": \"number\", \"C\": \"string\"}]",
       "df_names_json": "{\"df_names\": [\"df1\"]}",
       "df_shape_json": "[{\"rows\": 3, \"cols\": 3}]",
       "has_rendered": true,
       "is_local_deployment": true,
       "layout": "IPY_MODEL_fa598ec8fab34fe88d778ee234c93136",
       "saved_analysis_names_json": "[\"111\", \"1111\", \"28\", \"29\", \"Dork\", \"Sample\", \"Testing\", \"_3arkvynuo\", \"_419wxryas\", \"_461fd87s7\", \"_49hlkjtgp\", \"_7atqow0oj\", \"_88amfqk2f\", \"_8b9x4aa2m\", \"_cb27694sr\", \"_efldontof\", \"_gs9b8mudg\", \"_hexaujrz3\", \"_iu8qft83p\", \"_jqu6ydgq6\", \"_jtip39qtx\", \"_k4ce9w8om\", \"_ktv9i6xtb\", \"_nauipuq8o\", \"_nq5ctxt9m\", \"_obi4mo3a2\", \"_ojtvedr82\", \"_rqyqe9rfu\", \"_uzyu8vo18\", \"_yd64b4y4m\", \"aaa\", \"new\", \"test\"]",
       "sheet_json": "[{\"columns\": [\"A\", \"B\", \"C\"], \"index\": [0, 1, 2], \"data\": [[\"123\", 123, 123], [\"1\", 1, \"1\"], [\"3\", 3, \"3\"]]}]",
       "tutorial_mode": false,
       "user_id": "nate",
       "value": "Hello World"
      }
     },
     "28941a9f96b54a09a40f5d1f0220166f": {
      "model_module": "mitosheet",
      "model_module_version": "^0.1.92",
      "model_name": "ExampleModel",
      "state": {
       "_model_module_version": "^0.1.92",
       "_view_module_version": "^0.1.92",
       "analysis_name": "UUID-483699e2-f7e7-4c58-b5af-6040cd4a6169",
       "code_json": "{\"imports\": \"from mitosheet import *\", \"code\": [\"# Step 1\", \"df1 = df1[df1.C.notnull()]\", \"df1 = df1.reset_index(drop=True)\"]}",
       "column_filters_json": "[{\"A\": {\"operator\": \"And\", \"filters\": []}, \"B\": {\"operator\": \"And\", \"filters\": []}, \"C\": {\"operator\": \"And\", \"filters\": [{\"type\": \"string\", \"condition\": \"not_empty\", \"value\": 0}]}}]",
       "column_spreadsheet_code_json": "[{\"A\": \"\", \"B\": \"\", \"C\": \"\"}]",
       "column_type_json": "[{\"A\": \"string\", \"B\": \"number\", \"C\": \"string\"}]",
       "df_names_json": "{\"df_names\": [\"df1\"]}",
       "df_shape_json": "[{\"rows\": 11, \"cols\": 3}]",
       "has_rendered": true,
       "is_local_deployment": true,
       "layout": "IPY_MODEL_48b786ab3aea4ebc8217b0f4a9830d70",
       "saved_analysis_names_json": "[\"111\", \"1111\", \"28\", \"29\", \"Dork\", \"Sample\", \"Testing\", \"_3arkvynuo\", \"_419wxryas\", \"_461fd87s7\", \"_49hlkjtgp\", \"_7atqow0oj\", \"_88amfqk2f\", \"_8b9x4aa2m\", \"_cb27694sr\", \"_efldontof\", \"_gs9b8mudg\", \"_hexaujrz3\", \"_iu8qft83p\", \"_jqu6ydgq6\", \"_jtip39qtx\", \"_k4ce9w8om\", \"_ktv9i6xtb\", \"_nauipuq8o\", \"_nq5ctxt9m\", \"_obi4mo3a2\", \"_ojtvedr82\", \"_rqyqe9rfu\", \"_uzyu8vo18\", \"_yd64b4y4m\", \"aaa\", \"new\", \"test\"]",
       "sheet_json": "[{\"columns\": [\"A\", \"B\", \"C\"], \"index\": [0, 1, 2, 3, 4, 5, 6, 7, 8, 9, 10], \"data\": [[\"123\", 123, 123], [\"1\", 1, \"1\"], [\"2\", 2, \"2\"], [\"3\", 3, \"3\"], [\"4\", 4, 4], [\"5\", 5, 5], [\"5\", 5, 5], [\"6\", 6, 6], [\"7\", 7, 7], [\"8\", 8, 8], [\"9\", 9, 9]]}]",
       "tutorial_mode": false,
       "user_id": "nate",
       "value": "Hello World"
      }
     },
     "2fb3c44ab2c54354902e60266276c9c2": {
      "model_module": "@jupyter-widgets/base",
      "model_module_version": "1.2.0",
      "model_name": "LayoutModel",
      "state": {}
     },
     "30697b9d9b434134be21728877a0a5a7": {
      "model_module": "mitosheet",
      "model_module_version": "^0.1.92",
      "model_name": "ExampleModel",
      "state": {
       "_model_module_version": "^0.1.92",
       "_view_module_version": "^0.1.92",
       "analysis_name": "UUID-d43745da-1edf-4646-bd21-4df52a4f368d",
       "code_json": "{\"imports\": \"from mitosheet import *\", \"code\": [\"# Step 1\", \"df1 = df1[df1.B.notnull()]\", \"df1 = df1.reset_index(drop=True)\"]}",
       "column_filters_json": "[{\"A\": {\"operator\": \"And\", \"filters\": []}, \"B\": {\"operator\": \"And\", \"filters\": [{\"type\": \"number\", \"condition\": \"not_empty\", \"value\": 0}]}, \"C\": {\"operator\": \"And\", \"filters\": []}}]",
       "column_spreadsheet_code_json": "[{\"A\": \"\", \"B\": \"\", \"C\": \"\"}]",
       "column_type_json": "[{\"A\": \"string\", \"B\": \"number\", \"C\": \"string\"}]",
       "df_names_json": "{\"df_names\": [\"df1\"]}",
       "df_shape_json": "[{\"rows\": 11, \"cols\": 3}]",
       "has_rendered": true,
       "is_local_deployment": true,
       "layout": "IPY_MODEL_e67d3d798608495bbf98890b0fdf2493",
       "saved_analysis_names_json": "[\"111\", \"1111\", \"28\", \"29\", \"Dork\", \"Sample\", \"Testing\", \"_3arkvynuo\", \"_419wxryas\", \"_461fd87s7\", \"_49hlkjtgp\", \"_7atqow0oj\", \"_88amfqk2f\", \"_8b9x4aa2m\", \"_cb27694sr\", \"_efldontof\", \"_gs9b8mudg\", \"_hexaujrz3\", \"_iu8qft83p\", \"_jqu6ydgq6\", \"_jtip39qtx\", \"_k4ce9w8om\", \"_ktv9i6xtb\", \"_nauipuq8o\", \"_nq5ctxt9m\", \"_obi4mo3a2\", \"_ojtvedr82\", \"_rqyqe9rfu\", \"_uzyu8vo18\", \"_yd64b4y4m\", \"aaa\", \"new\", \"test\"]",
       "sheet_json": "[{\"columns\": [\"A\", \"B\", \"C\"], \"index\": [0, 1, 2, 3, 4, 5, 6, 7, 8, 9, 10], \"data\": [[\"123\", 123, 123], [\"1\", 1, \"1\"], [\"2\", 2, \"2\"], [\"3\", 3, \"3\"], [\"4\", 4, 4], [\"5\", 5, 5], [\"5\", 5, 5], [\"6\", 6, 6], [\"7\", 7, 7], [\"8\", 8, 8], [\"9\", 9, 9]]}]",
       "tutorial_mode": false,
       "user_id": "nate",
       "value": "Hello World"
      }
     },
     "345db1dab96a4114b55439253b435cc4": {
      "model_module": "mitosheet",
      "model_module_version": "^0.1.92",
      "model_name": "ExampleModel",
      "state": {
       "_model_module_version": "^0.1.92",
       "_view_module_version": "^0.1.92",
       "analysis_name": "UUID-4e87b43b-5b6f-4f56-964d-29042a8b5968",
       "code_json": "{\"imports\": \"from mitosheet import *\", \"code\": [\"# Step 1\", \"df1.rename(columns={\\\"id\\\": \\\"h_a\\\"}, inplace=True)\"]}",
       "column_filters_json": "[{\"values\": {\"operator\": \"And\", \"filters\": []}, \"h_a\": {\"operator\": \"And\", \"filters\": []}}, {\"id\": {\"operator\": \"And\", \"filters\": []}, \"values\": {\"operator\": \"And\", \"filters\": []}}]",
       "column_spreadsheet_code_json": "[{\"values\": \"\", \"h_a\": \"\"}, {\"id\": \"\", \"values\": \"\"}]",
       "column_type_json": "[{\"values\": \"number\", \"h_a\": \"number\"}, {\"id\": \"number\", \"values\": \"number\"}]",
       "df_names_json": "{\"df_names\": [\"df1\", \"df2\"]}",
       "df_shape_json": "[{\"rows\": 3, \"cols\": 2}, {\"rows\": 3, \"cols\": 2}]",
       "has_rendered": true,
       "is_local_deployment": true,
       "layout": "IPY_MODEL_b0a48ab91dc44c818714ef6a5b774a1d",
       "saved_analysis_names_json": "[\"111\", \"1111\", \"28\", \"29\", \"Dork\", \"Sample\", \"Testing\", \"_3arkvynuo\", \"_419wxryas\", \"_461fd87s7\", \"_49hlkjtgp\", \"_7atqow0oj\", \"_88amfqk2f\", \"_8b9x4aa2m\", \"_cb27694sr\", \"_efldontof\", \"_gs9b8mudg\", \"_hexaujrz3\", \"_iu8qft83p\", \"_jqu6ydgq6\", \"_jtip39qtx\", \"_k4ce9w8om\", \"_ktv9i6xtb\", \"_nauipuq8o\", \"_nq5ctxt9m\", \"_obi4mo3a2\", \"_ojtvedr82\", \"_rqyqe9rfu\", \"_uzyu8vo18\", \"_yd64b4y4m\", \"aaa\", \"new\", \"test\"]",
       "sheet_json": "[{\"columns\": [\"h_a\", \"values\"], \"index\": [0, 1, 2], \"data\": [[1, 101], [2, 102], [3, 103]]}, {\"columns\": [\"id\", \"values\"], \"index\": [0, 1, 2], \"data\": [[1, 201], [2, 202], [3, 203]]}]",
       "tutorial_mode": false,
       "user_id": "nate",
       "value": "Hello World"
      }
     },
     "3dab875636f84bf38f7b80fef5d31384": {
      "model_module": "mitosheet",
      "model_module_version": "^0.1.92",
      "model_name": "ExampleModel",
      "state": {
       "_model_module_version": "^0.1.92",
       "_view_module_version": "^0.1.92",
       "analysis_name": "UUID-5b121a94-0173-4b10-aa8a-70e4e4823eeb",
       "code_json": "{\"imports\": \"from mitosheet import *\", \"code\": [\"# Step 1\", \"df1.rename(columns={\\\"id\\\": \\\"h_a\\\"}, inplace=True)\"]}",
       "column_filters_json": "[{\"values\": {\"operator\": \"And\", \"filters\": []}, \"h_a\": {\"operator\": \"And\", \"filters\": []}}, {\"id\": {\"operator\": \"And\", \"filters\": []}, \"values\": {\"operator\": \"And\", \"filters\": []}}]",
       "column_spreadsheet_code_json": "[{\"values\": \"\", \"h_a\": \"\"}, {\"id\": \"\", \"values\": \"\"}]",
       "column_type_json": "[{\"values\": \"number\", \"h_a\": \"number\"}, {\"id\": \"number\", \"values\": \"number\"}]",
       "df_names_json": "{\"df_names\": [\"df1\", \"df2\"]}",
       "df_shape_json": "[{\"rows\": 3, \"cols\": 2}, {\"rows\": 3, \"cols\": 2}]",
       "has_rendered": true,
       "is_local_deployment": true,
       "layout": "IPY_MODEL_781254f10655448b85b02b4117e49fb3",
       "saved_analysis_names_json": "[\"111\", \"1111\", \"28\", \"29\", \"Dork\", \"Sample\", \"Testing\", \"_3arkvynuo\", \"_419wxryas\", \"_461fd87s7\", \"_49hlkjtgp\", \"_7atqow0oj\", \"_88amfqk2f\", \"_8b9x4aa2m\", \"_cb27694sr\", \"_efldontof\", \"_gs9b8mudg\", \"_hexaujrz3\", \"_iu8qft83p\", \"_jqu6ydgq6\", \"_jtip39qtx\", \"_k4ce9w8om\", \"_ktv9i6xtb\", \"_nauipuq8o\", \"_nq5ctxt9m\", \"_obi4mo3a2\", \"_ojtvedr82\", \"_rqyqe9rfu\", \"_uzyu8vo18\", \"_yd64b4y4m\", \"aaa\", \"new\", \"test\"]",
       "sheet_json": "[{\"columns\": [\"h_a\", \"values\"], \"index\": [0, 1, 2], \"data\": [[1, 101], [2, 102], [3, 103]]}, {\"columns\": [\"id\", \"values\"], \"index\": [0, 1, 2], \"data\": [[1, 201], [2, 202], [3, 203]]}]",
       "tutorial_mode": false,
       "user_id": "nate",
       "value": "Hello World"
      }
     },
     "3f0170463cfb45dea905ea49041acc50": {
      "model_module": "mitosheet",
      "model_module_version": "^0.1.92",
      "model_name": "ExampleModel",
      "state": {
       "_model_module_version": "^0.1.92",
       "_view_module_version": "^0.1.92",
       "analysis_name": "UUID-a602abd7-621e-4024-9b13-f9a93435b3a0",
       "code_json": "{\"imports\": \"from mitosheet import *\", \"code\": [\"# Step 1\", \"df1 = df1[df1.A.notnull()]\", \"df1 = df1.reset_index(drop=True)\"]}",
       "column_filters_json": "[{\"A\": {\"operator\": \"And\", \"filters\": [{\"type\": \"string\", \"condition\": \"not_empty\", \"value\": 0}]}, \"B\": {\"operator\": \"And\", \"filters\": []}, \"C\": {\"operator\": \"And\", \"filters\": []}}]",
       "column_spreadsheet_code_json": "[{\"A\": \"\", \"B\": \"\", \"C\": \"\"}]",
       "column_type_json": "[{\"A\": \"string\", \"B\": \"number\", \"C\": \"string\"}]",
       "df_names_json": "{\"df_names\": [\"df1\"]}",
       "df_shape_json": "[{\"rows\": 11, \"cols\": 3}]",
       "has_rendered": true,
       "is_local_deployment": true,
       "layout": "IPY_MODEL_95aca505437f43609fbed382bef49a04",
       "saved_analysis_names_json": "[\"111\", \"1111\", \"28\", \"29\", \"Dork\", \"Sample\", \"Testing\", \"_3arkvynuo\", \"_419wxryas\", \"_461fd87s7\", \"_49hlkjtgp\", \"_7atqow0oj\", \"_88amfqk2f\", \"_8b9x4aa2m\", \"_cb27694sr\", \"_efldontof\", \"_gs9b8mudg\", \"_hexaujrz3\", \"_iu8qft83p\", \"_jqu6ydgq6\", \"_jtip39qtx\", \"_k4ce9w8om\", \"_ktv9i6xtb\", \"_nauipuq8o\", \"_nq5ctxt9m\", \"_obi4mo3a2\", \"_ojtvedr82\", \"_rqyqe9rfu\", \"_uzyu8vo18\", \"_yd64b4y4m\", \"aaa\", \"new\", \"test\"]",
       "sheet_json": "[{\"columns\": [\"A\", \"B\", \"C\"], \"index\": [0, 1, 2, 3, 4, 5, 6, 7, 8, 9, 10], \"data\": [[\"123\", 123, 123], [\"1\", 1, \"1\"], [\"2\", 2, \"2\"], [\"3\", 3, \"3\"], [\"4\", 4, 4], [\"5\", 5, 5], [\"5\", 5, 5], [\"6\", 6, 6], [\"7\", 7, 7], [\"8\", 8, 8], [\"9\", 9, 9]]}]",
       "tutorial_mode": false,
       "user_id": "nate",
       "value": "Hello World"
      }
     },
     "48b786ab3aea4ebc8217b0f4a9830d70": {
      "model_module": "@jupyter-widgets/base",
      "model_module_version": "1.2.0",
      "model_name": "LayoutModel",
      "state": {}
     },
     "58dcb8a0bb2d484c8fbb3f61987d8cfc": {
      "model_module": "@jupyter-widgets/base",
      "model_module_version": "1.2.0",
      "model_name": "LayoutModel",
      "state": {}
     },
     "5d5eb97be1684a89ba91befd54558be5": {
      "model_module": "mitosheet",
      "model_module_version": "^0.1.92",
      "model_name": "ExampleModel",
      "state": {
       "_model_module_version": "^0.1.92",
       "_view_module_version": "^0.1.92",
       "analysis_name": "UUID-a20cc495-49b9-4e03-b1b0-d60a46daf2eb",
       "code_json": "{\"imports\": \"from mitosheet import *\", \"code\": []}",
       "column_filters_json": "[{\"id\": {\"operator\": \"And\", \"filters\": []}, \"values\": {\"operator\": \"And\", \"filters\": []}}]",
       "column_spreadsheet_code_json": "[{\"id\": \"\", \"values\": \"\"}]",
       "column_type_json": "[{\"id\": \"number\", \"values\": \"number\"}]",
       "df_names_json": "{\"df_names\": [\"df1\"]}",
       "df_shape_json": "[{\"rows\": 3, \"cols\": 2}]",
       "has_rendered": true,
       "is_local_deployment": true,
       "layout": "IPY_MODEL_2fb3c44ab2c54354902e60266276c9c2",
       "saved_analysis_names_json": "[\"111\", \"1111\", \"28\", \"29\", \"Dork\", \"Sample\", \"Testing\", \"_3arkvynuo\", \"_419wxryas\", \"_461fd87s7\", \"_49hlkjtgp\", \"_7atqow0oj\", \"_88amfqk2f\", \"_8b9x4aa2m\", \"_cb27694sr\", \"_efldontof\", \"_gs9b8mudg\", \"_hexaujrz3\", \"_iu8qft83p\", \"_jqu6ydgq6\", \"_jtip39qtx\", \"_k4ce9w8om\", \"_ktv9i6xtb\", \"_nauipuq8o\", \"_nq5ctxt9m\", \"_obi4mo3a2\", \"_ojtvedr82\", \"_rqyqe9rfu\", \"_uzyu8vo18\", \"_yd64b4y4m\", \"aaa\", \"new\", \"test\"]",
       "sheet_json": "[{\"columns\": [\"id\", \"values\"], \"index\": [0, 1, 2], \"data\": [[1, 101], [2, 102], [3, 103]]}]",
       "tutorial_mode": false,
       "user_id": "nate",
       "value": "Hello World"
      }
     },
     "6187148888ac4a43b4436ec4dc34b5b3": {
      "model_module": "mitosheet",
      "model_module_version": "^0.1.92",
      "model_name": "ExampleModel",
      "state": {
       "_model_module_version": "^0.1.92",
       "_view_module_version": "^0.1.92",
       "analysis_name": "UUID-03971be0-d4d4-48ee-920c-7579e4d24725",
       "code_json": "{\"imports\": \"from mitosheet import *\", \"code\": [\"# Step 1\", \"df1 = df1[(df1['A'].str.contains('1', na=False)) | (df1['A'].str.contains('4', na=False))]\", \"df1 = df1.reset_index(drop=True)\"]}",
       "column_filters_json": "[{\"A\": {\"operator\": \"Or\", \"filters\": [{\"type\": \"string\", \"condition\": \"contains\", \"value\": \"1\"}, {\"type\": \"string\", \"condition\": \"contains\", \"value\": \"4\"}]}, \"B\": {\"operator\": \"And\", \"filters\": []}, \"C\": {\"operator\": \"And\", \"filters\": []}}]",
       "column_spreadsheet_code_json": "[{\"A\": \"\", \"B\": \"\", \"C\": \"\"}]",
       "column_type_json": "[{\"A\": \"string\", \"B\": \"number\", \"C\": \"string\"}]",
       "df_names_json": "{\"df_names\": [\"df1\"]}",
       "df_shape_json": "[{\"rows\": 3, \"cols\": 3}]",
       "has_rendered": true,
       "is_local_deployment": true,
       "layout": "IPY_MODEL_dac18090bafc4f859dcc6dcf99766845",
       "saved_analysis_names_json": "[\"111\", \"1111\", \"28\", \"29\", \"Dork\", \"Sample\", \"Testing\", \"_3arkvynuo\", \"_419wxryas\", \"_461fd87s7\", \"_49hlkjtgp\", \"_7atqow0oj\", \"_88amfqk2f\", \"_8b9x4aa2m\", \"_cb27694sr\", \"_efldontof\", \"_gs9b8mudg\", \"_hexaujrz3\", \"_iu8qft83p\", \"_jqu6ydgq6\", \"_jtip39qtx\", \"_k4ce9w8om\", \"_ktv9i6xtb\", \"_nauipuq8o\", \"_nq5ctxt9m\", \"_obi4mo3a2\", \"_ojtvedr82\", \"_rqyqe9rfu\", \"_uzyu8vo18\", \"_yd64b4y4m\", \"aaa\", \"new\", \"test\"]",
       "sheet_json": "[{\"columns\": [\"A\", \"B\", \"C\"], \"index\": [0, 1, 2], \"data\": [[\"123\", 123, 123], [\"1\", 1, \"1\"], [\"4\", 4, 4]]}]",
       "tutorial_mode": false,
       "user_id": "nate",
       "value": "Hello World"
      }
     },
     "6fa04fa913c448eb95c8c5600d2b7cdf": {
      "model_module": "mitosheet",
      "model_module_version": "^0.1.92",
      "model_name": "ExampleModel",
      "state": {
       "_model_module_version": "^0.1.92",
       "_view_module_version": "^0.1.92",
       "analysis_name": "UUID-eece693d-0bf1-4fc1-8dff-5902485208a3",
       "code_json": "{\"imports\": \"from mitosheet import *\", \"code\": [\"# Step 1\", \"df1.rename(columns={\\\"id\\\": \\\"h_a\\\"}, inplace=True)\"]}",
       "column_filters_json": "[{\"values\": {\"operator\": \"And\", \"filters\": []}, \"h_a\": {\"operator\": \"And\", \"filters\": []}}]",
       "column_spreadsheet_code_json": "[{\"values\": \"\", \"h_a\": \"\"}]",
       "column_type_json": "[{\"values\": \"number\", \"h_a\": \"number\"}]",
       "df_names_json": "{\"df_names\": [\"df1\"]}",
       "df_shape_json": "[{\"rows\": 3, \"cols\": 2}]",
       "has_rendered": true,
       "is_local_deployment": true,
       "layout": "IPY_MODEL_bd2dfed2f18843949a34c16e65727aad",
       "saved_analysis_names_json": "[\"111\", \"1111\", \"28\", \"29\", \"Dork\", \"Sample\", \"Testing\", \"_3arkvynuo\", \"_419wxryas\", \"_461fd87s7\", \"_49hlkjtgp\", \"_7atqow0oj\", \"_88amfqk2f\", \"_8b9x4aa2m\", \"_cb27694sr\", \"_efldontof\", \"_gs9b8mudg\", \"_hexaujrz3\", \"_iu8qft83p\", \"_jqu6ydgq6\", \"_jtip39qtx\", \"_k4ce9w8om\", \"_ktv9i6xtb\", \"_nauipuq8o\", \"_nq5ctxt9m\", \"_obi4mo3a2\", \"_ojtvedr82\", \"_rqyqe9rfu\", \"_uzyu8vo18\", \"_yd64b4y4m\", \"aaa\", \"new\", \"test\"]",
       "sheet_json": "[{\"columns\": [\"h_a\", \"values\"], \"index\": [0, 1, 2], \"data\": [[1, 101], [2, 102], [3, 103]]}]",
       "tutorial_mode": false,
       "user_id": "nate",
       "value": "Hello World"
      }
     },
     "7217b3c234ef475f8aaaef8380afe486": {
      "model_module": "@jupyter-widgets/base",
      "model_module_version": "1.2.0",
      "model_name": "LayoutModel",
      "state": {}
     },
     "781254f10655448b85b02b4117e49fb3": {
      "model_module": "@jupyter-widgets/base",
      "model_module_version": "1.2.0",
      "model_name": "LayoutModel",
      "state": {}
     },
     "78293e5c3a0d4d3aa3a7b3879388f834": {
      "model_module": "@jupyter-widgets/base",
      "model_module_version": "1.2.0",
      "model_name": "LayoutModel",
      "state": {}
     },
     "7ba4f073c5db4f74ad0db2b16039d5c1": {
      "model_module": "mitosheet",
      "model_module_version": "^0.1.92",
      "model_name": "ExampleModel",
      "state": {
       "_model_module_version": "^0.1.92",
       "_view_module_version": "^0.1.92",
       "analysis_name": "UUID-b86f472b-679e-4d6f-b3d1-040d23dc4bb0",
       "code_json": "{\"imports\": \"from mitosheet import *\", \"code\": [\"# Step 1\", \"df1.rename(columns={\\\"id\\\": \\\"h_a\\\"}, inplace=True)\"]}",
       "column_filters_json": "[{\"values\": {\"operator\": \"And\", \"filters\": []}, \"h_a\": {\"operator\": \"And\", \"filters\": []}}]",
       "column_spreadsheet_code_json": "[{\"values\": \"\", \"h_a\": \"\"}]",
       "column_type_json": "[{\"values\": \"number\", \"h_a\": \"number\"}]",
       "df_names_json": "{\"df_names\": [\"df1\"]}",
       "df_shape_json": "[{\"rows\": 3, \"cols\": 2}]",
       "has_rendered": true,
       "is_local_deployment": true,
       "layout": "IPY_MODEL_c051a4f7f27d4e6a92176c5884f5ba78",
       "saved_analysis_names_json": "[\"111\", \"1111\", \"28\", \"29\", \"Dork\", \"Sample\", \"Testing\", \"_3arkvynuo\", \"_419wxryas\", \"_461fd87s7\", \"_49hlkjtgp\", \"_7atqow0oj\", \"_88amfqk2f\", \"_8b9x4aa2m\", \"_cb27694sr\", \"_efldontof\", \"_gs9b8mudg\", \"_hexaujrz3\", \"_iu8qft83p\", \"_jqu6ydgq6\", \"_jtip39qtx\", \"_k4ce9w8om\", \"_ktv9i6xtb\", \"_nauipuq8o\", \"_nq5ctxt9m\", \"_obi4mo3a2\", \"_ojtvedr82\", \"_rqyqe9rfu\", \"_uzyu8vo18\", \"_yd64b4y4m\", \"aaa\", \"new\", \"test\"]",
       "sheet_json": "[{\"columns\": [\"h_a\", \"values\"], \"index\": [0, 1, 2], \"data\": [[1, 101], [2, 102], [3, 103]]}]",
       "tutorial_mode": false,
       "user_id": "nate",
       "value": "Hello World"
      }
     },
     "95aca505437f43609fbed382bef49a04": {
      "model_module": "@jupyter-widgets/base",
      "model_module_version": "1.2.0",
      "model_name": "LayoutModel",
      "state": {}
     },
     "9608a11082a4439895829c6585586a15": {
      "model_module": "@jupyter-widgets/base",
      "model_module_version": "1.2.0",
      "model_name": "LayoutModel",
      "state": {}
     },
     "995a64a2c982475f96eeaa970549d291": {
      "model_module": "mitosheet",
      "model_module_version": "^0.1.92",
      "model_name": "ExampleModel",
      "state": {
       "_model_module_version": "^0.1.92",
       "_view_module_version": "^0.1.92",
       "analysis_name": "UUID-74f772af-1369-4452-b713-8a2583dba278",
       "code_json": "{\"imports\": \"from mitosheet import *\", \"code\": [\"# Step 1\", \"df1.rename(columns={\\\"id\\\": \\\"idh_a\\\"}, inplace=True)\"]}",
       "column_filters_json": "[{\"values\": {\"operator\": \"And\", \"filters\": []}, \"idh_a\": {\"operator\": \"And\", \"filters\": []}}]",
       "column_spreadsheet_code_json": "[{\"values\": \"\", \"idh_a\": \"\"}]",
       "column_type_json": "[{\"values\": \"number\", \"idh_a\": \"number\"}]",
       "df_names_json": "{\"df_names\": [\"df1\"]}",
       "df_shape_json": "[{\"rows\": 3, \"cols\": 2}]",
       "has_rendered": true,
       "is_local_deployment": true,
       "layout": "IPY_MODEL_9608a11082a4439895829c6585586a15",
       "saved_analysis_names_json": "[\"111\", \"1111\", \"28\", \"29\", \"Dork\", \"Sample\", \"Testing\", \"_3arkvynuo\", \"_419wxryas\", \"_461fd87s7\", \"_49hlkjtgp\", \"_7atqow0oj\", \"_88amfqk2f\", \"_8b9x4aa2m\", \"_cb27694sr\", \"_efldontof\", \"_gs9b8mudg\", \"_hexaujrz3\", \"_iu8qft83p\", \"_jqu6ydgq6\", \"_jtip39qtx\", \"_k4ce9w8om\", \"_ktv9i6xtb\", \"_nauipuq8o\", \"_nq5ctxt9m\", \"_obi4mo3a2\", \"_ojtvedr82\", \"_rqyqe9rfu\", \"_uzyu8vo18\", \"_yd64b4y4m\", \"aaa\", \"new\", \"test\"]",
       "sheet_json": "[{\"columns\": [\"idh_a\", \"values\"], \"index\": [0, 1, 2], \"data\": [[1, 101], [2, 102], [3, 103]]}]",
       "tutorial_mode": false,
       "user_id": "nate",
       "value": "Hello World"
      }
     },
     "ab10d7b685654450b0f764959b745457": {
      "model_module": "@jupyter-widgets/base",
      "model_module_version": "1.2.0",
      "model_name": "LayoutModel",
      "state": {}
     },
     "ad148efe58464b2d8e265c493bb55a05": {
      "model_module": "@jupyter-widgets/base",
      "model_module_version": "1.2.0",
      "model_name": "LayoutModel",
      "state": {}
     },
     "ad41dbf1ff054d8c9e33398cf38975dc": {
      "model_module": "mitosheet",
      "model_module_version": "^0.1.92",
      "model_name": "ExampleModel",
      "state": {
       "_model_module_version": "^0.1.92",
       "_view_module_version": "^0.1.92",
       "analysis_name": "UUID-63026ddd-d588-43aa-891e-68805ef6ca6c",
       "code_json": "{\"imports\": \"from mitosheet import *\", \"code\": [\"# Step 1 (rename headers to make them work with Mito)\", \"df1.rename(columns={\\\"What is your first name?\\\": \\\"What_is_your_first_name_\\\", \\\"What is your height?!\\\": \\\"What_is_your_height__\\\", \\\"Weight-Of-You\\\": \\\"Weight_Of_You\\\"}, inplace=True)\"]}",
       "column_filters_json": "[{\"What_is_your_first_name_\": {\"operator\": \"And\", \"filters\": []}, \"What_is_your_height__\": {\"operator\": \"And\", \"filters\": []}, \"Weight_Of_You\": {\"operator\": \"And\", \"filters\": []}}]",
       "column_spreadsheet_code_json": "[{\"What_is_your_first_name_\": \"\", \"What_is_your_height__\": \"\", \"Weight_Of_You\": \"\"}]",
       "column_type_json": "[{\"What_is_your_first_name_\": \"string\", \"What_is_your_height__\": \"number\", \"Weight_Of_You\": \"number\"}]",
       "df_names_json": "{\"df_names\": [\"df1\"]}",
       "df_shape_json": "[{\"rows\": 1, \"cols\": 3}]",
       "has_rendered": true,
       "is_local_deployment": true,
       "layout": "IPY_MODEL_ad148efe58464b2d8e265c493bb55a05",
       "saved_analysis_names_json": "[\"111\", \"1111\", \"28\", \"29\", \"Dork\", \"Sample\", \"Testing\", \"_3arkvynuo\", \"_419wxryas\", \"_461fd87s7\", \"_49hlkjtgp\", \"_7atqow0oj\", \"_88amfqk2f\", \"_8b9x4aa2m\", \"_cb27694sr\", \"_efldontof\", \"_gs9b8mudg\", \"_hexaujrz3\", \"_iu8qft83p\", \"_jqu6ydgq6\", \"_jtip39qtx\", \"_k4ce9w8om\", \"_ktv9i6xtb\", \"_nauipuq8o\", \"_nq5ctxt9m\", \"_obi4mo3a2\", \"_ojtvedr82\", \"_rqyqe9rfu\", \"_uzyu8vo18\", \"_yd64b4y4m\", \"aaa\", \"new\", \"test\"]",
       "sheet_json": "[{\"columns\": [\"What_is_your_first_name_\", \"What_is_your_height__\", \"Weight_Of_You\"], \"index\": [0], \"data\": [[\"Nate\", 4, 100]]}]",
       "tutorial_mode": false,
       "user_id": "nate",
       "value": "Hello World"
      }
     },
     "aee7375a91c7403bbcc351175aee38ea": {
      "model_module": "mitosheet",
      "model_module_version": "^0.1.92",
      "model_name": "ExampleModel",
      "state": {
       "_model_module_version": "^0.1.92",
       "_view_module_version": "^0.1.92",
       "analysis_name": "UUID-12fa0319-67d5-462d-b389-97b75cdf6b54",
       "code_json": "{\"imports\": \"from mitosheet import *\", \"code\": [\"# Step 1\", \"import pandas as pd\", \"df2_csv = pd.read_csv('df2.csv')\", \"# Step 2\", \"df2_csv.rename(columns={\\\"B\\\": \\\"B123\\\"}, inplace=True)\"]}",
       "column_filters_json": "[{\"A\": {\"operator\": \"And\", \"filters\": []}, \"B123\": {\"operator\": \"And\", \"filters\": []}}]",
       "column_spreadsheet_code_json": "[{\"A\": \"\", \"B123\": \"\"}]",
       "column_type_json": "[{\"A\": \"number\", \"B123\": \"number\"}]",
       "df_names_json": "{\"df_names\": [\"df2_csv\"]}",
       "df_shape_json": "[{\"rows\": 3, \"cols\": 2}]",
       "has_rendered": true,
       "is_local_deployment": true,
       "layout": "IPY_MODEL_58dcb8a0bb2d484c8fbb3f61987d8cfc",
       "saved_analysis_names_json": "[\"111\", \"1111\", \"28\", \"29\", \"Dork\", \"Sample\", \"Testing\", \"_3arkvynuo\", \"_419wxryas\", \"_461fd87s7\", \"_49hlkjtgp\", \"_7atqow0oj\", \"_88amfqk2f\", \"_8b9x4aa2m\", \"_cb27694sr\", \"_efldontof\", \"_gs9b8mudg\", \"_hexaujrz3\", \"_iu8qft83p\", \"_jqu6ydgq6\", \"_jtip39qtx\", \"_k4ce9w8om\", \"_ktv9i6xtb\", \"_nauipuq8o\", \"_nq5ctxt9m\", \"_obi4mo3a2\", \"_ojtvedr82\", \"_rqyqe9rfu\", \"_uzyu8vo18\", \"_yd64b4y4m\", \"aaa\", \"new\", \"test\"]",
       "sheet_json": "[{\"columns\": [\"A\", \"B123\"], \"index\": [0, 1, 2], \"data\": [[7, 10], [8, 11], [9, 12]]}]",
       "tutorial_mode": false,
       "user_id": "nate",
       "value": "Hello World"
      }
     },
     "b0a48ab91dc44c818714ef6a5b774a1d": {
      "model_module": "@jupyter-widgets/base",
      "model_module_version": "1.2.0",
      "model_name": "LayoutModel",
      "state": {}
     },
     "bd2dfed2f18843949a34c16e65727aad": {
      "model_module": "@jupyter-widgets/base",
      "model_module_version": "1.2.0",
      "model_name": "LayoutModel",
      "state": {}
     },
     "c051a4f7f27d4e6a92176c5884f5ba78": {
      "model_module": "@jupyter-widgets/base",
      "model_module_version": "1.2.0",
      "model_name": "LayoutModel",
      "state": {}
     },
     "c85fc50095c945328981e961f7ddb9e4": {
      "model_module": "mitosheet",
      "model_module_version": "^0.1.92",
      "model_name": "ExampleModel",
      "state": {
       "_model_module_version": "^0.1.92",
       "_view_module_version": "^0.1.92",
       "analysis_name": "UUID-b30a7ea5-6666-4f3e-8b45-828badcb552f",
       "code_json": "{\"imports\": \"from mitosheet import *\", \"code\": [\"# Step 1\", \"df1.rename(columns={\\\"id\\\": \\\"h_a\\\"}, inplace=True)\"]}",
       "column_filters_json": "[{\"values\": {\"operator\": \"And\", \"filters\": []}, \"h_a\": {\"operator\": \"And\", \"filters\": []}}]",
       "column_spreadsheet_code_json": "[{\"values\": \"\", \"h_a\": \"\"}]",
       "column_type_json": "[{\"values\": \"number\", \"h_a\": \"number\"}]",
       "df_names_json": "{\"df_names\": [\"df1\"]}",
       "df_shape_json": "[{\"rows\": 3, \"cols\": 2}]",
       "has_rendered": true,
       "is_local_deployment": true,
       "layout": "IPY_MODEL_137bc83b26664b8e95ca4ebf940d3002",
       "saved_analysis_names_json": "[\"111\", \"1111\", \"28\", \"29\", \"Dork\", \"Sample\", \"Testing\", \"_3arkvynuo\", \"_419wxryas\", \"_461fd87s7\", \"_49hlkjtgp\", \"_7atqow0oj\", \"_88amfqk2f\", \"_8b9x4aa2m\", \"_cb27694sr\", \"_efldontof\", \"_gs9b8mudg\", \"_hexaujrz3\", \"_iu8qft83p\", \"_jqu6ydgq6\", \"_jtip39qtx\", \"_k4ce9w8om\", \"_ktv9i6xtb\", \"_nauipuq8o\", \"_nq5ctxt9m\", \"_obi4mo3a2\", \"_ojtvedr82\", \"_rqyqe9rfu\", \"_uzyu8vo18\", \"_yd64b4y4m\", \"aaa\", \"new\", \"test\"]",
       "sheet_json": "[{\"columns\": [\"h_a\", \"values\"], \"index\": [0, 1, 2], \"data\": [[1, 101], [2, 102], [3, 103]]}]",
       "tutorial_mode": false,
       "user_id": "nate",
       "value": "Hello World"
      }
     },
     "d25b788d73284726875b56631e3c1eab": {
      "model_module": "mitosheet",
      "model_module_version": "^0.1.92",
      "model_name": "ExampleModel",
      "state": {
       "_model_module_version": "^0.1.92",
       "_view_module_version": "^0.1.92",
       "analysis_name": "UUID-7f359396-58ad-48c7-b885-08e23bfb9b02",
       "code_json": "{\"imports\": \"from mitosheet import *\", \"code\": [\"# Step 1\", \"df1 = df1[df1.Name.notnull()]\", \"df1 = df1.reset_index(drop=True)\"]}",
       "column_filters_json": "[{\"Name\": {\"operator\": \"And\", \"filters\": [{\"type\": \"string\", \"condition\": \"not_empty\", \"value\": 0}]}}]",
       "column_spreadsheet_code_json": "[{\"Name\": \"\"}]",
       "column_type_json": "[{\"Name\": \"string\"}]",
       "df_names_json": "{\"df_names\": [\"df1\"]}",
       "df_shape_json": "[{\"rows\": 2, \"cols\": 1}]",
       "has_rendered": true,
       "is_local_deployment": true,
       "layout": "IPY_MODEL_ab10d7b685654450b0f764959b745457",
       "saved_analysis_names_json": "[\"111\", \"1111\", \"28\", \"29\", \"Dork\", \"Sample\", \"Testing\", \"_3arkvynuo\", \"_419wxryas\", \"_461fd87s7\", \"_49hlkjtgp\", \"_7atqow0oj\", \"_88amfqk2f\", \"_8b9x4aa2m\", \"_cb27694sr\", \"_efldontof\", \"_gs9b8mudg\", \"_hexaujrz3\", \"_iu8qft83p\", \"_jqu6ydgq6\", \"_jtip39qtx\", \"_k4ce9w8om\", \"_ktv9i6xtb\", \"_nauipuq8o\", \"_nq5ctxt9m\", \"_obi4mo3a2\", \"_ojtvedr82\", \"_rqyqe9rfu\", \"_uzyu8vo18\", \"_yd64b4y4m\", \"aaa\", \"new\", \"test\"]",
       "sheet_json": "[{\"columns\": [\"Name\"], \"index\": [0, 1], \"data\": [[\"Nate\"], [\"Aaron\"]]}]",
       "tutorial_mode": false,
       "user_id": "nate",
       "value": "Hello World"
      }
     },
     "dac18090bafc4f859dcc6dcf99766845": {
      "model_module": "@jupyter-widgets/base",
      "model_module_version": "1.2.0",
      "model_name": "LayoutModel",
      "state": {}
     },
     "e67d3d798608495bbf98890b0fdf2493": {
      "model_module": "@jupyter-widgets/base",
      "model_module_version": "1.2.0",
      "model_name": "LayoutModel",
      "state": {}
     },
     "e69579703ae34b0f9a1afb9c60b72440": {
      "model_module": "mitosheet",
      "model_module_version": "^0.1.92",
      "model_name": "ExampleModel",
      "state": {
       "_model_module_version": "^0.1.92",
       "_view_module_version": "^0.1.92",
       "analysis_name": "UUID-74f229cf-1944-4451-9ba1-782bf9691073",
       "code_json": "{\"imports\": \"from mitosheet import *\", \"code\": []}",
       "column_filters_json": "[{\"A\": {\"operator\": \"And\", \"filters\": []}, \"B\": {\"operator\": \"And\", \"filters\": []}, \"C\": {\"operator\": \"And\", \"filters\": []}}]",
       "column_spreadsheet_code_json": "[{\"A\": \"\", \"B\": \"\", \"C\": \"\"}]",
       "column_type_json": "[{\"A\": \"string\", \"B\": \"number\", \"C\": \"string\"}]",
       "df_names_json": "{\"df_names\": [\"df1\"]}",
       "df_shape_json": "[{\"rows\": 11, \"cols\": 3}]",
       "has_rendered": true,
       "is_local_deployment": true,
       "layout": "IPY_MODEL_7217b3c234ef475f8aaaef8380afe486",
       "saved_analysis_names_json": "[\"111\", \"1111\", \"28\", \"29\", \"Dork\", \"Sample\", \"Testing\", \"_3arkvynuo\", \"_419wxryas\", \"_461fd87s7\", \"_49hlkjtgp\", \"_7atqow0oj\", \"_88amfqk2f\", \"_8b9x4aa2m\", \"_cb27694sr\", \"_efldontof\", \"_gs9b8mudg\", \"_hexaujrz3\", \"_iu8qft83p\", \"_jqu6ydgq6\", \"_jtip39qtx\", \"_k4ce9w8om\", \"_ktv9i6xtb\", \"_nauipuq8o\", \"_nq5ctxt9m\", \"_obi4mo3a2\", \"_ojtvedr82\", \"_rqyqe9rfu\", \"_uzyu8vo18\", \"_yd64b4y4m\", \"aaa\", \"new\", \"test\"]",
       "sheet_json": "[{\"columns\": [\"A\", \"B\", \"C\"], \"index\": [0, 1, 2, 3, 4, 5, 6, 7, 8, 9, 10], \"data\": [[\"123\", 123, 123], [\"1\", 1, \"1\"], [\"2\", 2, \"2\"], [\"3\", 3, \"3\"], [\"4\", 4, 4], [\"5\", 5, 5], [\"5\", 5, 5], [\"6\", 6, 6], [\"7\", 7, 7], [\"8\", 8, 8], [\"9\", 9, 9]]}]",
       "tutorial_mode": false,
       "user_id": "nate",
       "value": "Hello World"
      }
     },
     "eed94c3ef4ed4614afe01e05ecea3a6d": {
      "model_module": "mitosheet",
      "model_module_version": "^0.1.92",
      "model_name": "ExampleModel",
      "state": {
       "_model_module_version": "^0.1.92",
       "_view_module_version": "^0.1.92",
       "analysis_name": "UUID-bab5ab7c-fbf2-4a15-a5fd-99cf10a70db6",
       "code_json": "{\"imports\": \"from mitosheet import *\", \"code\": [\"# Step 1\", \"df1 = df1[(df1['B'] > 1) & (df1['B'] < 3)]\", \"df1 = df1.reset_index(drop=True)\"]}",
       "column_filters_json": "[{\"A\": {\"operator\": \"And\", \"filters\": []}, \"B\": {\"operator\": \"And\", \"filters\": [{\"type\": \"number\", \"condition\": \"greater\", \"value\": 1}, {\"type\": \"number\", \"condition\": \"less\", \"value\": 3}]}, \"C\": {\"operator\": \"And\", \"filters\": []}}]",
       "column_spreadsheet_code_json": "[{\"A\": \"\", \"B\": \"\", \"C\": \"\"}]",
       "column_type_json": "[{\"A\": \"string\", \"B\": \"number\", \"C\": \"string\"}]",
       "df_names_json": "{\"df_names\": [\"df1\"]}",
       "df_shape_json": "[{\"rows\": 1, \"cols\": 3}]",
       "has_rendered": true,
       "is_local_deployment": true,
       "layout": "IPY_MODEL_f2c4e66cab98418eb3948fcbd120fc94",
       "saved_analysis_names_json": "[\"111\", \"1111\", \"28\", \"29\", \"Dork\", \"Sample\", \"Testing\", \"_3arkvynuo\", \"_419wxryas\", \"_461fd87s7\", \"_49hlkjtgp\", \"_7atqow0oj\", \"_88amfqk2f\", \"_8b9x4aa2m\", \"_cb27694sr\", \"_efldontof\", \"_gs9b8mudg\", \"_hexaujrz3\", \"_iu8qft83p\", \"_jqu6ydgq6\", \"_jtip39qtx\", \"_k4ce9w8om\", \"_ktv9i6xtb\", \"_nauipuq8o\", \"_nq5ctxt9m\", \"_obi4mo3a2\", \"_ojtvedr82\", \"_rqyqe9rfu\", \"_uzyu8vo18\", \"_yd64b4y4m\", \"aaa\", \"new\", \"test\"]",
       "sheet_json": "[{\"columns\": [\"A\", \"B\", \"C\"], \"index\": [0], \"data\": [[\"2\", 2, \"2\"]]}]",
       "tutorial_mode": false,
       "user_id": "nate",
       "value": "Hello World"
      }
     },
     "f2c4e66cab98418eb3948fcbd120fc94": {
      "model_module": "@jupyter-widgets/base",
      "model_module_version": "1.2.0",
      "model_name": "LayoutModel",
      "state": {}
     },
     "f3b0bcbdcf3b46cd8fb109f80b3c4564": {
      "model_module": "mitosheet",
      "model_module_version": "^0.1.92",
      "model_name": "ExampleModel",
      "state": {
       "_model_module_version": "^0.1.92",
       "_view_module_version": "^0.1.92",
       "analysis_name": "UUID-15e8d6fb-4937-4195-86da-53f8309fb7f1",
       "code_json": "{\"imports\": \"from mitosheet import *\", \"code\": [\"# Step 1\", \"df1.rename(columns={\\\"id\\\": \\\"id123\\\"}, inplace=True)\"]}",
       "column_filters_json": "[{\"values\": {\"operator\": \"And\", \"filters\": []}, \"id123\": {\"operator\": \"And\", \"filters\": []}}, {\"id\": {\"operator\": \"And\", \"filters\": []}, \"values\": {\"operator\": \"And\", \"filters\": []}}]",
       "column_spreadsheet_code_json": "[{\"values\": \"\", \"id123\": \"\"}, {\"id\": \"\", \"values\": \"\"}]",
       "column_type_json": "[{\"values\": \"number\", \"id123\": \"number\"}, {\"id\": \"number\", \"values\": \"number\"}]",
       "df_names_json": "{\"df_names\": [\"df1\", \"df2\"]}",
       "df_shape_json": "[{\"rows\": 3, \"cols\": 2}, {\"rows\": 3, \"cols\": 2}]",
       "has_rendered": true,
       "is_local_deployment": true,
       "layout": "IPY_MODEL_78293e5c3a0d4d3aa3a7b3879388f834",
       "saved_analysis_names_json": "[\"111\", \"1111\", \"28\", \"29\", \"Dork\", \"Sample\", \"Testing\", \"_3arkvynuo\", \"_419wxryas\", \"_461fd87s7\", \"_49hlkjtgp\", \"_7atqow0oj\", \"_88amfqk2f\", \"_8b9x4aa2m\", \"_cb27694sr\", \"_efldontof\", \"_gs9b8mudg\", \"_hexaujrz3\", \"_iu8qft83p\", \"_jqu6ydgq6\", \"_jtip39qtx\", \"_k4ce9w8om\", \"_ktv9i6xtb\", \"_nauipuq8o\", \"_nq5ctxt9m\", \"_obi4mo3a2\", \"_ojtvedr82\", \"_rqyqe9rfu\", \"_uzyu8vo18\", \"_yd64b4y4m\", \"aaa\", \"new\", \"test\"]",
       "sheet_json": "[{\"columns\": [\"id123\", \"values\"], \"index\": [0, 1, 2], \"data\": [[1, 101], [2, 102], [3, 103]]}, {\"columns\": [\"id\", \"values\"], \"index\": [0, 1, 2], \"data\": [[1, 201], [2, 202], [3, 203]]}]",
       "tutorial_mode": false,
       "user_id": "nate",
       "value": "Hello World"
      }
     },
     "fa598ec8fab34fe88d778ee234c93136": {
      "model_module": "@jupyter-widgets/base",
      "model_module_version": "1.2.0",
      "model_name": "LayoutModel",
      "state": {}
     }
    },
    "version_major": 2,
    "version_minor": 0
   }
  }
 },
 "nbformat": 4,
 "nbformat_minor": 4
}
