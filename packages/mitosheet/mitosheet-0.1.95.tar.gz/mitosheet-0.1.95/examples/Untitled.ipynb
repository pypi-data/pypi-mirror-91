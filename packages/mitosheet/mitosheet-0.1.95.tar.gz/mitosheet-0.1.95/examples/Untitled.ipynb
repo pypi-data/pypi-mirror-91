{
 "cells": [
  {
   "cell_type": "code",
   "execution_count": 2,
   "metadata": {},
   "outputs": [
    {
     "data": {
      "application/vnd.jupyter.widget-view+json": {
       "model_id": "f74437b965714d0585f2799fac30eaa9",
       "version_major": 2,
       "version_minor": 0
      },
      "text/plain": [
       "MitoWidget(analysis_name='UUID-a8b49d6e-c223-47f7-b7d3-48e2a6f982c0', code_json='{\"imports\": \"from mitosheet i…"
      ]
     },
     "metadata": {},
     "output_type": "display_data"
    }
   ],
   "source": [
    "import mitosheet\n",
    "mitosheet.sheet()"
   ]
  },
  {
   "cell_type": "code",
   "execution_count": null,
   "metadata": {},
   "outputs": [],
   "source": [
    "# MITO CODE START (DO NOT EDIT)\n",
    "# SAVED-ANALYSIS-STARTUUID-a8b49d6e-c223-47f7-b7d3-48e2a6f982c0SAVED-ANALYSIS-END\n",
    "\n",
    "from mitosheet import *\n",
    "\n",
    "# Step 1\n",
    "\n",
    "import pandas as pd\n",
    "\n",
    "df2_csv = pd.read_csv('df2.csv')\n",
    "\n",
    "# Step 2\n",
    "\n",
    "this_is_a_test_for_a_new_namethis_is_a_test_for_a_new_namethis_is_a_test_for_a_new_namethis_is_a_test_for_a_new_namethis_is_a_test_for_a_new_namethis_is_a_test_for_a_new_name = df2_csv\n",
    "\n",
    "# Step 3\n",
    "\n",
    "del this_is_a_test_for_a_new_namethis_is_a_test_for_a_new_namethis_is_a_test_for_a_new_namethis_is_a_test_for_a_new_namethis_is_a_test_for_a_new_namethis_is_a_test_for_a_new_name\n",
    "\n",
    "# Step 4\n",
    "\n",
    "import pandas as pd\n",
    "\n",
    "df2_csv = pd.read_csv('df2.csv')\n",
    "\n",
    "# Step 5\n",
    "\n",
    "df2_csv_copy = df2_csv.copy(deep=True)\n",
    "\n",
    "# Step 6\n",
    "\n",
    "df2_csv_copy_1 = df2_csv_copy\n",
    "\n",
    "# Step 7\n",
    "\n",
    "df2_csv_copy = df2_csv_copy_1\n",
    "\n",
    "# Step 8\n",
    "\n",
    "df2_csv_copy_1 = df2_csv.copy(deep=True)\n",
    "\n",
    "# Step 9\n",
    "\n",
    "df2_csv_copy_2 = df2_csv.copy(deep=True)\n",
    "\n",
    "# Step 10\n",
    "\n",
    "df2_csv_copy_3 = df2_csv.copy(deep=True)\n",
    "\n",
    "# Step 11\n",
    "\n",
    "df2_csv_copy_4 = df2_csv.copy(deep=True)\n",
    "\n",
    "# Step 12\n",
    "\n",
    "df2_csv_copy_5 = df2_csv.copy(deep=True)\n",
    "\n",
    "# Step 13\n",
    "\n",
    "df2_csv_copy_6 = df2_csv.copy(deep=True)\n",
    "\n",
    "# Step 14\n",
    "\n",
    "df2_csv_copy_7 = df2_csv.copy(deep=True)\n",
    "\n",
    "# Step 15\n",
    "\n",
    "df2_csv_copy_8 = df2_csv.copy(deep=True)\n",
    "\n",
    "# Step 16\n",
    "\n",
    "del df2_csv\n",
    "\n",
    "# Step 17\n",
    "\n",
    "df2_csv_copy['C'] = df2_csv_copy['B']\n",
    "  \n",
    "# MITO CODE END (DO NOT EDIT)"
   ]
  },
  {
   "cell_type": "code",
   "execution_count": null,
   "metadata": {},
   "outputs": [],
   "source": []
  }
 ],
 "metadata": {
  "kernelspec": {
   "display_name": "Python 3",
   "language": "python",
   "name": "python3"
  },
  "language_info": {
   "codemirror_mode": {
    "name": "ipython",
    "version": 3
   },
   "file_extension": ".py",
   "mimetype": "text/x-python",
   "name": "python",
   "nbconvert_exporter": "python",
   "pygments_lexer": "ipython3",
   "version": "3.8.5"
  },
  "widgets": {
   "application/vnd.jupyter.widget-state+json": {
    "state": {},
    "version_major": 2,
    "version_minor": 0
   }
  }
 },
 "nbformat": 4,
 "nbformat_minor": 4
}
