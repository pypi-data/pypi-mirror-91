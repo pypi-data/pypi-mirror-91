{
 "cells": [
  {
   "cell_type": "code",
   "execution_count": 1,
   "metadata": {
    "tags": []
   },
   "outputs": [],
   "source": [
    "# autoreload\n",
    "%load_ext autoreload\n",
    "%autoreload 2"
   ]
  },
  {
   "cell_type": "code",
   "execution_count": 2,
   "metadata": {},
   "outputs": [],
   "source": [
    "import numpy as np\n",
    "import pandas as pd\n",
    "import matplotlib.pyplot as plt\n",
    "from tqdm import tqdm\n",
    "\n",
    "import lifelines\n",
    "import pycox\n",
    "import xgboost as xgb\n",
    "from sklearn.model_selection import train_test_split\n",
    "\n",
    "from xgbse import XGBSEKaplanNeighbors, XGBSEKaplanTree, XGBSEDebiasedBCE, XGBSEBootstrapEstimator\n",
    "from xgbse.converters import convert_data_to_xgb_format, convert_to_structured, convert_y\n",
    "from xgbse.non_parametric import get_time_bins\n",
    "\n",
    "from benchmark import BenchmarkLifelines, BenchmarkXGBoost, BenchmarkXGBSE, BenchmarkPysurvival\n",
    "from pysurvival.models.survival_forest import ConditionalSurvivalForestModel\n",
    "\n",
    "# setting seed\n",
    "np.random.seed(42)"
   ]
  },
  {
   "cell_type": "code",
   "execution_count": 3,
   "metadata": {},
   "outputs": [],
   "source": [
    "def split_train_test_valid(dataf, test_size=.2, valid_size=.01, random_state=1):\n",
    "    df_train, df_test = train_test_split(dataf, test_size=test_size, random_state=random_state)\n",
    "    df_train, df_valid = train_test_split(df_train, test_size=valid_size, random_state=random_state)\n",
    "    return df_train, df_valid,  df_test"
   ]
  },
  {
   "cell_type": "markdown",
   "metadata": {},
   "source": [
    "## Data"
   ]
  },
  {
   "cell_type": "code",
   "execution_count": 4,
   "metadata": {
    "tags": []
   },
   "outputs": [],
   "source": [
    "from pycox.datasets import metabric\n",
    "metabric_df = metabric.read_df()\n",
    "df_train, df_valid, df_test = split_train_test_valid(metabric_df)\n",
    "\n",
    "T_train = df_train.duration\n",
    "E_train = df_train.event\n",
    "TIME_BINS = time_bins = get_time_bins(T_train, E_train, size=30)"
   ]
  },
  {
   "cell_type": "markdown",
   "metadata": {},
   "source": [
    "## Model\n",
    "\n",
    "Let us fit a model and check performance."
   ]
  },
  {
   "cell_type": "code",
   "execution_count": 5,
   "metadata": {},
   "outputs": [],
   "source": [
    "results = pd.DataFrame()"
   ]
  },
  {
   "cell_type": "markdown",
   "metadata": {},
   "source": [
    "## Lifelines"
   ]
  },
  {
   "cell_type": "code",
   "execution_count": 6,
   "metadata": {},
   "outputs": [],
   "source": [
    "\n",
    "bench_lifelines = BenchmarkLifelines(lifelines.CoxPHFitter(),\n",
    "        df_train,\n",
    "        df_valid,\n",
    "        df_test,\n",
    "        \"event\",\n",
    "        \"duration\",\n",
    "        TIME_BINS,\n",
    "        \"Cox-PH\"\n",
    ")"
   ]
  },
  {
   "cell_type": "code",
   "execution_count": 7,
   "metadata": {},
   "outputs": [],
   "source": [
    "bench_lifelines.train()"
   ]
  },
  {
   "cell_type": "code",
   "execution_count": 8,
   "metadata": {},
   "outputs": [
    {
     "data": {
      "text/plain": [
       "{'model': 'Cox-PH',\n",
       " 'c-index': 0.6216153910637942,\n",
       " 'ibs': 0.15360476043227422,\n",
       " 'dcal_pval': 0.5666124375648811,\n",
       " 'dcal_max_dev': 0.025805768690018743,\n",
       " 'training_time': 0.21692919731140137,\n",
       " 'inference_time': 0.004318952560424805}"
      ]
     },
     "execution_count": 8,
     "metadata": {},
     "output_type": "execute_result"
    }
   ],
   "source": [
    "cox_lifelines_results = bench_lifelines.test()\n",
    "cox_lifelines_results"
   ]
  },
  {
   "cell_type": "code",
   "execution_count": 9,
   "metadata": {},
   "outputs": [],
   "source": [
    "results = results.append(cox_lifelines_results, ignore_index=True)"
   ]
  },
  {
   "cell_type": "code",
   "execution_count": 10,
   "metadata": {},
   "outputs": [],
   "source": [
    "bench_lifelines = BenchmarkLifelines(lifelines.WeibullAFTFitter(),\n",
    "        df_train.assign(duration = np.where(df_train.duration == 0, 1, df_train.duration)),\n",
    "        df_valid,\n",
    "        df_test,\n",
    "        \"event\",\n",
    "        \"duration\",\n",
    "        TIME_BINS,\n",
    "        \"Weibull AFT\"\n",
    ")"
   ]
  },
  {
   "cell_type": "code",
   "execution_count": 11,
   "metadata": {
    "tags": []
   },
   "outputs": [
    {
     "data": {
      "text/plain": [
       "{'model': 'Weibull AFT',\n",
       " 'c-index': 0.6221812389974013,\n",
       " 'ibs': 0.15412227274195567,\n",
       " 'dcal_pval': 0.666759786591344,\n",
       " 'dcal_max_dev': 0.024245639416549558,\n",
       " 'training_time': 0.3900749683380127,\n",
       " 'inference_time': 0.00800180435180664}"
      ]
     },
     "execution_count": 11,
     "metadata": {},
     "output_type": "execute_result"
    }
   ],
   "source": [
    "bench_lifelines.train()\n",
    "weibull_aft_results = bench_lifelines.test()\n",
    "weibull_aft_results"
   ]
  },
  {
   "cell_type": "code",
   "execution_count": 12,
   "metadata": {},
   "outputs": [],
   "source": [
    "results = results.append(weibull_aft_results, ignore_index=True)"
   ]
  },
  {
   "cell_type": "markdown",
   "metadata": {},
   "source": [
    "## XGBoost"
   ]
  },
  {
   "cell_type": "code",
   "execution_count": 13,
   "metadata": {},
   "outputs": [],
   "source": [
    "bench_xgboost = BenchmarkXGBoost(xgb,\n",
    "        df_train,\n",
    "        df_valid,\n",
    "        df_test,\n",
    "        \"event\",\n",
    "        \"duration\",\n",
    "        TIME_BINS,\n",
    "        \"XGB - AFT\",\n",
    "        \"survival:aft\",\n",
    ")"
   ]
  },
  {
   "cell_type": "code",
   "execution_count": 14,
   "metadata": {
    "tags": []
   },
   "outputs": [
    {
     "data": {
      "text/plain": [
       "{'model': 'XGB - AFT',\n",
       " 'c-index': 0.6101726884064046,\n",
       " 'ibs': nan,\n",
       " 'dcal_pval': nan,\n",
       " 'dcal_max_dev': nan,\n",
       " 'training_time': 0.02436208724975586,\n",
       " 'inference_time': 0.0007061958312988281}"
      ]
     },
     "execution_count": 14,
     "metadata": {},
     "output_type": "execute_result"
    }
   ],
   "source": [
    "bench_xgboost.train()\n",
    "xgboost_aft_results = bench_xgboost.test()\n",
    "xgboost_aft_results"
   ]
  },
  {
   "cell_type": "code",
   "execution_count": 15,
   "metadata": {},
   "outputs": [],
   "source": [
    "results = results.append(xgboost_aft_results, ignore_index=True)"
   ]
  },
  {
   "cell_type": "code",
   "execution_count": 16,
   "metadata": {},
   "outputs": [
    {
     "data": {
      "text/plain": [
       "{'model': 'XGB - Cox',\n",
       " 'c-index': 0.6192157766786822,\n",
       " 'ibs': nan,\n",
       " 'dcal_pval': nan,\n",
       " 'dcal_max_dev': nan,\n",
       " 'training_time': 0.022723913192749023,\n",
       " 'inference_time': 0.0006630420684814453}"
      ]
     },
     "execution_count": 16,
     "metadata": {},
     "output_type": "execute_result"
    }
   ],
   "source": [
    "bench_xgboost = BenchmarkXGBoost(xgb,\n",
    "        df_train,\n",
    "        df_valid,\n",
    "        df_test,\n",
    "        \"event\",\n",
    "        \"duration\",\n",
    "        TIME_BINS,\n",
    "        \"XGB - Cox\",\n",
    "        \"survival:cox\",\n",
    ")\n",
    "bench_xgboost.train()\n",
    "xgboost_cox_results = bench_xgboost.test()\n",
    "xgboost_cox_results"
   ]
  },
  {
   "cell_type": "code",
   "execution_count": 17,
   "metadata": {},
   "outputs": [],
   "source": [
    "results = results.append(xgboost_cox_results, ignore_index=True)"
   ]
  },
  {
   "cell_type": "markdown",
   "metadata": {},
   "source": [
    "## XGB SE"
   ]
  },
  {
   "cell_type": "code",
   "execution_count": 18,
   "metadata": {},
   "outputs": [
    {
     "data": {
      "text/plain": [
       "{'model': 'XGBSE - Debiased BCE',\n",
       " 'c-index': 0.6322198004862101,\n",
       " 'ibs': 0.1566039133167816,\n",
       " 'dcal_pval': 0.3811202061981239,\n",
       " 'dcal_max_dev': 0.03232402429331624,\n",
       " 'training_time': 14.198437929153442,\n",
       " 'inference_time': 0.36887192726135254}"
      ]
     },
     "execution_count": 18,
     "metadata": {},
     "output_type": "execute_result"
    }
   ],
   "source": [
    "bench_xgboost_embedding = BenchmarkXGBSE(XGBSEDebiasedBCE(),\n",
    "        df_train,\n",
    "        df_valid,\n",
    "        df_test,\n",
    "        \"event\",\n",
    "        \"duration\",\n",
    "        TIME_BINS,\n",
    "        \"XGBSE - Debiased BCE\",\n",
    "        \"survival:aft\",\n",
    ")\n",
    "bench_xgboost_embedding.train()\n",
    "xgboost_bce_results = bench_xgboost_embedding.test()\n",
    "xgboost_bce_results"
   ]
  },
  {
   "cell_type": "code",
   "execution_count": 19,
   "metadata": {},
   "outputs": [],
   "source": [
    "results = results.append(xgboost_bce_results, ignore_index=True)"
   ]
  },
  {
   "cell_type": "code",
   "execution_count": 20,
   "metadata": {},
   "outputs": [
    {
     "data": {
      "text/plain": [
       "{'model': 'XGBSE - Kaplan Neighbors',\n",
       " 'c-index': 0.6269595104367508,\n",
       " 'ibs': 0.15569091727108705,\n",
       " 'dcal_pval': 0.52481525977227,\n",
       " 'dcal_max_dev': 0.02351833078188803,\n",
       " 'training_time': 25.679295301437378,\n",
       " 'inference_time': 0.7914042472839355}"
      ]
     },
     "execution_count": 20,
     "metadata": {},
     "output_type": "execute_result"
    }
   ],
   "source": [
    "bench_xgboost_embedding = BenchmarkXGBSE(XGBSEKaplanNeighbors(),\n",
    "        df_train,\n",
    "        df_valid,\n",
    "        df_test,\n",
    "        \"event\",\n",
    "        \"duration\",\n",
    "        TIME_BINS,\n",
    "        \"XGBSE - Kaplan Neighbors\",\n",
    "        \"survival:aft\",\n",
    ")\n",
    "bench_xgboost_embedding.train()\n",
    "xgboost_kn_results = bench_xgboost_embedding.test()\n",
    "xgboost_kn_results"
   ]
  },
  {
   "cell_type": "code",
   "execution_count": 21,
   "metadata": {},
   "outputs": [],
   "source": [
    "results = results.append(xgboost_kn_results, ignore_index=True)"
   ]
  },
  {
   "cell_type": "code",
   "execution_count": 22,
   "metadata": {},
   "outputs": [
    {
     "data": {
      "text/plain": [
       "{'model': 'XGBSE - Kaplan Tree',\n",
       " 'c-index': 0.589791684131109,\n",
       " 'ibs': 0.16482640216664288,\n",
       " 'dcal_pval': 0.18030272928223431,\n",
       " 'dcal_max_dev': 0.03586345646948624,\n",
       " 'training_time': 0.1144261360168457,\n",
       " 'inference_time': 0.01436305046081543}"
      ]
     },
     "execution_count": 22,
     "metadata": {},
     "output_type": "execute_result"
    }
   ],
   "source": [
    "bench_xgboost_embedding = BenchmarkXGBSE(XGBSEKaplanTree(),\n",
    "        df_train,\n",
    "        df_valid,\n",
    "        df_test,\n",
    "        \"event\",\n",
    "        \"duration\",\n",
    "        TIME_BINS,\n",
    "        \"XGBSE - Kaplan Tree\",\n",
    "        \"survival:aft\",\n",
    ")\n",
    "bench_xgboost_embedding.train()\n",
    "xgboost_kt_results = bench_xgboost_embedding.test()\n",
    "xgboost_kt_results"
   ]
  },
  {
   "cell_type": "code",
   "execution_count": 23,
   "metadata": {
    "tags": []
   },
   "outputs": [],
   "source": [
    "results = results.append(xgboost_kt_results, ignore_index=True)"
   ]
  },
  {
   "cell_type": "code",
   "execution_count": 24,
   "metadata": {},
   "outputs": [
    {
     "data": {
      "text/plain": [
       "{'model': 'XGBSE - Bootstrap Trees',\n",
       " 'c-index': 0.6242769720848352,\n",
       " 'ibs': 0.1549380947038349,\n",
       " 'dcal_pval': 0.5634196757562135,\n",
       " 'dcal_max_dev': 0.023621561823879617,\n",
       " 'training_time': 11.956449031829834,\n",
       " 'inference_time': 0.4664280414581299}"
      ]
     },
     "execution_count": 24,
     "metadata": {},
     "output_type": "execute_result"
    }
   ],
   "source": [
    "base_tree = XGBSEKaplanTree()\n",
    "\n",
    "bench_xgboost_embedding = BenchmarkXGBSE(\n",
    "    XGBSEBootstrapEstimator(base_tree, n_estimators=100),\n",
    "        df_train,\n",
    "        df_valid,\n",
    "        df_test,\n",
    "        \"event\",\n",
    "        \"duration\",\n",
    "        TIME_BINS,\n",
    "        \"XGBSE - Bootstrap Trees\",\n",
    "        \"survival:aft\",\n",
    ")\n",
    "bench_xgboost_embedding.train()\n",
    "xgboost_bootstrap_results = bench_xgboost_embedding.test()\n",
    "xgboost_bootstrap_results"
   ]
  },
  {
   "cell_type": "code",
   "execution_count": 25,
   "metadata": {},
   "outputs": [],
   "source": [
    "results = results.append(xgboost_bootstrap_results, ignore_index=True)"
   ]
  },
  {
   "cell_type": "markdown",
   "metadata": {},
   "source": [
    "## Pysurvival"
   ]
  },
  {
   "cell_type": "code",
   "execution_count": 26,
   "metadata": {},
   "outputs": [
    {
     "data": {
      "text/plain": [
       "{'model': 'Conditional Survival Forest',\n",
       " 'c-index': 0.6233129348646157,\n",
       " 'ibs': 0.15248870955612373,\n",
       " 'dcal_pval': 0.28919180650906656,\n",
       " 'dcal_max_dev': 0.03175346126555047,\n",
       " 'training_time': 0.20072293281555176,\n",
       " 'inference_time': 31.874172925949097}"
      ]
     },
     "execution_count": 26,
     "metadata": {},
     "output_type": "execute_result"
    }
   ],
   "source": [
    "bench_pysurvival = BenchmarkPysurvival(ConditionalSurvivalForestModel(),\n",
    "        df_train,\n",
    "        df_valid,\n",
    "        df_test,\n",
    "        \"event\",\n",
    "        \"duration\",\n",
    "        TIME_BINS,\n",
    "        \"Conditional Survival Forest\",\n",
    "\n",
    ")\n",
    "bench_pysurvival.train()\n",
    "pysurvival_results = bench_pysurvival.test()\n",
    "pysurvival_results"
   ]
  },
  {
   "cell_type": "code",
   "execution_count": 27,
   "metadata": {},
   "outputs": [],
   "source": [
    "results = results.append(pysurvival_results, ignore_index=True)"
   ]
  },
  {
   "cell_type": "code",
   "execution_count": 28,
   "metadata": {},
   "outputs": [
    {
     "data": {
      "text/html": [
       "<div>\n",
       "<style scoped>\n",
       "    .dataframe tbody tr th:only-of-type {\n",
       "        vertical-align: middle;\n",
       "    }\n",
       "\n",
       "    .dataframe tbody tr th {\n",
       "        vertical-align: top;\n",
       "    }\n",
       "\n",
       "    .dataframe thead th {\n",
       "        text-align: right;\n",
       "    }\n",
       "</style>\n",
       "<table border=\"1\" class=\"dataframe\">\n",
       "  <thead>\n",
       "    <tr style=\"text-align: right;\">\n",
       "      <th></th>\n",
       "      <th>c-index</th>\n",
       "      <th>dcal_max_dev</th>\n",
       "      <th>dcal_pval</th>\n",
       "      <th>ibs</th>\n",
       "      <th>inference_time</th>\n",
       "      <th>model</th>\n",
       "      <th>training_time</th>\n",
       "    </tr>\n",
       "  </thead>\n",
       "  <tbody>\n",
       "    <tr>\n",
       "      <th>4</th>\n",
       "      <td>0.632</td>\n",
       "      <td>0.032</td>\n",
       "      <td>0.381</td>\n",
       "      <td>0.157</td>\n",
       "      <td>0.369</td>\n",
       "      <td>XGBSE - Debiased BCE</td>\n",
       "      <td>14.198</td>\n",
       "    </tr>\n",
       "    <tr>\n",
       "      <th>5</th>\n",
       "      <td>0.627</td>\n",
       "      <td>0.024</td>\n",
       "      <td>0.525</td>\n",
       "      <td>0.156</td>\n",
       "      <td>0.791</td>\n",
       "      <td>XGBSE - Kaplan Neighbors</td>\n",
       "      <td>25.679</td>\n",
       "    </tr>\n",
       "    <tr>\n",
       "      <th>7</th>\n",
       "      <td>0.624</td>\n",
       "      <td>0.024</td>\n",
       "      <td>0.563</td>\n",
       "      <td>0.155</td>\n",
       "      <td>0.466</td>\n",
       "      <td>XGBSE - Bootstrap Trees</td>\n",
       "      <td>11.956</td>\n",
       "    </tr>\n",
       "    <tr>\n",
       "      <th>8</th>\n",
       "      <td>0.623</td>\n",
       "      <td>0.032</td>\n",
       "      <td>0.289</td>\n",
       "      <td>0.152</td>\n",
       "      <td>31.874</td>\n",
       "      <td>Conditional Survival Forest</td>\n",
       "      <td>0.201</td>\n",
       "    </tr>\n",
       "    <tr>\n",
       "      <th>1</th>\n",
       "      <td>0.622</td>\n",
       "      <td>0.024</td>\n",
       "      <td>0.667</td>\n",
       "      <td>0.154</td>\n",
       "      <td>0.008</td>\n",
       "      <td>Weibull AFT</td>\n",
       "      <td>0.390</td>\n",
       "    </tr>\n",
       "    <tr>\n",
       "      <th>0</th>\n",
       "      <td>0.622</td>\n",
       "      <td>0.026</td>\n",
       "      <td>0.567</td>\n",
       "      <td>0.154</td>\n",
       "      <td>0.004</td>\n",
       "      <td>Cox-PH</td>\n",
       "      <td>0.217</td>\n",
       "    </tr>\n",
       "    <tr>\n",
       "      <th>3</th>\n",
       "      <td>0.619</td>\n",
       "      <td>NaN</td>\n",
       "      <td>NaN</td>\n",
       "      <td>NaN</td>\n",
       "      <td>0.001</td>\n",
       "      <td>XGB - Cox</td>\n",
       "      <td>0.023</td>\n",
       "    </tr>\n",
       "    <tr>\n",
       "      <th>2</th>\n",
       "      <td>0.610</td>\n",
       "      <td>NaN</td>\n",
       "      <td>NaN</td>\n",
       "      <td>NaN</td>\n",
       "      <td>0.001</td>\n",
       "      <td>XGB - AFT</td>\n",
       "      <td>0.024</td>\n",
       "    </tr>\n",
       "    <tr>\n",
       "      <th>6</th>\n",
       "      <td>0.590</td>\n",
       "      <td>0.036</td>\n",
       "      <td>0.180</td>\n",
       "      <td>0.165</td>\n",
       "      <td>0.014</td>\n",
       "      <td>XGBSE - Kaplan Tree</td>\n",
       "      <td>0.114</td>\n",
       "    </tr>\n",
       "  </tbody>\n",
       "</table>\n",
       "</div>"
      ],
      "text/plain": [
       "   c-index  dcal_max_dev  dcal_pval    ibs  inference_time  \\\n",
       "4    0.632         0.032      0.381  0.157           0.369   \n",
       "5    0.627         0.024      0.525  0.156           0.791   \n",
       "7    0.624         0.024      0.563  0.155           0.466   \n",
       "8    0.623         0.032      0.289  0.152          31.874   \n",
       "1    0.622         0.024      0.667  0.154           0.008   \n",
       "0    0.622         0.026      0.567  0.154           0.004   \n",
       "3    0.619           NaN        NaN    NaN           0.001   \n",
       "2    0.610           NaN        NaN    NaN           0.001   \n",
       "6    0.590         0.036      0.180  0.165           0.014   \n",
       "\n",
       "                         model  training_time  \n",
       "4         XGBSE - Debiased BCE         14.198  \n",
       "5     XGBSE - Kaplan Neighbors         25.679  \n",
       "7      XGBSE - Bootstrap Trees         11.956  \n",
       "8  Conditional Survival Forest          0.201  \n",
       "1                  Weibull AFT          0.390  \n",
       "0                       Cox-PH          0.217  \n",
       "3                    XGB - Cox          0.023  \n",
       "2                    XGB - AFT          0.024  \n",
       "6          XGBSE - Kaplan Tree          0.114  "
      ]
     },
     "execution_count": 28,
     "metadata": {},
     "output_type": "execute_result"
    }
   ],
   "source": [
    "results.sort_values(\"c-index\", ascending=False).round(3)"
   ]
  },
  {
   "cell_type": "code",
   "execution_count": 29,
   "metadata": {},
   "outputs": [
    {
     "data": {
      "text/plain": [
       "'| model                       |   c-index |   dcal_max_dev |   dcal_pval |     ibs |   inference_time |   training_time |\\n|:----------------------------|----------:|---------------:|------------:|--------:|-----------------:|----------------:|\\n| XGBSE - Debiased BCE        |     0.632 |          0.032 |       0.381 |   0.157 |            0.369 |          14.198 |\\n| XGBSE - Kaplan Neighbors    |     0.627 |          0.024 |       0.525 |   0.156 |            0.791 |          25.679 |\\n| XGBSE - Bootstrap Trees     |     0.624 |          0.024 |       0.563 |   0.155 |            0.466 |          11.956 |\\n| Conditional Survival Forest |     0.623 |          0.032 |       0.289 |   0.152 |           31.874 |           0.201 |\\n| Weibull AFT                 |     0.622 |          0.024 |       0.667 |   0.154 |            0.008 |           0.39  |\\n| Cox-PH                      |     0.622 |          0.026 |       0.567 |   0.154 |            0.004 |           0.217 |\\n| XGB - Cox                   |     0.619 |        nan     |     nan     | nan     |            0.001 |           0.023 |\\n| XGB - AFT                   |     0.61  |        nan     |     nan     | nan     |            0.001 |           0.024 |\\n| XGBSE - Kaplan Tree         |     0.59  |          0.036 |       0.18  |   0.165 |            0.014 |           0.114 |'"
      ]
     },
     "execution_count": 29,
     "metadata": {},
     "output_type": "execute_result"
    }
   ],
   "source": [
    "results.sort_values(\"c-index\", ascending=False).round(3).set_index('model').to_markdown()"
   ]
  },
  {
   "cell_type": "code",
   "execution_count": null,
   "metadata": {},
   "outputs": [],
   "source": []
  },
  {
   "cell_type": "code",
   "execution_count": null,
   "metadata": {},
   "outputs": [],
   "source": []
  },
  {
   "cell_type": "code",
   "execution_count": null,
   "metadata": {},
   "outputs": [],
   "source": []
  },
  {
   "cell_type": "code",
   "execution_count": null,
   "metadata": {},
   "outputs": [],
   "source": []
  },
  {
   "cell_type": "code",
   "execution_count": null,
   "metadata": {},
   "outputs": [],
   "source": []
  },
  {
   "cell_type": "code",
   "execution_count": null,
   "metadata": {},
   "outputs": [],
   "source": []
  },
  {
   "cell_type": "code",
   "execution_count": null,
   "metadata": {},
   "outputs": [],
   "source": []
  },
  {
   "cell_type": "code",
   "execution_count": null,
   "metadata": {},
   "outputs": [],
   "source": []
  },
  {
   "cell_type": "code",
   "execution_count": null,
   "metadata": {},
   "outputs": [],
   "source": []
  }
 ],
 "metadata": {
  "kernelspec": {
   "display_name": "Python 3",
   "language": "python",
   "name": "python3"
  },
  "language_info": {
   "codemirror_mode": {
    "name": "ipython",
    "version": 3
   },
   "file_extension": ".py",
   "mimetype": "text/x-python",
   "name": "python",
   "nbconvert_exporter": "python",
   "pygments_lexer": "ipython3",
   "version": "3.8.5"
  }
 },
 "nbformat": 4,
 "nbformat_minor": 4
}
