{
 "cells": [
  {
   "cell_type": "code",
   "execution_count": 1,
   "metadata": {
    "tags": []
   },
   "outputs": [],
   "source": [
    "# autoreload\n",
    "%load_ext autoreload\n",
    "%autoreload 2"
   ]
  },
  {
   "cell_type": "code",
   "execution_count": 2,
   "metadata": {},
   "outputs": [],
   "source": [
    "import numpy as np\n",
    "import pandas as pd\n",
    "import matplotlib.pyplot as plt\n",
    "from tqdm import tqdm\n",
    "\n",
    "import lifelines\n",
    "import pycox\n",
    "import xgboost as xgb\n",
    "from sklearn.model_selection import train_test_split\n",
    "\n",
    "from xgbse import XGBSEKaplanNeighbors, XGBSEKaplanTree, XGBSEDebiasedBCE, XGBSEBootstrapEstimator\n",
    "from xgbse.converters import convert_data_to_xgb_format, convert_to_structured, convert_y\n",
    "from xgbse.non_parametric import get_time_bins\n",
    "\n",
    "from benchmark import BenchmarkLifelines, BenchmarkXGBoost, BenchmarkXGBSE, BenchmarkPysurvival\n",
    "from pysurvival.models.survival_forest import ConditionalSurvivalForestModel\n",
    "\n",
    "# setting seed\n",
    "np.random.seed(42)"
   ]
  },
  {
   "cell_type": "code",
   "execution_count": 3,
   "metadata": {},
   "outputs": [],
   "source": [
    "def split_train_test_valid(dataf, test_size=.2, valid_size=.01, random_state=1):\n",
    "    df_train, df_test = train_test_split(dataf, test_size=test_size, random_state=random_state)\n",
    "    df_train, df_valid = train_test_split(df_train, test_size=valid_size, random_state=random_state)\n",
    "    return df_train, df_valid,  df_test"
   ]
  },
  {
   "cell_type": "markdown",
   "metadata": {},
   "source": [
    "## Data"
   ]
  },
  {
   "cell_type": "code",
   "execution_count": 4,
   "metadata": {
    "tags": []
   },
   "outputs": [],
   "source": [
    "from pycox.datasets import flchain\n",
    "df = flchain.read_df()\n",
    "df = df.rename(columns={'death':'event', 'futime':'duration'})\n",
    "df = df.astype(float)\n",
    "\n",
    "df_train, df_valid, df_test = split_train_test_valid(df)\n",
    "\n",
    "T_train = df_train.duration\n",
    "E_train = df_train.event\n",
    "TIME_BINS = time_bins = get_time_bins(T_train, E_train, size=30)"
   ]
  },
  {
   "cell_type": "markdown",
   "metadata": {},
   "source": [
    "## Model\n",
    "\n",
    "Let us fit a model and check performance."
   ]
  },
  {
   "cell_type": "code",
   "execution_count": 5,
   "metadata": {},
   "outputs": [],
   "source": [
    "results = pd.DataFrame()"
   ]
  },
  {
   "cell_type": "markdown",
   "metadata": {},
   "source": [
    "## Lifelines"
   ]
  },
  {
   "cell_type": "code",
   "execution_count": 6,
   "metadata": {},
   "outputs": [],
   "source": [
    "bench_lifelines = BenchmarkLifelines(lifelines.CoxPHFitter(),\n",
    "        df_train,\n",
    "        df_valid,\n",
    "        df_test,\n",
    "        \"event\",\n",
    "        \"duration\",\n",
    "        TIME_BINS,\n",
    "        \"Cox-PH\"\n",
    ")"
   ]
  },
  {
   "cell_type": "code",
   "execution_count": 7,
   "metadata": {},
   "outputs": [],
   "source": [
    "bench_lifelines.train()"
   ]
  },
  {
   "cell_type": "code",
   "execution_count": 8,
   "metadata": {},
   "outputs": [
    {
     "data": {
      "text/plain": [
       "{'model': 'Cox-PH',\n",
       " 'c-index': 0.7883798521392772,\n",
       " 'ibs': 0.0985487804655452,\n",
       " 'dcal_pval': 0.9711460792177572,\n",
       " 'dcal_max_dev': 0.0113195501393272,\n",
       " 'training_time': 1.192168951034546,\n",
       " 'inference_time': 0.006709098815917969}"
      ]
     },
     "execution_count": 8,
     "metadata": {},
     "output_type": "execute_result"
    }
   ],
   "source": [
    "cox_lifelines_results = bench_lifelines.test()\n",
    "cox_lifelines_results"
   ]
  },
  {
   "cell_type": "code",
   "execution_count": 9,
   "metadata": {},
   "outputs": [],
   "source": [
    "results = results.append(cox_lifelines_results, ignore_index=True)"
   ]
  },
  {
   "cell_type": "code",
   "execution_count": 10,
   "metadata": {},
   "outputs": [],
   "source": [
    "bench_lifelines = BenchmarkLifelines(lifelines.WeibullAFTFitter(),\n",
    "        df_train.assign(duration = np.where(df_train.duration == 0, 1, df_train.duration)),\n",
    "        df_valid,\n",
    "        df_test,\n",
    "        \"event\",\n",
    "        \"duration\",\n",
    "        TIME_BINS,\n",
    "        \"Weibull AFT\"\n",
    ")"
   ]
  },
  {
   "cell_type": "code",
   "execution_count": 11,
   "metadata": {
    "tags": []
   },
   "outputs": [
    {
     "data": {
      "text/plain": [
       "{'model': 'Weibull AFT',\n",
       " 'c-index': 0.788764446796106,\n",
       " 'ibs': 0.09899526138314266,\n",
       " 'dcal_pval': 0.8485679576992691,\n",
       " 'dcal_max_dev': 0.0130897512621993,\n",
       " 'training_time': 0.8402612209320068,\n",
       " 'inference_time': 0.010332822799682617}"
      ]
     },
     "execution_count": 11,
     "metadata": {},
     "output_type": "execute_result"
    }
   ],
   "source": [
    "bench_lifelines.train()\n",
    "weibull_aft_results = bench_lifelines.test()\n",
    "weibull_aft_results"
   ]
  },
  {
   "cell_type": "code",
   "execution_count": 12,
   "metadata": {},
   "outputs": [],
   "source": [
    "results = results.append(weibull_aft_results, ignore_index=True)"
   ]
  },
  {
   "cell_type": "markdown",
   "metadata": {},
   "source": [
    "## XGBoost"
   ]
  },
  {
   "cell_type": "code",
   "execution_count": 13,
   "metadata": {},
   "outputs": [],
   "source": [
    "bench_xgboost = BenchmarkXGBoost(xgb,\n",
    "        df_train,\n",
    "        df_valid,\n",
    "        df_test,\n",
    "        \"event\",\n",
    "        \"duration\",\n",
    "        TIME_BINS,\n",
    "        \"XGB - AFT\",\n",
    "        \"survival:aft\",\n",
    ")"
   ]
  },
  {
   "cell_type": "code",
   "execution_count": 14,
   "metadata": {
    "tags": []
   },
   "outputs": [
    {
     "data": {
      "text/plain": [
       "{'model': 'XGB - AFT',\n",
       " 'c-index': 0.7815428859787077,\n",
       " 'ibs': nan,\n",
       " 'dcal_pval': nan,\n",
       " 'dcal_max_dev': nan,\n",
       " 'training_time': 0.06519603729248047,\n",
       " 'inference_time': 0.0008289813995361328}"
      ]
     },
     "execution_count": 14,
     "metadata": {},
     "output_type": "execute_result"
    }
   ],
   "source": [
    "bench_xgboost.train()\n",
    "xgboost_aft_results = bench_xgboost.test()\n",
    "xgboost_aft_results"
   ]
  },
  {
   "cell_type": "code",
   "execution_count": 15,
   "metadata": {},
   "outputs": [],
   "source": [
    "results = results.append(xgboost_aft_results, ignore_index=True)"
   ]
  },
  {
   "cell_type": "code",
   "execution_count": 16,
   "metadata": {},
   "outputs": [
    {
     "data": {
      "text/plain": [
       "{'model': 'XGB - Cox',\n",
       " 'c-index': 0.7786192316925594,\n",
       " 'ibs': nan,\n",
       " 'dcal_pval': nan,\n",
       " 'dcal_max_dev': nan,\n",
       " 'training_time': 0.0846090316772461,\n",
       " 'inference_time': 0.0008230209350585938}"
      ]
     },
     "execution_count": 16,
     "metadata": {},
     "output_type": "execute_result"
    }
   ],
   "source": [
    "bench_xgboost = BenchmarkXGBoost(xgb,\n",
    "        df_train,\n",
    "        df_valid,\n",
    "        df_test,\n",
    "        \"event\",\n",
    "        \"duration\",\n",
    "        TIME_BINS,\n",
    "        \"XGB - Cox\",\n",
    "        \"survival:cox\",\n",
    ")\n",
    "bench_xgboost.train()\n",
    "xgboost_cox_results = bench_xgboost.test()\n",
    "xgboost_cox_results"
   ]
  },
  {
   "cell_type": "code",
   "execution_count": 17,
   "metadata": {},
   "outputs": [],
   "source": [
    "results = results.append(xgboost_cox_results, ignore_index=True)"
   ]
  },
  {
   "cell_type": "markdown",
   "metadata": {},
   "source": [
    "## XGB SE"
   ]
  },
  {
   "cell_type": "code",
   "execution_count": 18,
   "metadata": {},
   "outputs": [
    {
     "data": {
      "text/plain": [
       "{'model': 'XGBSE - Debiased BCE',\n",
       " 'c-index': 0.7841321633816893,\n",
       " 'ibs': 0.1013538111648455,\n",
       " 'dcal_pval': 0.03644799466710443,\n",
       " 'dcal_max_dev': 0.0298175545947673,\n",
       " 'training_time': 46.155426025390625,\n",
       " 'inference_time': 0.47022414207458496}"
      ]
     },
     "execution_count": 18,
     "metadata": {},
     "output_type": "execute_result"
    }
   ],
   "source": [
    "bench_xgboost_embedding = BenchmarkXGBSE(XGBSEDebiasedBCE(),\n",
    "        df_train,\n",
    "        df_valid,\n",
    "        df_test,\n",
    "        \"event\",\n",
    "        \"duration\",\n",
    "        TIME_BINS,\n",
    "        \"XGBSE - Debiased BCE\",\n",
    "        \"survival:aft\",\n",
    ")\n",
    "bench_xgboost_embedding.train()\n",
    "xgboost_bce_results = bench_xgboost_embedding.test()\n",
    "xgboost_bce_results"
   ]
  },
  {
   "cell_type": "code",
   "execution_count": 19,
   "metadata": {},
   "outputs": [],
   "source": [
    "results = results.append(xgboost_bce_results, ignore_index=True)"
   ]
  },
  {
   "cell_type": "code",
   "execution_count": 20,
   "metadata": {},
   "outputs": [
    {
     "data": {
      "text/plain": [
       "{'model': 'XGBSE - Kaplan Neighbors',\n",
       " 'c-index': 0.7694232549936064,\n",
       " 'ibs': 0.10297238924307031,\n",
       " 'dcal_pval': 0.7320452038855624,\n",
       " 'dcal_max_dev': 0.019724969746333948,\n",
       " 'training_time': 31.365705966949463,\n",
       " 'inference_time': 5.807218074798584}"
      ]
     },
     "execution_count": 20,
     "metadata": {},
     "output_type": "execute_result"
    }
   ],
   "source": [
    "bench_xgboost_embedding = BenchmarkXGBSE(XGBSEKaplanNeighbors(),\n",
    "        df_train,\n",
    "        df_valid,\n",
    "        df_test,\n",
    "        \"event\",\n",
    "        \"duration\",\n",
    "        TIME_BINS,\n",
    "        \"XGBSE - Kaplan Neighbors\",\n",
    "        \"survival:aft\",\n",
    ")\n",
    "bench_xgboost_embedding.train()\n",
    "xgboost_kn_results = bench_xgboost_embedding.test()\n",
    "xgboost_kn_results"
   ]
  },
  {
   "cell_type": "code",
   "execution_count": 21,
   "metadata": {},
   "outputs": [],
   "source": [
    "results = results.append(xgboost_kn_results, ignore_index=True)"
   ]
  },
  {
   "cell_type": "code",
   "execution_count": 22,
   "metadata": {},
   "outputs": [
    {
     "data": {
      "text/plain": [
       "{'model': 'XGBSE - Kaplan Tree',\n",
       " 'c-index': 0.767830984121385,\n",
       " 'ibs': 0.10346911400864475,\n",
       " 'dcal_pval': 0.9287914257772109,\n",
       " 'dcal_max_dev': 0.01106687028007211,\n",
       " 'training_time': 0.21167683601379395,\n",
       " 'inference_time': 0.0029299259185791016}"
      ]
     },
     "execution_count": 22,
     "metadata": {},
     "output_type": "execute_result"
    }
   ],
   "source": [
    "bench_xgboost_embedding = BenchmarkXGBSE(XGBSEKaplanTree(),\n",
    "        df_train,\n",
    "        df_valid,\n",
    "        df_test,\n",
    "        \"event\",\n",
    "        \"duration\",\n",
    "        TIME_BINS,\n",
    "        \"XGBSE - Kaplan Tree\",\n",
    "        \"survival:aft\",\n",
    ")\n",
    "bench_xgboost_embedding.train()\n",
    "xgboost_kt_results = bench_xgboost_embedding.test()\n",
    "xgboost_kt_results"
   ]
  },
  {
   "cell_type": "code",
   "execution_count": 23,
   "metadata": {
    "tags": []
   },
   "outputs": [],
   "source": [
    "results = results.append(xgboost_kt_results, ignore_index=True)"
   ]
  },
  {
   "cell_type": "code",
   "execution_count": 24,
   "metadata": {},
   "outputs": [
    {
     "data": {
      "text/plain": [
       "{'model': 'XGBSE - Bootstrap Trees',\n",
       " 'c-index': 0.7814485745501223,\n",
       " 'ibs': 0.10047335035894789,\n",
       " 'dcal_pval': 0.9845121854944557,\n",
       " 'dcal_max_dev': 0.009485243521309514,\n",
       " 'training_time': 17.497756004333496,\n",
       " 'inference_time': 0.4245340824127197}"
      ]
     },
     "execution_count": 24,
     "metadata": {},
     "output_type": "execute_result"
    }
   ],
   "source": [
    "base_tree = XGBSEKaplanTree()\n",
    "\n",
    "bench_xgboost_embedding = BenchmarkXGBSE(\n",
    "    XGBSEBootstrapEstimator(base_tree, n_estimators=100),\n",
    "        df_train,\n",
    "        df_valid,\n",
    "        df_test,\n",
    "        \"event\",\n",
    "        \"duration\",\n",
    "        TIME_BINS,\n",
    "        \"XGBSE - Bootstrap Trees\",\n",
    "        \"survival:aft\",\n",
    ")\n",
    "bench_xgboost_embedding.train()\n",
    "xgboost_bootstrap_results = bench_xgboost_embedding.test()\n",
    "xgboost_bootstrap_results"
   ]
  },
  {
   "cell_type": "code",
   "execution_count": 25,
   "metadata": {},
   "outputs": [],
   "source": [
    "results = results.append(xgboost_bootstrap_results, ignore_index=True)"
   ]
  },
  {
   "cell_type": "markdown",
   "metadata": {},
   "source": [
    "## Pysurvival"
   ]
  },
  {
   "cell_type": "code",
   "execution_count": 26,
   "metadata": {},
   "outputs": [
    {
     "data": {
      "text/plain": [
       "{'model': 'Conditional Survival Forest',\n",
       " 'c-index': 0.7614202566250716,\n",
       " 'ibs': 0.10590986997908104,\n",
       " 'dcal_pval': 0.03091278345062742,\n",
       " 'dcal_max_dev': 0.029681239567899267,\n",
       " 'training_time': 1.1027400493621826,\n",
       " 'inference_time': 109.55284905433655}"
      ]
     },
     "execution_count": 26,
     "metadata": {},
     "output_type": "execute_result"
    }
   ],
   "source": [
    "bench_pysurvival = BenchmarkPysurvival(ConditionalSurvivalForestModel(),\n",
    "        df_train,\n",
    "        df_valid,\n",
    "        df_test,\n",
    "        \"event\",\n",
    "        \"duration\",\n",
    "        TIME_BINS,\n",
    "        \"Conditional Survival Forest\",\n",
    "\n",
    ")\n",
    "bench_pysurvival.train()\n",
    "pysurvival_results = bench_pysurvival.test()\n",
    "pysurvival_results"
   ]
  },
  {
   "cell_type": "code",
   "execution_count": 27,
   "metadata": {},
   "outputs": [],
   "source": [
    "results = results.append(pysurvival_results, ignore_index=True)"
   ]
  },
  {
   "cell_type": "code",
   "execution_count": 28,
   "metadata": {},
   "outputs": [
    {
     "data": {
      "text/html": [
       "<div>\n",
       "<style scoped>\n",
       "    .dataframe tbody tr th:only-of-type {\n",
       "        vertical-align: middle;\n",
       "    }\n",
       "\n",
       "    .dataframe tbody tr th {\n",
       "        vertical-align: top;\n",
       "    }\n",
       "\n",
       "    .dataframe thead th {\n",
       "        text-align: right;\n",
       "    }\n",
       "</style>\n",
       "<table border=\"1\" class=\"dataframe\">\n",
       "  <thead>\n",
       "    <tr style=\"text-align: right;\">\n",
       "      <th></th>\n",
       "      <th>c-index</th>\n",
       "      <th>dcal_max_dev</th>\n",
       "      <th>dcal_pval</th>\n",
       "      <th>ibs</th>\n",
       "      <th>inference_time</th>\n",
       "      <th>model</th>\n",
       "      <th>training_time</th>\n",
       "    </tr>\n",
       "  </thead>\n",
       "  <tbody>\n",
       "    <tr>\n",
       "      <th>1</th>\n",
       "      <td>0.789</td>\n",
       "      <td>0.013</td>\n",
       "      <td>0.849</td>\n",
       "      <td>0.099</td>\n",
       "      <td>0.010</td>\n",
       "      <td>Weibull AFT</td>\n",
       "      <td>0.840</td>\n",
       "    </tr>\n",
       "    <tr>\n",
       "      <th>0</th>\n",
       "      <td>0.788</td>\n",
       "      <td>0.011</td>\n",
       "      <td>0.971</td>\n",
       "      <td>0.099</td>\n",
       "      <td>0.007</td>\n",
       "      <td>Cox-PH</td>\n",
       "      <td>1.192</td>\n",
       "    </tr>\n",
       "    <tr>\n",
       "      <th>4</th>\n",
       "      <td>0.784</td>\n",
       "      <td>0.030</td>\n",
       "      <td>0.036</td>\n",
       "      <td>0.101</td>\n",
       "      <td>0.470</td>\n",
       "      <td>XGBSE - Debiased BCE</td>\n",
       "      <td>46.155</td>\n",
       "    </tr>\n",
       "    <tr>\n",
       "      <th>2</th>\n",
       "      <td>0.782</td>\n",
       "      <td>NaN</td>\n",
       "      <td>NaN</td>\n",
       "      <td>NaN</td>\n",
       "      <td>0.001</td>\n",
       "      <td>XGB - AFT</td>\n",
       "      <td>0.065</td>\n",
       "    </tr>\n",
       "    <tr>\n",
       "      <th>7</th>\n",
       "      <td>0.781</td>\n",
       "      <td>0.009</td>\n",
       "      <td>0.985</td>\n",
       "      <td>0.100</td>\n",
       "      <td>0.425</td>\n",
       "      <td>XGBSE - Bootstrap Trees</td>\n",
       "      <td>17.498</td>\n",
       "    </tr>\n",
       "    <tr>\n",
       "      <th>3</th>\n",
       "      <td>0.779</td>\n",
       "      <td>NaN</td>\n",
       "      <td>NaN</td>\n",
       "      <td>NaN</td>\n",
       "      <td>0.001</td>\n",
       "      <td>XGB - Cox</td>\n",
       "      <td>0.085</td>\n",
       "    </tr>\n",
       "    <tr>\n",
       "      <th>5</th>\n",
       "      <td>0.769</td>\n",
       "      <td>0.020</td>\n",
       "      <td>0.732</td>\n",
       "      <td>0.103</td>\n",
       "      <td>5.807</td>\n",
       "      <td>XGBSE - Kaplan Neighbors</td>\n",
       "      <td>31.366</td>\n",
       "    </tr>\n",
       "    <tr>\n",
       "      <th>6</th>\n",
       "      <td>0.768</td>\n",
       "      <td>0.011</td>\n",
       "      <td>0.929</td>\n",
       "      <td>0.103</td>\n",
       "      <td>0.003</td>\n",
       "      <td>XGBSE - Kaplan Tree</td>\n",
       "      <td>0.212</td>\n",
       "    </tr>\n",
       "    <tr>\n",
       "      <th>8</th>\n",
       "      <td>0.761</td>\n",
       "      <td>0.030</td>\n",
       "      <td>0.031</td>\n",
       "      <td>0.106</td>\n",
       "      <td>109.553</td>\n",
       "      <td>Conditional Survival Forest</td>\n",
       "      <td>1.103</td>\n",
       "    </tr>\n",
       "  </tbody>\n",
       "</table>\n",
       "</div>"
      ],
      "text/plain": [
       "   c-index  dcal_max_dev  dcal_pval    ibs  inference_time  \\\n",
       "1    0.789         0.013      0.849  0.099           0.010   \n",
       "0    0.788         0.011      0.971  0.099           0.007   \n",
       "4    0.784         0.030      0.036  0.101           0.470   \n",
       "2    0.782           NaN        NaN    NaN           0.001   \n",
       "7    0.781         0.009      0.985  0.100           0.425   \n",
       "3    0.779           NaN        NaN    NaN           0.001   \n",
       "5    0.769         0.020      0.732  0.103           5.807   \n",
       "6    0.768         0.011      0.929  0.103           0.003   \n",
       "8    0.761         0.030      0.031  0.106         109.553   \n",
       "\n",
       "                         model  training_time  \n",
       "1                  Weibull AFT          0.840  \n",
       "0                       Cox-PH          1.192  \n",
       "4         XGBSE - Debiased BCE         46.155  \n",
       "2                    XGB - AFT          0.065  \n",
       "7      XGBSE - Bootstrap Trees         17.498  \n",
       "3                    XGB - Cox          0.085  \n",
       "5     XGBSE - Kaplan Neighbors         31.366  \n",
       "6          XGBSE - Kaplan Tree          0.212  \n",
       "8  Conditional Survival Forest          1.103  "
      ]
     },
     "execution_count": 28,
     "metadata": {},
     "output_type": "execute_result"
    }
   ],
   "source": [
    "results.sort_values(\"c-index\", ascending=False).round(3)"
   ]
  },
  {
   "cell_type": "code",
   "execution_count": 29,
   "metadata": {},
   "outputs": [
    {
     "data": {
      "text/plain": [
       "'| model                       |   c-index |   dcal_max_dev |   dcal_pval |     ibs |   inference_time |   training_time |\\n|:----------------------------|----------:|---------------:|------------:|--------:|-----------------:|----------------:|\\n| Weibull AFT                 |     0.789 |          0.013 |       0.849 |   0.099 |            0.01  |           0.84  |\\n| Cox-PH                      |     0.788 |          0.011 |       0.971 |   0.099 |            0.007 |           1.192 |\\n| XGBSE - Debiased BCE        |     0.784 |          0.03  |       0.036 |   0.101 |            0.47  |          46.155 |\\n| XGB - AFT                   |     0.782 |        nan     |     nan     | nan     |            0.001 |           0.065 |\\n| XGBSE - Bootstrap Trees     |     0.781 |          0.009 |       0.985 |   0.1   |            0.425 |          17.498 |\\n| XGB - Cox                   |     0.779 |        nan     |     nan     | nan     |            0.001 |           0.085 |\\n| XGBSE - Kaplan Neighbors    |     0.769 |          0.02  |       0.732 |   0.103 |            5.807 |          31.366 |\\n| XGBSE - Kaplan Tree         |     0.768 |          0.011 |       0.929 |   0.103 |            0.003 |           0.212 |\\n| Conditional Survival Forest |     0.761 |          0.03  |       0.031 |   0.106 |          109.553 |           1.103 |'"
      ]
     },
     "execution_count": 29,
     "metadata": {},
     "output_type": "execute_result"
    }
   ],
   "source": [
    "results.sort_values(\"c-index\", ascending=False).round(3).set_index('model').to_markdown()"
   ]
  },
  {
   "cell_type": "code",
   "execution_count": null,
   "metadata": {},
   "outputs": [],
   "source": []
  },
  {
   "cell_type": "code",
   "execution_count": null,
   "metadata": {},
   "outputs": [],
   "source": []
  },
  {
   "cell_type": "code",
   "execution_count": null,
   "metadata": {},
   "outputs": [],
   "source": []
  },
  {
   "cell_type": "code",
   "execution_count": null,
   "metadata": {},
   "outputs": [],
   "source": []
  },
  {
   "cell_type": "code",
   "execution_count": null,
   "metadata": {},
   "outputs": [],
   "source": []
  },
  {
   "cell_type": "code",
   "execution_count": null,
   "metadata": {},
   "outputs": [],
   "source": []
  },
  {
   "cell_type": "code",
   "execution_count": null,
   "metadata": {},
   "outputs": [],
   "source": []
  },
  {
   "cell_type": "code",
   "execution_count": null,
   "metadata": {},
   "outputs": [],
   "source": []
  },
  {
   "cell_type": "code",
   "execution_count": null,
   "metadata": {},
   "outputs": [],
   "source": []
  }
 ],
 "metadata": {
  "kernelspec": {
   "display_name": "Python 3",
   "language": "python",
   "name": "python3"
  },
  "language_info": {
   "codemirror_mode": {
    "name": "ipython",
    "version": 3
   },
   "file_extension": ".py",
   "mimetype": "text/x-python",
   "name": "python",
   "nbconvert_exporter": "python",
   "pygments_lexer": "ipython3",
   "version": "3.8.5"
  }
 },
 "nbformat": 4,
 "nbformat_minor": 4
}
