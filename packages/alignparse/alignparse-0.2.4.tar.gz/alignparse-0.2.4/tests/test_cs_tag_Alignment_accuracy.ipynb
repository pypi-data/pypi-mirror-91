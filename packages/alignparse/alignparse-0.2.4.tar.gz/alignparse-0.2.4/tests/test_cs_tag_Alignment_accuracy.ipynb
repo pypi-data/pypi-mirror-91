{
 "cells": [
  {
   "cell_type": "markdown",
   "metadata": {},
   "source": [
    "# Test `cs_tag.Alignment.accuracy`\n",
    "This notebook is designed to be run with `nbval` as a test.\n",
    "\n",
    "Import Python modules:"
   ]
  },
  {
   "cell_type": "code",
   "execution_count": 1,
   "metadata": {},
   "outputs": [],
   "source": [
    "import collections\n",
    "import re\n",
    "\n",
    "import pysam\n",
    "\n",
    "import alignparse.cs_tag"
   ]
  },
  {
   "cell_type": "markdown",
   "metadata": {},
   "source": [
    "Create a valid `pysam.AlignedSegment`. \n",
    "First, we need a valid header:"
   ]
  },
  {
   "cell_type": "code",
   "execution_count": 2,
   "metadata": {},
   "outputs": [],
   "source": [
    "header = pysam.AlignmentHeader.from_dict(collections.OrderedDict([\n",
    "        ('SQ', [{'SN': 'RecA_PacBio_amplicon', 'LN': 1342}]),\n",
    "        ('PG',\n",
    "            [{'ID': 'minimap2',\n",
    "              'PN': 'minimap2',\n",
    "              'VN': '2.17-r941',\n",
    "              'CL': ''}])\n",
    "        ]))"
   ]
  },
  {
   "cell_type": "markdown",
   "metadata": {},
   "source": [
    "Now create the `pysam.AlignedSegment`:"
   ]
  },
  {
   "cell_type": "code",
   "execution_count": 3,
   "metadata": {},
   "outputs": [],
   "source": [
    "qual = '~~~~~~~~~~~~~~~~~~~~~~~~~~~~~~~~~~~~~~~~~~~~~~~~~~~~~~~~~~~~~~~~~~~~~~~~~~~~~~~~~~~G~~~~~~~~~~~~~~~~~~~~~~~~~~~~~~~~~~~~~~~~~~~~~~~~~~~~G~~~~~~~~~~~~~~~~~~~~~~~~~~~~~~~~~~~~~~~~~~~~~~~~~~~~~~~~~~~~~~~~~~~~~~~~~~~~~~~~~~~~~~~~~~~~~~~~~~~~~~~~~~~~~~~~~~~~~~~~~~~~~~~~~~~~~~~~~~~~~~~~~~~~~~~~~>~~~~~~~~~~~~~~~~~~~~~~~~~~~~~~~~~~~~~~~~~~~~~~~~~~~~~~~~~~~~~~~~~~~~~~~~~~~~~~~~~~~~~~~~~~~~~~~~~~~~~~~~~~~~~~~~~~~~~~~~~~~~~~~~~~~~~~~~~/~~~~~~~~~~~~~~~~~~~~~~~~~~~~~~~~~~~~~~~~~~~~~~~~~~~~~~~~~~~~~~~~~~~~~~~~~~~~~~~~~~~~~~~~~~~~~~~~~~~~~~~~~~~~~~~~~~~~~~~~~~~~~~~~~~~~~~~~~~~~~~~~~~~~~~~~~~~~~~~~~~~~~~~~~~~~~~~~~~~~~~~~~~~~~~~~~~~~~~~~~~~~~~~~~~~~~~~~~~~~~~~~~~~~~~~~~~~~~~~~~~~~~~~~~~~~~~~~~~~~~~~~~~~~~~~~~~~~~~~~~~~~~~~~~~~~~~~~~~~~~~~~~~~~~~~~~~~~~~~~~~~~~~~~~~~~~~~~~~~~~~~~~~~~~~~~~~~~~~~~~~~~~~~~~~~~~~~~~~~~~~~~~~~~~~~~~~~~~~~~~~~~~~~~~~~~~~~~~~~~~~~~~~~~~~~~~~~~~~~~~~~~~~~~~~~~~~~~~~~~~~~~~~~~~~~~~~~~~~~~~~~~~~~~~~~~~~~~~~~~~~~~~~~~~~~~~~~~~~~~~~~~~~~~~~~~~~~~~~~~~~~~~~~~~~~~~~~~~~~~~~~~~~~~~~~~~~~~~~~~~~~~~~~~~~~~~~~~~~~~~~~~~~~~~~~~~~~~~~~~~~~~~~~~~~~~~~~~~~~~~~~~~~~~~~~~~~~~~~~~~~~~~~~~~~~~~~~~~~~~~~~~~~~~~~~~~~~~~~~~~~~~~~~~~~~~~~~~~~~~~~~~~~~~~~~~~~~~~~~~~~~~~~~~~~~~~~~~~~~~~~~~~~~~~~~~~~~~~~~~~~~~~~~~~~~~~~~~~~~~~~~~~~~~~~~~~~~~~~~~~~~~~~~~~~~~~~~~~~~~~~~~~~~~~~~~~~~~~~~~~~~~~~~~~~~~~~~~~~~~~~~~~~~~~~~~~~~~~~~~~~~~~~~~~~~~~~~~~~~~~~~~~~~~~~~~~~~~~~~~~~~~~~~~~~~~~~~~~~~~~~~~~~~~~~~~~~~~~~~~~~~~~~~~~~~~~~~~~~~~~~~~~~~~~~~~~~~~~~~~~~~~~~~~~~~~~~~~~~~~~~~~~~~~~~~~~~~~~~~~~~~~~~~~~~~~~~~~~~~~~~~~~~~~~~~~~~~~~~~~~~~~~~~~~~~~~~~~~~~~~~~~~~~~~~~~~~~~~~~~~~~~~~~~~~~~~~~~~~~~~~~~~~~~~~~~~~~~~~~~~~~~~~~~~~~~~~~~~~~~~~~~~~~~~~~~~~~~~~~~~~~~~~~~~~~~~~R~~~~~~~~~~~~~~~~~~~~~~~~~~~~~~~~~~~~~~~~~~~~~~~~~~~~~~~~~~~~~~~~~~~~~~~~~~~~~~~~~~~~~~~'\n",
    "\n",
    "a1_seg = pysam.AlignedSegment.from_dict({\n",
    "    'name': 'm54228_181120_212724/4194398/ccs',\n",
    "     'flag': '0',\n",
    "     'ref_name': 'RecA_PacBio_amplicon',\n",
    "     'ref_pos': '454',\n",
    "     'map_quality': '60',\n",
    "     'cigar': '863S800M1D88M',\n",
    "     'next_ref_name': '*',\n",
    "     'next_ref_pos': '0',\n",
    "     'length': '0',\n",
    "     'seq': 'GGTACCACACTCTTTCCCTACACGACGCTCTGCCGATCTGAACAATTTGCTTCTTAGTCTAGAATGGCATATCCTTACAACTTAAAAAAAGCAAAAGGGCCGCAGATGCGACCCTTGTGTATCAAACAAGACGATTAAAAATCTTCGTTAGTTTCTGCTACGCCTTCGCTATCATCTACAGAGAAATCCGGCGTTGAGTTCGGGTTGCTCAGCAGCAACTCACGTACTTTCTTCTCGATCTCTTTCGCGGTTTCCGGGTTATCTTTCAGCCAGGCAGTCGCATTCGCTTTACCCTGACCGATCTTCTCACCTTTGTAGCTGTACCACGCGCCTGCTTTCTCGATCAGCTTCTCTTTTACGCCCAGGTCAACCAGTTCGCCGTAGAAGTTGATACCTTCGCCGTAGAGGATCTGGAATTCAGCCTGTTTAAACGGCGCAGCGATTTTGTTCTTCACCACTTTCACGCGGGTTTCGCTACCCACCACGTTTTCGCCCTCTTTCACCGCGCCGATACGACGGATGTCGAGACGAACAGAGGCGTAGAATTTCAGCGCGTTACCACCGGTAGTGGTTTCCGGGTTGCCGAACATCACACCAATTTTCATACGGATCTGGTTGATGAAGATCAGCAGCGTGTTGGACTGCTTCAGGTTACCCGCCAGCTTACGCATCGCCTGGCTCATCATACGTGCCGCAAGGCCCATATGAGAGTCGCCGATTTCGCCTTCGATTTCCGCTTTCGGCGTCAGTGCCGCCACGGAGTCAACGACGATAACGTCTACTGCGCCAGAACGCGCCAGGGCGTCACAGATTTCCAGTGCCTGCTCGCCGGTGTCCGGCTGGGAGCACAGCAGGTTGTCGATATCTACGCACGTAAACTGGGCGTCGATATCGACAACCTGCTGTGCTCCCAGCCGGACACCGGCGAGCAGGCACTGGAAATCTGTGACGCCCTGGCGCGTTCTGGCGCAGTAGACGTTATCGTCGTTGACTCCGTGGCGGCACTGACGCCGAAAGCGGAAATCGAAGGCGAAATCGGCGACTCTCATATGGGCCTTGCGGCACGTATGATGAGCCAGGCGATGCGTAAGCTGGCGGGTAACCTGAAGCAGTCCAACACGCTGCTGATCTTCATCAACCAGATCCGTATGAAAATTGGTGTGATGTTCGGCAACCCGGAAACCACTACCGGTGGTAACGCGCTGAAATTCTACGCCTCTGTTCGTCTCGACATCCGTCGTATCGGCGCGGTGAAAGAGGGCGAAAACGTGGTGGGTAGCGAAACCCGCGTGAAAGTGGTGAAGAACAAAATCGCTGCGCCGTTTAAACAGGCTGAATTCCAGATCCTCTACGGCGAAGGTATCAACTTCTACGGCGAACTGGTTGACCTGGGCGTAAAAGAGAAGCTGATCGAGAAAGCAGGCGCGTGGTACAGCTACAAAGGTGAGAAGATCGGTCAGGGTAAAGCGAATGCGACTGCCTGGCTGAAAGATAACCCGGAAACCGCGAAAGAGATCGAGAAGAAAGTACGTGAGTTGCTGCTGAGCAACCCGAACTCAACGCCGGATTTCTCTGTAGATGATAGCGAAGGCGTAGCAGAAACTAACGAAGATTTTTAATCGTCTTGTTTGATACACAAGGGTCGCATCTGCGGCCCTTTTGCTTTTTAAGTTGTAAGGATATGCCATTCTAGACTAAGAAGCAAATTGTTCAGATCGGCAGAGCGTCGTGTAGGGAAAGAGTGTGGTACC',\n",
    "     'qual': qual,\n",
    "     'tags': [\n",
    "        'NM:i:20',\n",
    "        'ms:i:1648',\n",
    "        'AS:i:1648',\n",
    "        'nn:i:19',\n",
    "        'tp:A:P',\n",
    "        'cm:i:167',\n",
    "        's1:i:841',\n",
    "        's2:i:0',\n",
    "        'de:f:0.0011',\n",
    "        'SA:Z:RecA_PacBio_amplicon,473,-,880S870M1I,60,21;',\n",
    "        'cs:Z::800-t:31*nc*nt*na*na*ng*na*na*ng*nc*na*na*na*nt*nt*ng*nt*nt*nc:7*nc:31',\n",
    "        'rl:i:0']},\n",
    "    header=header)"
   ]
  },
  {
   "cell_type": "markdown",
   "metadata": {},
   "source": [
    "Convert it to `alignparse.cs_tag.Alignment`:"
   ]
  },
  {
   "cell_type": "code",
   "execution_count": 4,
   "metadata": {},
   "outputs": [],
   "source": [
    "a1 = alignparse.cs_tag.Alignment(a1_seg)"
   ]
  },
  {
   "cell_type": "markdown",
   "metadata": {},
   "source": [
    "Accuracy for entire target:"
   ]
  },
  {
   "cell_type": "code",
   "execution_count": 5,
   "metadata": {},
   "outputs": [
    {
     "data": {
      "text/plain": [
       "0.9999999853063067"
      ]
     },
     "execution_count": 5,
     "metadata": {},
     "output_type": "execute_result"
    }
   ],
   "source": [
    "a1.get_accuracy(0, 1342)"
   ]
  },
  {
   "cell_type": "markdown",
   "metadata": {},
   "source": [
    "No accuracy can be estimated for the first 454 nucleotides of the reference as no query is aligned htere:"
   ]
  },
  {
   "cell_type": "code",
   "execution_count": 6,
   "metadata": {},
   "outputs": [
    {
     "data": {
      "text/plain": [
       "0.9999999994988128"
      ]
     },
     "execution_count": 6,
     "metadata": {},
     "output_type": "execute_result"
    }
   ],
   "source": [
    "a1.get_accuracy(0, 454)"
   ]
  },
  {
   "cell_type": "markdown",
   "metadata": {},
   "source": [
    "The estimate for the 455th nucleotide is just that one quality score:"
   ]
  },
  {
   "cell_type": "code",
   "execution_count": 7,
   "metadata": {},
   "outputs": [
    {
     "data": {
      "text/plain": [
       "0.9999999994988128"
      ]
     },
     "execution_count": 7,
     "metadata": {},
     "output_type": "execute_result"
    }
   ],
   "source": [
    "a1.get_accuracy(0, 455)"
   ]
  },
  {
   "cell_type": "code",
   "execution_count": 8,
   "metadata": {},
   "outputs": [
    {
     "data": {
      "text/plain": [
       "True"
      ]
     },
     "execution_count": 8,
     "metadata": {},
     "output_type": "execute_result"
    }
   ],
   "source": [
    "a1.get_accuracy(0, 455) == a1.get_accuracy(455, 456)"
   ]
  },
  {
   "cell_type": "markdown",
   "metadata": {},
   "source": [
    "Look at a lower quality region:"
   ]
  },
  {
   "cell_type": "code",
   "execution_count": 9,
   "metadata": {},
   "outputs": [],
   "source": [
    "low_q_i, low_q_char = [(m.start(), m.group()) for m in re.finditer('[^~]', qual)][-1]\n",
    "ref_low_q_i = low_q_i - a1_seg.query_alignment_start + a1_seg.reference_start + 1"
   ]
  },
  {
   "cell_type": "code",
   "execution_count": 10,
   "metadata": {},
   "outputs": [
    {
     "data": {
      "text/plain": [
       "0.999987410745882"
      ]
     },
     "execution_count": 10,
     "metadata": {},
     "output_type": "execute_result"
    }
   ],
   "source": [
    "low_q_acc = a1.get_accuracy(ref_low_q_i, ref_low_q_i + 1)\n",
    "low_q_acc"
   ]
  },
  {
   "cell_type": "code",
   "execution_count": 11,
   "metadata": {},
   "outputs": [
    {
     "data": {
      "text/plain": [
       "True"
      ]
     },
     "execution_count": 11,
     "metadata": {},
     "output_type": "execute_result"
    }
   ],
   "source": [
    "low_q_acc == alignparse.utils.qvals_to_accuracy(low_q_char, encoding='sanger')"
   ]
  },
  {
   "cell_type": "code",
   "execution_count": 12,
   "metadata": {},
   "outputs": [
    {
     "data": {
      "text/plain": [
       "True"
      ]
     },
     "execution_count": 12,
     "metadata": {},
     "output_type": "execute_result"
    }
   ],
   "source": [
    "a1.get_accuracy(ref_low_q_i, ref_low_q_i + 2) > low_q_acc"
   ]
  }
 ],
 "metadata": {
  "kernelspec": {
   "display_name": "Python 3",
   "language": "python",
   "name": "python3"
  },
  "language_info": {
   "codemirror_mode": {
    "name": "ipython",
    "version": 3
   },
   "file_extension": ".py",
   "mimetype": "text/x-python",
   "name": "python",
   "nbconvert_exporter": "python",
   "pygments_lexer": "ipython3",
   "version": "3.6.7"
  },
  "toc": {
   "nav_menu": {},
   "number_sections": false,
   "sideBar": true,
   "skip_h1_title": false,
   "toc_cell": false,
   "toc_position": {},
   "toc_section_display": true,
   "toc_window_display": false
  }
 },
 "nbformat": 4,
 "nbformat_minor": 2
}
