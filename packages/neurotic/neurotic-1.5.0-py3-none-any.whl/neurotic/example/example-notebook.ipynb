{
 "cells": [
  {
   "cell_type": "markdown",
   "metadata": {},
   "source": [
    "![neurotic logo][logo]\n",
    "\n",
    "# *neurotic*\n",
    "\n",
    "*Curate, visualize, annotate, and share your behavioral ephys data using Python*\n",
    "\n",
    "Check the [documentation][docs] for help with *neurotic*, including an [API reference guide][api] for the classes and functions used in this notebook.\n",
    "\n",
    "[api]:  https://neurotic.readthedocs.io/en/latest/api.html\n",
    "[docs]: https://neurotic.readthedocs.io/en/latest\n",
    "[logo]: https://raw.githubusercontent.com/jpgill86/neurotic/master/neurotic/gui/icons/img/neurotic-logo-150.png"
   ]
  },
  {
   "cell_type": "markdown",
   "metadata": {},
   "source": [
    "## Table of Contents"
   ]
  },
  {
   "cell_type": "markdown",
   "metadata": {},
   "source": [
    "- [1  Setup](#1--Setup)\n",
    "    - [1.1  Install Packages](#1.1--Install-Packages)\n",
    "    - [1.2  Import Packages](#1.2--Import-Packages)\n",
    "- [2  Quick Tour](#2--Quick-Tour)\n",
    "    - [2.1  Select a Data Set](#2.1--Select-a-Data-Set)\n",
    "    - [2.2  Load Data and Configure Ephyviewer](#2.2--Load-Data-and-Configure-Ephyviewer)\n",
    "- [3  API Tutorial](#3--API-Tutorial)\n",
    "    - [3.1  Minimal Working Examples](#3.1--Minimal-Working-Examples)\n",
    "    - [3.2  Adding Complexity](#3.2--Adding-Complexity)\n",
    "    - [3.3  Storing Metadata in a File](#3.3--Storing-Metadata-in-a-File)\n",
    "    - [3.4  Reading Metadata from a File](#3.4--Reading-Metadata-from-a-File)\n",
    "    - [3.5  Downloading Files](#3.5--Downloading-Files)\n",
    "    - [3.6  Loading Data Sets](#3.6--Loading-Data-Sets)\n",
    "    - [3.7  Configuring the GUI](#3.7--Configuring-the-GUI)\n",
    "    - [3.8  Jupyter Notebook Widgets](#3.8--Jupyter-Notebook-Widgets)"
   ]
  },
  {
   "cell_type": "markdown",
   "metadata": {},
   "source": [
    "## 1  Setup"
   ]
  },
  {
   "cell_type": "markdown",
   "metadata": {},
   "source": [
    "### 1.1  Install Packages"
   ]
  },
  {
   "cell_type": "markdown",
   "metadata": {},
   "source": [
    "Run this cell to determine whether *neurotic* is installed:"
   ]
  },
  {
   "cell_type": "code",
   "execution_count": null,
   "metadata": {},
   "outputs": [],
   "source": [
    "!pip show neurotic"
   ]
  },
  {
   "cell_type": "markdown",
   "metadata": {},
   "source": [
    "If *neurotic* is not installed, install it now:"
   ]
  },
  {
   "cell_type": "code",
   "execution_count": null,
   "metadata": {},
   "outputs": [],
   "source": [
    "# install the latest release version\n",
    "# !pip install -U neurotic\n",
    "\n",
    "# alternatively, install the latest development version\n",
    "# !pip install -U git+https://github.com/jpgill86/neurotic.git"
   ]
  },
  {
   "cell_type": "markdown",
   "metadata": {},
   "source": [
    "### 1.2  Import Packages"
   ]
  },
  {
   "cell_type": "markdown",
   "metadata": {},
   "source": [
    "Run the cell below to import packages needed for the examples."
   ]
  },
  {
   "cell_type": "code",
   "execution_count": null,
   "metadata": {},
   "outputs": [],
   "source": [
    "import neo\n",
    "from neo.test.generate_datasets import generate_one_simple_block\n",
    "import neurotic"
   ]
  },
  {
   "cell_type": "markdown",
   "metadata": {},
   "source": [
    "## 2  Quick Tour"
   ]
  },
  {
   "cell_type": "markdown",
   "metadata": {},
   "source": [
    "### 2.1  Select a Data Set"
   ]
  },
  {
   "cell_type": "markdown",
   "metadata": {},
   "source": [
    "The next cell will download `metadata.yml`, a file containing information about available data sets and how they should be loaded, prepared, and displayed, including:\n",
    "* locations of data files\n",
    "* video synchronization parameters\n",
    "* plot settings\n",
    "* filter parameters\n",
    "* amplitude windows for spike discrimination"
   ]
  },
  {
   "cell_type": "code",
   "execution_count": null,
   "metadata": {},
   "outputs": [],
   "source": [
    "# download the metadata file\n",
    "remote_metadata = 'https://raw.githubusercontent.com/jpgill86/neurotic/master/neurotic/example/metadata.yml'\n",
    "neurotic.download(remote_metadata, './metadata.yml', overwrite_existing=False)"
   ]
  },
  {
   "cell_type": "markdown",
   "metadata": {},
   "source": [
    "The `MetadataSelectorWidget` allows you to view the names and descriptions of data sets listed in `metadata.yml` and to select the one you would like to work with. Each data set may contain multiple files, such as an electrophysiology data file and a video file. Here is the key for icons found at the left of each entry:<br/>\n",
    "&nbsp;&nbsp; ◆ &nbsp;&nbsp; all files can be found locally and none need to be downloaded<br/>\n",
    "&nbsp;&nbsp; ⬖ &nbsp;&nbsp; some files can be found locally and others cannot<br/>\n",
    "&nbsp;&nbsp; ◇ &nbsp;&nbsp; no files can be found locally and all need to be downloaded<br/>\n",
    "&nbsp;&nbsp;&nbsp; ! &nbsp;&nbsp;&nbsp; the `video_offset` parameter is not set, which can cause out-of-sync video playback"
   ]
  },
  {
   "cell_type": "code",
   "execution_count": null,
   "metadata": {},
   "outputs": [],
   "source": [
    "# choose a data set to load\n",
    "metadata = neurotic.MetadataSelectorWidget(file='./metadata.yml')\n",
    "display(metadata)"
   ]
  },
  {
   "cell_type": "markdown",
   "metadata": {},
   "source": [
    "The next cell will download all of the data files associated with the selected data set. Unless `overwrite_existing=True`, a file will only be downloaded if a copy isn't found locally to avoid overwritting local changes."
   ]
  },
  {
   "cell_type": "code",
   "execution_count": null,
   "metadata": {},
   "outputs": [],
   "source": [
    "# download the data files\n",
    "metadata.download_all_data_files(overwrite_existing=False)"
   ]
  },
  {
   "cell_type": "markdown",
   "metadata": {},
   "source": [
    "### 2.2  Load Data and Configure Ephyviewer"
   ]
  },
  {
   "cell_type": "markdown",
   "metadata": {},
   "source": [
    "The next cell will use the settings contained in `metadata.yml` for the selected data set to do the following:\n",
    "* read the electrophysiology data file\n",
    "* apply filters to signals (`lazy=False` only)\n",
    "* read annotations contained in CSV files\n",
    "* run a simple spike detection algorithm using amplitude windows (`lazy=False` only)\n",
    "* import spikes previously sorted by tridesclous\n",
    "* calculate firing rates (`lazy=False` only)\n",
    "* calculate rectified area under the curve (RAUC) time series for each signal (`lazy=False` only)\n",
    "\n",
    "When this is complete, a configuration widget will display that allows you to control which of the modular data viewers you would like the application to show. Click the \"Launch\" button to start up the application.\n",
    "\n",
    "__Each time a new data set is selected using the `MetadataSelectorWidget`, you must rerun this cell.__"
   ]
  },
  {
   "cell_type": "code",
   "execution_count": null,
   "metadata": {},
   "outputs": [],
   "source": [
    "# this cell must be rerun each time a new data set is selected above\n",
    "\n",
    "# lazy loading takes advantage of Neo's high performance RawIO classes,\n",
    "# which can read portions of files \"on demand\" to get just the data that\n",
    "# is needed for plotting the currently visible time span\n",
    "# - this decreases loading time and consumes much less memory, especially\n",
    "#   for large files\n",
    "# - to take advantage of these benefits, signal filtering, amplitude\n",
    "#   window spike discrimination, firing rate, and RAUC computation must\n",
    "#   be disabled\n",
    "# - spike markers on signals are currently incompatible with lazy loading\n",
    "lazy = False\n",
    "\n",
    "blk = neurotic.load_dataset(metadata, lazy=lazy)\n",
    "\n",
    "ephyviewer_config = neurotic.EphyviewerConfiguratorWidget(metadata, blk, lazy)\n",
    "ephyviewer_config.show_all()\n",
    "display(ephyviewer_config)"
   ]
  },
  {
   "cell_type": "markdown",
   "metadata": {},
   "source": [
    "Executing the next cell is equivalent to pressing the \"Launch\" button and is provided for the convenience of running all cells in the notebook at once to start the application."
   ]
  },
  {
   "cell_type": "code",
   "execution_count": null,
   "metadata": {},
   "outputs": [],
   "source": [
    "# using the buttons above, select the viewers you'd like to see,\n",
    "# then either click \"Launch\" or run this cell\n",
    "ephyviewer_config.launch_ephyviewer()"
   ]
  },
  {
   "cell_type": "markdown",
   "metadata": {},
   "source": [
    "After launching, you should see something like the following:\n",
    "\n",
    "![example screenshot][screenshot]\n",
    "\n",
    "[screenshot]: https://raw.githubusercontent.com/jpgill86/neurotic/master/docs/_static/example-screenshot.png"
   ]
  },
  {
   "cell_type": "markdown",
   "metadata": {},
   "source": [
    "## 3  API Tutorial"
   ]
  },
  {
   "cell_type": "markdown",
   "metadata": {},
   "source": [
    "This section provides an introduction to *neurotic*'s API."
   ]
  },
  {
   "cell_type": "markdown",
   "metadata": {},
   "source": [
    "Before getting started, run this cell to download a small data set needed for the examples below."
   ]
  },
  {
   "cell_type": "code",
   "execution_count": null,
   "metadata": {},
   "outputs": [],
   "source": [
    "metadata = neurotic.MetadataSelector(file='./metadata.yml')\n",
    "metadata.select('Aplysia feeding')\n",
    "metadata.download_all_data_files(overwrite_existing=False)"
   ]
  },
  {
   "cell_type": "markdown",
   "metadata": {},
   "source": [
    "### 3.1  Minimal Working Examples"
   ]
  },
  {
   "cell_type": "markdown",
   "metadata": {},
   "source": [
    "*neurotic* provides a function called [``neurotic.quick_launch``][quick_launch], which is the easiest way to get started with the API.\n",
    "\n",
    "[quick_launch]: https://neurotic.readthedocs.io/en/latest/api/scripts.html#neurotic.scripts.quick_launch"
   ]
  },
  {
   "cell_type": "markdown",
   "metadata": {},
   "source": [
    "[Neo][Neo] users can call ``quick_launch`` with a [``neo.Block``][neo.Block] object that has already been loaded into memory to visualize data using the [ephyviewer][ephyviewer] library. *neurotic* handles the configuration of the user interface and, in the simplest case, just passes the ``neo.Block`` to the appropriate viewers.\n",
    "\n",
    "For example, try running the cell below. A window will open (possibly behind your browser window) that displays the contents of a randomly generated ``neo.Block``. You may wish to rescale the signals, which can be done by pressing the \"Auto scale\" button. You must close the window before moving on to the next example.\n",
    "\n",
    "[ephyviewer]:   https://ephyviewer.readthedocs.io\n",
    "[Neo]:          https://neo.readthedocs.io\n",
    "[neo.Block]:    https://neo.readthedocs.io/en/stable/api_reference.html#neo.core.Block"
   ]
  },
  {
   "cell_type": "code",
   "execution_count": null,
   "metadata": {},
   "outputs": [],
   "source": [
    "# randomly generate a Neo Block containing signals, spike trains, epochs, and events\n",
    "blk = generate_one_simple_block(nb_segment=1, supported_objects=neo.objectlist)\n",
    "\n",
    "# start a GUI that plots the contents of the Block\n",
    "neurotic.quick_launch(blk=blk)"
   ]
  },
  {
   "cell_type": "markdown",
   "metadata": {},
   "source": [
    "Where *neurotic* really shines is if you let it handle data loading and processing for you. Instead of (or in addition to) calling ``quick_launch`` with a ready-to-go ``neo.Block``, you may call it with configuration instructions, called \"metadata\". Metadata may be as simple as a dictionary containing only the path to an electrophysiology data file.\n",
    "\n",
    "In the example below, we define a simple metadata dictionary containing the path to an example ephys file in the AxoGraph format. When ``quick_launch`` executes, it reads the file into a ``neo.Block`` and then displays it in the user interface."
   ]
  },
  {
   "cell_type": "code",
   "execution_count": null,
   "metadata": {},
   "outputs": [],
   "source": [
    "metadata = {'data_file': 'aplysia-feeding/data.axgx'}\n",
    "neurotic.quick_launch(metadata)"
   ]
  },
  {
   "cell_type": "markdown",
   "metadata": {},
   "source": [
    "### 3.2  Adding Complexity"
   ]
  },
  {
   "cell_type": "markdown",
   "metadata": {},
   "source": [
    "By adding to the ``metadata`` dictionary, we can get *neurotic* to do much more with the data. Documentation about configuring metadata can be found here: [Configuring Metadata][metadata].\n",
    "\n",
    "For example, we can specify [amplitude thresholds][spike detection] so that spikes can be detected when the data is loaded. After running the cell below, notice that peaks are marked on the \"BN2\" channel, and a raster plot of the spike train appears below the signals.\n",
    "\n",
    "This requires that we disable \"lazy loading\" of data files. When enabled (default), \"lazy loading\" or \"fast loading\" is used for speeding up load times and minimizing memory usage.\n",
    "\n",
    "[metadata]:        https://neurotic.readthedocs.io/en/latest/metadata.html\n",
    "[spike detection]: https://neurotic.readthedocs.io/en/latest/metadata.html#amplitude-discriminators"
   ]
  },
  {
   "cell_type": "code",
   "execution_count": null,
   "metadata": {},
   "outputs": [],
   "source": [
    "metadata = {\n",
    "    'data_file': 'aplysia-feeding/data.axgx',\n",
    "\n",
    "    'amplitude_discriminators': [\n",
    "        {\n",
    "            'name':      'B3 neuron',\n",
    "            'channel':   'BN2',\n",
    "            'units':     'uV',\n",
    "            'amplitude': [-60, -25],\n",
    "        },\n",
    "    ],\n",
    "}\n",
    "\n",
    "# lazy=False is required for amplitude_discriminators\n",
    "neurotic.quick_launch(metadata, lazy=False)"
   ]
  },
  {
   "cell_type": "markdown",
   "metadata": {},
   "source": [
    "Next, let's add a low-pass [filter][filters] to smooth out the force transducer signal. Notice that the high-frequency noise in the force signal has been reduced.\n",
    "\n",
    "[filters]: https://neurotic.readthedocs.io/en/latest/metadata.html#filters"
   ]
  },
  {
   "cell_type": "code",
   "execution_count": null,
   "metadata": {},
   "outputs": [],
   "source": [
    "metadata = {\n",
    "    'data_file': 'aplysia-feeding/data.axgx',\n",
    "    \n",
    "    'amplitude_discriminators': [\n",
    "        {\n",
    "            'name':      'B3 neuron',\n",
    "            'channel':   'BN2',\n",
    "            'units':     'uV',\n",
    "            'amplitude': [-60, -25],\n",
    "        },\n",
    "    ],\n",
    "    \n",
    "    'filters': [\n",
    "        {\n",
    "            'channel': 'Force',\n",
    "            'lowpass': 50 # Hz\n",
    "        },\n",
    "    ],\n",
    "}\n",
    "\n",
    "# lazy=False is required for amplitude_discriminators and filters\n",
    "neurotic.quick_launch(metadata, lazy=False)"
   ]
  },
  {
   "cell_type": "markdown",
   "metadata": {},
   "source": [
    "The behavior of the animal that generated this example data (a sea slug feeding on seaweed) was recorded during the experiment. With a couple more additions to the metadata, we can load the video too and synchronize it with the signals."
   ]
  },
  {
   "cell_type": "code",
   "execution_count": null,
   "metadata": {},
   "outputs": [],
   "source": [
    "metadata = {\n",
    "    'data_file': 'aplysia-feeding/data.axgx',\n",
    "\n",
    "    'amplitude_discriminators': [\n",
    "        {\n",
    "            'name':      'B3 neuron',\n",
    "            'channel':   'BN2',\n",
    "            'units':     'uV',\n",
    "            'amplitude': [-60, -25],\n",
    "        },\n",
    "    ],\n",
    "\n",
    "    'filters': [\n",
    "        {\n",
    "            'channel': 'Force',\n",
    "            'lowpass': 50 # Hz\n",
    "        },\n",
    "    ],\n",
    "\n",
    "    'video_file': 'aplysia-feeding/video.mp4',\n",
    "    'video_offset': 2875.3, # seconds <--- used for aligning video and data\n",
    "}\n",
    "\n",
    "# lazy=False is required for amplitude_discriminators and filters\n",
    "neurotic.quick_launch(metadata, lazy=False)"
   ]
  },
  {
   "cell_type": "markdown",
   "metadata": {},
   "source": [
    "### 3.3  Storing Metadata in a File"
   ]
  },
  {
   "cell_type": "markdown",
   "metadata": {},
   "source": [
    "The examples above demonstrate how to use *neurotic* to get something working quickly. However, you may wish to maintain metadata for multiple data sets in a more convenient form. For this, *neurotic* supports reading metadata from [YAML][YAML] files. For example, the metadata shown above could be stored like this in a plain text file (typically with the file extension ``*.yml`` or ``*.yaml``):\n",
    "\n",
    "``` yaml\n",
    "example dataset:\n",
    "    data_file: aplysia-feeding/data.axgx\n",
    "\n",
    "    amplitude_discriminators:\n",
    "        - name:      B3 neuron\n",
    "          channel:   BN2\n",
    "          units:     uV\n",
    "          amplitude: [-60, -25]\n",
    "\n",
    "    filters:\n",
    "        - channel: Force\n",
    "          lowpass: 50 # Hz\n",
    "\n",
    "    video_file: aplysia-feeding/video.mp4\n",
    "    video_offset: 2875.3 # seconds\n",
    "```\n",
    "\n",
    "[YAML]: https://en.wikipedia.org/wiki/YAML"
   ]
  },
  {
   "cell_type": "markdown",
   "metadata": {},
   "source": [
    "Multiple metadata sets can be included in a single YAML file. These could correspond to different data sets (with different files), or to different configurations using the same data set. The following example shows how multiple configurations for the example data could be stored in a single YAML file. Each must have a unique key (e.g., ``minimal example``, ``fancy example``) and can be given a ``description`` to distinguish them.\n",
    "\n",
    "``` yaml\n",
    "minimal example:\n",
    "    description: 'Load just the raw data'\n",
    "\n",
    "    data_file: aplysia-feeding/data.axgx\n",
    "\n",
    "fancy example:\n",
    "    description: 'Load data and video, apply filters, detect spikes'\n",
    "\n",
    "    data_file: aplysia-feeding/data.axgx\n",
    "\n",
    "    amplitude_discriminators:\n",
    "        - name:      B3 neuron\n",
    "          channel:   BN2\n",
    "          units:     uV\n",
    "          amplitude: [-60, -25]\n",
    "\n",
    "    filters:\n",
    "        - channel: Force\n",
    "          lowpass: 50 # Hz\n",
    "\n",
    "    video_file: aplysia-feeding/video.mp4\n",
    "    video_offset: 2875.3 # seconds\n",
    "```"
   ]
  },
  {
   "cell_type": "markdown",
   "metadata": {},
   "source": [
    "To see how this can be used, first run the cell below to create a new file called ``demo.yml`` containing the YAML-formatted metadata shown above."
   ]
  },
  {
   "cell_type": "code",
   "execution_count": null,
   "metadata": {},
   "outputs": [],
   "source": [
    "file_contents = \\\n",
    "\"\"\"\n",
    "minimal example:\n",
    "    description: 'Load just the raw data'\n",
    "\n",
    "    data_file: aplysia-feeding/data.axgx\n",
    "\n",
    "fancy example:\n",
    "    description: 'Load data and video, apply filters, detect spikes'\n",
    "\n",
    "    data_file: aplysia-feeding/data.axgx\n",
    "\n",
    "    amplitude_discriminators:\n",
    "        - name:      B3 neuron\n",
    "          channel:   BN2\n",
    "          units:     uV\n",
    "          amplitude: [-60, -25]\n",
    "\n",
    "    filters:\n",
    "        - channel: Force\n",
    "          lowpass: 50 # Hz\n",
    "\n",
    "    video_file: aplysia-feeding/video.mp4\n",
    "    video_offset: 2875.3 # seconds\n",
    "\"\"\"\n",
    "\n",
    "with open('demo.yml', 'w') as f:\n",
    "    f.write(file_contents)"
   ]
  },
  {
   "cell_type": "markdown",
   "metadata": {},
   "source": [
    "### 3.4  Reading Metadata from a File"
   ]
  },
  {
   "cell_type": "markdown",
   "metadata": {},
   "source": [
    "To read and manage metadata in a YAML file, we can create a [``neurotic.MetadataSelector``][MetadataSelector] object:\n",
    "\n",
    "[MetadataSelector]: https://neurotic.readthedocs.io/en/latest/api/metadata.html#neurotic.datasets.metadata.MetadataSelector"
   ]
  },
  {
   "cell_type": "code",
   "execution_count": null,
   "metadata": {},
   "outputs": [],
   "source": [
    "metadata = neurotic.MetadataSelector(file='demo.yml')"
   ]
  },
  {
   "cell_type": "markdown",
   "metadata": {},
   "source": [
    "When a YAML file is read using the ``MetadataSelector``, default values are filled in automatically for missing parameters. The contents of the loaded file can be displayed using the ``all_metadata`` attribute."
   ]
  },
  {
   "cell_type": "code",
   "execution_count": null,
   "metadata": {},
   "outputs": [],
   "source": [
    "metadata.all_metadata"
   ]
  },
  {
   "cell_type": "markdown",
   "metadata": {},
   "source": [
    "After a ``MetadataSelector`` has loaded a file, you must select which entry in the file you wish to use. This is done using the ``select()`` method. You may use ``keys`` to list the available entry names."
   ]
  },
  {
   "cell_type": "code",
   "execution_count": null,
   "metadata": {},
   "outputs": [],
   "source": [
    "metadata.keys"
   ]
  },
  {
   "cell_type": "markdown",
   "metadata": {},
   "source": [
    "Let's select the \"``fance example``\", which includes video, an analog signal filter, and spike detection."
   ]
  },
  {
   "cell_type": "code",
   "execution_count": null,
   "metadata": {},
   "outputs": [],
   "source": [
    "metadata.select('fancy example')"
   ]
  },
  {
   "cell_type": "markdown",
   "metadata": {},
   "source": [
    "Now, through the magic of the ``MetadataSelector`` class, the ``metadata`` object can be treated like the dictionaries created earlier for the simpler examples. For instance, parameters for the selected configuration can be extracted like this:"
   ]
  },
  {
   "cell_type": "code",
   "execution_count": null,
   "metadata": {},
   "outputs": [],
   "source": [
    "metadata['data_file']"
   ]
  },
  {
   "cell_type": "markdown",
   "metadata": {},
   "source": [
    "The ``MetadataSelector`` instance can also be passed to ``quick_launch``:"
   ]
  },
  {
   "cell_type": "code",
   "execution_count": null,
   "metadata": {},
   "outputs": [],
   "source": [
    "neurotic.quick_launch(metadata, lazy=False)"
   ]
  },
  {
   "cell_type": "markdown",
   "metadata": {},
   "source": [
    "### 3.5  Downloading Files"
   ]
  },
  {
   "cell_type": "markdown",
   "metadata": {},
   "source": [
    "If data files are made available for download from the internet, metadata can be configured so that ``MetadataSelector`` will be able to download them on demand using the ``download`` and ``download_all_data_files`` methods. This feature was used at the start of this tutorial to retrieve the files needed to run these examples.\n",
    "\n",
    "For more information about configuring metadata for downloads, [see the documentation][remote data].\n",
    "\n",
    "[remote data]: https://neurotic.readthedocs.io/en/latest/metadata.html#remote-data-available-for-download"
   ]
  },
  {
   "cell_type": "markdown",
   "metadata": {},
   "source": [
    "### 3.6  Loading Data Sets"
   ]
  },
  {
   "cell_type": "markdown",
   "metadata": {},
   "source": [
    "``quick_launch`` is a convenience function that wraps two fundamental procedures into one:\n",
    "\n",
    "1. Load and process the data according to the specifications given in the selected metadata, resulting in a [``neo.Block``][neo.Block].\n",
    "2. Configure and launch the interactive user interface, displaying the data in the ``neo.Block`` (and possibly other data such as video).\n",
    "\n",
    "We will explore the first of these procedures in more detail now.\n",
    "\n",
    "[neo.Block]:    https://neo.readthedocs.io/en/stable/api_reference.html#neo.core.Block"
   ]
  },
  {
   "cell_type": "markdown",
   "metadata": {},
   "source": [
    "The [``neurotic.load_dataset``][load_dataset] function is used by ``quick_launch``---and can be used by you directly---to read data from files and apply procedures like signal filtering and spike detection. ``load_dataset`` uses metadata information passed to it to locate files and determine which, if any, data processing steps to take. It returns a [``neo.Block``][neo.Block] object for representing the loaded and processed neuroscience data.\n",
    "\n",
    "[load_dataset]: https://neurotic.readthedocs.io/en/latest/api/data.html#neurotic.datasets.data.load_dataset\n",
    "[neo.Block]:    https://neo.readthedocs.io/en/stable/api_reference.html#neo.core.Block"
   ]
  },
  {
   "cell_type": "markdown",
   "metadata": {},
   "source": [
    "For example, we can use ``load_dataset`` with the \"``fancy example``\" specifications to load the example data file, apply a low-pass filter to the \"Force\" channel, run a spike detection algorithm on the \"BN2\" channel, and then inspect the results."
   ]
  },
  {
   "cell_type": "code",
   "execution_count": null,
   "metadata": {},
   "outputs": [],
   "source": [
    "metadata = neurotic.MetadataSelector(file='demo.yml')\n",
    "metadata.select('fancy example')\n",
    "blk = neurotic.load_dataset(metadata, lazy=False)"
   ]
  },
  {
   "cell_type": "code",
   "execution_count": null,
   "metadata": {},
   "outputs": [],
   "source": [
    "# show the entire neo.Block\n",
    "display(blk)"
   ]
  },
  {
   "cell_type": "code",
   "execution_count": null,
   "metadata": {},
   "outputs": [],
   "source": [
    "# show the times at which spikes were detected\n",
    "display(blk.segments[0].spiketrains[0].times)"
   ]
  },
  {
   "cell_type": "markdown",
   "metadata": {},
   "source": [
    "### 3.7  Configuring the GUI"
   ]
  },
  {
   "cell_type": "markdown",
   "metadata": {},
   "source": [
    "To launch the graphical user interface, which is built using the [ephyviewer][ephyviewer] library, ``quick_launch`` uses the [``neurotic.EphyviewerConfigurator``][EphyviewerConfigurator] class. By using it directly in your code instead of ``quick_launch``, you can obtain greater control over which data types are displayed and over the appearance of the interface.\n",
    "\n",
    "[ephyviewer]:             https://ephyviewer.readthedocs.io\n",
    "[EphyviewerConfigurator]: https://neurotic.readthedocs.io/en/latest/api/config.html#neurotic.gui.config.EphyviewerConfigurator"
   ]
  },
  {
   "cell_type": "markdown",
   "metadata": {},
   "source": [
    "For instance, you may wish to visualize the \"``fancy example``\" data set and to display spikes as points plotted on the signal, but you might want to hide the raster plot of the spike train because it contains redundant information. In the cell below, ``EphyviewerConfigurator`` is used to control which data viewers are hidden. It is also used to enlarge the interface text."
   ]
  },
  {
   "cell_type": "code",
   "execution_count": null,
   "metadata": {},
   "outputs": [],
   "source": [
    "metadata = neurotic.MetadataSelector(file='demo.yml')\n",
    "metadata.select('fancy example')\n",
    "blk = neurotic.load_dataset(metadata, lazy=False)\n",
    "ephyviewer_config = neurotic.EphyviewerConfigurator(metadata, blk, lazy=False)\n",
    "\n",
    "# do not show raster plot of spike train\n",
    "ephyviewer_config.hide('spike_trains')\n",
    "\n",
    "# launch the GUI with large fonts\n",
    "ephyviewer_config.launch_ephyviewer(ui_scale='large')"
   ]
  },
  {
   "cell_type": "markdown",
   "metadata": {},
   "source": [
    "### 3.8  Jupyter Notebook Widgets"
   ]
  },
  {
   "cell_type": "markdown",
   "metadata": {},
   "source": [
    "When working in Jupyter notebooks, you may use [``neurotic.MetadataSelectorWidget``][MetadataSelectorWidget] in place of ``MetadataSelector`` to read YAML files and display an interactive list.\n",
    "\n",
    "[MetadataSelectorWidget]: https://neurotic.readthedocs.io/en/latest/api/notebook.html#neurotic.gui.notebook.MetadataSelectorWidget"
   ]
  },
  {
   "cell_type": "code",
   "execution_count": null,
   "metadata": {},
   "outputs": [],
   "source": [
    "metadata = neurotic.MetadataSelectorWidget(file='demo.yml')\n",
    "display(metadata)"
   ]
  },
  {
   "cell_type": "markdown",
   "metadata": {},
   "source": [
    "The `MetadataSelectorWidget` allows you to view the keys and descriptions of data sets listed in the YAML file and to select the one you would like to work with. The \"Reload\" button at the bottom of the widget reloads the YAML file's contents.\n",
    "\n",
    "Each data set may contain multiple files, such as an electrophysiology data file and a video file. Here is the key for icons found at the left of each entry:<br/>\n",
    "&nbsp;&nbsp; ◆ &nbsp;&nbsp; all files can be found locally<br/>\n",
    "&nbsp;&nbsp; ⬖ &nbsp;&nbsp; some files can be found locally and others cannot (these may need to be downloaded)<br/>\n",
    "&nbsp;&nbsp; ◇ &nbsp;&nbsp; no files can be found locally (all may need to be downloaded)<br/>\n",
    "&nbsp;&nbsp;&nbsp; ! &nbsp;&nbsp;&nbsp; the `video_offset` parameter is not set, which can cause out-of-sync video playback"
   ]
  },
  {
   "cell_type": "markdown",
   "metadata": {},
   "source": [
    "By clicking on an entry in the widget above, you select which metadata set is used when the `MetadataSelectorWidget` instance is passed to other *neurotic* functions, like ``quick_launch``. Try changing the selection above and running the cell below. Notice that the entry name appears in the window title of the app."
   ]
  },
  {
   "cell_type": "code",
   "execution_count": null,
   "metadata": {},
   "outputs": [],
   "source": [
    "neurotic.quick_launch(metadata, lazy=False)"
   ]
  },
  {
   "cell_type": "markdown",
   "metadata": {},
   "source": [
    "In Jupyter notebooks, you may also use [``neurotic.EphyviewerConfiguratorWidget``][EphyviewerConfiguratorWidget] instead of ``EphyviewerConfigurator`` for controlling which viewers are visible and launching the interface.\n",
    "\n",
    "Note, however, that the ``EphyviewerConfiguratorWidget`` must be reconstructed if the metadata selection changes, and ``load_dataset`` must also be run first.\n",
    "\n",
    "[EphyviewerConfiguratorWidget]: https://neurotic.readthedocs.io/en/latest/api/notebook.html#neurotic.gui.notebook.EphyviewerConfiguratorWidget"
   ]
  },
  {
   "cell_type": "code",
   "execution_count": null,
   "metadata": {},
   "outputs": [],
   "source": [
    "metadata = neurotic.MetadataSelector(file='demo.yml')\n",
    "metadata.select('fancy example')\n",
    "blk = neurotic.load_dataset(metadata, lazy=False)\n",
    "ephyviewer_config = neurotic.EphyviewerConfiguratorWidget(metadata, blk, lazy=False)\n",
    "display(ephyviewer_config)"
   ]
  },
  {
   "cell_type": "code",
   "execution_count": null,
   "metadata": {},
   "outputs": [],
   "source": []
  }
 ],
 "metadata": {
  "kernelspec": {
   "display_name": "Python 3",
   "language": "python",
   "name": "python3"
  },
  "language_info": {
   "codemirror_mode": {
    "name": "ipython",
    "version": 3
   },
   "file_extension": ".py",
   "mimetype": "text/x-python",
   "name": "python",
   "nbconvert_exporter": "python",
   "pygments_lexer": "ipython3",
   "version": "3.7.6"
  }
 },
 "nbformat": 4,
 "nbformat_minor": 2
}
