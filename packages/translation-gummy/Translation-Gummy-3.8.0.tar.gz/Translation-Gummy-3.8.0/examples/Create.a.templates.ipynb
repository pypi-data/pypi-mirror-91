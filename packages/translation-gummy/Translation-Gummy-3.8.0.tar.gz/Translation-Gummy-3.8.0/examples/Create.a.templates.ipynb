{
 "cells": [
  {
   "cell_type": "markdown",
   "metadata": {},
   "source": [
    "# Create a Template"
   ]
  },
  {
   "cell_type": "markdown",
   "metadata": {},
   "source": [
    "PDF(HTML) templates are shown [here](https://github.com/iwasakishuto/Translation-Gummy/tree/master/gummy/templates)."
   ]
  },
  {
   "cell_type": "code",
   "execution_count": 1,
   "metadata": {},
   "outputs": [
    {
     "name": "stdout",
     "output_type": "stream",
     "text": [
      "\u001b[32m[success]\u001b[0m local driver can be built.\n",
      "\u001b[31m[failure]\u001b[0m remote driver can't be built.\n",
      "DRIVER_TYPE: \u001b[32mlocal\u001b[0m\n"
     ]
    }
   ],
   "source": [
    "from gummy.utils import tohtml"
   ]
  },
  {
   "cell_type": "code",
   "execution_count": 2,
   "metadata": {
    "code_folding": []
   },
   "outputs": [],
   "source": [
    "contents = [\n",
    "    {\n",
    "        \"en\": \"English\",\n",
    "        \"ja\": \"日本語\",\n",
    "        \"head\": \"見出し\",\n",
    "        \"subhead\": \"小見出し\"\n",
    "    }\n",
    "]"
   ]
  },
  {
   "cell_type": "code",
   "execution_count": 3,
   "metadata": {},
   "outputs": [
    {
     "name": "stdout",
     "output_type": "stream",
     "text": [
      "Save HTML file at \u001b[34mexample.html\u001b[0m\n"
     ]
    },
    {
     "name": "stderr",
     "output_type": "stream",
     "text": [
      "/Users/iwasakishuto/Github/Translation-Gummy/gummy/utils/outfmt_utils.py:46: UserWarning: An attribute \u001b[32mimg\u001b[0m is not used in this contents, but used in \u001b[34m/Users/iwasakishuto/Github/Translation-Gummy/gummy/templates/paper.html\u001b[0m.\n",
      "  warnings.warn(f\"An attribute {toGREEN(key)} is not used in this contents, but used in {toBLUE(path)}.\")\n"
     ]
    }
   ],
   "source": [
    "_ = tohtml(\n",
    "    path=\"example.html\", \n",
    "    title=\"Title\", \n",
    "    contents=contents,\n",
    "    template=\"paper.html\",\n",
    ")"
   ]
  },
  {
   "cell_type": "code",
   "execution_count": null,
   "metadata": {},
   "outputs": [],
   "source": []
  }
 ],
 "metadata": {
  "hide_input": false,
  "kernelspec": {
   "display_name": "Python 3 (/usr/local/bin/)",
   "language": "python",
   "name": "python3"
  },
  "language_info": {
   "codemirror_mode": {
    "name": "ipython",
    "version": 3
   },
   "file_extension": ".py",
   "mimetype": "text/x-python",
   "name": "python",
   "nbconvert_exporter": "python",
   "pygments_lexer": "ipython3",
   "version": "3.8.5"
  }
 },
 "nbformat": 4,
 "nbformat_minor": 4
}
