{
 "cells": [
  {
   "cell_type": "markdown",
   "source": [
    "# pyHDX basics"
   ],
   "metadata": {
    "collapsed": false,
    "pycharm": {
     "name": "#%% md\n"
    }
   }
  },
  {
   "cell_type": "code",
   "execution_count": 2,
   "outputs": [],
   "source": [
    "from pyhdx import PeptideMasterTable, read_dynamx\n",
    "from pathlib import Path"
   ],
   "metadata": {
    "collapsed": false,
    "pycharm": {
     "name": "#%%\n",
     "is_executing": false
    }
   }
  },
  {
   "cell_type": "markdown",
   "source": [
    "We can use the ``read_dynamx`` function to read the file. This function returns a ``numpy`` structured array where each\n",
    "entry corresponds to one peptide, in this example 567 peptides. "
   ],
   "metadata": {
    "collapsed": false,
    "pycharm": {
     "name": "#%% md\n",
     "is_executing": false
    }
   }
  },
  {
   "cell_type": "code",
   "source": [
    "fpath = Path() / '..' / '..' / 'tests' / 'test_data' / 'ecSecB_apo.csv'\n",
    "data = read_dynamx(fpath)\n",
    "len(data)"
   ],
   "metadata": {
    "collapsed": false,
    "pycharm": {
     "name": "#%%\n",
     "is_executing": false
    }
   },
   "execution_count": 12,
   "outputs": [
    {
     "data": {
      "text/plain": "567"
     },
     "metadata": {},
     "output_type": "execute_result",
     "execution_count": 12
    }
   ]
  },
  {
   "cell_type": "markdown",
   "source": [
    " This array is loaded into the ``PeptideMasterTable`` class, which is the main data entry class. By specifying ``drop_first`` \n",
    " the number of n-terminal residues to remove can be changed and with ``ignore_prolines`` prolines residues, which do not\n",
    " have exchanging amide hydrogens, can be ignored."
   ],
   "metadata": {
    "collapsed": false,
    "pycharm": {
     "name": "#%% md\n",
     "is_executing": false
    }
   }
  },
  {
   "cell_type": "code",
   "source": [
    "master_table = PeptideMasterTable(data, drop_first=1, ignore_prolines=True)"
   ],
   "metadata": {
    "collapsed": false,
    "pycharm": {
     "name": "#%%\n",
     "is_executing": false
    }
   },
   "execution_count": 16,
   "outputs": []
  },
  {
   "cell_type": "markdown",
   "source": [
    "This master table allows us to control how the deuterium uptake content is determined. The method ``set_control`` can be\n",
    "used to choose which set of peptides is used as the fully deuterated (FD) control. This adds a new field called 'uptake'\n",
    "which is the normalized (to 100%) deuterium uptake of each peptide. "
   ],
   "metadata": {
    "collapsed": false,
    "pycharm": {
     "name": "#%% md\n",
     "is_executing": false
    }
   }
  },
  {
   "cell_type": "code",
   "source": [
    "master_table.set_control(('Full deuteration control', 0.167))\n",
    "master_table.data['uptake'][:50]"
   ],
   "metadata": {
    "collapsed": false,
    "pycharm": {
     "name": "#%%\n",
     "is_executing": false
    }
   },
   "execution_count": 17,
   "outputs": [
    {
     "data": {
      "text/plain": "array([ 0.      ,  0.      ,  5.0734  ,  2.486444,  2.857141,  3.145738,\n        3.785886,  4.08295 ,  4.790625,  0.      ,  0.      ,  3.642506,\n        1.651437,  1.860919,  2.107151,  2.698036,  2.874801,  3.449561,\n        0.      ,  0.      ,  5.264543,  1.839924,  2.508343,  2.969332,\n        3.399092,  3.485568,  4.318144,  0.      ,  0.      ,  6.3179  ,\n        2.532099,  3.306167,  3.996718,  4.38941 ,  4.379495,  5.283969,\n        0.      ,  0.      ,  6.812215,  3.11985 ,  3.874881,  4.342807,\n        4.854057,  4.835639,  5.780219,  0.      ,  0.      , 10.8151  ,\n        5.432395,  6.1318  ])"
     },
     "metadata": {},
     "output_type": "execute_result",
     "execution_count": 17
    }
   ]
  },
  {
   "cell_type": "markdown",
   "source": [
    "Next we'll split the data and group them by their different states. This returns a dictionary where the values are\n",
    "all peptides for a given state. The peptides for each state are grouped by their exposure time, forming a ``KineticSeries`` \n",
    "object"
   ],
   "metadata": {
    "collapsed": false,
    "pycharm": {
     "name": "#%% md\n",
     "is_executing": false
    }
   }
  },
  {
   "cell_type": "code",
   "source": [
    "states = master_table.groupby_state()\n",
    "for key, value in states.items():\n",
    "    print(key, value)"
   ],
   "metadata": {
    "collapsed": false,
    "pycharm": {
     "name": "#%%\n",
     "is_executing": false
    }
   },
   "execution_count": 19,
   "outputs": [
    {
     "name": "stdout",
     "text": [
      "Full deuteration control <pyhdx.models.KineticsSeries object at 0x0000014774911FC8>\n",
      "SecB WT apo <pyhdx.models.KineticsSeries object at 0x000001477428F908>\n"
     ],
     "output_type": "stream"
    }
   ]
  },
  {
   "cell_type": "code",
   "execution_count": 6,
   "outputs": [
    {
     "name": "stdout",
     "text": [
      "dict_keys(['Full deuteration control', 'SecB WT apo'])\n"
     ],
     "output_type": "stream"
    }
   ],
   "source": [
    "series = states['SecB WT apo']\n",
    "type(series), len(series), series.timepoints"
   ],
   "metadata": {
    "collapsed": false,
    "pycharm": {
     "name": "#%%\n",
     "is_executing": false
    }
   }
  },
  {
   "cell_type": "markdown",
   "source": [
    "Iterating over a ``KineticSeries`` object returns a set of ``PeptideMeasurements`` each with their own attributes describing\n",
    "the topology of the coverage. When all ``PeptideMeasurements`` in the series have identical coverage, the series is said\n",
    "to be ``uniform``, which can be checked by the ``uniform`` property. Series can be made ``uniform`` by default, removing peptides which are not found in all timepoints. ``KineticsSeries`` are required to be \n",
    "uniform before fitting them.  "
   ],
   "metadata": {
    "collapsed": false,
    "pycharm": {
     "name": "#%% md\n",
     "is_executing": false
    }
   }
  },
  {
   "cell_type": "code",
   "source": [
    "print(series.uniform)\n",
    "series.make_uniform()  # This series already is uniform\n"
   ],
   "metadata": {
    "collapsed": false,
    "pycharm": {
     "name": "#%%\n",
     "is_executing": false
    }
   },
   "execution_count": null,
   "outputs": []
  }
 ],
 "metadata": {
  "kernelspec": {
   "name": "conda-env-py37_panel_dev-py",
   "language": "python",
   "display_name": "Python [conda env:py37_panel_dev]"
  },
  "language_info": {
   "codemirror_mode": {
    "name": "ipython",
    "version": 2
   },
   "file_extension": ".py",
   "mimetype": "text/x-python",
   "name": "python",
   "nbconvert_exporter": "python",
   "pygments_lexer": "ipython2",
   "version": "2.7.6"
  },
  "pycharm": {
   "stem_cell": {
    "cell_type": "raw",
    "source": [],
    "metadata": {
     "collapsed": false
    }
   }
  }
 },
 "nbformat": 4,
 "nbformat_minor": 0
}