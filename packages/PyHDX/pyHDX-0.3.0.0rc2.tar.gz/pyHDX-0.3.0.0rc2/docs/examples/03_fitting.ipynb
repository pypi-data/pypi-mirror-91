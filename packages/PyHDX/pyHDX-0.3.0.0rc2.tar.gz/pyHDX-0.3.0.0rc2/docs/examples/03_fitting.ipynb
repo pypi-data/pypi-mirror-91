{
 "cells": [
  {
   "cell_type": "markdown",
   "source": [
    "# Fitting"
   ],
   "metadata": {
    "collapsed": false,
    "pycharm": {
     "name": "#%% md\n"
    }
   }
  },
  {
   "cell_type": "code",
   "execution_count": 22,
   "outputs": [],
   "source": [
    "%matplotlib qt\n",
    "import matplotlib.pyplot as plt\n",
    "from pyhdx import PeptideMasterTable, read_dynamx, KineticsFitting\n",
    "from pathlib import Path\n",
    "import numpy as np"
   ],
   "metadata": {
    "collapsed": false,
    "pycharm": {
     "name": "#%%\n",
     "is_executing": false
    }
   }
  },
  {
   "cell_type": "code",
   "execution_count": 21,
   "outputs": [
    {
     "name": "stdout",
     "text": [
      "C:\\Users\\jhsmi\\pp\\PyHDX\\pyhdx\\__init__.py\n"
     ],
     "output_type": "stream"
    },
    {
     "data": {
      "text/plain": "'2f1502d'"
     },
     "metadata": {},
     "output_type": "execute_result",
     "execution_count": 21
    }
   ],
   "source": [
    "import pyhdx\n",
    "print(pyhdx.__file__)\n",
    "pyhdx.__git_sha__"
   ],
   "metadata": {
    "collapsed": false,
    "pycharm": {
     "name": "#%%\n",
     "is_executing": false
    }
   }
  },
  {
   "cell_type": "markdown",
   "source": [
    "We load the sample SecB dataset, apply the control, and split the dataset into ``KineticSeries``."
   ],
   "metadata": {
    "collapsed": false
   }
  },
  {
   "cell_type": "code",
   "execution_count": 2,
   "outputs": [],
   "source": [
    "fpath = Path() / '..' / '..' / 'tests' / 'test_data' / 'ecSecB_apo.csv'\n",
    "data = read_dynamx(fpath)\n",
    "master_table = PeptideMasterTable(data, drop_first=1, ignore_prolines=True)\n",
    "master_table.set_control(('Full deuteration control', 0.167))\n",
    "states = master_table.groupby_state()\n",
    "series = states['SecB WT apo']\n",
    "series.make_uniform()"
   ],
   "metadata": {
    "collapsed": false,
    "pycharm": {
     "name": "#%%\n",
     "is_executing": false
    }
   }
  },
  {
   "cell_type": "markdown",
   "source": [
    "From this ``KineticsSeries`` object we can make a ``KineticsFitting`` object. The ``bounds`` parameter defines the upper\n",
    "and lower limit of the kinetic rates which are fitted. Temperature (in Kelvin) and pH of the D-labelling step are used to\n",
    "calculate the intrinsic D-exchange rate. "
   ],
   "metadata": {
    "collapsed": false
   }
  },
  {
   "cell_type": "code",
   "execution_count": 3,
   "outputs": [],
   "source": [
    "kf = KineticsFitting(series, bounds=(1e-2, 300), temperature=303.15, pH=8.)"
   ],
   "metadata": {
    "collapsed": false,
    "pycharm": {
     "name": "#%%\n",
     "is_executing": false
    }
   }
  },
  {
   "cell_type": "markdown",
   "source": [
    "We can now start the first step of fitting, by weighted averaging. The ``RuntimeWarning`` messages are normal and can be ignored."
   ],
   "metadata": {
    "collapsed": false,
    "pycharm": {
     "name": "#%% md\n"
    }
   }
  },
  {
   "cell_type": "code",
   "execution_count": 4,
   "outputs": [
    {
     "name": "stderr",
     "text": [
      "C:\\Users\\jhsmi\\Miniconda3\\envs\\py37_panel_dev\\lib\\site-packages\\symfit\\core\\objectives.py:321: RuntimeWarning: overflow encountered in square\n",
      "  (dep_var_value - dep_data) ** 2 / sigma ** 2\n",
      "<string>:2: RuntimeWarning: overflow encountered in exp\n",
      "C:\\Users\\jhsmi\\Miniconda3\\envs\\py37_panel_dev\\lib\\site-packages\\scipy\\optimize\\optimize.py:2116: RuntimeWarning: invalid value encountered in double_scalars\n",
      "  tmp2 = (x - v) * (fx - fw)\n",
      "C:\\Users\\jhsmi\\Miniconda3\\envs\\py37_panel_dev\\lib\\site-packages\\scipy\\optimize\\minpack.py:175: RuntimeWarning: The iteration is not making good progress, as measured by the \n",
      "  improvement from the last ten iterations.\n",
      "  warnings.warn(msg, RuntimeWarning)\n",
      "<string>:2: RuntimeWarning: overflow encountered in exp\n",
      "<string>:2: RuntimeWarning: overflow encountered in exp\n",
      "<string>:2: RuntimeWarning: invalid value encountered in subtract\n"
     ],
     "output_type": "stream"
    }
   ],
   "source": [
    "result_wt_avg = kf.weighted_avg_fit()"
   ],
   "metadata": {
    "collapsed": false,
    "pycharm": {
     "name": "#%%\n",
     "is_executing": false
    }
   }
  },
  {
   "cell_type": "markdown",
   "source": [
    "The return value is a ``KineticsFitResult`` object. This object has a list of models, intervals in withing the protein \n",
    "sequence to which these models apply, and their corresponding ``symfit`` fit result with parameter values. The effective \n",
    "exchange rate can be extracted, as well as other fit parameters, from this object:"
   ],
   "metadata": {
    "collapsed": false,
    "pycharm": {
     "name": "#%% md\n"
    }
   }
  },
  {
   "cell_type": "code",
   "execution_count": 25,
   "outputs": [
    {
     "data": {
      "text/plain": "('r_number', 'rate', 'k1', 'k2', 'r')"
     },
     "metadata": {},
     "output_type": "execute_result",
     "execution_count": 25
    }
   ],
   "source": [
    "output = result_wt_avg.output\n",
    "output.dtype.names"
   ],
   "metadata": {
    "collapsed": false,
    "pycharm": {
     "name": "#%%\n",
     "is_executing": false
    }
   }
  },
  {
   "cell_type": "code",
   "execution_count": 26,
   "outputs": [],
   "source": [
    "fig, ax = plt.subplots()\n",
    "ax.set_yscale('log')\n",
    "ax.scatter(output['r_number'], output['rate'])\n",
    "ax.set_xlabel('Residue number')\n",
    "ax.set_ylabel('Rate (min⁻¹)')\n",
    "None"
   ],
   "metadata": {
    "collapsed": false,
    "pycharm": {
     "name": "#%%\n",
     "is_executing": false
    }
   }
  },
  {
   "cell_type": "markdown",
   "source": [
    "We can now use the weighted averaging fitted result as initial guesses for the global fitting step. This returns a\n",
    "``TFFitResult`` object, which has only one interval and model."
   ],
   "metadata": {
    "collapsed": false,
    "pycharm": {
     "name": "#%% md\n"
    }
   }
  },
  {
   "cell_type": "code",
   "execution_count": 7,
   "outputs": [],
   "source": [
    "result_global = kf.global_fit(output)\n"
   ],
   "metadata": {
    "collapsed": false,
    "pycharm": {
     "name": "#%%\n",
     "is_executing": false
    }
   }
  },
  {
   "cell_type": "markdown",
   "source": [
    "We can obtain protection factors and ΔG values from the result. The protection factors are in log (base 10) format."
   ],
   "metadata": {
    "collapsed": false,
    "pycharm": {
     "name": "#%% md\n"
    }
   }
  },
  {
   "cell_type": "code",
   "execution_count": 10,
   "outputs": [
    {
     "name": "stdout",
     "text": [
      "('r_number', 'log_P_full', 'log_P')\n"
     ],
     "output_type": "stream"
    }
   ],
   "source": [
    "tf_output = result_global.output\n",
    "print(tf_output.dtype.names)\n",
    "deltaG = 8.3*303.15*(tf_output['log_P'] / np.log10(np.e))"
   ],
   "metadata": {
    "collapsed": false,
    "pycharm": {
     "name": "#%%\n",
     "is_executing": false
    }
   }
  },
  {
   "cell_type": "code",
   "execution_count": 13,
   "outputs": [
    {
     "data": {
      "text/plain": "<Figure size 432x288 with 1 Axes>",
      "image/png": "[encoded data removed]"
     },
     "metadata": {
      "needs_background": "light"
     },
     "output_type": "display_data"
    }
   ],
   "source": [
    "fig, ax = plt.subplots()\n",
    "#ax.set_yscale('log')\n",
    "ax.scatter(tf_output['r_number'], deltaG*1e-3)\n",
    "ax.set_xlabel('Residue number')\n",
    "ax.set_ylabel('ΔG (kJ/mol)')\n",
    "None\n",
    "\n",
    "\n"
   ],
   "metadata": {
    "collapsed": false,
    "pycharm": {
     "name": "#%%\n",
     "is_executing": false
    }
   }
  }
 ],
 "metadata": {
  "kernelspec": {
   "name": "conda-env-py37_panel_dev-py",
   "language": "python",
   "display_name": "Python [conda env:py37_panel_dev]"
  },
  "language_info": {
   "codemirror_mode": {
    "name": "ipython",
    "version": 2
   },
   "file_extension": ".py",
   "mimetype": "text/x-python",
   "name": "python",
   "nbconvert_exporter": "python",
   "pygments_lexer": "ipython2",
   "version": "2.7.6"
  },
  "pycharm": {
   "stem_cell": {
    "cell_type": "raw",
    "source": [],
    "metadata": {
     "collapsed": false
    }
   }
  }
 },
 "nbformat": 4,
 "nbformat_minor": 0
}