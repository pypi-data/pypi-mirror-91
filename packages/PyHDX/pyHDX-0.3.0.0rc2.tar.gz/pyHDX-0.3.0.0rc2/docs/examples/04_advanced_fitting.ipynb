{
 "cells": [
  {
   "cell_type": "code",
   "execution_count": null,
   "metadata": {
    "collapsed": true
   },
   "outputs": [],
   "source": [
    "\n"
   ]
  },
  {
   "cell_type": "markdown",
   "source": [
    "## High-performance fitting with Dask\n",
    "\n",
    "Although fitting of a single medium sized protein will only take minutes on a typical computer, processing many datasets \n",
    "which cover many peptides can take long time. Therefore pyHDX supports parallel fitting through the parallel computing \n",
    "library ``Dask``. This allows fitting to be done in parallel or on a remote high-performance machine, thereby significantly\n",
    "speeding up the fitting process. The prerequisite for parallel fitting is that the fitting problem can be split in \n",
    "independent tasks. Weighted averaging fitting can be split into many subtasks by default as each block of residues is\n",
    "fitted separately. Parallelization of global fitting depends on the presence of regions of no coverage which split the\n",
    "fitting problem into subproblems.\n",
    "\n",
    "Parallel fitting in pyHDX uses the python 3.6+ ``async/await`` syntax together with an \n",
    "[asynchronous](https://distributed.dask.org/en/latest/asynchronous.html) ``dask`` client.  "
   ],
   "metadata": {
    "collapsed": false
   }
  },
  {
   "cell_type": "code",
   "execution_count": null,
   "outputs": [],
   "source": [
    "from dask.distributed import LocalCluster, Client\n",
    "import asyncio"
   ],
   "metadata": {
    "collapsed": false,
    "pycharm": {
     "name": "#%%\n"
    }
   }
  },
  {
   "cell_type": "markdown",
   "source": [
    "First we need a ``dask`` cluster, either we connect to an existing cluster or we create a local cluster. "
   ],
   "metadata": {
    "collapsed": false
   }
  },
  {
   "cell_type": "code",
   "execution_count": null,
   "outputs": [],
   "source": [
    "cluster = LocalCluster(n_workers=8)\n",
    "cluster.scheduler_address\n"
   ],
   "metadata": {
    "collapsed": false,
    "pycharm": {
     "name": "#%%\n"
    }
   }
  },
  {
   "cell_type": "markdown",
   "source": [
    "By passing the cluster's scheduler address to a ``KineticsFitting`` object we can use it's ``async`` methods to do\n",
    "asynchronous fitting. "
   ],
   "metadata": {
    "collapsed": false
   }
  },
  {
   "cell_type": "code",
   "execution_count": null,
   "outputs": [],
   "source": [
    "kf_async = KineticsFitting(series, cluster=cluster.scheduler_address, bounds=(1e-2, 300))"
   ],
   "metadata": {
    "collapsed": false,
    "pycharm": {
     "name": "#%%\n"
    }
   }
  },
  {
   "cell_type": "markdown",
   "source": [
    "In jupyter notebooks, the ``async`` fitting methods can be directly ``await``ed"
   ],
   "metadata": {
    "collapsed": false
   }
  },
  {
   "cell_type": "code",
   "execution_count": null,
   "outputs": [],
   "source": [
    "async_result_wt_avg = await kf_async.weighted_avg_fit_async()\n",
    "async_output_wt_avg = async_result_wt_avg.get_output(['rate', 'tau', 'tau1', 'tau2', 'r'])"
   ],
   "metadata": {
    "collapsed": false,
    "pycharm": {
     "name": "#%%\n"
    }
   }
  },
  {
   "cell_type": "code",
   "execution_count": null,
   "outputs": [],
   "source": [
    "async_result_global = await kf_async.global_fit_async(async_output_wt_avg)\n"
   ],
   "metadata": {
    "collapsed": false,
    "pycharm": {
     "name": "#%%\n"
    }
   }
  },
  {
   "cell_type": "code",
   "execution_count": null,
   "outputs": [],
   "source": [
    "async_output_global = async_result_global.get_output(['rate', 'tau', 'tau1', 'tau2', 'r'])"
   ],
   "metadata": {
    "collapsed": false,
    "pycharm": {
     "name": "#%%\n"
    }
   }
  },
  {
   "cell_type": "markdown",
   "source": [
    "We can verify that this produces the same result as the concurrent procedure."
   ],
   "metadata": {
    "collapsed": false
   }
  },
  {
   "cell_type": "code",
   "execution_count": null,
   "outputs": [],
   "source": [
    "fig, ax = plt.subplots()\n",
    "ax.set_yscale('log')\n",
    "ax.scatter(async_output_wt_avg['r_number'], async_output_wt_avg['rate'])\n",
    "ax.scatter(async_output_global['r_number'], async_output_global['rate'])\n",
    "ax.set_xlabel('Residue number')\n",
    "ax.set_ylabel('Rate (min⁻¹)')\n",
    "cluster.close()\n",
    "\n"
   ],
   "metadata": {
    "collapsed": false,
    "pycharm": {
     "name": "#%%\n"
    }
   }
  }
 ],
 "metadata": {
  "kernelspec": {
   "display_name": "Python 3",
   "language": "python",
   "name": "python3"
  },
  "language_info": {
   "codemirror_mode": {
    "name": "ipython",
    "version": 2
   },
   "file_extension": ".py",
   "mimetype": "text/x-python",
   "name": "python",
   "nbconvert_exporter": "python",
   "pygments_lexer": "ipython2",
   "version": "2.7.6"
  },
  "pycharm": {
   "stem_cell": {
    "cell_type": "raw",
    "source": [],
    "metadata": {
     "collapsed": false
    }
   }
  }
 },
 "nbformat": 4,
 "nbformat_minor": 0
}