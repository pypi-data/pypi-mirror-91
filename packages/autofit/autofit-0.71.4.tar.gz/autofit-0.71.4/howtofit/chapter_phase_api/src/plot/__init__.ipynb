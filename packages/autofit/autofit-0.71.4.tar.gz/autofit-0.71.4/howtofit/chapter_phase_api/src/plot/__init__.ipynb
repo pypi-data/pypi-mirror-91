{
  "cells": [
    {
      "cell_type": "code",
      "metadata": {},
      "source": [
        "from . import dataset_plots as Dataset\n",
        "from . import fit_plots as FitDataset\n",
        "from . import line_plots as Line\n"
      ],
      "outputs": [],
      "execution_count": null
    }
  ],
  "metadata": {
    "anaconda-cloud": {},
    "kernelspec": {
      "display_name": "Python 3",
      "language": "python",
      "name": "python3"
    },
    "language_info": {
      "codemirror_mode": {
        "name": "ipython",
        "version": 3
      },
      "file_extension": ".py",
      "mimetype": "text/x-python",
      "name": "python",
      "nbconvert_exporter": "python",
      "pygments_lexer": "ipython3",
      "version": "3.6.1"
    }
  },
  "nbformat": 4,
  "nbformat_minor": 4
}