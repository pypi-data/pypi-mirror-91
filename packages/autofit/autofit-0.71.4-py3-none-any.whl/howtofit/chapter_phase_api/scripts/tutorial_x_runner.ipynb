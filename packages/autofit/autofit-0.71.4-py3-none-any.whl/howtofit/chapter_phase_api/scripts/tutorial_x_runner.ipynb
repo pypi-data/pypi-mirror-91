{
  "cells": [
    {
      "cell_type": "markdown",
      "metadata": {},
      "source": [
        "__Pipelines__"
      ]
    },
    {
      "cell_type": "code",
      "metadata": {},
      "source": [
        "%matplotlib inline"
      ],
      "outputs": [],
      "execution_count": null
    },
    {
      "cell_type": "code",
      "metadata": {},
      "source": [
        "from autoconf import conf\n",
        "import numpy as np\n",
        "\n",
        "from howtofit.chapter_phase_api_non_linear_searches.src.dataset import (\n",
        "    dataset as ds,\n",
        ")"
      ],
      "outputs": [],
      "execution_count": null
    },
    {
      "cell_type": "markdown",
      "metadata": {},
      "source": [
        "You need to change the path below to the chapter 2 directory so we can load the dataset"
      ]
    },
    {
      "cell_type": "code",
      "metadata": {},
      "source": [
        "chapter_path = \"/Users/Jammy/Code/PyAuto/autofit_workspace/howtofit/chapter_phase_api_non_linear_searches\""
      ],
      "outputs": [],
      "execution_count": null
    },
    {
      "cell_type": "markdown",
      "metadata": {},
      "source": [
        "Setup the configs as we did in the previous tutorial, as well as the output folder for our `NonLinearSearch`."
      ]
    },
    {
      "cell_type": "code",
      "metadata": {},
      "source": [
        "conf.instance = conf.Config(\n",
        "    config_path=f\"howtofit/config\", output_path=f\"howtofit/output/chapter_phase_api\"\n",
        ")"
      ],
      "outputs": [],
      "execution_count": null
    },
    {
      "cell_type": "markdown",
      "metadata": {},
      "source": [
        "Lets load the dataset, create a mask and perform the fit."
      ]
    },
    {
      "cell_type": "code",
      "metadata": {},
      "source": [
        "dataset_path = f\"{chapter_path}/dataset/gaussian_x2_split/\"\n",
        "\n",
        "dataset = ds.Dataset(data=data, noise_map=noise_map)"
      ],
      "outputs": [],
      "execution_count": null
    },
    {
      "cell_type": "markdown",
      "metadata": {},
      "source": [
        "Lets use a plot function to plot our data.\n",
        "\n",
        "Note how - describe its x2 peaks.\n",
        "\"\"\"\n",
        "\n",
        "from howtofit.chapter_phase_api_non_linear_searches.src.plot import (\n",
        "    dataset_plots,\n",
        ")\n",
        "\n",
        "dataset_plots.data(dataset=dataset)\n",
        "\n",
        "mask = np.full(fill_value=False, shape=dataset.data.shape)\n",
        "\n",
        "print(\n",
        "    \"Pipeline has begun running - checkout the autofit_workspace/howtofit/chapter_phase_api_non_linear_searches/output/pipeline__x2_gaussians\"\n",
        "    \" folder for live output of the results.\"\n",
        "    \"This Jupyter notebook cell with progress once the Pipeline has completed - this could take a few minutes!\"\n",
        ")\n",
        "\n",
        "from howtofit.chapter_phase_api_non_linear_searches import (\n",
        "    tutoial_x_pipeline,\n",
        ")\n",
        "\n",
        "pipeline = tutoial_x_pipeline.make_pipeline()\n",
        "\n",
        "pipeline.run(dataset=dataset, mask=mask)"
      ]
    }
  ],
  "metadata": {
    "anaconda-cloud": {},
    "kernelspec": {
      "display_name": "Python 3",
      "language": "python",
      "name": "python3"
    },
    "language_info": {
      "codemirror_mode": {
        "name": "ipython",
        "version": 3
      },
      "file_extension": ".py",
      "mimetype": "text/x-python",
      "name": "python",
      "nbconvert_exporter": "python",
      "pygments_lexer": "ipython3",
      "version": "3.6.1"
    }
  },
  "nbformat": 4,
  "nbformat_minor": 4
}