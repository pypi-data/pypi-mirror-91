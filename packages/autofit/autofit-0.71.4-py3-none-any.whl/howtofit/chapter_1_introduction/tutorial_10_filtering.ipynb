{
  "cells": [
    {
      "cell_type": "markdown",
      "metadata": {},
      "source": [
        "Tutorial 9: Filtering\n",
        "=====================\n",
        "\n",
        "In the previous tutorial, the `Aggregator` loaded all of the results of all 3 fits.\n",
        "\n",
        "However, suppose we had the results of other fits in the output folder and we *only* wanted fits which used\n",
        "a certain phase. Or, imagine we want the results of a fit to 1 specific data. In this tutorial, we'll learn how to use\n",
        "the `Aggregator`'s `filter` tool, which filters the results and provides us with only the results we want."
      ]
    },
    {
      "cell_type": "code",
      "metadata": {},
      "source": [
        "%matplotlib inline\n",
        "\n",
        "from pyprojroot import here\n",
        "\n",
        "workspace_path = str(here())\n",
        "%cd $workspace_path\n",
        "print(f\"Working Directory has been set to `{workspace_path}`\")\n",
        "\n",
        "from os import path\n",
        "import autofit as af"
      ],
      "outputs": [],
      "execution_count": null
    },
    {
      "cell_type": "markdown",
      "metadata": {},
      "source": [
        "When we load the `Aggregator`, in this tutorial the `output_path` does not include the `/chapter2/aggregator` on the \n",
        "end, like it did in the previous tutorial. \n",
        "\n",
        "This means that, without filters, the `Aggregator` will load all results in the output folder, including those from \n",
        "chapter 1 and the previous tutorials in this chapter.\n",
        "\n",
        "We can first filter results to only include completed results. By including `completed_only` below, any results which \n",
        "are in the middle of a `NonLinearSearch` will be omitted and not loaded in the `Aggregator`."
      ]
    },
    {
      "cell_type": "code",
      "metadata": {},
      "source": [
        "agg = af.Aggregator(\n",
        "    directory=path.join(\"output\", \"howtofit\", \"chapter_1\", \"aggregator\"),\n",
        "    completed_only=True,\n",
        ")"
      ],
      "outputs": [],
      "execution_count": null
    },
    {
      "cell_type": "markdown",
      "metadata": {},
      "source": [
        "First, lets print the number of `Samples` objects the `Aggregator` finds. Now we are pointing the `Aggregator` to the\n",
        "output folder, depending on what results are there this should find in excess of 3 sets of results, corresponding to\n",
        "results from chapter 1 and tutorial 1 of chapter 2."
      ]
    },
    {
      "cell_type": "code",
      "metadata": {},
      "source": [
        "print(\"Emcee Samples:\\n\")\n",
        "print(\"Total Samples Objects = \", len(list(agg.values(\"samples\"))), \"\\n\")"
      ],
      "outputs": [],
      "execution_count": null
    },
    {
      "cell_type": "markdown",
      "metadata": {},
      "source": [
        "To remove the fits of previous tutorials and just keep the `MCMCSamples` of the 3 `Dataset`s fitted in this tutorial \n",
        "we can use the `Aggregator`'s `filter` tool. Below, we use the `name` of the results, `phase_t2` which is \n",
        "unique to all 3  fits, to filter our results as desired."
      ]
    },
    {
      "cell_type": "code",
      "metadata": {},
      "source": [
        "name = \"phase_t2_agg\"\n",
        "agg_filter = agg.filter(agg.phase == name)"
      ],
      "outputs": [],
      "execution_count": null
    },
    {
      "cell_type": "markdown",
      "metadata": {},
      "source": [
        "This filtered `Aggregator` should now produce just 3 `Samples` objects.\n",
        "\"\"\"\n",
        "print(\"Total Samples Objects = \", len(list(agg.values(\"samples\"))), \"\\n\")\n",
        "samples_gen = agg_filter.values(\"samples\")"
      ]
    },
    {
      "cell_type": "markdown",
      "metadata": {},
      "source": [
        "Alternatively, we can filter using strings, requiring that the string appears in the full path of the output\n",
        "results. This is useful if you fit a large sample of data where:\n",
        "\n",
        " - Multiple results, corresponding to different phases and model-fits are stored in the same path.\n",
        " \n",
        " - Different runs using different `SettingsPhase` are in the same path.\n",
        " \n",
        " - Fits using different `NonLinearSearch`s, with different settings, are contained in the same path.\n",
        "\n",
        "The example below shows us using the `contains` method to filter the results of the fit to only the first `Dataset`. "
      ]
    },
    {
      "cell_type": "code",
      "metadata": {},
      "source": [
        "agg_filter_contains = agg.filter(\n",
        "    agg.directory.contains(\"phase_t2_agg\"), agg.directory.contains(\"gaussian_x1_0\")\n",
        ")\n",
        "print(\"Directory Contains Filtered NestedSampler Samples: \\n\")\n",
        "print(\n",
        "    \"Total Samples Objects = \", len(list(agg_filter_contains.values(\"samples\"))), \"\\n\\n\"\n",
        ")"
      ],
      "outputs": [],
      "execution_count": null
    },
    {
      "cell_type": "markdown",
      "metadata": {},
      "source": [
        "You can also filter by the type of `NonLinearSearch` used, so that if you were to fit the same model to the same \n",
        "dataset with different `NonLinearSearch`s you could load and compare their results."
      ]
    },
    {
      "cell_type": "code",
      "metadata": {},
      "source": [
        "agg_filter_contains = agg.filter(agg.non_linear_search == \"emcee\")\n",
        "print(\"Directory Contains Filtered NestedSampler Samples: \\n\")\n",
        "print(\n",
        "    \"Total Samples Objects = \", len(list(agg_filter_contains.values(\"samples\"))), \"\\n\\n\"\n",
        ")"
      ],
      "outputs": [],
      "execution_count": null
    },
    {
      "cell_type": "markdown",
      "metadata": {},
      "source": [
        "Filters can be combined to load precisely only the result that you want, below we use all the above filters to \n",
        "load only the results of the fit to the first lens in our sample."
      ]
    },
    {
      "cell_type": "code",
      "metadata": {},
      "source": [
        "agg_filter_multiple = agg.filter(\n",
        "    agg.phase == \"tutorial_7_multi\", agg.directory.contains(\"gaussian_x1_0\")\n",
        ")\n",
        "print(\"Multiple Filter NestedSampler Samples: \\n\")\n",
        "print()\n",
        "print(\n",
        "    \"Total Samples Objects = \", len(list(agg_filter_multiple.values(\"samples\"))), \"\\n\\n\"\n",
        ")\n"
      ],
      "outputs": [],
      "execution_count": null
    }
  ],
  "metadata": {
    "anaconda-cloud": {},
    "kernelspec": {
      "display_name": "Python 3",
      "language": "python",
      "name": "python3"
    },
    "language_info": {
      "codemirror_mode": {
        "name": "ipython",
        "version": 3
      },
      "file_extension": ".py",
      "mimetype": "text/x-python",
      "name": "python",
      "nbconvert_exporter": "python",
      "pygments_lexer": "ipython3",
      "version": "3.6.1"
    }
  },
  "nbformat": 4,
  "nbformat_minor": 4
}