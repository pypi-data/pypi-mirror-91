{
 "cells": [
  {
   "cell_type": "code",
   "execution_count": null,
   "metadata": {},
   "outputs": [],
   "source": [
    "import os\n",
    "import pandas as pd\n",
    "import numpy as np\n",
    "import seaborn as sns\n",
    "import matplotlib.pyplot as plt\n",
    "import pandas_bokeh\n",
    "import plotly.express as px\n",
    "from pyhard import Measures, visualization\n",
    "import importlib\n",
    "import holoviews as hv\n",
    "from holoviews import opts"
   ]
  },
  {
   "cell_type": "code",
   "execution_count": null,
   "metadata": {},
   "outputs": [],
   "source": [
    "sns.set()\n",
    "\n",
    "plt.rcParams['figure.figsize'] = (16, 10)\n",
    "\n",
    "pandas_bokeh.output_notebook()"
   ]
  },
  {
   "cell_type": "code",
   "execution_count": null,
   "metadata": {},
   "outputs": [],
   "source": [
    "data_path = os.path.realpath(\"/Users/pedropaiva/Documents/Doutorado/instance-hardness/data/\")\n",
    "matilda_path = os.path.realpath(\"/Users/pedropaiva/Documents/Doutorado/matilda-workspace/\")\n",
    "\n",
    "metadata_path = os.path.join(matilda_path, \"metadata.csv\")\n",
    "feat_proc_path = os.path.join(matilda_path, \"feature_process.csv\")\n",
    "overlap_path = os.path.join(data_path, \"overlap.csv\")"
   ]
  },
  {
   "cell_type": "code",
   "execution_count": null,
   "metadata": {},
   "outputs": [],
   "source": [
    "df_metadata = pd.read_csv(metadata_path, index_col='instances')\n",
    "df_overlap = pd.read_csv(overlap_path)\n",
    "df_feat_proc = pd.read_csv(feat_proc_path, index_col='Row')\n",
    "df_feat_proc.index.name = 'instances'"
   ]
  },
  {
   "cell_type": "code",
   "execution_count": null,
   "metadata": {},
   "outputs": [],
   "source": [
    "measures = Measures(df_overlap, labels_col='class')"
   ]
  },
  {
   "cell_type": "code",
   "execution_count": null,
   "metadata": {},
   "outputs": [],
   "source": [
    "df_measures = measures.calculate_all()\n",
    "df = df_overlap.join(df_measures)"
   ]
  },
  {
   "cell_type": "code",
   "execution_count": null,
   "metadata": {},
   "outputs": [],
   "source": [
    "importlib.reload(visualization)"
   ]
  },
  {
   "cell_type": "code",
   "execution_count": null,
   "metadata": {},
   "outputs": [],
   "source": [
    "visualization.scatter_widget(df, width=950, height=650)"
   ]
  },
  {
   "cell_type": "markdown",
   "metadata": {},
   "source": [
    "# Matilda"
   ]
  },
  {
   "cell_type": "code",
   "execution_count": null,
   "metadata": {},
   "outputs": [],
   "source": [
    "df_proj_matrix = pd.read_csv(\"/Users/pedropaiva/Documents/Doutorado/matilda-workspace/projection_matrix.csv\")\n",
    "proj_matrix = df_proj_matrix.iloc[:, 1:].values"
   ]
  },
  {
   "cell_type": "code",
   "execution_count": null,
   "metadata": {},
   "outputs": [],
   "source": [
    "# features = df_metadata.filter(regex=\"^feature_\").values\n",
    "features = df_feat_proc.values"
   ]
  },
  {
   "cell_type": "code",
   "execution_count": null,
   "metadata": {},
   "outputs": [],
   "source": [
    "proj = np.dot(features, proj_matrix.T)\n",
    "df_is = pd.DataFrame(data=proj, columns=['z1', 'z2'], index=df_feat_proc.index)"
   ]
  },
  {
   "cell_type": "code",
   "execution_count": null,
   "metadata": {},
   "outputs": [],
   "source": [
    "px.scatter(df_is, x='z1', y='z2', width=800, height=500)"
   ]
  },
  {
   "cell_type": "code",
   "execution_count": null,
   "metadata": {},
   "outputs": [],
   "source": [
    "df_overlap.index = df_metadata.index\n",
    "data = df_is.join(df_overlap)\n",
    "data['class'] = data['class'].apply(lambda x: str(x))"
   ]
  },
  {
   "cell_type": "code",
   "execution_count": null,
   "metadata": {
    "scrolled": false
   },
   "outputs": [],
   "source": [
    "from holoviews.plotting.links import DataLink\n",
    "from bokeh.models import HoverTool\n",
    "\n",
    "hv.extension('bokeh')\n",
    "\n",
    "scatter1 = hv.Scatter(data, 'V1', vdims=['V2', 'class']).opts(width=450, height=500, color='class', \n",
    "                                                              cmap='Set1', show_grid=True)\n",
    "\n",
    "scatter2 = hv.Scatter(data, 'z1', vdims=['z2', 'class']).opts(width=450, height=500, color='class', \n",
    "                                                              cmap='Set1', show_grid=True)\n",
    "\n",
    "tooltips = [\n",
    "    ('V1', '@V1'),\n",
    "    ('V2', '@V2'),\n",
    "    ('z1', '@z1'),\n",
    "    ('z2', '@z2'),\n",
    "    ('Class', '@class')\n",
    "]\n",
    "hover = HoverTool(tooltips=tooltips)\n",
    "\n",
    "dlink = DataLink(scatter1, scatter2)\n",
    "\n",
    "layout = hv.Layout(scatter1 + scatter2).cols(2)\n",
    "layout.opts(opts.Scatter(tools=['box_select', 'lasso_select', hover], size=4), \n",
    "            opts.Layout(shared_axes=True, shared_datasource=True))\n",
    "layout"
   ]
  }
 ],
 "metadata": {
  "kernelspec": {
   "display_name": "Python 3",
   "language": "python",
   "name": "python3"
  },
  "language_info": {
   "codemirror_mode": {
    "name": "ipython",
    "version": 3
   },
   "file_extension": ".py",
   "mimetype": "text/x-python",
   "name": "python",
   "nbconvert_exporter": "python",
   "pygments_lexer": "ipython3",
   "version": "3.7.6"
  }
 },
 "nbformat": 4,
 "nbformat_minor": 4
}
