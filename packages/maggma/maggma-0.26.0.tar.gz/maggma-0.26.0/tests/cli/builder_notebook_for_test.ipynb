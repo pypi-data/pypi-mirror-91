{
 "cells": [
  {
   "cell_type": "markdown",
   "metadata": {},
   "source": [
    "# This is a markdown test just to mess up the test"
   ]
  },
  {
   "cell_type": "code",
   "execution_count": 1,
   "metadata": {},
   "outputs": [
    {
     "name": "stderr",
     "output_type": "stream",
     "text": [
      "/Users/shyamd/Dropbox/Codes/maggma/src/maggma/utils.py:20: TqdmExperimentalWarning: Using `tqdm.autonotebook.tqdm` in notebook mode. Use `tqdm.tqdm` instead to force console mode (e.g. in jupyter console)\n",
      "  from tqdm.autonotebook import tqdm\n"
     ]
    }
   ],
   "source": [
    "from maggma.core import Builder"
   ]
  },
  {
   "cell_type": "code",
   "execution_count": 2,
   "metadata": {},
   "outputs": [],
   "source": [
    "class DummyBuilder(Builder):\n",
    "    def __init__(self, total=10):\n",
    "        self.get_called = 0\n",
    "        self.process_called = 0\n",
    "        self.update_called = 0\n",
    "        super().__init__(sources=[], targets=[])\n",
    "        self.total = total\n",
    "\n",
    "    def get_items(self):\n",
    "        for i in range(self.total):\n",
    "            self.get_called += 1\n",
    "            yield self.get_called\n",
    "\n",
    "    def process_item(self, item):\n",
    "        self.process_called += 1\n",
    "        return item\n",
    "\n",
    "    def update_targets(self, items):\n",
    "        self.update_called += 1"
   ]
  },
  {
   "cell_type": "code",
   "execution_count": 3,
   "metadata": {},
   "outputs": [],
   "source": [
    "__builders__ = [DummyBuilder()]"
   ]
  }
 ],
 "metadata": {
  "kernelspec": {
   "display_name": "Python 3",
   "language": "python",
   "name": "python3"
  },
  "language_info": {
   "codemirror_mode": {
    "name": "ipython",
    "version": 3
   },
   "file_extension": ".py",
   "mimetype": "text/x-python",
   "name": "python",
   "nbconvert_exporter": "python",
   "pygments_lexer": "ipython3",
   "version": "3.8.3"
  }
 },
 "nbformat": 4,
 "nbformat_minor": 4
}
