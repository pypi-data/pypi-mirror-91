{
 "cells": [
  {
   "cell_type": "markdown",
   "metadata": {},
   "source": [
    "# TPOTWXYZ\n",
    "\n",
    "A full example of a rich application using:\n",
    "- [TPOT](https://github.com/EpistasisLab/tpot)\n",
    "- [lime](https://github.com/marcotcr/lime)\n",
    "- [yellowbrick](https://github.com/DistrictDataLabs/yellowbrick)\n",
    "- lots of wxyz widgets\n",
    "\n",
    "> ☠️ _This notebook accounts for a huge proportion of full test dependencies, but **doesn't always work**._"
   ]
  },
  {
   "cell_type": "code",
   "execution_count": null,
   "metadata": {},
   "outputs": [],
   "source": [
    "from wxyz.datagrid import SelectGrid\n",
    "from wxyz.lab import DockBox"
   ]
  },
  {
   "cell_type": "markdown",
   "metadata": {},
   "source": [
    "## Handle upstream API drift"
   ]
  },
  {
   "cell_type": "markdown",
   "metadata": {},
   "source": [
    "> _A future release of [yellowbrick](https://github.com/DistrictDataLabs/yellowbrick/issues/1137) should fix this!_"
   ]
  },
  {
   "cell_type": "code",
   "execution_count": null,
   "metadata": {},
   "outputs": [],
   "source": [
    "import sklearn.utils\n",
    "if not hasattr(sklearn.utils, \"safe_indexing\"):\n",
    "    setattr(sklearn.utils, \"safe_indexing\", sklearn.utils)"
   ]
  },
  {
   "cell_type": "markdown",
   "metadata": {},
   "source": [
    "## The rest of the imports"
   ]
  },
  {
   "cell_type": "code",
   "execution_count": null,
   "metadata": {},
   "outputs": [],
   "source": [
    "import os, re, yellowbrick.features, tpot, IPython as I, ipywidgets as W, numpy as np, pandas as pd, traitlets as T, dask.distributed, multiprocessing, sklearn, warnings\n",
    "from lime.lime_tabular import LimeTabularExplainer \n",
    "from sklearn.datasets import load_iris\n",
    "from sklearn.model_selection import train_test_split"
   ]
  },
  {
   "cell_type": "markdown",
   "metadata": {},
   "source": [
    "## Configure matplotlib"
   ]
  },
  {
   "cell_type": "code",
   "execution_count": null,
   "metadata": {},
   "outputs": [],
   "source": [
    "%config InlineBackend.figure_formats = ['svg']\n",
    "%matplotlib inline"
   ]
  },
  {
   "cell_type": "markdown",
   "metadata": {},
   "source": [
    "## Vanity CSS"
   ]
  },
  {
   "cell_type": "code",
   "execution_count": null,
   "metadata": {},
   "outputs": [],
   "source": [
    "%%html\n",
    "<style>\n",
    ".widget-hslider, .widget-hprogress, .widget-inline-hbox .widget-label{ width: auto;}\n",
    ".jp-RenderedSVG img { max-width: 100%; max-height: 100%; }\n",
    "</style>"
   ]
  },
  {
   "cell_type": "markdown",
   "metadata": {},
   "source": [
    "## A master class "
   ]
  },
  {
   "cell_type": "code",
   "execution_count": null,
   "metadata": {},
   "outputs": [],
   "source": [
    "class App(T.HasTraits):\n",
    "    dataset = T.Any()\n",
    "    dask = T.Instance(dask.distributed.Client, allow_none=True)\n",
    "    df = T.Instance(pd.DataFrame, allow_none=True)\n",
    "    train = T.Instance(np.ndarray, allow_none=True)\n",
    "    test = T.Instance(np.ndarray, allow_none=True)\n",
    "    labels_train = T.Instance(np.ndarray, allow_none=True) \n",
    "    labels_test = T.Instance(np.ndarray, allow_none=True)\n",
    "    model = T.Instance(tpot.TPOTClassifier, allow_none=True)\n",
    "    explainer = T.Instance(LimeTabularExplainer, allow_none=True)\n",
    "app = App()"
   ]
  },
  {
   "cell_type": "markdown",
   "metadata": {},
   "source": [
    "## The Dask"
   ]
  },
  {
   "cell_type": "code",
   "execution_count": null,
   "metadata": {},
   "outputs": [],
   "source": [
    "app.dask = dask.distributed.Client(n_workers=2, threads_per_worker=1)\n",
    "daskboard_port = app.dask.scheduler_info()[\"services\"][\"dashboard\"]"
   ]
  },
  {
   "cell_type": "markdown",
   "metadata": {},
   "source": [
    "If we're running on JupyterHub (e.g. MyBinder), we will want to use the `JUPYTERHUB_SERVICE_PREFIX`. Otherwise, There's No Place Like `8888` 👠👠..."
   ]
  },
  {
   "cell_type": "code",
   "execution_count": null,
   "metadata": {},
   "outputs": [],
   "source": [
    "base_url = W.Text(os.environ.get(\"JUPYTERHUB_SERVICE_PREFIX\", \"http://127.0.0.1:8888/\"), description=\"base_url\")\n",
    "base_url"
   ]
  },
  {
   "cell_type": "code",
   "execution_count": null,
   "metadata": {},
   "outputs": [],
   "source": [
    "dask_iframe = W.HTML()\n",
    "T.dlink((base_url, \"value\"), (dask_iframe, \"value\"), lambda url: f\"\"\"\n",
    "    <iframe src=\"{url}proxy/{daskboard_port}/tasks\" width=\"100%\" height=\"300\" border=\"0\" style=\"border: 0\"></iframe>\n",
    "\"\"\")\n",
    "iframe_client = W.VBox([base_url, dask_iframe])"
   ]
  },
  {
   "cell_type": "markdown",
   "metadata": {},
   "source": [
    "# Build grids"
   ]
  },
  {
   "cell_type": "code",
   "execution_count": null,
   "metadata": {},
   "outputs": [],
   "source": [
    "grid_train = SelectGrid(description=\"Training Data\")\n",
    "grid_test = SelectGrid(description=\"Test Data\")\n",
    "grid_labels_train = SelectGrid(description=\"Training Labels\")\n",
    "grid_labels_test = SelectGrid(description=\"Test Labels\")"
   ]
  },
  {
   "cell_type": "markdown",
   "metadata": {},
   "source": [
    "## Link Grids"
   ]
  },
  {
   "cell_type": "code",
   "execution_count": null,
   "metadata": {},
   "outputs": [],
   "source": [
    "for t in [\"selections\", \"scroll_y\"]:\n",
    "    for p in [[grid_train, grid_labels_train], [grid_test, grid_labels_test]]:\n",
    "        W.jslink((p[0], t), (p[1], t))"
   ]
  },
  {
   "cell_type": "code",
   "execution_count": null,
   "metadata": {},
   "outputs": [],
   "source": [
    "correlation = W.Output()\n",
    "fitness = W.FloatSlider(0, min=0, max=1, description=\"🎯 Score\", disabled=True)\n",
    "\n",
    "train_output = W.Output(description=\"Training Output\")\n",
    "\n",
    "generations = W.IntSlider(10, min=1, max=100, description=\"👴 Generations\", layout=dict(flex=\"1\"))\n",
    "population_size = W.IntSlider(7, min=1, max=100, description=\"👶 Population\", layout=dict(flex=\"1\"))\n",
    "cv = W.IntSlider(2, min=1, max=10, description=\"❌ Cross Validation\", layout=dict(flex=\"1\"))\n",
    "random_state = W.IntSlider(42, min=1, max=1e6, description=\"🎰 Random\", layout=dict(flex=\"1\"))\n",
    "verbosity = W.IntSlider(2, min=1, max=11, description=\"📣 Verbosity\", layout=dict(flex=\"1\"))"
   ]
  },
  {
   "cell_type": "markdown",
   "metadata": {},
   "source": [
    "## A dataset loader"
   ]
  },
  {
   "cell_type": "code",
   "execution_count": null,
   "metadata": {},
   "outputs": [],
   "source": [
    "@W.interact\n",
    "def loader(\n",
    "    dataset_name=W.SelectionSlider(options=[\"iris\", \"breast_cancer\", \"boston\", \"diabetes\", \"wine\"], description=\"🗄 Dataset\"),\n",
    "    test_size=W.FloatSlider(0.8, min=0.000001, max=0.99999, step=0.01, description=\"⚖ Train/Test\"),\n",
    "    algorithm=W.SelectionSlider(options=['pearson', 'covariance', 'spearman'], description=\"🌡️ Correlation\"),\n",
    "):\n",
    "    app.dataset = getattr(sklearn.datasets, f\"load_{dataset_name}\")()\n",
    "    app.df = pd.DataFrame(app.dataset.data, columns=app.dataset.feature_names)\n",
    "    (\n",
    "        app.train, \n",
    "        app.test, \n",
    "        app.labels_train, \n",
    "        app.labels_test\n",
    "    ) = sklearn.model_selection.train_test_split(\n",
    "        app.dataset.data,\n",
    "        app.dataset.target,\n",
    "        train_size=1 - test_size,\n",
    "        test_size=test_size\n",
    "    )\n",
    "    grid_train.value = pd.DataFrame(app.train)\n",
    "    grid_test.value = pd.DataFrame(app.test)\n",
    "    grid_labels_train.value = pd.DataFrame(app.labels_train)\n",
    "    grid_labels_test.value = pd.DataFrame(app.labels_test)\n",
    "    app.explainer = LimeTabularExplainer(\n",
    "        app.train,\n",
    "        feature_names=app.dataset.feature_names, \n",
    "        class_names=getattr(app.dataset, \"target_names\", None), \n",
    "        discretize_continuous=True\n",
    "    )\n",
    "    visualizer = yellowbrick.features.Rank2D(features=app.dataset.feature_names, algorithm=algorithm)\n",
    "    visualizer.fit(app.train, app.labels_train)\n",
    "    visualizer.transform(app.train)\n",
    "    visualizer.poof()"
   ]
  },
  {
   "cell_type": "markdown",
   "metadata": {},
   "source": [
    "## The Training Hyperparameters"
   ]
  },
  {
   "cell_type": "code",
   "execution_count": null,
   "metadata": {},
   "outputs": [],
   "source": [
    "btn_train = W.Button(description=\"🚂 Train\", button_style=\"primary\", layout=dict(width=\"100%\"))\n",
    "\n",
    "def trainer(*args, **kwargs):\n",
    "    train_output.clear_output()\n",
    "    with train_output:\n",
    "        app.model = tpot.TPOTClassifier(\n",
    "            generations=generations.value,\n",
    "            population_size=population_size.value,\n",
    "            cv=cv.value,\n",
    "            n_jobs=-1,\n",
    "            random_state=random_state.value,\n",
    "            verbosity=verbosity.value,\n",
    "            use_dask=True\n",
    "        )\n",
    "\n",
    "        _update = app.model._check_periodic_pipeline\n",
    "\n",
    "        def update(gen):\n",
    "            _update(gen)\n",
    "            fitness.value = app.model._optimized_pipeline_score\n",
    "\n",
    "        app.model._check_periodic_pipeline = update\n",
    "\n",
    "    train_output.clear_output()\n",
    "\n",
    "    with train_output, warnings.catch_warnings():\n",
    "        fitness.value = 0\n",
    "        warnings.simplefilter(\"ignore\")\n",
    "        app.model.fit(app.train, app.labels_train)\n",
    "        fitness.value = app.model.score(app.test, app.labels_test)\n",
    "        \n",
    "\n",
    "btn_train.on_click(trainer)\n",
    "        \n",
    "box_train = W.VBox([\n",
    "    btn_train,\n",
    "    fitness,\n",
    "    generations,\n",
    "    population_size,\n",
    "    cv,\n",
    "    random_state,\n",
    "    verbosity,\n",
    "], description=\"Parameters\", layout=dict(display=\"flex\"))\n",
    "display(box_train)\n",
    "display(train_output)"
   ]
  },
  {
   "cell_type": "markdown",
   "metadata": {},
   "source": [
    "## A fancy explainer"
   ]
  },
  {
   "cell_type": "code",
   "execution_count": null,
   "metadata": {},
   "outputs": [],
   "source": [
    "explain_instance = W.IntSlider(0, min=0, max=100, description=\"🤔 'Splain\")\n",
    "W.dlink((grid_test, \"selections\"), (explain_instance, \"value\"), lambda ts: ts[0][2] if ts else 0)\n",
    "W.dlink((explain_instance, \"value\"), (grid_test, \"selections\"), lambda i: [[1, 1, i, i]])\n",
    "W.dlink((grid_test, \"value\"), (explain_instance, \"max\"), len)\n",
    "with W.Output():\n",
    "    @W.interact\n",
    "    def explain(instance=explain_instance):\n",
    "        try: explain.widget.children[0].max = app.test.shape[0] - 1\n",
    "        except: pass\n",
    "        if app.explainer and app.model and hasattr(app.model, \"predict_proba\"):\n",
    "            app.explainer.explain_instance(app.test[instance], app.model.predict_proba).show_in_notebook()"
   ]
  },
  {
   "cell_type": "markdown",
   "metadata": {},
   "source": [
    "## A dock layout"
   ]
  },
  {
   "cell_type": "code",
   "execution_count": null,
   "metadata": {},
   "outputs": [],
   "source": [
    "dock_layout = {'type': 'split-area',\n",
    " 'orientation': 'horizontal',\n",
    " 'children': [{'type': 'split-area',\n",
    "   'orientation': 'vertical',\n",
    "   'children': [{'type': 'tab-area', 'widgets': [0], 'currentIndex': 0},\n",
    "    {'type': 'tab-area', 'widgets': [5], 'currentIndex': 0}],\n",
    "   'sizes': [1, 1]},\n",
    "  {'type': 'split-area',\n",
    "   'orientation': 'vertical',\n",
    "   'children': [{'type': 'tab-area', 'widgets': [3], 'currentIndex': 0},\n",
    "    {'type': 'tab-area', 'widgets': [1], 'currentIndex': 0}],\n",
    "   'sizes': [1, 1]},\n",
    "  {'type': 'split-area',\n",
    "   'orientation': 'vertical',\n",
    "   'children': [{'type': 'tab-area', 'widgets': [4], 'currentIndex': 0},\n",
    "    {'type': 'tab-area', 'widgets': [2], 'currentIndex': 0}],\n",
    "   'sizes': [1, 1]},\n",
    "  {'type': 'split-area',\n",
    "   'orientation': 'vertical',\n",
    "   'children': [{'type': 'tab-area', 'widgets': [7], 'currentIndex': 0},\n",
    "    {'type': 'tab-area', 'widgets': [6], 'currentIndex': 0},\n",
    "    {'type': 'tab-area', 'widgets': [8], 'currentIndex': 0}],\n",
    "   'sizes': [4, 1, 5]}],\n",
    " 'sizes': [2, 2, 1, 4]}"
   ]
  },
  {
   "cell_type": "markdown",
   "metadata": {},
   "source": [
    "## The Dock Panel"
   ]
  },
  {
   "cell_type": "code",
   "execution_count": null,
   "metadata": {},
   "outputs": [],
   "source": [
    "pg = DockBox(layout=dict(height=\"90vh\"), dock_layout=dock_layout, children=[\n",
    "    loader.widget, \n",
    "    grid_test, grid_labels_test, \n",
    "    grid_train, grid_labels_train, \n",
    "    box_train, train_output, iframe_client, explain.widget,\n",
    "])\n",
    "train_output.description = \"Training Output\""
   ]
  },
  {
   "cell_type": "markdown",
   "metadata": {},
   "source": [
    "## We made it"
   ]
  },
  {
   "cell_type": "code",
   "execution_count": null,
   "metadata": {},
   "outputs": [],
   "source": [
    "pg"
   ]
  },
  {
   "cell_type": "code",
   "execution_count": null,
   "metadata": {
    "jupyter": {
     "source_hidden": true
    }
   },
   "outputs": [],
   "source": [
    "if __name__ == \"__main__\":\n",
    "    with __import__(\"importnb\").Notebook():\n",
    "        from wxyz.notebooks import Utils\n",
    "        Utils.maybe_log_widget_counts()"
   ]
  }
 ],
 "metadata": {
  "kernelspec": {
   "display_name": "Python 3",
   "language": "python",
   "name": "python3"
  },
  "language_info": {
   "codemirror_mode": {
    "name": "ipython",
    "version": 3
   },
   "file_extension": ".py",
   "mimetype": "text/x-python",
   "name": "python",
   "nbconvert_exporter": "python",
   "pygments_lexer": "ipython3",
   "version": "3.8.6"
  },
  "toc-autonumbering": true
 },
 "nbformat": 4,
 "nbformat_minor": 4
}
