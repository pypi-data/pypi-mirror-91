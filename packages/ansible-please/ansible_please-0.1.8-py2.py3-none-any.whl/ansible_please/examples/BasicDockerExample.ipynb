{
 "cells": [
  {
   "cell_type": "markdown",
   "metadata": {},
   "source": [
    "# Run redis with docker"
   ]
  },
  {
   "cell_type": "code",
   "execution_count": 1,
   "metadata": {},
   "outputs": [],
   "source": [
    "from ansible_please.ansible_runner import AnsibleRunner\n",
    "from ansible_please.playbook import Playbook\n",
    "from ansible_please.task_templates import Pip, DockerContainer"
   ]
  },
  {
   "cell_type": "markdown",
   "metadata": {},
   "source": [
    "### Install docker via pip"
   ]
  },
  {
   "cell_type": "code",
   "execution_count": 2,
   "metadata": {},
   "outputs": [],
   "source": [
    "pip_task = Pip(packages=[\"docker\"])"
   ]
  },
  {
   "cell_type": "markdown",
   "metadata": {},
   "source": [
    "### Define docker task"
   ]
  },
  {
   "cell_type": "code",
   "execution_count": 3,
   "metadata": {},
   "outputs": [],
   "source": [
    "docker_container_task = DockerContainer(\n",
    "    task_description=\"start-test-redis\",\n",
    "    name=\"test-redis\",\n",
    "    image=\"redis:latest\",\n",
    ")"
   ]
  },
  {
   "cell_type": "markdown",
   "metadata": {},
   "source": [
    "### Define Playbook"
   ]
  },
  {
   "cell_type": "code",
   "execution_count": 4,
   "metadata": {},
   "outputs": [],
   "source": [
    "playbook = Playbook(\n",
    "    name=\"test-redis-playbook\",\n",
    "    hosts=\"master_host\",\n",
    "    tasks=[\n",
    "        pip_task.up(),\n",
    "        docker_container_task.up(),\n",
    "        docker_container_task.down(),\n",
    "    ],\n",
    ")"
   ]
  },
  {
   "cell_type": "markdown",
   "metadata": {},
   "source": [
    "### Run playbook"
   ]
  },
  {
   "cell_type": "code",
   "execution_count": 5,
   "metadata": {},
   "outputs": [
    {
     "name": "stderr",
     "output_type": "stream",
     "text": [
      "/home/shyam/anaconda3/envs/py38/lib/python3.8/site-packages/omegaconf-2.0.0-py3.8.egg/omegaconf/dictconfig.py:252: UserWarning: Keys with dot (127.0.0.1) are deprecated and will have different semantic meaning the next major version of OmegaConf (2.1)\n",
      "See the compact keys issue for more details: https://github.com/omry/omegaconf/issues/152\n",
      "You can disable this warning by setting the environment variable OC_DISABLE_DOT_ACCESS_WARNING=1\n",
      "  warnings.warn(message=msg, category=UserWarning)\n",
      "/home/shyam/anaconda3/envs/py38/lib/python3.8/site-packages/omegaconf-2.0.0-py3.8.egg/omegaconf/dictconfig.py:252: UserWarning: Keys with dot (192.168.1.248) are deprecated and will have different semantic meaning the next major version of OmegaConf (2.1)\n",
      "See the compact keys issue for more details: https://github.com/omry/omegaconf/issues/152\n",
      "You can disable this warning by setting the environment variable OC_DISABLE_DOT_ACCESS_WARNING=1\n",
      "  warnings.warn(message=msg, category=UserWarning)\n"
     ]
    },
    {
     "name": "stdout",
     "output_type": "stream",
     "text": [
      "\u001b[0;34mansible-playbook 2.10.3\u001b[0m\n",
      "\u001b[0;34m  config file = None\u001b[0m\n",
      "\u001b[0;34m  configured module search path = ['/home/shyam/.ansible/plugins/modules', '/usr/share/ansible/plugins/modules']\u001b[0m\n",
      "\u001b[0;34m  ansible python module location = /home/shyam/anaconda3/envs/py38/lib/python3.8/site-packages/ansible\u001b[0m\n",
      "\u001b[0;34m  executable location = /home/shyam/anaconda3/envs/py38/bin/ansible-playbook\u001b[0m\n",
      "\u001b[0;34m  python version = 3.8.3 (default, Jul  2 2020, 16:21:59) [GCC 7.3.0]\u001b[0m\n",
      "\u001b[0;34mNo config file found; using defaults\u001b[0m\n",
      "\u001b[0;34mredirecting (type: modules) ansible.builtin.docker_container to community.general.docker_container\u001b[0m\n",
      "\u001b[0;34mredirecting (type: modules) ansible.builtin.docker_container to community.general.docker_container\u001b[0m\n",
      "\u001b[0;34mSkipping callback 'awx_display', as we already have a stdout callback.\u001b[0m\n",
      "\u001b[0;34mSkipping callback 'default', as we already have a stdout callback.\u001b[0m\n",
      "\u001b[0;34mSkipping callback 'minimal', as we already have a stdout callback.\u001b[0m\n",
      "\u001b[0;34mSkipping callback 'oneline', as we already have a stdout callback.\u001b[0m\n",
      "\n",
      "PLAYBOOK: tmp8pw_zb6d.yml ******************************************************\n",
      "\u001b[0;34m1 plays in /tmp/tmp8pw_zb6d.yml\u001b[0m\n",
      "\n",
      "PLAY [test-redis-playbook] *****************************************************\n",
      "\n",
      "TASK [Gathering Facts] *********************************************************\n",
      "\u001b[1;30mtask path: /tmp/tmp8pw_zb6d.yml:1\u001b[0m\n",
      "\u001b[0;32mok: [192.168.1.248]\u001b[0m\n",
      "\u001b[0;34mMETA: ran handlers\u001b[0m\n",
      "\n",
      "TASK [[up] Install package via pip] ********************************************\n",
      "\u001b[1;30mtask path: /tmp/tmp8pw_zb6d.yml:5\u001b[0m\n",
      "\u001b[0;33mchanged: [192.168.1.248] => {\"changed\": true, \"cmd\": [\"/usr/bin/python3\", \"-m\", \"pip\", \"install\", \"docker\"], \"delta\": \"0:00:00.998922\", \"end\": \"2021-01-12 14:24:59.228966\", \"rc\": 0, \"start\": \"2021-01-12 14:24:58.230044\", \"stderr\": \"\", \"stderr_lines\": [], \"stdout\": \"Requirement already satisfied: docker in /home/shyam/.local/lib/python3.8/site-packages (4.4.1)\\nRequirement already satisfied: six>=1.4.0 in /usr/lib/python3/dist-packages (from docker) (1.14.0)\\nRequirement already satisfied: websocket-client>=0.32.0 in /home/shyam/.local/lib/python3.8/site-packages (from docker) (0.57.0)\\nRequirement already satisfied: requests!=2.18.0,>=2.14.2 in /usr/lib/python3/dist-packages (from docker) (2.22.0)\", \"stdout_lines\": [\"Requirement already satisfied: docker in /home/shyam/.local/lib/python3.8/site-packages (4.4.1)\", \"Requirement already satisfied: six>=1.4.0 in /usr/lib/python3/dist-packages (from docker) (1.14.0)\", \"Requirement already satisfied: websocket-client>=0.32.0 in /home/shyam/.local/lib/python3.8/site-packages (from docker) (0.57.0)\", \"Requirement already satisfied: requests!=2.18.0,>=2.14.2 in /usr/lib/python3/dist-packages (from docker) (2.22.0)\"]}\u001b[0m\n",
      "\n",
      "TASK [[up] start-test-redis] ***************************************************\n",
      "\u001b[1;30mtask path: /tmp/tmp8pw_zb6d.yml:10\u001b[0m\n",
      "\u001b[0;34mredirecting (type: modules) ansible.builtin.docker_container to community.general.docker_container\u001b[0m\n",
      "erDir\": \"/var/snap/docker/common/var-lib-docker/overlay2/92e535e60bba265f7458ba06d88934906e6158d24d3e68b2cbb80cdea67b88e2/diff\", \"WorkDir\": \"/var/snap/docker/common/var-lib-docker/overlay2/92e535e60bba265f7458ba06d88934906e6158d24d3e68b2cbb80cdea67b88e2/work\"}, \"Name\": \"overlay2\"}, \"HostConfig\": {\"AutoRemove\": false, \"Binds\": [], \"BlkioDeviceReadBps\": null, \"BlkioDeviceReadIOps\": null, \"BlkioDeviceWriteBps\": null, \"BlkioDeviceWriteIOps\": null, \"BlkioWeight\": 0, \"BlkioWeightDevice\": null, \"CapAdd\": null, \"CapDrop\": null, \"Capabilities\": null, \"Cgroup\": \"\", \"CgroupParent\": \"\", \"ConsoleSize\": [0, 0], \"ContainerIDFile\": \"\", \"CpuCount\": 0, \"CpuPercent\": 0, \"CpuPeriod\": 0, \"CpuQuota\": 0, \"CpuRealtimePeriod\": 0, \"CpuRealtimeRuntime\": 0, \"CpuShares\": 0, \"CpusetCpus\": \"\", \"CpusetMems\": \"\", \"DeviceCgroupRules\": null, \"DeviceRequests\": null, \"Devices\": null, \"Dns\": null, \"DnsOptions\": null, \"DnsSearch\": null, \"ExtraHosts\": null, \"GroupAdd\": null, \"IOMaximumBandwidth\": 0, \"IOMaximumIOps\": 0, \"Init\": false, \"IpcMode\": \"private\", \"Isolation\": \"\", \"KernelMemory\": 0, \"KernelMemoryTCP\": 0, \"Links\": null, \"LogConfig\": {\"Config\": {}, \"Type\": \"json-file\"}, \"MaskedPaths\": [\"/proc/asound\", \"/proc/acpi\", \"/proc/kcore\", \"/proc/keys\", \"/proc/latency_stats\", \"/proc/timer_list\", \"/proc/timer_stats\", \"/proc/sched_debug\", \"/proc/scsi\", \"/sys/firmware\"], \"Memory\": 0, \"MemoryReservation\": 0, \"MemorySwap\": 0, \"MemorySwappiness\": null, \"NanoCpus\": 0, \"NetworkMode\": \"host\", \"OomKillDisable\": false, \"OomScoreAdj\": 0, \"PidMode\": \"\", \"PidsLimit\": null, \"PortBindings\": null, \"Privileged\": false, \"PublishAllPorts\": false, \"ReadonlyPaths\": [\"/proc/bus\", \"/proc/fs\", \"/proc/irq\", \"/proc/sys\", \"/proc/sysrq-trigger\"], \"ReadonlyRootfs\": false, \"RestartPolicy\": {\"MaximumRetryCount\": 0, \"Name\": \"\"}, \"Runtime\": \"runc\", \"SecurityOpt\": null, \"ShmSize\": 67108864, \"UTSMode\": \"\", \"Ulimits\": null, \"UsernsMode\": \"\", \"VolumeDriver\": \"\", \"VolumesFrom\": null}, \"HostnamePath\": \"/var/snap/docker/common/var-lib-docker/containers/cbc92df818ee6cbea0a2fd2fdb83fb164e856e93bf4f56b9879868fe6043b1bd/hostname\", \"HostsPath\": \"/var/snap/docker/common/var-lib-docker/containers/cbc92df818ee6cbea0a2fd2fdb83fb164e856e93bf4f56b9879868fe6043b1bd/hosts\", \"Id\": \"cbc92df818ee6cbea0a2fd2fdb83fb164e856e93bf4f56b9879868fe6043b1bd\", \"Image\": \"sha256:bd571e6529f32461648680c82e2540f9db4b3bb92709ae5d19dd347531c98f19\", \"LogPath\": \"/var/snap/docker/common/var-lib-docker/containers/cbc92df818ee6cbea0a2fd2fdb83fb164e856e93bf4f56b9879868fe6043b1bd/cbc92df818ee6cbea0a2fd2fdb83fb164e856e93bf4f56b9879868fe6043b1bd-json.log\", \"MountLabel\": \"\", \"Mounts\": [{\"Destination\": \"/data\", \"Driver\": \"local\", \"Mode\": \"\", \"Name\": \"ff6df30c380f48a88b1ca8dcf6b27ac07a5e365d24cd610cb832b62e943db895\", \"Propagation\": \"\", \"RW\": true, \"Source\": \"/var/snap/docker/common/var-lib-docker/volumes/ff6df30c380f48a88b1ca8dcf6b27ac07a5e365d24cd610cb832b62e943db895/_data\", \"Type\": \"volume\"}], \"Name\": \"/test-redis\", \"NetworkSettings\": {\"Bridge\": \"\", \"EndpointID\": \"\", \"Gateway\": \"\", \"GlobalIPv6Address\": \"\", \"GlobalIPv6PrefixLen\": 0, \"HairpinMode\": false, \"IPAddress\": \"\", \"IPPrefixLen\": 0, \"IPv6Gateway\": \"\", \"LinkLocalIPv6Address\": \"\", \"LinkLocalIPv6PrefixLen\": 0, \"MacAddress\": \"\", \"Networks\": {\"host\": {\"Aliases\": null, \"DriverOpts\": null, \"EndpointID\": \"61a04488a5f53fe1a42f8f9c495f18a29a64d0f01f3af451bb10aaa8eafa51f7\", \"Gateway\": \"\", \"GlobalIPv6Address\": \"\", \"GlobalIPv6PrefixLen\": 0, \"IPAMConfig\": null, \"IPAddress\": \"\", \"IPPrefixLen\": 0, \"IPv6Gateway\": \"\", \"Links\": null, \"MacAddress\": \"\", \"NetworkID\": \"16505e3cf210bc488b5a5f7f9f0df7d18b51acece27c2f1b3a63906f13dc8529\"}}, \"Ports\": {}, \"SandboxID\": \"6d100ca5c0109772865d6bd0bf903f99c118550118f8c1f0b49038aea8ad00aa\", \"SandboxKey\": \"/var/snap/docker/471/run/docker/netns/default\", \"SecondaryIPAddresses\": null, \"SecondaryIPv6Addresses\": null}, \"Path\": \"docker-entrypoint.sh\", \"Platform\": \"linux\", \"ProcessLabel\": \"\", \"ResolvConfPath\": \"/var/snap/docker/common/var-lib-docker/containers/cbc92df818ee6cbea0a2fd2fdb83fb164e856e93bf4f56b9879868fe6043b1bd/resolv.conf\", \"RestartCount\": 0, \"State\": {\"Dead\": false, \"Error\": \"\", \"ExitCode\": 0, \"FinishedAt\": \"0001-01-01T00:00:00Z\", \"OOMKilled\": false, \"Paused\": false, \"Pid\": 25386, \"Restarting\": false, \"Running\": true, \"StartedAt\": \"2021-01-12T22:24:59.96396971Z\", \"Status\": \"running\"}}}, \"changed\": true, \"container\": {\"AppArmorProfile\": \"docker-default\", \"Args\": [\"redis-server\"], \"Config\": {\"AttachStderr\": false, \"AttachStdin\": false, \"AttachStdout\": false, \"Cmd\": [\"redis-server\"], \"Domainname\": \"\", \"Entrypoint\": [\"docker-entrypoint.sh\"], \"Env\": [\"PATH=/usr/local/sbin:/usr/local/bin:/usr/sbin:/usr/bin:/sbin:/bin\", \"GOSU_VERSION=1.12\", \"REDIS_VERSION=6.0.8\", \"REDIS_DOWNLOAD_URL=http://download.redis.io/releases/redis-6.0.8.tar.gz\", \"REDIS_DOWNLOAD_SHA=04fa1fddc39bd1aecb6739dd5dd73858a3515b427acd1e2947a66dadce868d68\"], \"ExposedPorts\": {\"6379/tcp\": {}}, \"Hostname\": \"shyam-ThinkPad-P53\", \"Image\": \"redis:latest\", \"Labels\": {}, \"OnBuild\": null, \"OpenStdin\": false, \"StdinOnce\": false, \"Tty\": false, \"User\": \"nobody\", \"Volumes\": {\"/data\": {}}, \"WorkingDir\": \"/data\"}, \"Created\": \"2021-01-12T22:24:59.788894405Z\", \"Driver\": \"overlay2\", \"ExecIDs\": null, \"GraphDriver\": {\"Data\": {\"LowerDir\": \"/var/snap/docker/common/var-lib-docker/overlay2/92e535e60bba265f7458ba06d88934906e6158d24d3e68b2cbb80cdea67b88e2-init/diff:/var/snap/docker/common/var-lib-docker/overlay2/71cf046d92c5cbbcd5ba506a85f3e2a36d8355a1fd010dc008d1073cd67f5af7/diff:/var/snap/docker/common/var-lib-docker/overlay2/058c81cdb3f029a8199dc535919c8b2b19a5c26290e7dcead7e9358c48351779/diff:/var/snap/docker/common/var-lib-docker/overlay2/60b117240fa4babf955e0696cc1556be0d676f36c685391fcf2da809fb073401/diff:/var/snap/docker/common/var-lib-docker/overlay2/2aa1f047b57cadf24935588333457bc2965b79352f5ad8e62f325179b63180a7/diff:/var/snap/docker/common/var-lib-docker/overlay2/b8a63aa86cb87c25c046ddf7a199e4fdc845c4ae6f65366f37b7a529cdf092a9/diff:/var/snap/docker/common/var-lib-docker/overlay2/409b0172df31dc9e3a05133378b2198cd06a5712651f0d03d428af8731ac12ef/diff\", \"MergedDir\": \"/var/snap/docker/common/var-lib-docker/overlay2/92e535e60bba265f7458ba06d88934906e6158d24d3e68b2cbb80cdea67b88e2/merged\", \"UpperDir\": \"/var/snap/docker/common/var-lib-docker/overlay2/92e535e60bba265f7458ba06d88934906e6158d24d3e68b2cbb80cdea67b88e2/diff\", \"WorkDir\": \"/var/snap/docker/common/var-lib-docker/overlay2/92e535e60bba265f7458ba06d88934906e6158d24d3e68b2cbb80cdea67b88e2/work\"}, \"Name\": \"overlay2\"}, \"HostConfig\": {\"AutoRemove\": false, \"Binds\": [], \"BlkioDeviceReadBps\": null, \"BlkioDeviceReadIOps\": null, \"BlkioDeviceWriteBps\": null, \"BlkioDeviceWriteIOps\": null, \"BlkioWeight\": 0, \"BlkioWeightDevice\": null, \"CapAdd\": null, \"CapDrop\": null, \"Capabilities\": null, \"Cgroup\": \"\", \"CgroupParent\": \"\", \"ConsoleSize\": [0, 0], \"ContainerIDFile\": \"\", \"CpuCount\": 0, \"CpuPercent\": 0, \"CpuPeriod\": 0, \"CpuQuota\": 0, \"CpuRealtimePeriod\": 0, \"CpuRealtimeRuntime\": 0, \"CpuShares\": 0, \"CpusetCpus\": \"\", \"CpusetMems\": \"\", \"DeviceCgroupRules\": null, \"DeviceRequests\": null, \"Devices\": null, \"Dns\": null, \"DnsOptions\": null, \"DnsSearch\": null, \"ExtraHosts\": null, \"GroupAdd\": null, \"IOMaximumBandwidth\": 0, \"IOMaximumIOps\": 0, \"Init\": false, \"IpcMode\": \"private\", \"Isolation\": \"\", \"KernelMemory\": 0, \"KernelMemoryTCP\": 0, \"Links\": null, \"LogConfig\": {\"Config\": {}, \"Type\": \"json-file\"}, \"MaskedPaths\": [\"/proc/asound\", \"/proc/acpi\", \"/proc/kcore\", \"/proc/keys\", \"/proc/latency_stats\", \"/proc/timer_list\", \"/proc/timer_stats\", \"/proc/sched_debug\", \"/proc/scsi\", \"/sys/firmware\"], \"Memory\": 0, \"MemoryReservation\": 0, \"MemorySwap\": 0, \"MemorySwappiness\": null, \"NanoCpus\": 0, \"NetworkMode\": \"host\", \"OomKillDisable\": false, \"OomScoreAdj\": 0, \"PidMode\": \"\", \"PidsLimit\": null, \"PortBindings\": null, \"Privileged\": false, \"PublishAllPorts\": false, \"ReadonlyPaths\": [\"/proc/bus\", \"/proc/fs\", \"/proc/irq\", \"/proc/sys\", \"/proc/sysrq-trigger\"], \"ReadonlyRootfs\": false, \"RestartPolicy\": {\"MaximumRetryCount\": 0, \"Name\": \"\"}, \"Runtime\": \"runc\", \"SecurityOpt\": null, \"ShmSize\": 67108864, \"UTSMode\": \"\", \"Ulimits\": null, \"UsernsMode\": \"\", \"VolumeDriver\": \"\", \"VolumesFrom\": null}, \"HostnamePath\": \"/var/snap/docker/common/var-lib-docker/containers/cbc92df818ee6cbea0a2fd2fdb83fb164e856e93bf4f56b9879868fe6043b1bd/hostname\", \"HostsPath\": \"/var/snap/docker/common/var-lib-docker/containers/cbc92df818ee6cbea0a2fd2fdb83fb164e856e93bf4f56b9879868fe6043b1bd/hosts\", \"Id\": \"cbc92df818ee6cbea0a2fd2fdb83fb164e856e93bf4f56b9879868fe6043b1bd\", \"Image\": \"sha256:bd571e6529f32461648680c82e2540f9db4b3bb92709ae5d19dd347531c98f19\", \"LogPath\": \"/var/snap/docker/common/var-lib-docker/containers/cbc92df818ee6cbea0a2fd2fdb83fb164e856e93bf4f56b9879868fe6043b1bd/cbc92df818ee6cbea0a2fd2fdb83fb164e856e93bf4f56b9879868fe6043b1bd-json.log\", \"MountLabel\": \"\", \"Mounts\": [{\"Destination\": \"/data\", \"Driver\": \"local\", \"Mode\": \"\", \"Name\": \"ff6df30c380f48a88b1ca8dcf6b27ac07a5e365d24cd610cb832b62e943db895\", \"Propagation\": \"\", \"RW\": true, \"Source\": \"/var/snap/docker/common/var-lib-docker/volumes/ff6df30c380f48a88b1ca8dcf6b27ac07a5e365d24cd610cb832b62e943db895/_data\", \"Type\": \"volume\"}], \"Name\": \"/test-redis\", \"NetworkSettings\": {\"Bridge\": \"\", \"EndpointID\": \"\", \"Gateway\": \"\", \"GlobalIPv6Address\": \"\", \"GlobalIPv6PrefixLen\": 0, \"HairpinMode\": false, \"IPAddress\": \"\", \"IPPrefixLen\": 0, \"IPv6Gateway\": \"\", \"LinkLocalIPv6Address\": \"\", \"LinkLocalIPv6PrefixLen\": 0, \"MacAddress\": \"\", \"Networks\": {\"host\": {\"Aliases\": null, \"DriverOpts\": null, \"EndpointID\": \"61a04488a5f53fe1a42f8f9c495f18a29a64d0f01f3af451bb10aaa8eafa51f7\", \"Gateway\": \"\", \"GlobalIPv6Address\": \"\", \"GlobalIPv6PrefixLen\": 0, \"IPAMConfig\": null, \"IPAddress\": \"\", \"IPPrefixLen\": 0, \"IPv6Gateway\": \"\", \"Links\": null, \"MacAddress\": \"\", \"NetworkID\": \"16505e3cf210bc488b5a5f7f9f0df7d18b51acece27c2f1b3a63906f13dc8529\"}}, \"Ports\": {}, \"SandboxID\": \"6d100ca5c0109772865d6bd0bf903f99c118550118f8c1f0b49038aea8ad00aa\", \"SandboxKey\": \"/var/snap/docker/471/run/docker/netns/default\", \"SecondaryIPAddresses\": null, \"SecondaryIPv6Addresses\": null}, \"Path\": \"docker-entrypoint.sh\", \"Platform\": \"linux\", \"ProcessLabel\": \"\", \"ResolvConfPath\": \"/var/snap/docker/common/var-lib-docker/containers/cbc92df818ee6cbea0a2fd2fdb83fb164e856e93bf4f56b9879868fe6043b1bd/resolv.conf\", \"RestartCount\": 0, \"State\": {\"Dead\":\u001b[0;33mchanged: [192.168.1.248] => {\"ansible_facts\": {\"docker_container\": {\"AppArmorProfile\": \"docker-default\", \"Args\": [\"redis-server\"], \"Config\": {\"AttachStderr\": false, \"AttachStdin\": false, \"AttachStdout\": false, \"Cmd\": [\"redis-server\"], \"Domainname\": \"\", \"Entrypoint\": [\"docker-entrypoint.sh\"], \"Env\": [\"PATH=/usr/local/sbin:/usr/local/bin:/usr/sbin:/usr/bin:/sbin:/bin\", \"GOSU_VERSION=1.12\", \"REDIS_VERSION=6.0.8\", \"REDIS_DOWNLOAD_URL=http://download.redis.io/releases/redis-6.0.8.tar.gz\", \"REDIS_DOWNLOAD_SHA=04fa1fddc39bd1aecb6739dd5dd73858a3515b427acd1e2947a66dadce868d68\"], \"ExposedPorts\": {\"6379/tcp\": {}}, \"Hostname\": \"shyam-ThinkPad-P53\", \"Image\": \"redis:latest\", \"Labels\": {}, \"OnBuild\": null, \"OpenStdin\": false, \"StdinOnce\": false, \"Tty\": false, \"User\": \"nobody\", \"Volumes\": {\"/data\": {}}, \"WorkingDir\": \"/data\"}, \"Created\": \"2021-01-12T22:24:59.788894405Z\", \"Driver\": \"overlay2\", \"ExecIDs\": null, \"GraphDriver\": {\"Data\": {\"LowerDir\": \"/var/snap/docker/common/var-lib-docker/overlay2/92e535e60bba265f7458ba06d88934906e6158d24d3e68b2cbb80cdea67b88e2-init/diff:/var/snap/docker/common/var-lib-docker/overlay2/71cf046d92c5cbbcd5ba506a85f3e2a36d8355a1fd010dc008d1073cd67f5af7/diff:/var/snap/docker/common/var-lib-docker/overlay2/058c81cdb3f029a8199dc535919c8b2b19a5c26290e7dcead7e9358c48351779/diff:/var/snap/docker/common/var-lib-docker/overlay2/60b117240fa4babf955e0696cc1556be0d676f36c685391fcf2da809fb073401/diff:/var/snap/docker/common/var-lib-docker/overlay2/2aa1f047b57cadf24935588333457bc2965b79352f5ad8e62f325179b63180a7/diff:/var/snap/docker/common/var-lib-docker/overlay2/b8a63aa86cb87c25c046ddf7a199e4fdc845c4ae6f65366f37b7a529cdf092a9/diff:/var/snap/docker/common/var-lib-docker/overlay2/409b0172df31dc9e3a05133378b2198cd06a5712651f0d03d428af8731ac12ef/diff\", \"MergedDir\": \"/var/snap/docker/common/var-lib-docker/overlay2/92e535e60bba265f7458ba06d88934906e6158d24d3e68b2cbb80cdea67b88e2/merged\", \"UpperDir\": \"/var/snap/docker/common/var-lib-docker/overlay2/92e535e60bba265f7458ba06d88934906e6158d24d3e68b2cbb80cdea67b88e2/diff\", \"WorkDir\": \"/var/snap/docker/common/var-lib-docker/overlay2/92e535e60bba265f7458ba06d88934906e6158d24d3e68b2cbb80cdea67b88e2/work\"}, \"Name\": \"overlay2\"}, \"HostConfig\": {\"AutoRemove\": false, \"Binds\": [], \"BlkioDeviceReadBps\": null, \"BlkioDeviceReadIOps\": null, \"BlkioDeviceWriteBps\": null, \"BlkioDeviceWriteIOps\": null, \"BlkioWeight\": 0, \"BlkioWeightDevice\": null, \"CapAdd\": null, \"CapDrop\": null, \"Capabilities\": null, \"Cgroup\": \"\", \"CgroupParent\": \"\", \"ConsoleSize\": [0, 0], \"ContainerIDFile\": \"\", \"CpuCount\": 0, \"CpuPercent\": 0, \"CpuPeriod\": 0, \"CpuQuota\": 0, \"CpuRealtimePeriod\": 0, \"CpuRealtimeRuntime\": 0, \"CpuShares\": 0, \"CpusetCpus\": \"\", \"CpusetMems\": \"\", \"DeviceCgroupRules\": null, \"DeviceRequests\": null, \"Devices\": null, \"Dns\": null, \"DnsOptions\": null, \"DnsSearch\": null, \"ExtraHosts\": null, \"GroupAdd\": null, \"IOMaximumBandwidth\": 0, \"IOMaximumIOps\": 0, \"Init\": false, \"IpcMode\": \"private\", \"Isolation\": \"\", \"KernelMemory\": 0, \"KernelMemoryTCP\": 0, \"Links\": null, \"LogConfig\": {\"Config\": {}, \"Type\": \"json-file\"}, \"MaskedPaths\": [\"/proc/asound\", \"/proc/acpi\", \"/proc/kcore\", \"/proc/keys\", \"/proc/latency_stats\", \"/proc/timer_list\", \"/proc/timer_stats\", \"/proc/sched_debug\", \"/proc/scsi\", \"/sys/firmware\"], \"Memory\": 0, \"MemoryReservation\": 0, \"MemorySwap\": 0, \"MemorySwappiness\": null, \"NanoCpus\": 0, \"NetworkMode\": \"host\", \"OomKillDisable\": false, \"OomScoreAdj\": 0, \"PidMode\": \"\", \"PidsLimit\": null, \"PortBindings\": null, \"Privileged\": false, \"PublishAllPorts\": false, \"ReadonlyPaths\": [\"/proc/bus\", \"/proc/fs\", \"/proc/irq\", \"/proc/sys\", \"/proc/sysrq-trigger\"], \"ReadonlyRootfs\": false, \"RestartPolicy\": {\"MaximumRetryCount\": 0, \"Name\": \"\"}, \"Runtime\": \"runc\", \"SecurityOpt\": null, \"ShmSize\": 67108864, \"UTSMode\": \"\", \"Ulimits\": null, \"UsernsMode\": \"\", \"VolumeDriver\": \"\", \"VolumesFrom\": null}, \"HostnamePath\": \"/var/snap/docker/common/var-lib-docker/containers/cbc92df818ee6cbea0a2fd2fdb83fb164e856e93bf4f56b9879868fe6043b1bd/hostname\", \"HostsPath\": \"/var/snap/docker/common/var-lib-docker/containers/cbc92df818ee6cbea0a2fd2fdb83fb164e856e93bf4f56b9879868fe6043b1bd/hosts\", \"Id\": \"cbc92df818ee6cbea0a2fd2fdb83fb164e856e93bf4f56b9879868fe6043b1bd\", \"Image\": \"sha256:bd571e6529f32461648680c82e2540f9db4b3bb92709ae5d19dd347531c98f19\", \"LogPath\": \"/var/snap/docker/common/var-lib-docker/containers/cbc92df818ee6cbea0a2fd2fdb83fb164e856e93bf4f56b9879868fe6043b1bd/cbc92df818ee6cbea0a2fd2fdb83fb164e856e93bf4f56b9879868fe6043b1bd-json.log\", \"MountLabel\": \"\", \"Mounts\": [{\"Destination\": \"/data\", \"Driver\": \"local\", \"Mode\": \"\", \"Name\": \"ff6df30c380f48a88b1ca8dcf6b27ac07a5e365d24cd610cb832b62e943db895\", \"Propagation\": \"\", \"RW\": true, \"Source\": \"/var/snap/docker/common/var-lib-docker/volumes/ff6df30c380f48a88b1ca8dcf6b27ac07a5e365d24cd610cb832b62e943db895/_data\", \"Type\": \"volume\"}], \"Name\": \"/test-redis\", \"NetworkSettings\": {\"Bridge\": \"\", \"EndpointID\": \"\", \"Gateway\": \"\", \"GlobalIPv6Address\": \"\", \"GlobalIPv6PrefixLen\": 0, \"HairpinMode\": false, \"IPAddress\": \"\", \"IPPrefixLen\": 0, \"IPv6Gateway\": \"\", \"LinkLocalIPv6Address\": \"\", \"LinkLocalIPv6PrefixLen\": 0, \"MacAddress\": \"\", \"Networks\": {\"host\": {\"Aliases\": null, \"DriverOpts\": null, \"EndpointID\": \"61a04488a5f53fe1a42f8f9c495f18a29a64d0f01f3af451bb10aaa8eafa51f7\", \"Gateway\": \"\", \"GlobalIPv6Address\": \"\", \"GlobalIPv6PrefixLen\": 0, \"IPAMConfig\": null, \"IPAddress\": \"\", \"IPPrefixLen\": 0, \"IPv6Gateway\": \"\", \"Links\": null, \"MacAddress\": \"\", \"NetworkID\": \"16505e3cf210bc488b5a5f7f9f0df7d18b51acece27c2f1b3a63906f13dc8529\"}}, \"Ports\": {}, \"SandboxID\": \"6d100ca5c0109772865d6bd0bf903f99c118550118f8c1f0b49038aea8ad00aa\", \"SandboxKey\": \"/var/snap/docker/471/run/docker/netns/default\", \"SecondaryIPAddresses\": null, \"SecondaryIPv6Addresses\": null}, \"Path\": \"docker-entrypoint.sh\", \"Platform\": \"linux\", \"ProcessLabel\": \"\", \"ResolvConfPath\": \"/var/snap/docker/common/var-lib-docker/containers/cbc92df818ee6cbea0a2fd2fdb83fb164e856e93bf4f56b9879868fe6043b1bd/resolv.conf\", \"RestartCount\": 0, \"State\": {\"Dead\": false, \"Error\": \"\", \"ExitCode\": 0, \"FinishedAt\": \"0001-01-01T00:00:00Z\", \"OOMKilled\": false, \"Paused\": false, \"Pid\": 25386, \"Restarting\": false, \"Running\": true, \"StartedAt\": \"2021-01-12T22:24:59.96396971Z\", \"Status\": \"running\"}}}, \"changed\": true, \"container\": {\"AppArmorProfile\": \"docker-default\", \"Args\": [\"redis-server\"], \"Config\": {\"AttachStderr\": false, \"AttachStdin\": false, \"AttachStdout\": false, \"Cmd\": [\"redis-server\"], \"Domainname\": \"\", \"Entrypoint\": [\"docker-entrypoint.sh\"], \"Env\": [\"PATH=/usr/local/sbin:/usr/local/bin:/usr/sbin:/usr/bin:/sbin:/bin\", \"GOSU_VERSION=1.12\", \"REDIS_VERSION=6.0.8\", \"REDIS_DOWNLOAD_URL=http://download.redis.io/releases/redis-6.0.8.tar.gz\", \"REDIS_DOWNLOAD_SHA=04fa1fddc39bd1aecb6739dd5dd73858a3515b427acd1e2947a66dadce868d68\"], \"ExposedPorts\": {\"6379/tcp\": {}}, \"Hostname\": \"shyam-ThinkPad-P53\", \"Image\": \"redis:latest\", \"Labels\": {}, \"OnBuild\": null, \"OpenStdin\": false, \"StdinOnce\": false, \"Tty\": false, \"User\": \"nobody\", \"Volumes\": {\"/data\": {}}, \"WorkingDir\": \"/data\"}, \"Created\": \"2021-01-12T22:24:59.788894405Z\", \"Driver\": \"overlay2\", \"ExecIDs\": null, \"GraphDriver\": {\"Data\": {\"LowerDir\": \"/var/snap/docker/common/var-lib-docker/overlay2/92e535e60bba265f7458ba06d88934906e6158d24d3e68b2cbb80cdea67b88e2-init/diff:/var/snap/docker/common/var-lib-docker/overlay2/71cf046d92c5cbbcd5ba506a85f3e2a36d8355a1fd010dc008d1073cd67f5af7/diff:/var/snap/docker/common/var-lib-docker/overlay2/058c81cdb3f029a8199dc535919c8b2b19a5c26290e7dcead7e9358c48351779/diff:/var/snap/docker/common/var-lib-docker/overlay2/60b117240fa4babf955e0696cc1556be0d676f36c685391fcf2da809fb073401/diff:/var/snap/docker/common/var-lib-docker/overlay2/2aa1f047b57cadf24935588333457bc2965b79352f5ad8e62f325179b63180a7/diff:/var/snap/docker/common/var-lib-docker/overlay2/b8a63aa86cb87c25c046ddf7a199e4fdc845c4ae6f65366f37b7a529cdf092a9/diff:/var/snap/docker/common/var-lib-docker/overlay2/409b0172df31dc9e3a05133378b2198cd06a5712651f0d03d428af8731ac12ef/diff\", \"MergedDir\": \"/var/snap/docker/common/var-lib-docker/overlay2/92e535e60bba265f7458ba06d88934906e6158d24d3e68b2cbb80cdea67b88e2/merged\", \"UpperDir\": \"/var/snap/docker/common/var-lib-docker/overlay2/92e535e60bba265f7458ba06d88934906e6158d24d3e68b2cbb80cdea67b88e2/diff\", \"WorkDir\": \"/var/snap/docker/common/var-lib-docker/overlay2/92e535e60bba265f7458ba06d88934906e6158d24d3e68b2cbb80cdea67b88e2/work\"}, \"Name\": \"overlay2\"}, \"HostConfig\": {\"AutoRemove\": false, \"Binds\": [], \"BlkioDeviceReadBps\": null, \"BlkioDeviceReadIOps\": null, \"BlkioDeviceWriteBps\": null, \"BlkioDeviceWriteIOps\": null, \"BlkioWeight\": 0, \"BlkioWeightDevice\": null, \"CapAdd\": null, \"CapDrop\": null, \"Capabilities\": null, \"Cgroup\": \"\", \"CgroupParent\": \"\", \"ConsoleSize\": [0, 0], \"ContainerIDFile\": \"\", \"CpuCount\": 0, \"CpuPercent\": 0, \"CpuPeriod\": 0, \"CpuQuota\": 0, \"CpuRealtimePeriod\": 0, \"CpuRealtimeRuntime\": 0, \"CpuShares\": 0, \"CpusetCpus\": \"\", \"CpusetMems\": \"\", \"DeviceCgroupRules\": null, \"DeviceRequests\": null, \"Devices\": null, \"Dns\": null, \"DnsOptions\": null, \"DnsSearch\": null, \"ExtraHosts\": null, \"GroupAdd\": null, \"IOMaximumBandwidth\": 0, \"IOMaximumIOps\": 0, \"Init\": false, \"IpcMode\": \"private\", \"Isolation\": \"\", \"KernelMemory\": 0, \"KernelMemoryTCP\": 0, \"Links\": null, \"LogConfig\": {\"Config\": {}, \"Type\": \"json-file\"}, \"MaskedPaths\": [\"/proc/asound\", \"/proc/acpi\", \"/proc/kcore\", \"/proc/keys\", \"/proc/latency_stats\", \"/proc/timer_list\", \"/proc/timer_stats\", \"/proc/sched_debug\", \"/proc/scsi\", \"/sys/firmware\"], \"Memory\": 0, \"MemoryReservation\": 0, \"MemorySwap\": 0, \"MemorySwappiness\": null, \"NanoCpus\": 0, \"NetworkMode\": \"host\", \"OomKillDisable\": false, \"OomScoreAdj\": 0, \"PidMode\": \"\", \"PidsLimit\": null, \"PortBindings\": null, \"Privileged\": false, \"PublishAllPorts\": false, \"ReadonlyPaths\": [\"/proc/bus\", \"/proc/fs\", \"/proc/irq\", \"/proc/sys\", \"/proc/sysrq-trigger\"], \"ReadonlyRootfs\": false, \"RestartPolicy\": {\"MaximumRetryCount\": 0, \"Name\": \"\"}, \"Runtime\": \"runc\", \"SecurityOpt\": null, \"ShmSize\": 67108864, \"UTSMode\": \"\", \"Ulimits\": null, \"UsernsMode\": \"\", \"VolumeDriver\": \"\", \"VolumesFrom\": null}, \"HostnamePath\": \"/var/snap/docker/common/var-lib-docker/containers/cbc92df818ee6cbea0a2fd2fdb83fb164e856e93bf4f56b9879868fe6043b1bd/hostname\", \"HostsPath\": \"/var/snap/docker/common/var-lib-docker/containers/cbc92df818ee6cbea0a2fd2fdb83fb164e856e93bf4f56b9879868fe6043b1bd/hosts\", \"Id\": \"cbc92df818ee6cbea0a2fd2fdb83fb164e856e93bf4f56b9879868fe6043b1bd\", \"Image\": \"sha256:bd571e6529f32461648680c82e2540f9db4b3bb92709ae5d19dd347531c98f19\", \"LogPath\": \"/var/snap/docker/common/var-lib-docker/containers/cbc92df818ee6cbea0a2fd2fdb83fb164e856e93bf4f56b9879868fe6043b1bd/cbc92df818ee6cbea0a2fd2fdb83fb164e856e93bf4f56b9879868fe6043b1bd-json.log\", \"MountLabel\": \"\", \"Mounts\": [{\"Destination\": \"/data\", \"Driver\": \"local\", \"Mode\": \"\", \"Name\": \"ff6df30c380f48a88b1ca8dcf6b27ac07a5e365d24cd610cb832b62e943db895\", \"Propagation\": \"\", \"RW\": true, \"Source\": \"/var/snap/docker/common/var-lib-docker/volumes/ff6df30c380f48a88b1ca8dcf6b27ac07a5e365d24cd610cb832b62e943db895/_data\", \"Type\": \"volume\"}], \"Name\": \"/test-redis\", \"NetworkSettings\": {\"Bridge\": \"\", \"EndpointID\": \"\", \"Gateway\": \"\", \"GlobalIPv6Address\": \"\", \"GlobalIPv6PrefixLen\": 0, \"HairpinMode\": false, \"IPAddress\": \"\", \"IPPrefixLen\": 0, \"IPv6Gateway\": \"\", \"LinkLocalIPv6Address\": \"\", \"LinkLocalIPv6PrefixLen\": 0, \"MacAddress\": \"\", \"Networks\": {\"host\": {\"Aliases\": null, \"DriverOpts\": null, \"EndpointID\": \"61a04488a5f53fe1a42f8f9c495f18a29a64d0f01f3af451bb10aaa8eafa51f7\", \"Gateway\": \"\", \"GlobalIPv6Address\": \"\", \"GlobalIPv6PrefixLen\": 0, \"IPAMConfig\": null, \"IPAddress\": \"\", \"IPPrefixLen\": 0, \"IPv6Gateway\": \"\", \"Links\": null, \"MacAddress\": \"\", \"NetworkID\": \"16505e3cf210bc488b5a5f7f9f0df7d18b51acece27c2f1b3a63906f13dc8529\"}}, \"Ports\": {}, \"SandboxID\": \"6d100ca5c0109772865d6bd0bf903f99c118550118f8c1f0b49038aea8ad00aa\", \"SandboxKey\": \"/var/snap/docker/471/run/docker/netns/default\", \"SecondaryIPAddresses\": null, \"SecondaryIPv6Addresses\": null}, \"Path\": \"docker-entrypoint.sh\", \"Platform\": \"linux\", \"ProcessLabel\": \"\", \"ResolvConfPath\": \"/var/snap/docker/common/var-lib-docker/containers/cbc92df818ee6cbea0a2fd2fdb83fb164e856e93bf4f56b9879868fe6043b1bd/resolv.conf\", \"RestartCount\": 0, \"State\": {\"Dead\": false, \"Error\": \"\", \"ExitCode\": 0, \"FinishedAt\": \"0001-01-01T00:00:00Z\", \"OOMKilled\": false, \"Paused\": false, \"Pid\": 25386, \"Restarting\": false, \"Running\": true, \"StartedAt\": \"2021-01-12T22:24:59.96396971Z\", \"Status\": \"running\"}}}\u001b[0m\n",
      "\u001b[0;34mMETA: ran handlers\u001b[0m\n",
      "\u001b[0;34mMETA: ran handlers\u001b[0m\n",
      "\n",
      "PLAY RECAP *********************************************************************\n",
      "\u001b[0;33m192.168.1.248\u001b[0m              : \u001b[0;32mok=3   \u001b[0m \u001b[0;33mchanged=2   \u001b[0m unreachable=0    failed=0    skipped=0    rescued=0    ignored=0   \n",
      "\n"
     ]
    },
    {
     "name": "stderr",
     "output_type": "stream",
     "text": [
      "2021-01-12 14:25:00.180 | INFO     | ansible_please.ansible_runner:run:61 - successful: 0\n",
      "2021-01-12 14:25:00.183 | INFO     | ansible_please.ansible_runner:run:62 - Final status:\n",
      "2021-01-12 14:25:00.195 | INFO     | ansible_please.ansible_runner:run:63 - {'skipped': {}, 'ok': {'192.168.1.248': 3}, 'dark': {}, 'failures': {}, 'processed': {'192.168.1.248': 1}, 'changed': {'192.168.1.248': 2}}\n"
     ]
    }
   ],
   "source": [
    "runner = AnsibleRunner(input_path='test_input.yml', playbook=playbook)\n",
    "runner.up()"
   ]
  },
  {
   "cell_type": "markdown",
   "metadata": {},
   "source": [
    "### you should see that the container \"test-redis\" is up"
   ]
  },
  {
   "cell_type": "markdown",
   "metadata": {},
   "source": [
    "### Now tear it down"
   ]
  },
  {
   "cell_type": "code",
   "execution_count": 6,
   "metadata": {},
   "outputs": [
    {
     "name": "stdout",
     "output_type": "stream",
     "text": [
      "\u001b[0;34mansible-playbook 2.10.3\u001b[0m\n",
      "\u001b[0;34m  config file = None\u001b[0m\n",
      "\u001b[0;34m  configured module search path = ['/home/shyam/.ansible/plugins/modules', '/usr/share/ansible/plugins/modules']\u001b[0m\n",
      "\u001b[0;34m  ansible python module location = /home/shyam/anaconda3/envs/py38/lib/python3.8/site-packages/ansible\u001b[0m\n",
      "\u001b[0;34m  executable location = /home/shyam/anaconda3/envs/py38/bin/ansible-playbook\u001b[0m\n",
      "\u001b[0;34m  python version = 3.8.3 (default, Jul  2 2020, 16:21:59) [GCC 7.3.0]\u001b[0m\n",
      "\u001b[0;34mNo config file found; using defaults\u001b[0m\n",
      "\u001b[0;34mredirecting (type: modules) ansible.builtin.docker_container to community.general.docker_container\u001b[0m\n",
      "\u001b[0;34mredirecting (type: modules) ansible.builtin.docker_container to community.general.docker_container\u001b[0m\n",
      "\u001b[0;34mSkipping callback 'awx_display', as we already have a stdout callback.\u001b[0m\n",
      "\u001b[0;34mSkipping callback 'default', as we already have a stdout callback.\u001b[0m\n",
      "\u001b[0;34mSkipping callback 'minimal', as we already have a stdout callback.\u001b[0m\n",
      "\u001b[0;34mSkipping callback 'oneline', as we already have a stdout callback.\u001b[0m\n",
      "\n",
      "PLAYBOOK: tmppvstza5p.yml ******************************************************\n",
      "\u001b[0;34m1 plays in /tmp/tmppvstza5p.yml\u001b[0m\n",
      "\n",
      "PLAY [test-redis-playbook] *****************************************************\n",
      "\n",
      "TASK [Gathering Facts] *********************************************************\n",
      "\u001b[1;30mtask path: /tmp/tmppvstza5p.yml:1\u001b[0m\n",
      "\u001b[0;32mok: [192.168.1.248]\u001b[0m\n",
      "\u001b[0;34mMETA: ran handlers\u001b[0m\n",
      "\n",
      "TASK [[down] start-test-redis] *************************************************\n",
      "\u001b[1;30mtask path: /tmp/tmppvstza5p.yml:23\u001b[0m\n",
      "\u001b[0;34mredirecting (type: modules) ansible.builtin.docker_container to community.general.docker_container\u001b[0m\n",
      "\u001b[0;33mchanged: [192.168.1.248] => {\"changed\": true}\u001b[0m\n",
      "\u001b[0;34mMETA: ran handlers\u001b[0m\n",
      "\u001b[0;34mMETA: ran handlers\u001b[0m\n",
      "\n",
      "PLAY RECAP *********************************************************************\n",
      "\u001b[0;33m192.168.1.248\u001b[0m              : \u001b[0;32mok=2   \u001b[0m \u001b[0;33mchanged=1   \u001b[0m unreachable=0    failed=0    skipped=0    rescued=0    ignored=0   \n",
      "\n"
     ]
    },
    {
     "name": "stderr",
     "output_type": "stream",
     "text": [
      "2021-01-12 14:25:13.665 | INFO     | ansible_please.ansible_runner:run:61 - successful: 0\n",
      "2021-01-12 14:25:13.667 | INFO     | ansible_please.ansible_runner:run:62 - Final status:\n",
      "2021-01-12 14:25:13.689 | INFO     | ansible_please.ansible_runner:run:63 - {'skipped': {}, 'ok': {'192.168.1.248': 2}, 'dark': {}, 'failures': {}, 'processed': {'192.168.1.248': 1}, 'changed': {'192.168.1.248': 1}}\n"
     ]
    }
   ],
   "source": [
    "# tear down\n",
    "runner.down()"
   ]
  }
 ],
 "metadata": {
  "kernelspec": {
   "display_name": "Python [conda env:py38] *",
   "language": "python",
   "name": "conda-env-py38-py"
  },
  "language_info": {
   "codemirror_mode": {
    "name": "ipython",
    "version": 3
   },
   "file_extension": ".py",
   "mimetype": "text/x-python",
   "name": "python",
   "nbconvert_exporter": "python",
   "pygments_lexer": "ipython3",
   "version": "3.8.3"
  }
 },
 "nbformat": 4,
 "nbformat_minor": 4
}
