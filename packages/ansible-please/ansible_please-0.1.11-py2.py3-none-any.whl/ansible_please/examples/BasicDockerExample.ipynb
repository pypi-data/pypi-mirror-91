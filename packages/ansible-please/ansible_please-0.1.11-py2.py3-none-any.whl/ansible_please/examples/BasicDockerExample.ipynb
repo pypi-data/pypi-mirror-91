{
 "cells": [
  {
   "cell_type": "markdown",
   "metadata": {},
   "source": [
    "# Run redis with docker"
   ]
  },
  {
   "cell_type": "code",
   "execution_count": 1,
   "metadata": {},
   "outputs": [],
   "source": [
    "from ansible_please.ansible_runner import AnsibleRunner\n",
    "from ansible_please.playbook import Playbook\n",
    "from ansible_please.task_templates import Pip, DockerContainer\n",
    "from omegaconf import OmegaConf"
   ]
  },
  {
   "cell_type": "markdown",
   "metadata": {},
   "source": [
    "### Install docker via pip"
   ]
  },
  {
   "cell_type": "code",
   "execution_count": 2,
   "metadata": {},
   "outputs": [],
   "source": [
    "pip_task = Pip(packages=[\"docker\"])"
   ]
  },
  {
   "cell_type": "markdown",
   "metadata": {},
   "source": [
    "### Define docker task"
   ]
  },
  {
   "cell_type": "code",
   "execution_count": 3,
   "metadata": {},
   "outputs": [],
   "source": [
    "docker_container_task = DockerContainer(\n",
    "    task_description=\"start-test-redis\",\n",
    "    name=\"test-redis\",\n",
    "    image=\"redis:latest\",\n",
    ")"
   ]
  },
  {
   "cell_type": "markdown",
   "metadata": {},
   "source": [
    "### Define Playbook"
   ]
  },
  {
   "cell_type": "code",
   "execution_count": 4,
   "metadata": {},
   "outputs": [],
   "source": [
    "playbook = Playbook(\n",
    "    name=\"test-redis-playbook\",\n",
    "    hosts=\"master_host\",\n",
    "    tasks=[\n",
    "        pip_task.up(),\n",
    "        docker_container_task.up(),\n",
    "        docker_container_task.down(),\n",
    "        \n",
    "    ],\n",
    ")"
   ]
  },
  {
   "cell_type": "markdown",
   "metadata": {},
   "source": [
    "### Run playbook"
   ]
  },
  {
   "cell_type": "code",
   "execution_count": 5,
   "metadata": {
    "scrolled": true
   },
   "outputs": [
    {
     "name": "stderr",
     "output_type": "stream",
     "text": [
      "/home/shyam/anaconda3/envs/py38/lib/python3.8/site-packages/omegaconf-2.0.0-py3.8.egg/omegaconf/dictconfig.py:252: UserWarning: Keys with dot (127.0.0.1) are deprecated and will have different semantic meaning the next major version of OmegaConf (2.1)\n",
      "See the compact keys issue for more details: https://github.com/omry/omegaconf/issues/152\n",
      "You can disable this warning by setting the environment variable OC_DISABLE_DOT_ACCESS_WARNING=1\n",
      "  warnings.warn(message=msg, category=UserWarning)\n",
      "/home/shyam/anaconda3/envs/py38/lib/python3.8/site-packages/omegaconf-2.0.0-py3.8.egg/omegaconf/dictconfig.py:252: UserWarning: Keys with dot (192.168.1.248) are deprecated and will have different semantic meaning the next major version of OmegaConf (2.1)\n",
      "See the compact keys issue for more details: https://github.com/omry/omegaconf/issues/152\n",
      "You can disable this warning by setting the environment variable OC_DISABLE_DOT_ACCESS_WARNING=1\n",
      "  warnings.warn(message=msg, category=UserWarning)\n"
     ]
    },
    {
     "name": "stdout",
     "output_type": "stream",
     "text": [
      "\u001b[0;34mNo config file found; using defaults\u001b[0m\n",
      "\n",
      "PLAY [test-redis-playbook] *****************************************************\n",
      "\n",
      "TASK [Gathering Facts] *********************************************************\n",
      "\u001b[0;32mok: [192.168.1.248]\u001b[0m\n",
      "\n",
      "TASK [[up] Install package via pip] ********************************************\n",
      "\u001b[0;33mchanged: [192.168.1.248] => {\"changed\": true, \"cmd\": [\"/usr/bin/python3\", \"-m\", \"pip\", \"install\", \"docker\"], \"delta\": \"0:00:00.921894\", \"end\": \"2021-01-17 22:51:14.264145\", \"rc\": 0, \"start\": \"2021-01-17 22:51:13.342251\", \"stderr\": \"\", \"stderr_lines\": [], \"stdout\": \"Requirement already satisfied: docker in /home/shyam/.local/lib/python3.8/site-packages (4.4.1)\\nRequirement already satisfied: requests!=2.18.0,>=2.14.2 in /usr/lib/python3/dist-packages (from docker) (2.22.0)\\nRequirement already satisfied: six>=1.4.0 in /usr/lib/python3/dist-packages (from docker) (1.14.0)\\nRequirement already satisfied: websocket-client>=0.32.0 in /home/shyam/.local/lib/python3.8/site-packages (from docker) (0.57.0)\", \"stdout_lines\": [\"Requirement already satisfied: docker in /home/shyam/.local/lib/python3.8/site-packages (4.4.1)\", \"Requirement already satisfied: requests!=2.18.0,>=2.14.2 in /usr/lib/python3/dist-packages (from docker) (2.22.0)\", \"Requirement already satisfied: six>=1.4.0 in /usr/lib/python3/dist-packages (from docker) (1.14.0)\", \"Requirement already satisfied: websocket-client>=0.32.0 in /home/shyam/.local/lib/python3.8/site-packages (from docker) (0.57.0)\"]}\u001b[0m\n",
      "\n",
      "TASK [[up] start-test-redis] ***************************************************\n",
      "erDir\": \"/var/snap/docker/common/var-lib-docker/overlay2/cff73f331cc3182fb7b6788b7825df30d4ab95cf06162d2580e95de98ea7215b/diff\", \"WorkDir\": \"/var/snap/docker/common/var-lib-docker/overlay2/cff73f331cc3182fb7b6788b7825df30d4ab95cf06162d2580e95de98ea7215b/work\"}, \"Name\": \"overlay2\"}, \"HostConfig\": {\"AutoRemove\": false, \"Binds\": [], \"BlkioDeviceReadBps\": null, \"BlkioDeviceReadIOps\": null, \"BlkioDeviceWriteBps\": null, \"BlkioDeviceWriteIOps\": null, \"BlkioWeight\": 0, \"BlkioWeightDevice\": null, \"CapAdd\": null, \"CapDrop\": null, \"Capabilities\": null, \"Cgroup\": \"\", \"CgroupParent\": \"\", \"ConsoleSize\": [0, 0], \"ContainerIDFile\": \"\", \"CpuCount\": 0, \"CpuPercent\": 0, \"CpuPeriod\": 0, \"CpuQuota\": 0, \"CpuRealtimePeriod\": 0, \"CpuRealtimeRuntime\": 0, \"CpuShares\": 0, \"CpusetCpus\": \"\", \"CpusetMems\": \"\", \"DeviceCgroupRules\": null, \"DeviceRequests\": null, \"Devices\": null, \"Dns\": null, \"DnsOptions\": null, \"DnsSearch\": null, \"ExtraHosts\": null, \"GroupAdd\": null, \"IOMaximumBandwidth\": 0, \"IOMaximumIOps\": 0, \"Init\": false, \"IpcMode\": \"private\", \"Isolation\": \"\", \"KernelMemory\": 0, \"KernelMemoryTCP\": 0, \"Links\": null, \"LogConfig\": {\"Config\": {}, \"Type\": \"json-file\"}, \"MaskedPaths\": [\"/proc/asound\", \"/proc/acpi\", \"/proc/kcore\", \"/proc/keys\", \"/proc/latency_stats\", \"/proc/timer_list\", \"/proc/timer_stats\", \"/proc/sched_debug\", \"/proc/scsi\", \"/sys/firmware\"], \"Memory\": 0, \"MemoryReservation\": 0, \"MemorySwap\": 0, \"MemorySwappiness\": null, \"NanoCpus\": 0, \"NetworkMode\": \"host\", \"OomKillDisable\": false, \"OomScoreAdj\": 0, \"PidMode\": \"\", \"PidsLimit\": null, \"PortBindings\": null, \"Privileged\": false, \"PublishAllPorts\": false, \"ReadonlyPaths\": [\"/proc/bus\", \"/proc/fs\", \"/proc/irq\", \"/proc/sys\", \"/proc/sysrq-trigger\"], \"ReadonlyRootfs\": false, \"RestartPolicy\": {\"MaximumRetryCount\": 0, \"Name\": \"\"}, \"Runtime\": \"runc\", \"SecurityOpt\": null, \"ShmSize\": 67108864, \"UTSMode\": \"\", \"Ulimits\": null, \"UsernsMode\": \"\", \"VolumeDriver\": \"\", \"VolumesFrom\": null}, \"HostnamePath\": \"/var/snap/docker/common/var-lib-docker/containers/d281cd8cb111833d9451c06070ae5710272931ddc9f795d3b3f5adcafbafdc89/hostname\", \"HostsPath\": \"/var/snap/docker/common/var-lib-docker/containers/d281cd8cb111833d9451c06070ae5710272931ddc9f795d3b3f5adcafbafdc89/hosts\", \"Id\": \"d281cd8cb111833d9451c06070ae5710272931ddc9f795d3b3f5adcafbafdc89\", \"Image\": \"sha256:bd571e6529f32461648680c82e2540f9db4b3bb92709ae5d19dd347531c98f19\", \"LogPath\": \"/var/snap/docker/common/var-lib-docker/containers/d281cd8cb111833d9451c06070ae5710272931ddc9f795d3b3f5adcafbafdc89/d281cd8cb111833d9451c06070ae5710272931ddc9f795d3b3f5adcafbafdc89-json.log\", \"MountLabel\": \"\", \"Mounts\": [{\"Destination\": \"/data\", \"Driver\": \"local\", \"Mode\": \"\", \"Name\": \"8fe685577d66f1b1fc665e57f6ab11a8049a07c96fa80e8810bae7b2e817bae8\", \"Propagation\": \"\", \"RW\": true, \"Source\": \"/var/snap/docker/common/var-lib-docker/volumes/8fe685577d66f1b1fc665e57f6ab11a8049a07c96fa80e8810bae7b2e817bae8/_data\", \"Type\": \"volume\"}], \"Name\": \"/test-redis\", \"NetworkSettings\": {\"Bridge\": \"\", \"EndpointID\": \"\", \"Gateway\": \"\", \"GlobalIPv6Address\": \"\", \"GlobalIPv6PrefixLen\": 0, \"HairpinMode\": false, \"IPAddress\": \"\", \"IPPrefixLen\": 0, \"IPv6Gateway\": \"\", \"LinkLocalIPv6Address\": \"\", \"LinkLocalIPv6PrefixLen\": 0, \"MacAddress\": \"\", \"Networks\": {\"host\": {\"Aliases\": null, \"DriverOpts\": null, \"EndpointID\": \"2b4e85c992be7449c72c758086e05c1f5338b3112bb577ba131990da063e3271\", \"Gateway\": \"\", \"GlobalIPv6Address\": \"\", \"GlobalIPv6PrefixLen\": 0, \"IPAMConfig\": null, \"IPAddress\": \"\", \"IPPrefixLen\": 0, \"IPv6Gateway\": \"\", \"Links\": null, \"MacAddress\": \"\", \"NetworkID\": \"16505e3cf210bc488b5a5f7f9f0df7d18b51acece27c2f1b3a63906f13dc8529\"}}, \"Ports\": {}, \"SandboxID\": \"3996bcfd66c2c4c698eab18a28a1a7936e78d5544d1eeba744012cc52aec77cc\", \"SandboxKey\": \"/var/snap/docker/471/run/docker/netns/default\", \"SecondaryIPAddresses\": null, \"SecondaryIPv6Addresses\": null}, \"Path\": \"docker-entrypoint.sh\", \"Platform\": \"linux\", \"ProcessLabel\": \"\", \"ResolvConfPath\": \"/var/snap/docker/common/var-lib-docker/containers/d281cd8cb111833d9451c06070ae5710272931ddc9f795d3b3f5adcafbafdc89/resolv.conf\", \"RestartCount\": 0, \"State\": {\"Dead\": false, \"Error\": \"\", \"ExitCode\": 0, \"FinishedAt\": \"0001-01-01T00:00:00Z\", \"OOMKilled\": false, \"Paused\": false, \"Pid\": 40288, \"Restarting\": false, \"Running\": true, \"StartedAt\": \"2021-01-18T06:51:15.002610486Z\", \"Status\": \"running\"}}}, \"changed\": true, \"container\": {\"AppArmorProfile\": \"docker-default\", \"Args\": [\"redis-server\"], \"Config\": {\"AttachStderr\": false, \"AttachStdin\": false, \"AttachStdout\": false, \"Cmd\": [\"redis-server\"], \"Domainname\": \"\", \"Entrypoint\": [\"docker-entrypoint.sh\"], \"Env\": [\"PATH=/usr/local/sbin:/usr/local/bin:/usr/sbin:/usr/bin:/sbin:/bin\", \"GOSU_VERSION=1.12\", \"REDIS_VERSION=6.0.8\", \"REDIS_DOWNLOAD_URL=http://download.redis.io/releases/redis-6.0.8.tar.gz\", \"REDIS_DOWNLOAD_SHA=04fa1fddc39bd1aecb6739dd5dd73858a3515b427acd1e2947a66dadce868d68\"], \"ExposedPorts\": {\"6379/tcp\": {}}, \"Hostname\": \"shyam-ThinkPad-P53\", \"Image\": \"redis:latest\", \"Labels\": {}, \"OnBuild\": null, \"OpenStdin\": false, \"StdinOnce\": false, \"Tty\": false, \"User\": \"nobody\", \"Volumes\": {\"/data\": {}}, \"WorkingDir\": \"/data\"}, \"Created\": \"2021-01-18T06:51:14.775828228Z\", \"Driver\": \"overlay2\", \"ExecIDs\": null, \"GraphDriver\": {\"Data\": {\"LowerDir\": \"/var/snap/docker/common/var-lib-docker/overlay2/cff73f331cc3182fb7b6788b7825df30d4ab95cf06162d2580e95de98ea7215b-init/diff:/var/snap/docker/common/var-lib-docker/overlay2/71cf046d92c5cbbcd5ba506a85f3e2a36d8355a1fd010dc008d1073cd67f5af7/diff:/var/snap/docker/common/var-lib-docker/overlay2/058c81cdb3f029a8199dc535919c8b2b19a5c26290e7dcead7e9358c48351779/diff:/var/snap/docker/common/var-lib-docker/overlay2/60b117240fa4babf955e0696cc1556be0d676f36c685391fcf2da809fb073401/diff:/var/snap/docker/common/var-lib-docker/overlay2/2aa1f047b57cadf24935588333457bc2965b79352f5ad8e62f325179b63180a7/diff:/var/snap/docker/common/var-lib-docker/overlay2/b8a63aa86cb87c25c046ddf7a199e4fdc845c4ae6f65366f37b7a529cdf092a9/diff:/var/snap/docker/common/var-lib-docker/overlay2/409b0172df31dc9e3a05133378b2198cd06a5712651f0d03d428af8731ac12ef/diff\", \"MergedDir\": \"/var/snap/docker/common/var-lib-docker/overlay2/cff73f331cc3182fb7b6788b7825df30d4ab95cf06162d2580e95de98ea7215b/merged\", \"UpperDir\": \"/var/snap/docker/common/var-lib-docker/overlay2/cff73f331cc3182fb7b6788b7825df30d4ab95cf06162d2580e95de98ea7215b/diff\", \"WorkDir\": \"/var/snap/docker/common/var-lib-docker/overlay2/cff73f331cc3182fb7b6788b7825df30d4ab95cf06162d2580e95de98ea7215b/work\"}, \"Name\": \"overlay2\"}, \"HostConfig\": {\"AutoRemove\": false, \"Binds\": [], \"BlkioDeviceReadBps\": null, \"BlkioDeviceReadIOps\": null, \"BlkioDeviceWriteBps\": null, \"BlkioDeviceWriteIOps\": null, \"BlkioWeight\": 0, \"BlkioWeightDevice\": null, \"CapAdd\": null, \"CapDrop\": null, \"Capabilities\": null, \"Cgroup\": \"\", \"CgroupParent\": \"\", \"ConsoleSize\": [0, 0], \"ContainerIDFile\": \"\", \"CpuCount\": 0, \"CpuPercent\": 0, \"CpuPeriod\": 0, \"CpuQuota\": 0, \"CpuRealtimePeriod\": 0, \"CpuRealtimeRuntime\": 0, \"CpuShares\": 0, \"CpusetCpus\": \"\", \"CpusetMems\": \"\", \"DeviceCgroupRules\": null, \"DeviceRequests\": null, \"Devices\": null, \"Dns\": null, \"DnsOptions\": null, \"DnsSearch\": null, \"ExtraHosts\": null, \"GroupAdd\": null, \"IOMaximumBandwidth\": 0, \"IOMaximumIOps\": 0, \"Init\": false, \"IpcMode\": \"private\", \"Isolation\": \"\", \"KernelMemory\": 0, \"KernelMemoryTCP\": 0, \"Links\": null, \"LogConfig\": {\"Config\": {}, \"Type\": \"json-file\"}, \"MaskedPaths\": [\"/proc/asound\", \"/proc/acpi\", \"/proc/kcore\", \"/proc/keys\", \"/proc/latency_stats\", \"/proc/timer_list\", \"/proc/timer_stats\", \"/proc/sched_debug\", \"/proc/scsi\", \"/sys/firmware\"], \"Memory\": 0, \"MemoryReservation\": 0, \"MemorySwap\": 0, \"MemorySwappiness\": null, \"NanoCpus\": 0, \"NetworkMode\": \"host\", \"OomKillDisable\": false, \"OomScoreAdj\": 0, \"PidMode\": \"\", \"PidsLimit\": null, \"PortBindings\": null, \"Privileged\": false, \"PublishAllPorts\": false, \"ReadonlyPaths\": [\"/proc/bus\", \"/proc/fs\", \"/proc/irq\", \"/proc/sys\", \"/proc/sysrq-trigger\"], \"ReadonlyRootfs\": false, \"RestartPolicy\": {\"MaximumRetryCount\": 0, \"Name\": \"\"}, \"Runtime\": \"runc\", \"SecurityOpt\": null, \"ShmSize\": 67108864, \"UTSMode\": \"\", \"Ulimits\": null, \"UsernsMode\": \"\", \"VolumeDriver\": \"\", \"VolumesFrom\": null}, \"HostnamePath\": \"/var/snap/docker/common/var-lib-docker/containers/d281cd8cb111833d9451c06070ae5710272931ddc9f795d3b3f5adcafbafdc89/hostname\", \"HostsPath\": \"/var/snap/docker/common/var-lib-docker/containers/d281cd8cb111833d9451c06070ae5710272931ddc9f795d3b3f5adcafbafdc89/hosts\", \"Id\": \"d281cd8cb111833d9451c06070ae5710272931ddc9f795d3b3f5adcafbafdc89\", \"Image\": \"sha256:bd571e6529f32461648680c82e2540f9db4b3bb92709ae5d19dd347531c98f19\", \"LogPath\": \"/var/snap/docker/common/var-lib-docker/containers/d281cd8cb111833d9451c06070ae5710272931ddc9f795d3b3f5adcafbafdc89/d281cd8cb111833d9451c06070ae5710272931ddc9f795d3b3f5adcafbafdc89-json.log\", \"MountLabel\": \"\", \"Mounts\": [{\"Destination\": \"/data\", \"Driver\": \"local\", \"Mode\": \"\", \"Name\": \"8fe685577d66f1b1fc665e57f6ab11a8049a07c96fa80e8810bae7b2e817bae8\", \"Propagation\": \"\", \"RW\": true, \"Source\": \"/var/snap/docker/common/var-lib-docker/volumes/8fe685577d66f1b1fc665e57f6ab11a8049a07c96fa80e8810bae7b2e817bae8/_data\", \"Type\": \"volume\"}], \"Name\": \"/test-redis\", \"NetworkSettings\": {\"Bridge\": \"\", \"EndpointID\": \"\", \"Gateway\": \"\", \"GlobalIPv6Address\": \"\", \"GlobalIPv6PrefixLen\": 0, \"HairpinMode\": false, \"IPAddress\": \"\", \"IPPrefixLen\": 0, \"IPv6Gateway\": \"\", \"LinkLocalIPv6Address\": \"\", \"LinkLocalIPv6PrefixLen\": 0, \"MacAddress\": \"\", \"Networks\": {\"host\": {\"Aliases\": null, \"DriverOpts\": null, \"EndpointID\": \"2b4e85c992be7449c72c758086e05c1f5338b3112bb577ba131990da063e3271\", \"Gateway\": \"\", \"GlobalIPv6Address\": \"\", \"GlobalIPv6PrefixLen\": 0, \"IPAMConfig\": null, \"IPAddress\": \"\", \"IPPrefixLen\": 0, \"IPv6Gateway\": \"\", \"Links\": null, \"MacAddress\": \"\", \"NetworkID\": \"16505e3cf210bc488b5a5f7f9f0df7d18b51acece27c2f1b3a63906f13dc8529\"}}, \"Ports\": {}, \"SandboxID\": \"3996bcfd66c2c4c698eab18a28a1a7936e78d5544d1eeba744012cc52aec77cc\", \"SandboxKey\": \"/var/snap/docker/471/run/docker/netns/default\", \"SecondaryIPAddresses\": null, \"\u001b[0;33mchanged: [192.168.1.248] => {\"ansible_facts\": {\"docker_container\": {\"AppArmorProfile\": \"docker-default\", \"Args\": [\"redis-server\"], \"Config\": {\"AttachStderr\": false, \"AttachStdin\": false, \"AttachStdout\": false, \"Cmd\": [\"redis-server\"], \"Domainname\": \"\", \"Entrypoint\": [\"docker-entrypoint.sh\"], \"Env\": [\"PATH=/usr/local/sbin:/usr/local/bin:/usr/sbin:/usr/bin:/sbin:/bin\", \"GOSU_VERSION=1.12\", \"REDIS_VERSION=6.0.8\", \"REDIS_DOWNLOAD_URL=http://download.redis.io/releases/redis-6.0.8.tar.gz\", \"REDIS_DOWNLOAD_SHA=04fa1fddc39bd1aecb6739dd5dd73858a3515b427acd1e2947a66dadce868d68\"], \"ExposedPorts\": {\"6379/tcp\": {}}, \"Hostname\": \"shyam-ThinkPad-P53\", \"Image\": \"redis:latest\", \"Labels\": {}, \"OnBuild\": null, \"OpenStdin\": false, \"StdinOnce\": false, \"Tty\": false, \"User\": \"nobody\", \"Volumes\": {\"/data\": {}}, \"WorkingDir\": \"/data\"}, \"Created\": \"2021-01-18T06:51:14.775828228Z\", \"Driver\": \"overlay2\", \"ExecIDs\": null, \"GraphDriver\": {\"Data\": {\"LowerDir\": \"/var/snap/docker/common/var-lib-docker/overlay2/cff73f331cc3182fb7b6788b7825df30d4ab95cf06162d2580e95de98ea7215b-init/diff:/var/snap/docker/common/var-lib-docker/overlay2/71cf046d92c5cbbcd5ba506a85f3e2a36d8355a1fd010dc008d1073cd67f5af7/diff:/var/snap/docker/common/var-lib-docker/overlay2/058c81cdb3f029a8199dc535919c8b2b19a5c26290e7dcead7e9358c48351779/diff:/var/snap/docker/common/var-lib-docker/overlay2/60b117240fa4babf955e0696cc1556be0d676f36c685391fcf2da809fb073401/diff:/var/snap/docker/common/var-lib-docker/overlay2/2aa1f047b57cadf24935588333457bc2965b79352f5ad8e62f325179b63180a7/diff:/var/snap/docker/common/var-lib-docker/overlay2/b8a63aa86cb87c25c046ddf7a199e4fdc845c4ae6f65366f37b7a529cdf092a9/diff:/var/snap/docker/common/var-lib-docker/overlay2/409b0172df31dc9e3a05133378b2198cd06a5712651f0d03d428af8731ac12ef/diff\", \"MergedDir\": \"/var/snap/docker/common/var-lib-docker/overlay2/cff73f331cc3182fb7b6788b7825df30d4ab95cf06162d2580e95de98ea7215b/merged\", \"UpperDir\": \"/var/snap/docker/common/var-lib-docker/overlay2/cff73f331cc3182fb7b6788b7825df30d4ab95cf06162d2580e95de98ea7215b/diff\", \"WorkDir\": \"/var/snap/docker/common/var-lib-docker/overlay2/cff73f331cc3182fb7b6788b7825df30d4ab95cf06162d2580e95de98ea7215b/work\"}, \"Name\": \"overlay2\"}, \"HostConfig\": {\"AutoRemove\": false, \"Binds\": [], \"BlkioDeviceReadBps\": null, \"BlkioDeviceReadIOps\": null, \"BlkioDeviceWriteBps\": null, \"BlkioDeviceWriteIOps\": null, \"BlkioWeight\": 0, \"BlkioWeightDevice\": null, \"CapAdd\": null, \"CapDrop\": null, \"Capabilities\": null, \"Cgroup\": \"\", \"CgroupParent\": \"\", \"ConsoleSize\": [0, 0], \"ContainerIDFile\": \"\", \"CpuCount\": 0, \"CpuPercent\": 0, \"CpuPeriod\": 0, \"CpuQuota\": 0, \"CpuRealtimePeriod\": 0, \"CpuRealtimeRuntime\": 0, \"CpuShares\": 0, \"CpusetCpus\": \"\", \"CpusetMems\": \"\", \"DeviceCgroupRules\": null, \"DeviceRequests\": null, \"Devices\": null, \"Dns\": null, \"DnsOptions\": null, \"DnsSearch\": null, \"ExtraHosts\": null, \"GroupAdd\": null, \"IOMaximumBandwidth\": 0, \"IOMaximumIOps\": 0, \"Init\": false, \"IpcMode\": \"private\", \"Isolation\": \"\", \"KernelMemory\": 0, \"KernelMemoryTCP\": 0, \"Links\": null, \"LogConfig\": {\"Config\": {}, \"Type\": \"json-file\"}, \"MaskedPaths\": [\"/proc/asound\", \"/proc/acpi\", \"/proc/kcore\", \"/proc/keys\", \"/proc/latency_stats\", \"/proc/timer_list\", \"/proc/timer_stats\", \"/proc/sched_debug\", \"/proc/scsi\", \"/sys/firmware\"], \"Memory\": 0, \"MemoryReservation\": 0, \"MemorySwap\": 0, \"MemorySwappiness\": null, \"NanoCpus\": 0, \"NetworkMode\": \"host\", \"OomKillDisable\": false, \"OomScoreAdj\": 0, \"PidMode\": \"\", \"PidsLimit\": null, \"PortBindings\": null, \"Privileged\": false, \"PublishAllPorts\": false, \"ReadonlyPaths\": [\"/proc/bus\", \"/proc/fs\", \"/proc/irq\", \"/proc/sys\", \"/proc/sysrq-trigger\"], \"ReadonlyRootfs\": false, \"RestartPolicy\": {\"MaximumRetryCount\": 0, \"Name\": \"\"}, \"Runtime\": \"runc\", \"SecurityOpt\": null, \"ShmSize\": 67108864, \"UTSMode\": \"\", \"Ulimits\": null, \"UsernsMode\": \"\", \"VolumeDriver\": \"\", \"VolumesFrom\": null}, \"HostnamePath\": \"/var/snap/docker/common/var-lib-docker/containers/d281cd8cb111833d9451c06070ae5710272931ddc9f795d3b3f5adcafbafdc89/hostname\", \"HostsPath\": \"/var/snap/docker/common/var-lib-docker/containers/d281cd8cb111833d9451c06070ae5710272931ddc9f795d3b3f5adcafbafdc89/hosts\", \"Id\": \"d281cd8cb111833d9451c06070ae5710272931ddc9f795d3b3f5adcafbafdc89\", \"Image\": \"sha256:bd571e6529f32461648680c82e2540f9db4b3bb92709ae5d19dd347531c98f19\", \"LogPath\": \"/var/snap/docker/common/var-lib-docker/containers/d281cd8cb111833d9451c06070ae5710272931ddc9f795d3b3f5adcafbafdc89/d281cd8cb111833d9451c06070ae5710272931ddc9f795d3b3f5adcafbafdc89-json.log\", \"MountLabel\": \"\", \"Mounts\": [{\"Destination\": \"/data\", \"Driver\": \"local\", \"Mode\": \"\", \"Name\": \"8fe685577d66f1b1fc665e57f6ab11a8049a07c96fa80e8810bae7b2e817bae8\", \"Propagation\": \"\", \"RW\": true, \"Source\": \"/var/snap/docker/common/var-lib-docker/volumes/8fe685577d66f1b1fc665e57f6ab11a8049a07c96fa80e8810bae7b2e817bae8/_data\", \"Type\": \"volume\"}], \"Name\": \"/test-redis\", \"NetworkSettings\": {\"Bridge\": \"\", \"EndpointID\": \"\", \"Gateway\": \"\", \"GlobalIPv6Address\": \"\", \"GlobalIPv6PrefixLen\": 0, \"HairpinMode\": false, \"IPAddress\": \"\", \"IPPrefixLen\": 0, \"IPv6Gateway\": \"\", \"LinkLocalIPv6Address\": \"\", \"LinkLocalIPv6PrefixLen\": 0, \"MacAddress\": \"\", \"Networks\": {\"host\": {\"Aliases\": null, \"DriverOpts\": null, \"EndpointID\": \"2b4e85c992be7449c72c758086e05c1f5338b3112bb577ba131990da063e3271\", \"Gateway\": \"\", \"GlobalIPv6Address\": \"\", \"GlobalIPv6PrefixLen\": 0, \"IPAMConfig\": null, \"IPAddress\": \"\", \"IPPrefixLen\": 0, \"IPv6Gateway\": \"\", \"Links\": null, \"MacAddress\": \"\", \"NetworkID\": \"16505e3cf210bc488b5a5f7f9f0df7d18b51acece27c2f1b3a63906f13dc8529\"}}, \"Ports\": {}, \"SandboxID\": \"3996bcfd66c2c4c698eab18a28a1a7936e78d5544d1eeba744012cc52aec77cc\", \"SandboxKey\": \"/var/snap/docker/471/run/docker/netns/default\", \"SecondaryIPAddresses\": null, \"SecondaryIPv6Addresses\": null}, \"Path\": \"docker-entrypoint.sh\", \"Platform\": \"linux\", \"ProcessLabel\": \"\", \"ResolvConfPath\": \"/var/snap/docker/common/var-lib-docker/containers/d281cd8cb111833d9451c06070ae5710272931ddc9f795d3b3f5adcafbafdc89/resolv.conf\", \"RestartCount\": 0, \"State\": {\"Dead\": false, \"Error\": \"\", \"ExitCode\": 0, \"FinishedAt\": \"0001-01-01T00:00:00Z\", \"OOMKilled\": false, \"Paused\": false, \"Pid\": 40288, \"Restarting\": false, \"Running\": true, \"StartedAt\": \"2021-01-18T06:51:15.002610486Z\", \"Status\": \"running\"}}}, \"changed\": true, \"container\": {\"AppArmorProfile\": \"docker-default\", \"Args\": [\"redis-server\"], \"Config\": {\"AttachStderr\": false, \"AttachStdin\": false, \"AttachStdout\": false, \"Cmd\": [\"redis-server\"], \"Domainname\": \"\", \"Entrypoint\": [\"docker-entrypoint.sh\"], \"Env\": [\"PATH=/usr/local/sbin:/usr/local/bin:/usr/sbin:/usr/bin:/sbin:/bin\", \"GOSU_VERSION=1.12\", \"REDIS_VERSION=6.0.8\", \"REDIS_DOWNLOAD_URL=http://download.redis.io/releases/redis-6.0.8.tar.gz\", \"REDIS_DOWNLOAD_SHA=04fa1fddc39bd1aecb6739dd5dd73858a3515b427acd1e2947a66dadce868d68\"], \"ExposedPorts\": {\"6379/tcp\": {}}, \"Hostname\": \"shyam-ThinkPad-P53\", \"Image\": \"redis:latest\", \"Labels\": {}, \"OnBuild\": null, \"OpenStdin\": false, \"StdinOnce\": false, \"Tty\": false, \"User\": \"nobody\", \"Volumes\": {\"/data\": {}}, \"WorkingDir\": \"/data\"}, \"Created\": \"2021-01-18T06:51:14.775828228Z\", \"Driver\": \"overlay2\", \"ExecIDs\": null, \"GraphDriver\": {\"Data\": {\"LowerDir\": \"/var/snap/docker/common/var-lib-docker/overlay2/cff73f331cc3182fb7b6788b7825df30d4ab95cf06162d2580e95de98ea7215b-init/diff:/var/snap/docker/common/var-lib-docker/overlay2/71cf046d92c5cbbcd5ba506a85f3e2a36d8355a1fd010dc008d1073cd67f5af7/diff:/var/snap/docker/common/var-lib-docker/overlay2/058c81cdb3f029a8199dc535919c8b2b19a5c26290e7dcead7e9358c48351779/diff:/var/snap/docker/common/var-lib-docker/overlay2/60b117240fa4babf955e0696cc1556be0d676f36c685391fcf2da809fb073401/diff:/var/snap/docker/common/var-lib-docker/overlay2/2aa1f047b57cadf24935588333457bc2965b79352f5ad8e62f325179b63180a7/diff:/var/snap/docker/common/var-lib-docker/overlay2/b8a63aa86cb87c25c046ddf7a199e4fdc845c4ae6f65366f37b7a529cdf092a9/diff:/var/snap/docker/common/var-lib-docker/overlay2/409b0172df31dc9e3a05133378b2198cd06a5712651f0d03d428af8731ac12ef/diff\", \"MergedDir\": \"/var/snap/docker/common/var-lib-docker/overlay2/cff73f331cc3182fb7b6788b7825df30d4ab95cf06162d2580e95de98ea7215b/merged\", \"UpperDir\": \"/var/snap/docker/common/var-lib-docker/overlay2/cff73f331cc3182fb7b6788b7825df30d4ab95cf06162d2580e95de98ea7215b/diff\", \"WorkDir\": \"/var/snap/docker/common/var-lib-docker/overlay2/cff73f331cc3182fb7b6788b7825df30d4ab95cf06162d2580e95de98ea7215b/work\"}, \"Name\": \"overlay2\"}, \"HostConfig\": {\"AutoRemove\": false, \"Binds\": [], \"BlkioDeviceReadBps\": null, \"BlkioDeviceReadIOps\": null, \"BlkioDeviceWriteBps\": null, \"BlkioDeviceWriteIOps\": null, \"BlkioWeight\": 0, \"BlkioWeightDevice\": null, \"CapAdd\": null, \"CapDrop\": null, \"Capabilities\": null, \"Cgroup\": \"\", \"CgroupParent\": \"\", \"ConsoleSize\": [0, 0], \"ContainerIDFile\": \"\", \"CpuCount\": 0, \"CpuPercent\": 0, \"CpuPeriod\": 0, \"CpuQuota\": 0, \"CpuRealtimePeriod\": 0, \"CpuRealtimeRuntime\": 0, \"CpuShares\": 0, \"CpusetCpus\": \"\", \"CpusetMems\": \"\", \"DeviceCgroupRules\": null, \"DeviceRequests\": null, \"Devices\": null, \"Dns\": null, \"DnsOptions\": null, \"DnsSearch\": null, \"ExtraHosts\": null, \"GroupAdd\": null, \"IOMaximumBandwidth\": 0, \"IOMaximumIOps\": 0, \"Init\": false, \"IpcMode\": \"private\", \"Isolation\": \"\", \"KernelMemory\": 0, \"KernelMemoryTCP\": 0, \"Links\": null, \"LogConfig\": {\"Config\": {}, \"Type\": \"json-file\"}, \"MaskedPaths\": [\"/proc/asound\", \"/proc/acpi\", \"/proc/kcore\", \"/proc/keys\", \"/proc/latency_stats\", \"/proc/timer_list\", \"/proc/timer_stats\", \"/proc/sched_debug\", \"/proc/scsi\", \"/sys/firmware\"], \"Memory\": 0, \"MemoryReservation\": 0, \"MemorySwap\": 0, \"MemorySwappiness\": null, \"NanoCpus\": 0, \"NetworkMode\": \"host\", \"OomKillDisable\": false, \"OomScoreAdj\": 0, \"PidMode\": \"\", \"PidsLimit\": null, \"PortBindings\": null, \"Privileged\": false, \"PublishAllPorts\": false, \"ReadonlyPaths\": [\"/proc/bus\", \"/proc/fs\", \"/proc/irq\", \"/proc/sys\", \"/proc/sysrq-trigger\"], \"ReadonlyRootfs\": false, \"RestartPolicy\": {\"MaximumRetryCount\": 0, \"Name\": \"\"}, \"Runtime\": \"runc\", \"SecurityOpt\": null, \"ShmSize\": 67108864, \"UTSMode\": \"\", \"Ulimits\": null, \"UsernsMode\": \"\", \"VolumeDriver\": \"\", \"VolumesFrom\": null}, \"HostnamePath\": \"/var/snap/docker/common/var-lib-docker/containers/d281cd8cb111833d9451c06070ae5710272931ddc9f795d3b3f5adcafbafdc89/hostname\", \"HostsPath\": \"/var/snap/docker/common/var-lib-docker/containers/d281cd8cb111833d9451c06070ae5710272931ddc9f795d3b3f5adcafbafdc89/hosts\", \"Id\": \"d281cd8cb111833d9451c06070ae5710272931ddc9f795d3b3f5adcafbafdc89\", \"Image\": \"sha256:bd571e6529f32461648680c82e2540f9db4b3bb92709ae5d19dd347531c98f19\", \"LogPath\": \"/var/snap/docker/common/var-lib-docker/containers/d281cd8cb111833d9451c06070ae5710272931ddc9f795d3b3f5adcafbafdc89/d281cd8cb111833d9451c06070ae5710272931ddc9f795d3b3f5adcafbafdc89-json.log\", \"MountLabel\": \"\", \"Mounts\": [{\"Destination\": \"/data\", \"Driver\": \"local\", \"Mode\": \"\", \"Name\": \"8fe685577d66f1b1fc665e57f6ab11a8049a07c96fa80e8810bae7b2e817bae8\", \"Propagation\": \"\", \"RW\": true, \"Source\": \"/var/snap/docker/common/var-lib-docker/volumes/8fe685577d66f1b1fc665e57f6ab11a8049a07c96fa80e8810bae7b2e817bae8/_data\", \"Type\": \"volume\"}], \"Name\": \"/test-redis\", \"NetworkSettings\": {\"Bridge\": \"\", \"EndpointID\": \"\", \"Gateway\": \"\", \"GlobalIPv6Address\": \"\", \"GlobalIPv6PrefixLen\": 0, \"HairpinMode\": false, \"IPAddress\": \"\", \"IPPrefixLen\": 0, \"IPv6Gateway\": \"\", \"LinkLocalIPv6Address\": \"\", \"LinkLocalIPv6PrefixLen\": 0, \"MacAddress\": \"\", \"Networks\": {\"host\": {\"Aliases\": null, \"DriverOpts\": null, \"EndpointID\": \"2b4e85c992be7449c72c758086e05c1f5338b3112bb577ba131990da063e3271\", \"Gateway\": \"\", \"GlobalIPv6Address\": \"\", \"GlobalIPv6PrefixLen\": 0, \"IPAMConfig\": null, \"IPAddress\": \"\", \"IPPrefixLen\": 0, \"IPv6Gateway\": \"\", \"Links\": null, \"MacAddress\": \"\", \"NetworkID\": \"16505e3cf210bc488b5a5f7f9f0df7d18b51acece27c2f1b3a63906f13dc8529\"}}, \"Ports\": {}, \"SandboxID\": \"3996bcfd66c2c4c698eab18a28a1a7936e78d5544d1eeba744012cc52aec77cc\", \"SandboxKey\": \"/var/snap/docker/471/run/docker/netns/default\", \"SecondaryIPAddresses\": null, \"SecondaryIPv6Addresses\": null}, \"Path\": \"docker-entrypoint.sh\", \"Platform\": \"linux\", \"ProcessLabel\": \"\", \"ResolvConfPath\": \"/var/snap/docker/common/var-lib-docker/containers/d281cd8cb111833d9451c06070ae5710272931ddc9f795d3b3f5adcafbafdc89/resolv.conf\", \"RestartCount\": 0, \"State\": {\"Dead\": false, \"Error\": \"\", \"ExitCode\": 0, \"FinishedAt\": \"0001-01-01T00:00:00Z\", \"OOMKilled\": false, \"Paused\": false, \"Pid\": 40288, \"Restarting\": false, \"Running\": true, \"StartedAt\": \"2021-01-18T06:51:15.002610486Z\", \"Status\": \"running\"}}}\u001b[0m\n",
      "\n",
      "PLAY RECAP *********************************************************************\n",
      "\u001b[0;33m192.168.1.248\u001b[0m              : \u001b[0;32mok=3   \u001b[0m \u001b[0;33mchanged=2   \u001b[0m unreachable=0    failed=0    skipped=0    rescued=0    ignored=0   \n",
      "\n"
     ]
    },
    {
     "name": "stderr",
     "output_type": "stream",
     "text": [
      "2021-01-17 22:51:15.214 | INFO     | ansible_please.ansible_runner:run:64 - successful: 0\n",
      "2021-01-17 22:51:15.216 | INFO     | ansible_please.ansible_runner:run:65 - Final status:\n",
      "2021-01-17 22:51:15.226 | INFO     | ansible_please.ansible_runner:run:66 - {'skipped': {}, 'ok': {'192.168.1.248': 3}, 'dark': {}, 'failures': {}, 'processed': {'192.168.1.248': 1}, 'changed': {'192.168.1.248': 2}}\n"
     ]
    }
   ],
   "source": [
    "runner = AnsibleRunner(input_path='test_input.yml', playbooks=[playbook])\n",
    "runner.up()"
   ]
  },
  {
   "cell_type": "markdown",
   "metadata": {},
   "source": [
    "### you should see that the container \"test-redis\" is up"
   ]
  },
  {
   "cell_type": "markdown",
   "metadata": {},
   "source": [
    "### Now tear it down"
   ]
  },
  {
   "cell_type": "code",
   "execution_count": 6,
   "metadata": {},
   "outputs": [
    {
     "name": "stdout",
     "output_type": "stream",
     "text": [
      "\u001b[0;34mNo config file found; using defaults\u001b[0m\n",
      "\n",
      "PLAY [test-redis-playbook] *****************************************************\n",
      "\n",
      "TASK [Gathering Facts] *********************************************************\n",
      "\u001b[0;32mok: [192.168.1.248]\u001b[0m\n",
      "\n",
      "TASK [[down] start-test-redis] *************************************************\n",
      "\u001b[0;33mchanged: [192.168.1.248] => {\"changed\": true}\u001b[0m\n",
      "\n",
      "PLAY RECAP *********************************************************************\n",
      "\u001b[0;33m192.168.1.248\u001b[0m              : \u001b[0;32mok=2   \u001b[0m \u001b[0;33mchanged=1   \u001b[0m unreachable=0    failed=0    skipped=0    rescued=0    ignored=0   \n",
      "\n"
     ]
    },
    {
     "name": "stderr",
     "output_type": "stream",
     "text": [
      "2021-01-17 22:52:03.874 | INFO     | ansible_please.ansible_runner:run:64 - successful: 0\n",
      "2021-01-17 22:52:03.876 | INFO     | ansible_please.ansible_runner:run:65 - Final status:\n",
      "2021-01-17 22:52:03.889 | INFO     | ansible_please.ansible_runner:run:66 - {'skipped': {}, 'ok': {'192.168.1.248': 2}, 'dark': {}, 'failures': {}, 'processed': {'192.168.1.248': 1}, 'changed': {'192.168.1.248': 1}}\n"
     ]
    }
   ],
   "source": [
    "# tear down\n",
    "runner.down()"
   ]
  },
  {
   "cell_type": "markdown",
   "metadata": {},
   "source": [
    "## DockerCluster"
   ]
  },
  {
   "cell_type": "code",
   "execution_count": 7,
   "metadata": {},
   "outputs": [],
   "source": [
    "from ansible_please.clusters.docker_cluster import DockerCluster"
   ]
  },
  {
   "cell_type": "code",
   "execution_count": 8,
   "metadata": {},
   "outputs": [
    {
     "name": "stderr",
     "output_type": "stream",
     "text": [
      "2021-01-17 22:52:07.541 | DEBUG    | ansible_please.clusters.docker_cluster:_get_ansible_runner_from_cluster:114 - Caught exception when attempting to get current state: 404 Client Error for http+docker://localhost/v1.40/containers/ansible_please-cluster-info/json: Not Found (\"No such container: ansible_please-cluster-info\"). This may be expected\n"
     ]
    }
   ],
   "source": [
    "c = DockerCluster(runner)"
   ]
  },
  {
   "cell_type": "code",
   "execution_count": 9,
   "metadata": {
    "scrolled": true
   },
   "outputs": [
    {
     "name": "stderr",
     "output_type": "stream",
     "text": [
      "/home/shyam/anaconda3/envs/py38/lib/python3.8/site-packages/omegaconf-2.0.0-py3.8.egg/omegaconf/dictconfig.py:252: UserWarning: Keys with dot (192.168.1.248) are deprecated and will have different semantic meaning the next major version of OmegaConf (2.1)\n",
      "See the compact keys issue for more details: https://github.com/omry/omegaconf/issues/152\n",
      "You can disable this warning by setting the environment variable OC_DISABLE_DOT_ACCESS_WARNING=1\n",
      "  warnings.warn(message=msg, category=UserWarning)\n"
     ]
    },
    {
     "name": "stdout",
     "output_type": "stream",
     "text": [
      "\n",
      "PLAY [set up ansible_please-cluster-info] **************************************\n",
      "\n",
      "TASK [Gathering Facts] *********************************************************\n",
      "\u001b[0;32mok: [192.168.1.248]\u001b[0m\n",
      "\n",
      "TASK [[up] Install package via pip] ********************************************\n",
      "\u001b[0;33mchanged: [192.168.1.248]\u001b[0m\n",
      "\n",
      "TASK [[up] start-cluster-info] *************************************************\n",
      "\u001b[0;33mchanged: [192.168.1.248]\u001b[0m\n",
      "\n",
      "PLAY RECAP *********************************************************************\n",
      "\u001b[0;33m192.168.1.248\u001b[0m              : \u001b[0;32mok=3   \u001b[0m \u001b[0;33mchanged=2   \u001b[0m unreachable=0    failed=0    skipped=0    rescued=0    ignored=0   \n",
      "\n"
     ]
    },
    {
     "name": "stderr",
     "output_type": "stream",
     "text": [
      "2021-01-17 22:52:17.413 | INFO     | ansible_please.ansible_runner:run:64 - successful: 0\n",
      "2021-01-17 22:52:17.416 | INFO     | ansible_please.ansible_runner:run:65 - Final status:\n",
      "2021-01-17 22:52:17.441 | INFO     | ansible_please.ansible_runner:run:66 - {'skipped': {}, 'ok': {'192.168.1.248': 2}, 'dark': {}, 'failures': {}, 'processed': {'192.168.1.248': 1}, 'changed': {'192.168.1.248': 1}}\n"
     ]
    },
    {
     "name": "stdout",
     "output_type": "stream",
     "text": [
      "\u001b[0;34mNo config file found; using defaults\u001b[0m\n",
      "\n",
      "PLAY [test-redis-playbook] *****************************************************\n",
      "\n",
      "TASK [Gathering Facts] *********************************************************\n",
      "\u001b[0;32mok: [192.168.1.248]\u001b[0m\n",
      "\n",
      "TASK [[up] Install package via pip] ********************************************\n",
      "\u001b[0;33mchanged: [192.168.1.248] => {\"changed\": true, \"cmd\": [\"/usr/bin/python3\", \"-m\", \"pip\", \"install\", \"docker\"], \"delta\": \"0:00:00.973371\", \"end\": \"2021-01-17 22:52:21.231699\", \"rc\": 0, \"start\": \"2021-01-17 22:52:20.258328\", \"stderr\": \"\", \"stderr_lines\": [], \"stdout\": \"Requirement already satisfied: docker in /home/shyam/.local/lib/python3.8/site-packages (4.4.1)\\nRequirement already satisfied: six>=1.4.0 in /usr/lib/python3/dist-packages (from docker) (1.14.0)\\nRequirement already satisfied: requests!=2.18.0,>=2.14.2 in /usr/lib/python3/dist-packages (from docker) (2.22.0)\\nRequirement already satisfied: websocket-client>=0.32.0 in /home/shyam/.local/lib/python3.8/site-packages (from docker) (0.57.0)\", \"stdout_lines\": [\"Requirement already satisfied: docker in /home/shyam/.local/lib/python3.8/site-packages (4.4.1)\", \"Requirement already satisfied: six>=1.4.0 in /usr/lib/python3/dist-packages (from docker) (1.14.0)\", \"Requirement already satisfied: requests!=2.18.0,>=2.14.2 in /usr/lib/python3/dist-packages (from docker) (2.22.0)\", \"Requirement already satisfied: websocket-client>=0.32.0 in /home/shyam/.local/lib/python3.8/site-packages (from docker) (0.57.0)\"]}\u001b[0m\n",
      "\n",
      "TASK [[up] start-test-redis] ***************************************************\n",
      "erDir\": \"/var/snap/docker/common/var-lib-docker/overlay2/7b7eba11b7cfe5d32c35b9cecbcaa52ac9cb65eb772a02579cd6d6861705f8f9/diff\", \"WorkDir\": \"/var/snap/docker/common/var-lib-docker/overlay2/7b7eba11b7cfe5d32c35b9cecbcaa52ac9cb65eb772a02579cd6d6861705f8f9/work\"}, \"Name\": \"overlay2\"}, \"HostConfig\": {\"AutoRemove\": false, \"Binds\": [], \"BlkioDeviceReadBps\": null, \"BlkioDeviceReadIOps\": null, \"BlkioDeviceWriteBps\": null, \"BlkioDeviceWriteIOps\": null, \"BlkioWeight\": 0, \"BlkioWeightDevice\": null, \"CapAdd\": null, \"CapDrop\": null, \"Capabilities\": null, \"Cgroup\": \"\", \"CgroupParent\": \"\", \"ConsoleSize\": [0, 0], \"ContainerIDFile\": \"\", \"CpuCount\": 0, \"CpuPercent\": 0, \"CpuPeriod\": 0, \"CpuQuota\": 0, \"CpuRealtimePeriod\": 0, \"CpuRealtimeRuntime\": 0, \"CpuShares\": 0, \"CpusetCpus\": \"\", \"CpusetMems\": \"\", \"DeviceCgroupRules\": null, \"DeviceRequests\": null, \"Devices\": null, \"Dns\": null, \"DnsOptions\": null, \"DnsSearch\": null, \"ExtraHosts\": null, \"GroupAdd\": null, \"IOMaximumBandwidth\": 0, \"IOMaximumIOps\": 0, \"Init\": false, \"IpcMode\": \"private\", \"Isolation\": \"\", \"KernelMemory\": 0, \"KernelMemoryTCP\": 0, \"Links\": null, \"LogConfig\": {\"Config\": {}, \"Type\": \"json-file\"}, \"MaskedPaths\": [\"/proc/asound\", \"/proc/acpi\", \"/proc/kcore\", \"/proc/keys\", \"/proc/latency_stats\", \"/proc/timer_list\", \"/proc/timer_stats\", \"/proc/sched_debug\", \"/proc/scsi\", \"/sys/firmware\"], \"Memory\": 0, \"MemoryReservation\": 0, \"MemorySwap\": 0, \"MemorySwappiness\": null, \"NanoCpus\": 0, \"NetworkMode\": \"host\", \"OomKillDisable\": false, \"OomScoreAdj\": 0, \"PidMode\": \"\", \"PidsLimit\": null, \"PortBindings\": null, \"Privileged\": false, \"PublishAllPorts\": false, \"ReadonlyPaths\": [\"/proc/bus\", \"/proc/fs\", \"/proc/irq\", \"/proc/sys\", \"/proc/sysrq-trigger\"], \"ReadonlyRootfs\": false, \"RestartPolicy\": {\"MaximumRetryCount\": 0, \"Name\": \"\"}, \"Runtime\": \"runc\", \"SecurityOpt\": null, \"ShmSize\": 67108864, \"UTSMode\": \"\", \"Ulimits\": null, \"UsernsMode\": \"\", \"VolumeDriver\": \"\", \"VolumesFrom\": null}, \"HostnamePath\": \"/var/snap/docker/common/var-lib-docker/containers/1fc601e96de53a3c0b217c7f20dea823e2af1bde96a15a0e28a028f47d90b91e/hostname\", \"HostsPath\": \"/var/snap/docker/common/var-lib-docker/containers/1fc601e96de53a3c0b217c7f20dea823e2af1bde96a15a0e28a028f47d90b91e/hosts\", \"Id\": \"1fc601e96de53a3c0b217c7f20dea823e2af1bde96a15a0e28a028f47d90b91e\", \"Image\": \"sha256:bd571e6529f32461648680c82e2540f9db4b3bb92709ae5d19dd347531c98f19\", \"LogPath\": \"/var/snap/docker/common/var-lib-docker/containers/1fc601e96de53a3c0b217c7f20dea823e2af1bde96a15a0e28a028f47d90b91e/1fc601e96de53a3c0b217c7f20dea823e2af1bde96a15a0e28a028f47d90b91e-json.log\", \"MountLabel\": \"\", \"Mounts\": [{\"Destination\": \"/data\", \"Driver\": \"local\", \"Mode\": \"\", \"Name\": \"f57993dd0263d0d1fd81d0b24d62e485e8c84f1eb7f4e6398e9955427e1f6a2b\", \"Propagation\": \"\", \"RW\": true, \"Source\": \"/var/snap/docker/common/var-lib-docker/volumes/f57993dd0263d0d1fd81d0b24d62e485e8c84f1eb7f4e6398e9955427e1f6a2b/_data\", \"Type\": \"volume\"}], \"Name\": \"/test-redis\", \"NetworkSettings\": {\"Bridge\": \"\", \"EndpointID\": \"\", \"Gateway\": \"\", \"GlobalIPv6Address\": \"\", \"GlobalIPv6PrefixLen\": 0, \"HairpinMode\": false, \"IPAddress\": \"\", \"IPPrefixLen\": 0, \"IPv6Gateway\": \"\", \"LinkLocalIPv6Address\": \"\", \"LinkLocalIPv6PrefixLen\": 0, \"MacAddress\": \"\", \"Networks\": {\"host\": {\"Aliases\": null, \"DriverOpts\": null, \"EndpointID\": \"c766ace5af9428d8ef939831b7dae1e436e0b501eb7f956d4cbd4fd2f6f2f63c\", \"Gateway\": \"\", \"GlobalIPv6Address\": \"\", \"GlobalIPv6PrefixLen\": 0, \"IPAMConfig\": null, \"IPAddress\": \"\", \"IPPrefixLen\": 0, \"IPv6Gateway\": \"\", \"Links\": null, \"MacAddress\": \"\", \"NetworkID\": \"16505e3cf210bc488b5a5f7f9f0df7d18b51acece27c2f1b3a63906f13dc8529\"}}, \"Ports\": {}, \"SandboxID\": \"213e9108b8c7675652c2ea17b78d0f19d8f196ae83620bafa50298482e568f6b\", \"SandboxKey\": \"/var/snap/docker/471/run/docker/netns/default\", \"SecondaryIPAddresses\": null, \"SecondaryIPv6Addresses\": null}, \"Path\": \"docker-entrypoint.sh\", \"Platform\": \"linux\", \"ProcessLabel\": \"\", \"ResolvConfPath\": \"/var/snap/docker/common/var-lib-docker/containers/1fc601e96de53a3c0b217c7f20dea823e2af1bde96a15a0e28a028f47d90b91e/resolv.conf\", \"RestartCount\": 0, \"State\": {\"Dead\": false, \"Error\": \"\", \"ExitCode\": 0, \"FinishedAt\": \"0001-01-01T00:00:00Z\", \"OOMKilled\": false, \"Paused\": false, \"Pid\": 40934, \"Restarting\": false, \"Running\": true, \"StartedAt\": \"2021-01-18T06:52:21.896116281Z\", \"Status\": \"running\"}}}, \"changed\": true, \"container\": {\"AppArmorProfile\": \"docker-default\", \"Args\": [\"redis-server\"], \"Config\": {\"AttachStderr\": false, \"AttachStdin\": false, \"AttachStdout\": false, \"Cmd\": [\"redis-server\"], \"Domainname\": \"\", \"Entrypoint\": [\"docker-entrypoint.sh\"], \"Env\": [\"PATH=/usr/local/sbin:/usr/local/bin:/usr/sbin:/usr/bin:/sbin:/bin\", \"GOSU_VERSION=1.12\", \"REDIS_VERSION=6.0.8\", \"REDIS_DOWNLOAD_URL=http://download.redis.io/releases/redis-6.0.8.tar.gz\", \"REDIS_DOWNLOAD_SHA=04fa1fddc39bd1aecb6739dd5dd73858a3515b427acd1e2947a66dadce868d68\"], \"ExposedPorts\": {\"6379/tcp\": {}}, \"Hostname\": \"shyam-ThinkPad-P53\", \"Image\": \"redis:latest\", \"Labels\": {}, \"OnBuild\": null, \"OpenStdin\": false, \"StdinOnce\": false, \"Tty\": false, \"User\": \"nobody\", \"Volumes\": {\"/data\": {}}, \"WorkingDir\": \"/data\"}, \"Created\": \"2021-01-18T06:52:21.711476863Z\", \"Driver\": \"overlay2\", \"ExecIDs\": null, \"GraphDriver\": {\"Data\": {\"LowerDir\": \"/var/snap/docker/common/var-lib-docker/overlay2/7b7eba11b7cfe5d32c35b9cecbcaa52ac9cb65eb772a02579cd6d6861705f8f9-init/diff:/var/snap/docker/common/var-lib-docker/overlay2/71cf046d92c5cbbcd5ba506a85f3e2a36d8355a1fd010dc008d1073cd67f5af7/diff:/var/snap/docker/common/var-lib-docker/overlay2/058c81cdb3f029a8199dc535919c8b2b19a5c26290e7dcead7e9358c48351779/diff:/var/snap/docker/common/var-lib-docker/overlay2/60b117240fa4babf955e0696cc1556be0d676f36c685391fcf2da809fb073401/diff:/var/snap/docker/common/var-lib-docker/overlay2/2aa1f047b57cadf24935588333457bc2965b79352f5ad8e62f325179b63180a7/diff:/var/snap/docker/common/var-lib-docker/overlay2/b8a63aa86cb87c25c046ddf7a199e4fdc845c4ae6f65366f37b7a529cdf092a9/diff:/var/snap/docker/common/var-lib-docker/overlay2/409b0172df31dc9e3a05133378b2198cd06a5712651f0d03d428af8731ac12ef/diff\", \"MergedDir\": \"/var/snap/docker/common/var-lib-docker/overlay2/7b7eba11b7cfe5d32c35b9cecbcaa52ac9cb65eb772a02579cd6d6861705f8f9/merged\", \"UpperDir\": \"/var/snap/docker/common/var-lib-docker/overlay2/7b7eba11b7cfe5d32c35b9cecbcaa52ac9cb65eb772a02579cd6d6861705f8f9/diff\", \"WorkDir\": \"/var/snap/docker/common/var-lib-docker/overlay2/7b7eba11b7cfe5d32c35b9cecbcaa52ac9cb65eb772a02579cd6d6861705f8f9/work\"}, \"Name\": \"overlay2\"}, \"HostConfig\": {\"AutoRemove\": false, \"Binds\": [], \"BlkioDeviceReadBps\": null, \"BlkioDeviceReadIOps\": null, \"BlkioDeviceWriteBps\": null, \"BlkioDeviceWriteIOps\": null, \"BlkioWeight\": 0, \"BlkioWeightDevice\": null, \"CapAdd\": null, \"CapDrop\": null, \"Capabilities\": null, \"Cgroup\": \"\", \"CgroupParent\": \"\", \"ConsoleSize\": [0, 0], \"ContainerIDFile\": \"\", \"CpuCount\": 0, \"CpuPercent\": 0, \"CpuPeriod\": 0, \"CpuQuota\": 0, \"CpuRealtimePeriod\": 0, \"CpuRealtimeRuntime\": 0, \"CpuShares\": 0, \"CpusetCpus\": \"\", \"CpusetMems\": \"\", \"DeviceCgroupRules\": null, \"DeviceRequests\": null, \"Devices\": null, \"Dns\": null, \"DnsOptions\": null, \"DnsSearch\": null, \"ExtraHosts\": null, \"GroupAdd\": null, \"IOMaximumBandwidth\": 0, \"IOMaximumIOps\": 0, \"Init\": false, \"IpcMode\": \"private\", \"Isolation\": \"\", \"KernelMemory\": 0, \"KernelMemoryTCP\": 0, \"Links\": null, \"LogConfig\": {\"Config\": {}, \"Type\": \"json-file\"}, \"MaskedPaths\": [\"/proc/asound\", \"/proc/acpi\", \"/proc/kcore\", \"/proc/keys\", \"/proc/latency_stats\", \"/proc/timer_list\", \"/proc/timer_stats\", \"/proc/sched_debug\", \"/proc/scsi\", \"/sys/firmware\"], \"Memory\": 0, \"MemoryReservation\": 0, \"MemorySwap\": 0, \"MemorySwappiness\": null, \"NanoCpus\": 0, \"NetworkMode\": \"host\", \"OomKillDisable\": false, \"OomScoreAdj\": 0, \"PidMode\": \"\", \"PidsLimit\": null, \"PortBindings\": null, \"Privileged\": false, \"PublishAllPorts\": false, \"ReadonlyPaths\": [\"/proc/bus\", \"/proc/fs\", \"/proc/irq\", \"/proc/sys\", \"/proc/sysrq-trigger\"], \"ReadonlyRootfs\": false, \"RestartPolicy\": {\"MaximumRetryCount\": 0, \"Name\": \"\"}, \"Runtime\": \"runc\", \"SecurityOpt\": null, \"ShmSize\": 67108864, \"UTSMode\": \"\", \"Ulimits\": null, \"UsernsMode\": \"\", \"VolumeDriver\": \"\", \"VolumesFrom\": null}, \"HostnamePath\": \"/var/snap/docker/common/var-lib-docker/containers/1fc601e96de53a3c0b217c7f20dea823e2af1bde96a15a0e28a028f47d90b91e/hostname\", \"HostsPath\": \"/var/snap/docker/common/var-lib-docker/containers/1fc601e96de53a3c0b217c7f20dea823e2af1bde96a15a0e28a028f47d90b91e/hosts\", \"Id\": \"1fc601e96de53a3c0b217c7f20dea823e2af1bde96a15a0e28a028f47d90b91e\", \"Image\": \"sha256:bd571e6529f32461648680c82e2540f9db4b3bb92709ae5d19dd347531c98f19\", \"LogPath\": \"/var/snap/docker/common/var-lib-docker/containers/1fc601e96de53a3c0b217c7f20dea823e2af1bde96a15a0e28a028f47d90b91e/1fc601e96de53a3c0b217c7f20dea823e2af1bde96a15a0e28a028f47d90b91e-json.log\", \"MountLabel\": \"\", \"Mounts\": [{\"Destination\": \"/data\", \"Driver\": \"local\", \"Mode\": \"\", \"Name\": \"f57993dd0263d0d1fd81d0b24d62e485e8c84f1eb7f4e6398e9955427e1f6a2b\", \"Propagation\": \"\", \"RW\": true, \"Source\": \"/var/snap/docker/common/var-lib-docker/volumes/f57993dd0263d0d1fd81d0b24d62e485e8c84f1eb7f4e6398e9955427e1f6a2b/_data\", \"Type\": \"volume\"}], \"Name\": \"/test-redis\", \"NetworkSettings\": {\"Bridge\": \"\", \"EndpointID\": \"\", \"Gateway\": \"\", \"GlobalIPv6Address\": \"\", \"GlobalIPv6PrefixLen\": 0, \"HairpinMode\": false, \"IPAddress\": \"\", \"IPPrefixLen\": 0, \"IPv6Gateway\": \"\", \"LinkLocalIPv6Address\": \"\", \"LinkLocalIPv6PrefixLen\": 0, \"MacAddress\": \"\", \"Networks\": {\"host\": {\"Aliases\": null, \"DriverOpts\": null, \"EndpointID\": \"c766ace5af9428d8ef939831b7dae1e436e0b501eb7f956d4cbd4fd2f6f2f63c\", \"Gateway\": \"\", \"GlobalIPv6Address\": \"\", \"GlobalIPv6PrefixLen\": 0, \"IPAMConfig\": null, \"IPAddress\": \"\", \"IPPrefixLen\": 0, \"IPv6Gateway\": \"\", \"Links\": null, \"MacAddress\": \"\", \"NetworkID\": \"16505e3cf210bc488b5a5f7f9f0df7d18b51acece27c2f1b3a63906f13dc8529\"}}, \"Ports\": {}, \"SandboxID\": \"213e9108b8c7675652c2ea17b78d0f19d8f196ae83620bafa50298482e568f6b\", \"SandboxKey\": \"/var/snap/docker/471/run/docker/netns/default\", \"SecondaryIPAddresses\": null, \"\u001b[0;33mchanged: [192.168.1.248] => {\"ansible_facts\": {\"docker_container\": {\"AppArmorProfile\": \"docker-default\", \"Args\": [\"redis-server\"], \"Config\": {\"AttachStderr\": false, \"AttachStdin\": false, \"AttachStdout\": false, \"Cmd\": [\"redis-server\"], \"Domainname\": \"\", \"Entrypoint\": [\"docker-entrypoint.sh\"], \"Env\": [\"PATH=/usr/local/sbin:/usr/local/bin:/usr/sbin:/usr/bin:/sbin:/bin\", \"GOSU_VERSION=1.12\", \"REDIS_VERSION=6.0.8\", \"REDIS_DOWNLOAD_URL=http://download.redis.io/releases/redis-6.0.8.tar.gz\", \"REDIS_DOWNLOAD_SHA=04fa1fddc39bd1aecb6739dd5dd73858a3515b427acd1e2947a66dadce868d68\"], \"ExposedPorts\": {\"6379/tcp\": {}}, \"Hostname\": \"shyam-ThinkPad-P53\", \"Image\": \"redis:latest\", \"Labels\": {}, \"OnBuild\": null, \"OpenStdin\": false, \"StdinOnce\": false, \"Tty\": false, \"User\": \"nobody\", \"Volumes\": {\"/data\": {}}, \"WorkingDir\": \"/data\"}, \"Created\": \"2021-01-18T06:52:21.711476863Z\", \"Driver\": \"overlay2\", \"ExecIDs\": null, \"GraphDriver\": {\"Data\": {\"LowerDir\": \"/var/snap/docker/common/var-lib-docker/overlay2/7b7eba11b7cfe5d32c35b9cecbcaa52ac9cb65eb772a02579cd6d6861705f8f9-init/diff:/var/snap/docker/common/var-lib-docker/overlay2/71cf046d92c5cbbcd5ba506a85f3e2a36d8355a1fd010dc008d1073cd67f5af7/diff:/var/snap/docker/common/var-lib-docker/overlay2/058c81cdb3f029a8199dc535919c8b2b19a5c26290e7dcead7e9358c48351779/diff:/var/snap/docker/common/var-lib-docker/overlay2/60b117240fa4babf955e0696cc1556be0d676f36c685391fcf2da809fb073401/diff:/var/snap/docker/common/var-lib-docker/overlay2/2aa1f047b57cadf24935588333457bc2965b79352f5ad8e62f325179b63180a7/diff:/var/snap/docker/common/var-lib-docker/overlay2/b8a63aa86cb87c25c046ddf7a199e4fdc845c4ae6f65366f37b7a529cdf092a9/diff:/var/snap/docker/common/var-lib-docker/overlay2/409b0172df31dc9e3a05133378b2198cd06a5712651f0d03d428af8731ac12ef/diff\", \"MergedDir\": \"/var/snap/docker/common/var-lib-docker/overlay2/7b7eba11b7cfe5d32c35b9cecbcaa52ac9cb65eb772a02579cd6d6861705f8f9/merged\", \"UpperDir\": \"/var/snap/docker/common/var-lib-docker/overlay2/7b7eba11b7cfe5d32c35b9cecbcaa52ac9cb65eb772a02579cd6d6861705f8f9/diff\", \"WorkDir\": \"/var/snap/docker/common/var-lib-docker/overlay2/7b7eba11b7cfe5d32c35b9cecbcaa52ac9cb65eb772a02579cd6d6861705f8f9/work\"}, \"Name\": \"overlay2\"}, \"HostConfig\": {\"AutoRemove\": false, \"Binds\": [], \"BlkioDeviceReadBps\": null, \"BlkioDeviceReadIOps\": null, \"BlkioDeviceWriteBps\": null, \"BlkioDeviceWriteIOps\": null, \"BlkioWeight\": 0, \"BlkioWeightDevice\": null, \"CapAdd\": null, \"CapDrop\": null, \"Capabilities\": null, \"Cgroup\": \"\", \"CgroupParent\": \"\", \"ConsoleSize\": [0, 0], \"ContainerIDFile\": \"\", \"CpuCount\": 0, \"CpuPercent\": 0, \"CpuPeriod\": 0, \"CpuQuota\": 0, \"CpuRealtimePeriod\": 0, \"CpuRealtimeRuntime\": 0, \"CpuShares\": 0, \"CpusetCpus\": \"\", \"CpusetMems\": \"\", \"DeviceCgroupRules\": null, \"DeviceRequests\": null, \"Devices\": null, \"Dns\": null, \"DnsOptions\": null, \"DnsSearch\": null, \"ExtraHosts\": null, \"GroupAdd\": null, \"IOMaximumBandwidth\": 0, \"IOMaximumIOps\": 0, \"Init\": false, \"IpcMode\": \"private\", \"Isolation\": \"\", \"KernelMemory\": 0, \"KernelMemoryTCP\": 0, \"Links\": null, \"LogConfig\": {\"Config\": {}, \"Type\": \"json-file\"}, \"MaskedPaths\": [\"/proc/asound\", \"/proc/acpi\", \"/proc/kcore\", \"/proc/keys\", \"/proc/latency_stats\", \"/proc/timer_list\", \"/proc/timer_stats\", \"/proc/sched_debug\", \"/proc/scsi\", \"/sys/firmware\"], \"Memory\": 0, \"MemoryReservation\": 0, \"MemorySwap\": 0, \"MemorySwappiness\": null, \"NanoCpus\": 0, \"NetworkMode\": \"host\", \"OomKillDisable\": false, \"OomScoreAdj\": 0, \"PidMode\": \"\", \"PidsLimit\": null, \"PortBindings\": null, \"Privileged\": false, \"PublishAllPorts\": false, \"ReadonlyPaths\": [\"/proc/bus\", \"/proc/fs\", \"/proc/irq\", \"/proc/sys\", \"/proc/sysrq-trigger\"], \"ReadonlyRootfs\": false, \"RestartPolicy\": {\"MaximumRetryCount\": 0, \"Name\": \"\"}, \"Runtime\": \"runc\", \"SecurityOpt\": null, \"ShmSize\": 67108864, \"UTSMode\": \"\", \"Ulimits\": null, \"UsernsMode\": \"\", \"VolumeDriver\": \"\", \"VolumesFrom\": null}, \"HostnamePath\": \"/var/snap/docker/common/var-lib-docker/containers/1fc601e96de53a3c0b217c7f20dea823e2af1bde96a15a0e28a028f47d90b91e/hostname\", \"HostsPath\": \"/var/snap/docker/common/var-lib-docker/containers/1fc601e96de53a3c0b217c7f20dea823e2af1bde96a15a0e28a028f47d90b91e/hosts\", \"Id\": \"1fc601e96de53a3c0b217c7f20dea823e2af1bde96a15a0e28a028f47d90b91e\", \"Image\": \"sha256:bd571e6529f32461648680c82e2540f9db4b3bb92709ae5d19dd347531c98f19\", \"LogPath\": \"/var/snap/docker/common/var-lib-docker/containers/1fc601e96de53a3c0b217c7f20dea823e2af1bde96a15a0e28a028f47d90b91e/1fc601e96de53a3c0b217c7f20dea823e2af1bde96a15a0e28a028f47d90b91e-json.log\", \"MountLabel\": \"\", \"Mounts\": [{\"Destination\": \"/data\", \"Driver\": \"local\", \"Mode\": \"\", \"Name\": \"f57993dd0263d0d1fd81d0b24d62e485e8c84f1eb7f4e6398e9955427e1f6a2b\", \"Propagation\": \"\", \"RW\": true, \"Source\": \"/var/snap/docker/common/var-lib-docker/volumes/f57993dd0263d0d1fd81d0b24d62e485e8c84f1eb7f4e6398e9955427e1f6a2b/_data\", \"Type\": \"volume\"}], \"Name\": \"/test-redis\", \"NetworkSettings\": {\"Bridge\": \"\", \"EndpointID\": \"\", \"Gateway\": \"\", \"GlobalIPv6Address\": \"\", \"GlobalIPv6PrefixLen\": 0, \"HairpinMode\": false, \"IPAddress\": \"\", \"IPPrefixLen\": 0, \"IPv6Gateway\": \"\", \"LinkLocalIPv6Address\": \"\", \"LinkLocalIPv6PrefixLen\": 0, \"MacAddress\": \"\", \"Networks\": {\"host\": {\"Aliases\": null, \"DriverOpts\": null, \"EndpointID\": \"c766ace5af9428d8ef939831b7dae1e436e0b501eb7f956d4cbd4fd2f6f2f63c\", \"Gateway\": \"\", \"GlobalIPv6Address\": \"\", \"GlobalIPv6PrefixLen\": 0, \"IPAMConfig\": null, \"IPAddress\": \"\", \"IPPrefixLen\": 0, \"IPv6Gateway\": \"\", \"Links\": null, \"MacAddress\": \"\", \"NetworkID\": \"16505e3cf210bc488b5a5f7f9f0df7d18b51acece27c2f1b3a63906f13dc8529\"}}, \"Ports\": {}, \"SandboxID\": \"213e9108b8c7675652c2ea17b78d0f19d8f196ae83620bafa50298482e568f6b\", \"SandboxKey\": \"/var/snap/docker/471/run/docker/netns/default\", \"SecondaryIPAddresses\": null, \"SecondaryIPv6Addresses\": null}, \"Path\": \"docker-entrypoint.sh\", \"Platform\": \"linux\", \"ProcessLabel\": \"\", \"ResolvConfPath\": \"/var/snap/docker/common/var-lib-docker/containers/1fc601e96de53a3c0b217c7f20dea823e2af1bde96a15a0e28a028f47d90b91e/resolv.conf\", \"RestartCount\": 0, \"State\": {\"Dead\": false, \"Error\": \"\", \"ExitCode\": 0, \"FinishedAt\": \"0001-01-01T00:00:00Z\", \"OOMKilled\": false, \"Paused\": false, \"Pid\": 40934, \"Restarting\": false, \"Running\": true, \"StartedAt\": \"2021-01-18T06:52:21.896116281Z\", \"Status\": \"running\"}}}, \"changed\": true, \"container\": {\"AppArmorProfile\": \"docker-default\", \"Args\": [\"redis-server\"], \"Config\": {\"AttachStderr\": false, \"AttachStdin\": false, \"AttachStdout\": false, \"Cmd\": [\"redis-server\"], \"Domainname\": \"\", \"Entrypoint\": [\"docker-entrypoint.sh\"], \"Env\": [\"PATH=/usr/local/sbin:/usr/local/bin:/usr/sbin:/usr/bin:/sbin:/bin\", \"GOSU_VERSION=1.12\", \"REDIS_VERSION=6.0.8\", \"REDIS_DOWNLOAD_URL=http://download.redis.io/releases/redis-6.0.8.tar.gz\", \"REDIS_DOWNLOAD_SHA=04fa1fddc39bd1aecb6739dd5dd73858a3515b427acd1e2947a66dadce868d68\"], \"ExposedPorts\": {\"6379/tcp\": {}}, \"Hostname\": \"shyam-ThinkPad-P53\", \"Image\": \"redis:latest\", \"Labels\": {}, \"OnBuild\": null, \"OpenStdin\": false, \"StdinOnce\": false, \"Tty\": false, \"User\": \"nobody\", \"Volumes\": {\"/data\": {}}, \"WorkingDir\": \"/data\"}, \"Created\": \"2021-01-18T06:52:21.711476863Z\", \"Driver\": \"overlay2\", \"ExecIDs\": null, \"GraphDriver\": {\"Data\": {\"LowerDir\": \"/var/snap/docker/common/var-lib-docker/overlay2/7b7eba11b7cfe5d32c35b9cecbcaa52ac9cb65eb772a02579cd6d6861705f8f9-init/diff:/var/snap/docker/common/var-lib-docker/overlay2/71cf046d92c5cbbcd5ba506a85f3e2a36d8355a1fd010dc008d1073cd67f5af7/diff:/var/snap/docker/common/var-lib-docker/overlay2/058c81cdb3f029a8199dc535919c8b2b19a5c26290e7dcead7e9358c48351779/diff:/var/snap/docker/common/var-lib-docker/overlay2/60b117240fa4babf955e0696cc1556be0d676f36c685391fcf2da809fb073401/diff:/var/snap/docker/common/var-lib-docker/overlay2/2aa1f047b57cadf24935588333457bc2965b79352f5ad8e62f325179b63180a7/diff:/var/snap/docker/common/var-lib-docker/overlay2/b8a63aa86cb87c25c046ddf7a199e4fdc845c4ae6f65366f37b7a529cdf092a9/diff:/var/snap/docker/common/var-lib-docker/overlay2/409b0172df31dc9e3a05133378b2198cd06a5712651f0d03d428af8731ac12ef/diff\", \"MergedDir\": \"/var/snap/docker/common/var-lib-docker/overlay2/7b7eba11b7cfe5d32c35b9cecbcaa52ac9cb65eb772a02579cd6d6861705f8f9/merged\", \"UpperDir\": \"/var/snap/docker/common/var-lib-docker/overlay2/7b7eba11b7cfe5d32c35b9cecbcaa52ac9cb65eb772a02579cd6d6861705f8f9/diff\", \"WorkDir\": \"/var/snap/docker/common/var-lib-docker/overlay2/7b7eba11b7cfe5d32c35b9cecbcaa52ac9cb65eb772a02579cd6d6861705f8f9/work\"}, \"Name\": \"overlay2\"}, \"HostConfig\": {\"AutoRemove\": false, \"Binds\": [], \"BlkioDeviceReadBps\": null, \"BlkioDeviceReadIOps\": null, \"BlkioDeviceWriteBps\": null, \"BlkioDeviceWriteIOps\": null, \"BlkioWeight\": 0, \"BlkioWeightDevice\": null, \"CapAdd\": null, \"CapDrop\": null, \"Capabilities\": null, \"Cgroup\": \"\", \"CgroupParent\": \"\", \"ConsoleSize\": [0, 0], \"ContainerIDFile\": \"\", \"CpuCount\": 0, \"CpuPercent\": 0, \"CpuPeriod\": 0, \"CpuQuota\": 0, \"CpuRealtimePeriod\": 0, \"CpuRealtimeRuntime\": 0, \"CpuShares\": 0, \"CpusetCpus\": \"\", \"CpusetMems\": \"\", \"DeviceCgroupRules\": null, \"DeviceRequests\": null, \"Devices\": null, \"Dns\": null, \"DnsOptions\": null, \"DnsSearch\": null, \"ExtraHosts\": null, \"GroupAdd\": null, \"IOMaximumBandwidth\": 0, \"IOMaximumIOps\": 0, \"Init\": false, \"IpcMode\": \"private\", \"Isolation\": \"\", \"KernelMemory\": 0, \"KernelMemoryTCP\": 0, \"Links\": null, \"LogConfig\": {\"Config\": {}, \"Type\": \"json-file\"}, \"MaskedPaths\": [\"/proc/asound\", \"/proc/acpi\", \"/proc/kcore\", \"/proc/keys\", \"/proc/latency_stats\", \"/proc/timer_list\", \"/proc/timer_stats\", \"/proc/sched_debug\", \"/proc/scsi\", \"/sys/firmware\"], \"Memory\": 0, \"MemoryReservation\": 0, \"MemorySwap\": 0, \"MemorySwappiness\": null, \"NanoCpus\": 0, \"NetworkMode\": \"host\", \"OomKillDisable\": false, \"OomScoreAdj\": 0, \"PidMode\": \"\", \"PidsLimit\": null, \"PortBindings\": null, \"Privileged\": false, \"PublishAllPorts\": false, \"ReadonlyPaths\": [\"/proc/bus\", \"/proc/fs\", \"/proc/irq\", \"/proc/sys\", \"/proc/sysrq-trigger\"], \"ReadonlyRootfs\": false, \"RestartPolicy\": {\"MaximumRetryCount\": 0, \"Name\": \"\"}, \"Runtime\": \"runc\", \"SecurityOpt\": null, \"ShmSize\": 67108864, \"UTSMode\": \"\", \"Ulimits\": null, \"UsernsMode\": \"\", \"VolumeDriver\": \"\", \"VolumesFrom\": null}, \"HostnamePath\": \"/var/snap/docker/common/var-lib-docker/containers/1fc601e96de53a3c0b217c7f20dea823e2af1bde96a15a0e28a028f47d90b91e/hostname\", \"HostsPath\": \"/var/snap/docker/common/var-lib-docker/containers/1fc601e96de53a3c0b217c7f20dea823e2af1bde96a15a0e28a028f47d90b91e/hosts\", \"Id\": \"1fc601e96de53a3c0b217c7f20dea823e2af1bde96a15a0e28a028f47d90b91e\", \"Image\": \"sha256:bd571e6529f32461648680c82e2540f9db4b3bb92709ae5d19dd347531c98f19\", \"LogPath\": \"/var/snap/docker/common/var-lib-docker/containers/1fc601e96de53a3c0b217c7f20dea823e2af1bde96a15a0e28a028f47d90b91e/1fc601e96de53a3c0b217c7f20dea823e2af1bde96a15a0e28a028f47d90b91e-json.log\", \"MountLabel\": \"\", \"Mounts\": [{\"Destination\": \"/data\", \"Driver\": \"local\", \"Mode\": \"\", \"Name\": \"f57993dd0263d0d1fd81d0b24d62e485e8c84f1eb7f4e6398e9955427e1f6a2b\", \"Propagation\": \"\", \"RW\": true, \"Source\": \"/var/snap/docker/common/var-lib-docker/volumes/f57993dd0263d0d1fd81d0b24d62e485e8c84f1eb7f4e6398e9955427e1f6a2b/_data\", \"Type\": \"volume\"}], \"Name\": \"/test-redis\", \"NetworkSettings\": {\"Bridge\": \"\", \"EndpointID\": \"\", \"Gateway\": \"\", \"GlobalIPv6Address\": \"\", \"GlobalIPv6PrefixLen\": 0, \"HairpinMode\": false, \"IPAddress\": \"\", \"IPPrefixLen\": 0, \"IPv6Gateway\": \"\", \"LinkLocalIPv6Address\": \"\", \"LinkLocalIPv6PrefixLen\": 0, \"MacAddress\": \"\", \"Networks\": {\"host\": {\"Aliases\": null, \"DriverOpts\": null, \"EndpointID\": \"c766ace5af9428d8ef939831b7dae1e436e0b501eb7f956d4cbd4fd2f6f2f63c\", \"Gateway\": \"\", \"GlobalIPv6Address\": \"\", \"GlobalIPv6PrefixLen\": 0, \"IPAMConfig\": null, \"IPAddress\": \"\", \"IPPrefixLen\": 0, \"IPv6Gateway\": \"\", \"Links\": null, \"MacAddress\": \"\", \"NetworkID\": \"16505e3cf210bc488b5a5f7f9f0df7d18b51acece27c2f1b3a63906f13dc8529\"}}, \"Ports\": {}, \"SandboxID\": \"213e9108b8c7675652c2ea17b78d0f19d8f196ae83620bafa50298482e568f6b\", \"SandboxKey\": \"/var/snap/docker/471/run/docker/netns/default\", \"SecondaryIPAddresses\": null, \"SecondaryIPv6Addresses\": null}, \"Path\": \"docker-entrypoint.sh\", \"Platform\": \"linux\", \"ProcessLabel\": \"\", \"ResolvConfPath\": \"/var/snap/docker/common/var-lib-docker/containers/1fc601e96de53a3c0b217c7f20dea823e2af1bde96a15a0e28a028f47d90b91e/resolv.conf\", \"RestartCount\": 0, \"State\": {\"Dead\": false, \"Error\": \"\", \"ExitCode\": 0, \"FinishedAt\": \"0001-01-01T00:00:00Z\", \"OOMKilled\": false, \"Paused\": false, \"Pid\": 40934, \"Restarting\": false, \"Running\": true, \"StartedAt\": \"2021-01-18T06:52:21.896116281Z\", \"Status\": \"running\"}}}\u001b[0m\n",
      "\n",
      "PLAY RECAP *********************************************************************\n",
      "\u001b[0;33m192.168.1.248\u001b[0m              : \u001b[0;32mok=3   \u001b[0m \u001b[0;33mchanged=2   \u001b[0m unreachable=0    failed=0    skipped=0    rescued=0    ignored=0   \n",
      "\n"
     ]
    },
    {
     "name": "stderr",
     "output_type": "stream",
     "text": [
      "2021-01-17 22:52:22.140 | INFO     | ansible_please.ansible_runner:run:64 - successful: 0\n",
      "2021-01-17 22:52:22.142 | INFO     | ansible_please.ansible_runner:run:65 - Final status:\n",
      "2021-01-17 22:52:22.162 | INFO     | ansible_please.ansible_runner:run:66 - {'skipped': {}, 'ok': {'192.168.1.248': 2}, 'dark': {}, 'failures': {}, 'processed': {'192.168.1.248': 1}, 'changed': {'192.168.1.248': 1}}\n"
     ]
    }
   ],
   "source": [
    "c.up()"
   ]
  },
  {
   "cell_type": "markdown",
   "metadata": {},
   "source": [
    "### get cluster from info redis container"
   ]
  },
  {
   "cell_type": "code",
   "execution_count": 11,
   "metadata": {},
   "outputs": [
    {
     "name": "stderr",
     "output_type": "stream",
     "text": [
      "2021-01-17 22:52:32.541 | INFO     | ansible_please.clusters.docker_cluster:_get_ansible_runner_from_cluster:101 - Found existing cluster with container id a1e77d4135c73ad44e219bb1fee2aa80bab679869ae74135cdaade1df1141836\n"
     ]
    }
   ],
   "source": [
    "c = DockerCluster()"
   ]
  },
  {
   "cell_type": "code",
   "execution_count": 12,
   "metadata": {},
   "outputs": [
    {
     "name": "stdout",
     "output_type": "stream",
     "text": [
      "- name: test-redis-playbook\n",
      "  hosts: master_host\n",
      "  gather_facts: true\n",
      "  tasks:\n",
      "  - name: '[up] Install package via pip'\n",
      "    command:\n",
      "      cmd: '{{ ansible_python_interpreter }} -m pip install docker'\n",
      "    tags:\n",
      "    - up\n",
      "  - name: '[up] start-test-redis'\n",
      "    docker_container:\n",
      "      name: test-redis\n",
      "      image: redis:latest\n",
      "      user: nobody\n",
      "      keep_volumes: false\n",
      "      detach: true\n",
      "      tty: false\n",
      "      interactive: false\n",
      "      network_mode: host\n",
      "      container_default_behavior: compatibility\n",
      "    tags:\n",
      "    - up\n",
      "  - name: '[down] start-test-redis'\n",
      "    docker_container:\n",
      "      name: test-redis\n",
      "      state: absent\n",
      "      user: nobody\n",
      "      keep_volumes: false\n",
      "      detach: true\n",
      "      tty: false\n",
      "      interactive: false\n",
      "      network_mode: host\n",
      "      container_default_behavior: compatibility\n",
      "    tags:\n",
      "    - down\n",
      "\n"
     ]
    }
   ],
   "source": [
    "print(c.ansible_runner.playbooks[0])"
   ]
  },
  {
   "cell_type": "code",
   "execution_count": 14,
   "metadata": {},
   "outputs": [],
   "source": [
    "import docker\n",
    "\n",
    "client = docker.DockerClient()"
   ]
  },
  {
   "cell_type": "code",
   "execution_count": 15,
   "metadata": {
    "scrolled": true
   },
   "outputs": [
    {
     "data": {
      "text/plain": [
       "'a1e77d4135c73ad44e219bb1fee2aa80bab679869ae74135cdaade1df1141836'"
      ]
     },
     "execution_count": 15,
     "metadata": {},
     "output_type": "execute_result"
    }
   ],
   "source": [
    "container = client.containers.get('ansible_please-cluster-info')\n",
    "container.attrs['Id']"
   ]
  },
  {
   "cell_type": "code",
   "execution_count": 16,
   "metadata": {},
   "outputs": [
    {
     "data": {
      "text/plain": [
       "{'Status': 'running',\n",
       " 'Running': True,\n",
       " 'Paused': False,\n",
       " 'Restarting': False,\n",
       " 'OOMKilled': False,\n",
       " 'Dead': False,\n",
       " 'Pid': 40731,\n",
       " 'ExitCode': 0,\n",
       " 'Error': '',\n",
       " 'StartedAt': '2021-01-18T06:52:17.200132517Z',\n",
       " 'FinishedAt': '0001-01-01T00:00:00Z'}"
      ]
     },
     "execution_count": 16,
     "metadata": {},
     "output_type": "execute_result"
    }
   ],
   "source": [
    "container.attrs[\"State\"]"
   ]
  },
  {
   "cell_type": "code",
   "execution_count": 17,
   "metadata": {},
   "outputs": [
    {
     "name": "stdout",
     "output_type": "stream",
     "text": [
      "\n",
      "PLAY [set up ansible_please-cluster-info] **************************************\n",
      "\n",
      "TASK [Gathering Facts] *********************************************************\n",
      "\u001b[0;32mok: [192.168.1.248]\u001b[0m\n",
      "\n",
      "TASK [[down] start-cluster-info] ***********************************************\n",
      "\u001b[0;33mchanged: [192.168.1.248]\u001b[0m\n",
      "\n",
      "PLAY RECAP *********************************************************************\n",
      "\u001b[0;33m192.168.1.248\u001b[0m              : \u001b[0;32mok=2   \u001b[0m \u001b[0;33mchanged=1   \u001b[0m unreachable=0    failed=0    skipped=0    rescued=0    ignored=0   \n",
      "\n"
     ]
    },
    {
     "name": "stderr",
     "output_type": "stream",
     "text": [
      "2021-01-17 22:52:52.953 | INFO     | ansible_please.ansible_runner:run:64 - successful: 0\n",
      "2021-01-17 22:52:52.956 | INFO     | ansible_please.ansible_runner:run:65 - Final status:\n",
      "2021-01-17 22:52:52.981 | INFO     | ansible_please.ansible_runner:run:66 - {'skipped': {}, 'ok': {'192.168.1.248': 2}, 'dark': {}, 'failures': {}, 'processed': {'192.168.1.248': 1}, 'changed': {'192.168.1.248': 1}}\n"
     ]
    },
    {
     "name": "stdout",
     "output_type": "stream",
     "text": [
      "\u001b[0;34mNo config file found; using defaults\u001b[0m\n",
      "\n",
      "PLAY [test-redis-playbook] *****************************************************\n",
      "\n",
      "TASK [Gathering Facts] *********************************************************\n",
      "\u001b[0;32mok: [192.168.1.248]\u001b[0m\n",
      "\n",
      "TASK [[down] start-test-redis] *************************************************\n",
      "\u001b[0;33mchanged: [192.168.1.248] => {\"changed\": true}\u001b[0m\n",
      "\n",
      "PLAY RECAP *********************************************************************\n",
      "\u001b[0;33m192.168.1.248\u001b[0m              : \u001b[0;32mok=2   \u001b[0m \u001b[0;33mchanged=1   \u001b[0m unreachable=0    failed=0    skipped=0    rescued=0    ignored=0   \n",
      "\n"
     ]
    },
    {
     "name": "stderr",
     "output_type": "stream",
     "text": [
      "2021-01-17 22:53:06.429 | INFO     | ansible_please.ansible_runner:run:64 - successful: 0\n",
      "2021-01-17 22:53:06.429 | INFO     | ansible_please.ansible_runner:run:65 - Final status:\n",
      "2021-01-17 22:53:06.437 | INFO     | ansible_please.ansible_runner:run:66 - {'skipped': {}, 'ok': {'192.168.1.248': 2}, 'dark': {}, 'failures': {}, 'processed': {'192.168.1.248': 1}, 'changed': {'192.168.1.248': 1}}\n"
     ]
    }
   ],
   "source": [
    "c.down()"
   ]
  }
 ],
 "metadata": {
  "kernelspec": {
   "display_name": "Python [conda env:py38] *",
   "language": "python",
   "name": "conda-env-py38-py"
  },
  "language_info": {
   "codemirror_mode": {
    "name": "ipython",
    "version": 3
   },
   "file_extension": ".py",
   "mimetype": "text/x-python",
   "name": "python",
   "nbconvert_exporter": "python",
   "pygments_lexer": "ipython3",
   "version": "3.8.3"
  }
 },
 "nbformat": 4,
 "nbformat_minor": 4
}
