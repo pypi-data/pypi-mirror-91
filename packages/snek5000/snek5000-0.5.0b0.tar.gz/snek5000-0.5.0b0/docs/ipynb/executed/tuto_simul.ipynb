{
 "cells": [
  {
   "cell_type": "markdown",
   "metadata": {},
   "source": [
    "# Demo of the Periodic Hill case\n",
    "\n",
    "The [phill example](https://github.com/KTH-Nek5000/KTH_Examples/tree/master/phill_STAT) has been adapted for a workflow using snek5000 and pymech. Here we will show how a workflow looks like. To get started, we install everything we need:\n",
    "\n",
    "```sh\n",
    "python -m venv venv\n",
    "source venv/bin/activate\n",
    "pip install snek5000 pymech -e \"git+https://github.com/exabl/snek5000-phill#egg=phill\"\n",
    "```"
   ]
  },
  {
   "cell_type": "markdown",
   "metadata": {},
   "source": [
    "## Initialize and setup up simulation paramters"
   ]
  },
  {
   "cell_type": "code",
   "execution_count": 1,
   "metadata": {},
   "outputs": [
    {
     "name": "stderr",
     "output_type": "stream",
     "text": [
      "INFO     \n",
      "\n",
      "The following table matches counterpart of mandatory ``SIZE`` variables.\n",
      "\n",
      "==========  ===================   =============================================\n",
      "SIZE        params.oper           Comment\n",
      "==========  ===================   =============================================\n",
      "``ldim``    ``dim``               Domain dimensions (2 or 3)\n",
      "\n",
      "``lpmin``   ``nproc_min``         Min MPI ranks\n",
      "``lpmax``   ``nproc_max``         Max MPI ranks\n",
      "``ldimt``   ``scalars``           Number of auxilary fields (minimum 1).\n",
      "\n",
      "==========  ===================   =============================================\n",
      "\n",
      "\n",
      "INFO     \n",
      "The following table relate to element configuration for certain operations.\n",
      "The parameters are considered \"optional\" (except for ``lx1`` / ``order`` and\n",
      "``lxd`` / ``coef_dealiasing`` which are mandatory) and would be ignored with\n",
      "the default values.\n",
      "\n",
      "==========      ===================   =========================================\n",
      "SIZE            params.oper.elem      Comment\n",
      "==========      ===================   =========================================\n",
      "``lxd``         ``coef_dealiasing``   | p-order [#f1]_ for over-integration.\n",
      "                                        **Automatically computed** from float\n",
      "                                      | ``coef_dealiasing``. See\n",
      "                                        :any:`order_dealiasing`\n",
      "\n",
      "``lx1``         ``order``             p-order (avoid uneven and values <6).\n",
      "\n",
      "``lxo``         ``order_out``         Max. p-order on output (should be ``>=\n",
      "                                      order``)\n",
      "\n",
      "``lx2``         ``staggered``         | p-order for pressure. **Automatically\n",
      "                                        computed** from boolean\n",
      "                                      | ``staggered`` (`True` implies\n",
      "                                        :math:`\\mathbb{P}_N - \\mathbb{P}_{N-2}`\n",
      "                                        and `False` implies\n",
      "                                      | :math:`\\mathbb{P}_N\n",
      "                                        - \\mathbb{P}_{N}` or a collocated\n",
      "                                        grid). See :any:`order_pressure`\n",
      "\n",
      "==========      ===================   =========================================\n",
      "\n",
      ".. [#f1] Polynomial order which means the number of GLL / GL points per element.\n",
      "\n",
      "\n",
      "INFO     \n",
      "The following table matches counterpart of optional ``SIZE`` variables. These\n",
      "refer to upper bound number of `something`. The parameters are considered\n",
      "\"optional\" and would be ignored with the default values.\n",
      "\n",
      "==============  ===================   =========================================\n",
      "SIZE            params.oper.max       Comment\n",
      "==============  ===================   =========================================\n",
      "``mxprev``      ``dim_proj``          Max. dimension of projection space\n",
      "``lgmres``      ``dim_krylov``        Max. dimension of Krylov space for GMRES\n",
      "``lhis``        ``hist``              Max. number of history (i.e. monitoring)\n",
      "                                      points.\n",
      "\n",
      "``maxobj``      ``obj``               Max. number of objects?\n",
      "``lorder``      ``order_time``        Max. temporal order (minimum: 2)\n",
      "``lpert``       ``perturb``           Max. number of perturbations\n",
      "``toteq``       ``scalars_cons``      Max. conserved scalars\n",
      "``ldimt_proj``  ``scalars_proj``      Max. scalars for residual projection\n",
      "``nsessmax``    ``sessions``          Max. sessions to NEKNEK\n",
      "\n",
      "==============  ===================   =========================================\n",
      "\n",
      "\n",
      "INFO     \n",
      "Other miscellaneous parameters:\n",
      "\n",
      "==========      ===================   =========================================\n",
      "SIZE            params.oper.misc      Comment\n",
      "==========      ===================   =========================================\n",
      "``lfdm``        ``fast_diag``         | Equals to True for global tensor\n",
      "                                        product solver (that uses fast\n",
      "                                      | diagonalization method). ``False``\n",
      "                                        otherwise.\n",
      "==========      ===================   =========================================\n",
      "\n",
      "\n"
     ]
    }
   ],
   "source": [
    "from phill.solver import Simul\n",
    "\n",
    "params = Simul.create_default_params()"
   ]
  },
  {
   "cell_type": "markdown",
   "metadata": {},
   "source": [
    "The logger prints out some helpful information, which could be useful to a new user. It may also be suppressed by adjusting the log level as follows:"
   ]
  },
  {
   "cell_type": "code",
   "execution_count": 2,
   "metadata": {},
   "outputs": [],
   "source": [
    "from snek5000.log import logger, logging\n",
    "\n",
    "logger.setLevel(logging.ERROR)"
   ]
  },
  {
   "cell_type": "markdown",
   "metadata": {},
   "source": [
    "The `params` object gives you a consolidated view of the parameters which are spread out in a typical Nek5000 case into `.par`, `.box` and `SIZE` file.  Already we seen that the parameters are more verbose, easier to understand. As a bonus, some parameters which depend on others are automatically set. For example, see {py:mod}`snek5000.operators`.\n",
    "\n",
    "Now let us take a look at all the compilation parameters that we can modify. In a console the params would also output as follows:"
   ]
  },
  {
   "cell_type": "code",
   "execution_count": 3,
   "metadata": {},
   "outputs": [
    {
     "name": "stdout",
     "output_type": "stream",
     "text": [
      "<snek5000.params.Parameters object at 0x7f5a9eff8160>\n",
      "\n",
      "<params NEW_DIR_RESULTS=\"True\" short_name_type_run=\"run\">\n",
      "  <oper Lx=\"1.0\" Ly=\"1.0\" Lz=\"1.0\" boundary=\"['P', 'P', 'W', 'W', 'P', 'P']\"\n",
      "        dim=\"3\" nproc_max=\"32\" nproc_min=\"8\" nx=\"22\" ny=\"16\" nz=\"19\"\n",
      "        origin_x=\"0.0\" origin_y=\"0.0\" origin_z=\"0.0\" ratio_x=\"1.0\" ratio_y=\"1.0\"\n",
      "        ratio_z=\"1.0\" scalars=\"1\">\n",
      "    <max dim_krylov=\"30\" dim_proj=\"20\" hist=\"1\" obj=\"1\" order_time=\"3\"\n",
      "         perturb=\"1\" scalars_cons=\"1\" scalars_proj=\"1\" sessions=\"1\"/>  \n",
      "\n",
      "    <elem coef_dealiasing=\"0.6666666666666666\" order=\"6\" order_out=\"6\"\n",
      "          staggered=\"True\"/>  \n",
      "\n",
      "    <misc fast_diag=\"False\"/>  \n",
      "\n",
      "  </oper>\n",
      "\n",
      "  <output HAS_TO_SAVE=\"True\" ONLINE_PLOT_OK=\"True\" period_refresh_plots=\"1\"\n",
      "          sub_directory=\"\"/>  \n",
      "\n",
      "  <nek>\n",
      "    <general dealiasing=\"True\" dt=\"-0.0002\" end_time=\"nan\"\n",
      "             extrapolation=\"standard\" filter_cutoff_ratio=\"0.67\"\n",
      "             filter_weight=\"0.02\" filtering=\"explicit\" log_level=\"2\"\n",
      "             num_steps=\"20\" opt_level=\"2\" start_from=\"\" stop_at=\"num_steps\"\n",
      "             target_cfl=\"0.3\" time_stepper=\"bdf3\" user_params=\"{}\"\n",
      "             variable_dt=\"False\" write_control=\"timestep\"\n",
      "             write_double_precision=\"True\" write_interval=\"100\"/>  \n",
      "\n",
      "    <problemtype equation=\"incompNS\" stress_formulation=\"False\"\n",
      "                 variable_properties=\"False\"/>  \n",
      "\n",
      "    <velocity advection=\"True\" density=\"1.0\" residual_proj=\"1e-08\"\n",
      "              residual_tol=\"1e-08\" viscosity=\"-700\"/>  \n",
      "\n",
      "    <pressure preconditioner=\"semg_xxt\" residual_proj=\"1e-08\"\n",
      "              residual_tol=\"1e-08\"/>  \n",
      "\n",
      "    <mesh/>  \n",
      "\n",
      "    <temperature residual_proj=\"False\" residual_tol=\"nan\"/>  \n",
      "\n",
      "    <scalar01 residual_proj=\"False\" residual_tol=\"nan\"/>  \n",
      "\n",
      "    <cvode/>  \n",
      "\n",
      "    <runpar parf_name=\"outparfile\" parf_write=\"False\"/>  \n",
      "\n",
      "    <monitor log_level=\"4\" wall_time=\"23:45\"/>  \n",
      "\n",
      "    <chkpoint chkp_fnumber=\"1\" chkp_interval=\"250\" read_chkpt=\"False\"/>  \n",
      "\n",
      "    <stat av_step=\"10\" io_step=\"50\"/>  \n",
      "\n",
      "  </nek>\n",
      "\n",
      "</params>\n",
      "\n"
     ]
    }
   ],
   "source": [
    "print(params)"
   ]
  },
  {
   "cell_type": "markdown",
   "metadata": {},
   "source": [
    "The parameters shown above can be modified too. For instance, let us tweak the number of elements, time-stepping and I/O parameters"
   ]
  },
  {
   "cell_type": "code",
   "execution_count": 4,
   "metadata": {},
   "outputs": [],
   "source": [
    "# This affects both the box and SIZE files\n",
    "params.oper.nx = 12\n",
    "params.oper.ny = 10\n",
    "params.oper.nz = 8\n",
    "\n",
    "# This affects the par file \n",
    "params.nek.general.num_steps = 10\n",
    "params.nek.general.time_stepper = \"bdf2\"\n",
    "params.nek.general.write_interval = 10\n",
    "\n",
    "params.nek.stat.av_step = 3\n",
    "params.nek.stat.io_step = 10"
   ]
  },
  {
   "cell_type": "markdown",
   "metadata": {},
   "source": [
    "Now initialize the simulation. This would copy the files based on the templates we have specified."
   ]
  },
  {
   "cell_type": "code",
   "execution_count": 5,
   "metadata": {},
   "outputs": [
    {
     "data": {
      "text/plain": [
       "PosixPath('/home/avmo/.local/scratch/tmp/phill_run_12x10x8_V1.x1.x1._2020-10-05_15-09-26')"
      ]
     },
     "execution_count": 5,
     "metadata": {},
     "output_type": "execute_result"
    }
   ],
   "source": [
    "sim = Simul(params)\n",
    "sim.path_run"
   ]
  },
  {
   "cell_type": "code",
   "execution_count": 6,
   "metadata": {},
   "outputs": [
    {
     "name": "stdout",
     "output_type": "stream",
     "text": [
      "etc\t\t  params.xml  phill.par  SIZE\t    templates\n",
      "makefile_usr.inc  phill.box   phill.usr  Snakefile  toolbox\n"
     ]
    }
   ],
   "source": [
    "!ls {sim.path_run}"
   ]
  },
  {
   "cell_type": "markdown",
   "metadata": {},
   "source": [
    "To run the simulation we need to execute certain commands. These are described using snakemake in the Snakefile. Let's look at the rules defined in the Snakefile (which are nearly generic for any Nek5000 case)."
   ]
  },
  {
   "cell_type": "code",
   "execution_count": 7,
   "metadata": {},
   "outputs": [
    {
     "name": "stderr",
     "output_type": "stream",
     "text": [
      "Changing to shadow directory: /home/avmo/.local/scratch/tmp/phill_run_12x10x8_V1.x1.x1._2020-10-05_15-09-26\n"
     ]
    },
    {
     "name": "stdout",
     "output_type": "stream",
     "text": [
      "test\n",
      "all\n",
      "mesh\n",
      "compile\n",
      "run\n",
      "srun\n",
      "clean\n",
      "cleansimul\n",
      "cleanall\n",
      "archive\n",
      "generate_box\n",
      "move_box\n",
      "generate_map\n",
      "generate_makefile\n",
      "generate_session\n"
     ]
    },
    {
     "data": {
      "text/plain": [
       "True"
      ]
     },
     "execution_count": 7,
     "metadata": {},
     "output_type": "execute_result"
    }
   ],
   "source": [
    "sim.make.list()"
   ]
  },
  {
   "cell_type": "markdown",
   "metadata": {},
   "source": [
    "The rules in the Snakefile are either shell commands or Python code which handle different parts of the build step, such as building a mesh (rule `mesh`), compiling (rule `compile`) and running the simulation (rule `run` or `srun`). The rules can be executed on by one by passing them as strings to the `exec` method of the `sim.make` object. The default parameter is to do everyting to run a simulation."
   ]
  },
  {
   "cell_type": "code",
   "execution_count": 9,
   "metadata": {},
   "outputs": [
    {
     "data": {
      "text/plain": [
       "\u001b[0;31mSignature:\u001b[0m \u001b[0msim\u001b[0m\u001b[0;34m.\u001b[0m\u001b[0mmake\u001b[0m\u001b[0;34m.\u001b[0m\u001b[0mexec\u001b[0m\u001b[0;34m(\u001b[0m\u001b[0mrules\u001b[0m\u001b[0;34m=\u001b[0m\u001b[0;34m(\u001b[0m\u001b[0;34m'run'\u001b[0m\u001b[0;34m,\u001b[0m\u001b[0;34m)\u001b[0m\u001b[0;34m,\u001b[0m \u001b[0mdryrun\u001b[0m\u001b[0;34m=\u001b[0m\u001b[0;32mFalse\u001b[0m\u001b[0;34m)\u001b[0m\u001b[0;34m\u001b[0m\u001b[0;34m\u001b[0m\u001b[0m\n",
       "\u001b[0;31mDocstring:\u001b[0m\n",
       "Execute snakemake rules in sequence.\n",
       "\n",
       ":returns: True if workflow execution was successful.\n",
       "\u001b[0;31mFile:\u001b[0m      ~/src/snek5000/snek5000/src/snek5000/make.py\n",
       "\u001b[0;31mType:\u001b[0m      method\n"
      ]
     },
     "metadata": {},
     "output_type": "display_data"
    }
   ],
   "source": [
    "sim.make.exec?"
   ]
  },
  {
   "cell_type": "code",
   "execution_count": 10,
   "metadata": {},
   "outputs": [
    {
     "name": "stdout",
     "output_type": "stream",
     "text": [
      "Changing to shadow directory: /home/avmo/.local/scratch/tmp/phill_run_12x10x8_V1.x1.x1._2020-10-05_15-09-26\n"
     ]
    },
    {
     "name": "stderr",
     "output_type": "stream",
     "text": [
      "Building DAG of jobs...\n",
      "Executing subworkflow Nek5000.\n",
      "Building DAG of jobs...\n",
      "Nothing to be done.\n",
      "Complete log: /home/avmo/src/snek5000/snek5000/lib/Nek5000/.snakemake/log/2020-10-05T151042.306490.snakemake.log\n",
      "Executing main workflow.\n",
      "Using shell: /usr/bin/bash\n",
      "Provided cores: 1 (use --cores to define parallelism)\n",
      "Rules claiming more threads will be scaled down.\n",
      "Job counts:\n",
      "\tcount\tjobs\n",
      "\t1\tcompile\n",
      "\t1\tgenerate_box\n",
      "\t1\tgenerate_makefile\n",
      "\t1\tgenerate_map\n",
      "\t1\tgenerate_session\n",
      "\t1\tmove_box\n",
      "\t1\trun\n",
      "\t7\n",
      "\n",
      "[Mon Oct  5 15:10:42 2020]\n",
      "rule generate_box:\n",
      "    input: phill.box, /home/avmo/src/snek5000/snek5000/src/snek5000/../../lib/Nek5000/bin/genbox\n",
      "    output: box.re2\n",
      "    jobid: 5\n",
      "\n",
      "[Mon Oct  5 15:10:42 2020]\n",
      "Finished job 5.\n",
      "1 of 7 steps (14%) done\n",
      "\n",
      "[Mon Oct  5 15:10:42 2020]\n",
      "rule move_box:\n",
      "    input: box.re2\n",
      "    output: phill.re2\n",
      "    jobid: 1\n",
      "\n",
      "[Mon Oct  5 15:10:42 2020]\n",
      "Finished job 1.\n",
      "2 of 7 steps (29%) done\n",
      "\n",
      "[Mon Oct  5 15:10:42 2020]\n",
      "rule generate_map:\n",
      "    input: phill.re2, /home/avmo/src/snek5000/snek5000/src/snek5000/../../lib/Nek5000/bin/genmap\n",
      "    output: phill.ma2\n",
      "    jobid: 2\n",
      "\n",
      "[Mon Oct  5 15:10:42 2020]\n",
      "Finished job 2.\n",
      "3 of 7 steps (43%) done\n",
      "\n",
      "[Mon Oct  5 15:10:42 2020]\n",
      "rule generate_makefile:\n",
      "    input: phill.re2, phill.ma2, phill.usr, /home/avmo/src/snek5000/snek5000/src/snek5000/../../lib/Nek5000/bin/makenek\n",
      "    output: makefile\n",
      "    jobid: 6\n",
      "\n",
      "[Mon Oct  5 15:10:54 2020]\n",
      "Finished job 6.\n",
      "4 of 7 steps (57%) done\n",
      "\n",
      "[Mon Oct  5 15:10:54 2020]\n",
      "rule compile:\n",
      "    input: phill.usr, makefile_usr.inc, makefile, toolbox/CHKPOINTD, toolbox/CHKPTMSTPD, toolbox/FRAMELP, toolbox/IOTOOLD, toolbox/MAP2D, toolbox/MNTRLOGD, toolbox/MNTRTMRD, toolbox/README.md, toolbox/RPRMD, toolbox/STATD, toolbox/chkpoint.f, toolbox/chkpt_mstp.f, toolbox/frame.f, toolbox/io_tools.f, toolbox/io_tools_block.f, toolbox/map2D.f, toolbox/math_tools.f, toolbox/mntrlog.f, toolbox/mntrlog_block.f, toolbox/mntrtmr.f, toolbox/mntrtmr_block.f, toolbox/rprm.f, toolbox/rprm_block.f, toolbox/stat.f, toolbox/stat_IO.f, /home/avmo/src/snek5000/snek5000/src/snek5000/../../lib/Nek5000/bin/nekconfig\n",
      "    output: /home/avmo/src/snek5000/snek5000/src/snek5000/../../lib/Nek5000/3rd_party/gslib/lib/libgs.a, phill.f, nek5000\n",
      "    jobid: 4\n",
      "\n",
      "Warning: the following output files of rule compile were not present when the DAG was created:\n",
      "{'nek5000'}\n",
      "[Mon Oct  5 15:10:57 2020]\n",
      "Finished job 4.\n",
      "5 of 7 steps (71%) done\n",
      "\n",
      "[Mon Oct  5 15:10:57 2020]\n",
      "rule generate_session:\n",
      "    output: SESSION.NAME\n",
      "    jobid: 3\n",
      "\n",
      "[Mon Oct  5 15:10:57 2020]\n",
      "Finished job 3.\n",
      "6 of 7 steps (86%) done\n",
      "\n",
      "[Mon Oct  5 15:10:57 2020]\n",
      "rule run:\n",
      "    input: phill.re2, phill.ma2, phill.par, SESSION.NAME, nek5000\n",
      "    log: logs/run_2020-10-05T15-10-42.log\n",
      "    jobid: 0\n",
      "\n",
      "[Mon Oct  5 15:10:57 2020]\n",
      "Finished job 0.\n",
      "7 of 7 steps (100%) done\n",
      "Complete log: /home/avmo/src/snek5000/snek5000/lib/Nek5000/.snakemake/log/2020-10-05T151042.306490.snakemake.log\n"
     ]
    },
    {
     "data": {
      "text/plain": [
       "True"
      ]
     },
     "execution_count": 10,
     "metadata": {},
     "output_type": "execute_result"
    }
   ],
   "source": [
    "sim.make.exec()"
   ]
  },
  {
   "cell_type": "code",
   "execution_count": 14,
   "metadata": {},
   "outputs": [
    {
     "name": "stdout",
     "output_type": "stream",
     "text": [
      "build.log\t  nek5000\t phill.log\t   rs6phill0.f00002  templates\n",
      "c2Dphill0.f00001  obj\t\t phill.ma2\t   rs6phill0.f00003  toolbox\n",
      "etc\t\t  params.xml\t phill.par\t   SESSION.NAME\n",
      "logs\t\t  phill0.f00001  phill.re2\t   SIZE\n",
      "makefile\t  phill.box\t phill.usr\t   Snakefile\n",
      "makefile_usr.inc  phill.f\t rs6phill0.f00001  stsphill0.f00001\n"
     ]
    }
   ],
   "source": [
    "!ls {sim.path_run}"
   ]
  },
  {
   "cell_type": "markdown",
   "metadata": {},
   "source": [
    "The simulation is done!"
   ]
  }
 ],
 "metadata": {
  "kernelspec": {
   "display_name": "Python 3.8.2 64-bit ('snek': venv)",
   "language": "python",
   "name": "python38264bitsnekvenvffbfa5b53a164acb9521c83c3b4198c2"
  },
  "language_info": {
   "codemirror_mode": {
    "name": "ipython",
    "version": 3
   },
   "file_extension": ".py",
   "mimetype": "text/x-python",
   "name": "python",
   "nbconvert_exporter": "python",
   "pygments_lexer": "ipython3",
   "version": "3.8.5"
  }
 },
 "nbformat": 4,
 "nbformat_minor": 4
}
