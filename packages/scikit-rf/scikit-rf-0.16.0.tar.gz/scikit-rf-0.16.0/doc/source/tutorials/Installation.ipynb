{
 "cells": [
  {
   "cell_type": "markdown",
   "metadata": {},
   "source": [
    "# Installation\n",
    "\n",
    "\n",
    "\n",
    "## anaconda (recommended)\n",
    "\n",
    "The easiest way to install scikit-rf is to first install \n",
    "[anaconda](http://continuum.io/downloads), a binary package manager for python modules. Once anaconda is setup you can install scikit-rf by entering the following into a terminal\n",
    "\n",
    "    conda install -c conda-forge  scikit-rf\n",
    "\n",
    "    \n",
    "\n",
    "## pip\n",
    "\n",
    "\n",
    "If you dont want to install anaconda (really, why not?), you can use  `pip`\n",
    "\n",
    "    pip install scikit-rf\n",
    "\n",
    "## git\n",
    "\n",
    "The bleeding-edge development version of **scikit-rf** may be installed from our [github page](https://github.com/scikit-rf/scikit-rf). You can use git directly, or  download a zipfile.\n",
    "\n",
    "    git clone git@github.com:scikit-rf/scikit-rf.git\n",
    "    cd scikit-rf\n",
    "    python setup.py install\n",
    "\n",
    "\n",
    "\n",
    "\n",
    "## Other Optional Modules\n",
    "\n",
    "Some features of scikit-rf wont be available until you install additional\n",
    "modules. You can install these using conda or pip.\n",
    "\n",
    "### Instrument Control\n",
    "\n",
    "\n",
    "*   pyvisa http://pyvisa.sourceforge.net/pyvisa/ \n",
    "*   python-vxi11 https://pypi.python.org/pypi/python-ivi/\n",
    "*   python-ivi  https://pypi.python.org/pypi/python-vxi11/ \n",
    "\n",
    "### Excel file export\n",
    "\n",
    "*   xlrd\n",
    "*   xlwt http://www.python-excel.org/ - for xls reading/writing"
   ]
  }
 ],
 "metadata": {
  "anaconda-cloud": {},
  "celltoolbar": "Raw Cell Format",
  "kernelspec": {
   "display_name": "Python [default]",
   "language": "python",
   "name": "python3"
  },
  "language_info": {
   "codemirror_mode": {
    "name": "ipython",
    "version": 3
   },
   "file_extension": ".py",
   "mimetype": "text/x-python",
   "name": "python",
   "nbconvert_exporter": "python",
   "pygments_lexer": "ipython3",
   "version": "3.5.2"
  },
  "toc": {
   "nav_menu": {},
   "number_sections": true,
   "sideBar": true,
   "skip_h1_title": false,
   "toc_cell": false,
   "toc_position": {},
   "toc_section_display": "block",
   "toc_window_display": false
  }
 },
 "nbformat": 4,
 "nbformat_minor": 1
}
