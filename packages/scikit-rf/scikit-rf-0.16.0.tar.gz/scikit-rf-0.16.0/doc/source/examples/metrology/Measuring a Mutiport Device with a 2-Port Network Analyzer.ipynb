{
 "cells": [
  {
   "cell_type": "markdown",
   "metadata": {},
   "source": [
    "# Measuring a Multiport Device with a 2-Port Network Analyzer"
   ]
  },
  {
   "cell_type": "markdown",
   "metadata": {},
   "source": [
    "## Introduction"
   ]
  },
  {
   "cell_type": "markdown",
   "metadata": {},
   "source": [
    "This notebook demonstrates a numerical test of the technique described in \n",
    "\"*A Rigorous Technique for Measuring the Scattering Matrix of a Multiport Device with a 2-Port Network Analyzer*\" [1].\n",
    "\n",
    "In microwave measurements,  one commonly needs to measure a n-port deveice  with a m-port network analyzer ($ m<n $ of course). Generally, this is done by  terminating each non-measured port with a matched load, and assuming the reflected power is negligable. However, in some cases this may not provide the most accurate results, or even be possible in all measurement environments. The paper above presents an elegent solution to this problem, using impedance renormalization. We'll call it *Tippet's technique*, because it has a good ring to it.\n",
    "\n",
    "In *Tippets technique*, several sub-networks are measured in a similar way as before, but the port terminations are not assumed to be matched. Instead, the terminations just have to be known and no more than one can be completely reflective. So, in general $|\\Gamma| \\ne 1$. During measurements, each port is terminated with a consistent termination. So port 1 is always terminated with $Z_1$ when not being measured. Once measured, each sub-network is re-normalized to these port impedances. Think about that.  Finally the composit network is contructed, and  may then be re-normalized to the desired system impedance, say $50 ohm $ \n",
    "\n",
    "\n",
    "\n",
    "* [1] J. C. Tippet and R. A. Speciale, “A Rigorous Technique for Measuring the Scattering Matrix of a Multiport Device with a 2-Port Network Analyzer,” IEEE Transactions on Microwave Theory and Techniques, vol. 30, no. 5, pp. 661–666, May 1982.\n"
   ]
  },
  {
   "cell_type": "markdown",
   "metadata": {},
   "source": [
    "## Outline of Tippet's Technique"
   ]
  },
  {
   "cell_type": "markdown",
   "metadata": {},
   "source": [
    "Following the example given in [1], measuring a 4-port network with a 2-port network analyzer.\n",
    "\n",
    "An outline of the technique: \n",
    "\n",
    "1. Calibrate 2-port network analyzer\n",
    "2. Get four known terminations ($Z_1, Z_2, Z_3,Z_4$). No more than one can have  $|\\Gamma| = 1$\n",
    "3. Measure all combinations of 2-port subnetworks (there are 6). Each port not currently being measured must be terminated with its corresponding load.\n",
    "4. Renormalize each subnetwork to the impedances of the loads used to terminate it when note being measured. \n",
    "5. Build composite 4-port, renormalize to VNA impedance. "
   ]
  },
  {
   "cell_type": "markdown",
   "metadata": {},
   "source": [
    "## Implementation"
   ]
  },
  {
   "cell_type": "code",
   "execution_count": null,
   "metadata": {},
   "outputs": [],
   "source": [
    "from itertools import combinations\n",
    "import skrf as rf \n",
    "%matplotlib inline\n",
    "from pylab import * \n",
    "rf.stylely()"
   ]
  },
  {
   "cell_type": "markdown",
   "metadata": {},
   "source": [
    "First, we create a Media object, which is used to generate networks for testing. We will use WR-10 Rectangular waveguide."
   ]
  },
  {
   "cell_type": "code",
   "execution_count": null,
   "metadata": {},
   "outputs": [],
   "source": [
    "wg = rf.wr10\n",
    "wg.frequency.npoints = 101"
   ]
  },
  {
   "cell_type": "markdown",
   "metadata": {},
   "source": [
    "Next, lets generate a random 4-port network which will be the DUT, that we are trying to measure with out 2-port network analyzer. "
   ]
  },
  {
   "cell_type": "code",
   "execution_count": null,
   "metadata": {},
   "outputs": [],
   "source": [
    "dut = wg.random(n_ports  = 4,name= 'dut')\n",
    "dut"
   ]
  },
  {
   "cell_type": "markdown",
   "metadata": {},
   "source": [
    "Now, we need to define the loads used to terminate each port when it is not being measured, note as described in [1] not more than one can be have full reflection, $|\\Gamma| = 1$"
   ]
  },
  {
   "cell_type": "code",
   "execution_count": null,
   "metadata": {},
   "outputs": [],
   "source": [
    "loads = [wg.load(.1+.1j),\n",
    "         wg.load(.2-.2j),\n",
    "         wg.load(.3+.3j),\n",
    "         wg.load(.5),\n",
    "         ]\n",
    "# construct the impedance array, of shape FXN\n",
    "z_loads = array([k.z.flatten() for k in loads]).T\n"
   ]
  },
  {
   "cell_type": "markdown",
   "metadata": {},
   "source": [
    "Create required measurement port combinations.  There are 6 different measurements required to measure a 4-port with a 2-port VNA.  In general, #measurements = $n\\choose 2$, for n-port DUT on  a 2-port VNA."
   ]
  },
  {
   "cell_type": "code",
   "execution_count": null,
   "metadata": {},
   "outputs": [],
   "source": [
    "ports = arange(dut.nports)\n",
    "port_combos = list(combinations(ports, 2))\n",
    "port_combos"
   ]
  },
  {
   "cell_type": "markdown",
   "metadata": {},
   "source": [
    "Now to do it. Ok we loop over the port combo's and connect the loads to the right places, simulating  actual measurements. Each raw subnetwork measurement is saved, along with the renormalized subnetwork.   Finally, we stuff the result into the 4-port composit network. "
   ]
  },
  {
   "cell_type": "code",
   "execution_count": null,
   "metadata": {},
   "outputs": [],
   "source": [
    "\n",
    "composite = wg.match(nports = 4)  # composite network, to be filled.\n",
    "measured,measured_renorm = {},{}  # measured subnetworks and renormalized sub-networks\n",
    "\n",
    "\n",
    "# ports  `a` and `b` are the ports we will connect the VNA too\n",
    "for a,b in port_combos:\n",
    "    # port `c` and `d` are the ports which we will connect the loads too\n",
    "    c,d =ports[(ports!=a)& (ports!=b)] \n",
    "    \n",
    "    # determine where `d` will be on four_port, after its reduced to a three_port\n",
    "    e = where(ports[ports!=c]==d)[0][0]\n",
    "\n",
    "    # connect loads\n",
    "    three_port = rf.connect(dut,c, loads[c],0)\n",
    "    two_port =  rf.connect(three_port,e, loads[d],0)\n",
    "    \n",
    "    # save raw and renormalized 2-port subnetworks\n",
    "    measured['%i%i'%(a,b)] = two_port.copy()\n",
    "    two_port.renormalize(c_[z_loads[:,a],z_loads[:,b]])\n",
    "    measured_renorm['%i%i'%(a,b)] = two_port.copy()\n",
    "    \n",
    "    # stuff this 2-port into the composite 4-port \n",
    "    for i,m in enumerate([a,b]):\n",
    "        for j,n in enumerate([a,b]):\n",
    "            composite.s[:,m,n] = two_port.s[:,i,j]\n",
    "    \n",
    "    # properly copy the port impedances\n",
    "    composite.z0[:,a] = two_port.z0[:,0]\n",
    "    composite.z0[:,b] = two_port.z0[:,1]\n",
    "    \n",
    "\n",
    "# finally renormalize from \n",
    "composite.renormalize(50)"
   ]
  },
  {
   "cell_type": "markdown",
   "metadata": {},
   "source": [
    "## Results"
   ]
  },
  {
   "cell_type": "markdown",
   "metadata": {},
   "source": [
    "### Self-Consistency"
   ]
  },
  {
   "cell_type": "markdown",
   "metadata": {},
   "source": [
    "Note that 6-measurements of 2-port subnetworks works out to 24-sparameters, and we only need 16. This is because each reflect, s-parameter is measured three-times. As, in [1], we will use this redundent measurement as a check of our accuracy.\n",
    "\n",
    "The renormalized networks are stored in a dictionary with names based on their port indecies, from this you can see that each have been renormalized to the appropriate z0. "
   ]
  },
  {
   "cell_type": "code",
   "execution_count": null,
   "metadata": {},
   "outputs": [],
   "source": [
    "measured_renorm"
   ]
  },
  {
   "cell_type": "markdown",
   "metadata": {},
   "source": [
    "Plotting all three raw measurements of $S_{11}$, we can see that they are not in agreement. These plots answer to plots 5 and 7 of [1]"
   ]
  },
  {
   "cell_type": "code",
   "execution_count": null,
   "metadata": {},
   "outputs": [],
   "source": [
    "s11_set = rf.NS([measured[k] for k in measured if k[0]=='0'])\n",
    "\n",
    "figure(figsize = (8,4))\n",
    "subplot(121)\n",
    "s11_set .plot_s_db(0,0)\n",
    "subplot(122)\n",
    "s11_set .plot_s_deg(0,0)\n",
    "tight_layout()"
   ]
  },
  {
   "cell_type": "markdown",
   "metadata": {},
   "source": [
    "However, the renormalized measurements agree perfectly. These plots answer to plots 6 and 8 of [1]"
   ]
  },
  {
   "cell_type": "code",
   "execution_count": null,
   "metadata": {},
   "outputs": [],
   "source": [
    "s11_set = rf.NS([measured_renorm[k] for k in measured_renorm if k[0]=='0'])\n",
    "\n",
    "figure(figsize = (8,4))\n",
    "subplot(121)\n",
    "s11_set .plot_s_db(0,0)\n",
    "subplot(122)\n",
    "s11_set .plot_s_deg(0,0)\n",
    "tight_layout()"
   ]
  },
  {
   "cell_type": "markdown",
   "metadata": {},
   "source": [
    "### Test For Accuracy"
   ]
  },
  {
   "cell_type": "markdown",
   "metadata": {},
   "source": [
    "Making sure our composite network is the same as our DUT"
   ]
  },
  {
   "cell_type": "code",
   "execution_count": null,
   "metadata": {},
   "outputs": [],
   "source": [
    "composite == dut"
   ]
  },
  {
   "cell_type": "markdown",
   "metadata": {},
   "source": [
    "Nice!. How close ?"
   ]
  },
  {
   "cell_type": "code",
   "execution_count": null,
   "metadata": {},
   "outputs": [],
   "source": [
    "sum((composite - dut).s_mag)"
   ]
  },
  {
   "cell_type": "markdown",
   "metadata": {},
   "source": [
    "Dang!"
   ]
  },
  {
   "cell_type": "markdown",
   "metadata": {},
   "source": [
    "## Practical Application"
   ]
  },
  {
   "cell_type": "markdown",
   "metadata": {},
   "source": [
    "This could be used in many ways. In waveguide, one could just make a measurement of a radiating open after a standard two-port calibration (like TRL). Then using *Tippets technique*, you can  leave each port wide open while not being measured. This way you dont have to buy a bunch of loads. How sweet would that be?\n",
    "\n"
   ]
  },
  {
   "cell_type": "markdown",
   "metadata": {},
   "source": [
    "## More Complex Simulations"
   ]
  },
  {
   "cell_type": "code",
   "execution_count": null,
   "metadata": {},
   "outputs": [],
   "source": [
    "def tippits(dut, gamma, noise=None):\n",
    "    '''\n",
    "    simulate tippits technique on a 4-port dut.\n",
    "    '''\n",
    "    ports = arange(dut.nports)\n",
    "    port_combos = list(combinations(ports, 2))\n",
    "    \n",
    "    loads = [wg.load(gamma) for k in ports]\n",
    "    \n",
    "    # construct the impedance array, of shape FXN\n",
    "    z_loads = array([k.z.flatten() for k in loads]).T\n",
    "    composite = wg.match(nports = dut.nports)  # composite network, to be filled.\n",
    "    #measured,measured_renorm = {},{}  # measured subnetworks and renormalized sub-networks\n",
    "\n",
    "\n",
    "    # ports  `a` and `b` are the ports we will connect the VNA too\n",
    "    for a,b in port_combos:\n",
    "        # port `c` and `d` are the ports which we will connect the loads too\n",
    "        c,d =ports[(ports!=a)& (ports!=b)] \n",
    "\n",
    "        # determine where `d` will be on four_port, after its reduced to a three_port\n",
    "        e = where(ports[ports!=c]==d)[0][0]\n",
    "\n",
    "        # connect loads\n",
    "        three_port = rf.connect(dut,c, loads[c],0)\n",
    "        two_port =  rf.connect(three_port,e, loads[d],0)\n",
    "        \n",
    "        if noise is not None:\n",
    "            two_port.add_noise_polar(*noise)\n",
    "        # save raw and renormalized 2-port subnetworks\n",
    "        measured['%i%i'%(a,b)] = two_port.copy()\n",
    "        two_port.renormalize(c_[z_loads[:,a],z_loads[:,b]])\n",
    "        measured_renorm['%i%i'%(a,b)] = two_port.copy()\n",
    "\n",
    "        # stuff this 2-port into the composite 4-port \n",
    "        for i,m in enumerate([a,b]):\n",
    "            for j,n in enumerate([a,b]):\n",
    "                composite.s[:,m,n] = two_port.s[:,i,j]\n",
    "\n",
    "        # properly copy the port impedances\n",
    "        composite.z0[:,a] = two_port.z0[:,0]\n",
    "        composite.z0[:,b] = two_port.z0[:,1]\n",
    "\n",
    "\n",
    "    # finally renormalize from \n",
    "    composite.renormalize(50)\n",
    "    \n",
    "    return composite\n"
   ]
  },
  {
   "cell_type": "code",
   "execution_count": null,
   "metadata": {},
   "outputs": [],
   "source": [
    "wg.frequency.npoints = 11\n",
    "dut = wg.random(4)\n",
    "\n",
    "#er = lambda gamma: mean((tippits(dut,gamma)-dut).s_mag)/mean(dut.s_mag)\n",
    "def er(gamma, *args):\n",
    "    return max(abs(tippits(dut, rf.db_2_mag(gamma),*args).s_db-dut.s_db).flatten())\n",
    "\n",
    "gammas = linspace(-80,0,11)\n",
    "\n",
    "\n",
    "title('Error vs $|\\Gamma|$')\n",
    "plot(gammas, [er(k) for k in gammas])\n",
    "plot(gammas, [er(k) for k in gammas])\n",
    "semilogy()\n",
    "xlabel('$|\\Gamma|$ of Loads (dB)')\n",
    "ylabel('Max Error in DUT\\'s dB(S)')\n",
    "\n",
    "\n",
    "\n",
    "figure()\n",
    "\n",
    "#er = lambda gamma: max(abs(tippits(dut,gamma,(1e-5,.1)).s_db-dut.s_db).flatten())\n",
    "noise = (1e-5,.1)\n",
    "title('Error vs $|\\Gamma|$ with reasonable noise')\n",
    "plot(gammas, [er(k, noise) for k in gammas])\n",
    "plot(gammas, [er(k,noise) for k in gammas])\n",
    "semilogy()\n",
    "xlabel('$|\\Gamma|$ of Loads (dB)')\n",
    "ylabel('Max Error in DUT\\'s dB(S)')"
   ]
  }
 ],
 "metadata": {
  "anaconda-cloud": {},
  "kernelspec": {
   "display_name": "Python [default]",
   "language": "python",
   "name": "python3"
  },
  "language_info": {
   "codemirror_mode": {
    "name": "ipython",
    "version": 3
   },
   "file_extension": ".py",
   "mimetype": "text/x-python",
   "name": "python",
   "nbconvert_exporter": "python",
   "pygments_lexer": "ipython3",
   "version": "3.5.2"
  }
 },
 "nbformat": 4,
 "nbformat_minor": 0
}
